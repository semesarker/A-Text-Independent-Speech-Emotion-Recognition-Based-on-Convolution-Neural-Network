{
  "nbformat": 4,
  "nbformat_minor": 0,
  "metadata": {
    "colab": {
      "provenance": [],
      "include_colab_link": true
    },
    "kernelspec": {
      "name": "python3",
      "display_name": "Python 3"
    },
    "language_info": {
      "name": "python"
    }
  },
  "cells": [
    {
      "cell_type": "markdown",
      "metadata": {
        "id": "view-in-github",
        "colab_type": "text"
      },
      "source": [
        "<a href=\"https://colab.research.google.com/github/semesarker/A-Text-Independent-Speech-Emotion-Recognition-Based-on-Convolution-Neural-Network/blob/main/CNN_2D_Model_using_only_MFCC_feature_on_Ravdess.ipynb\" target=\"_parent\"><img src=\"https://colab.research.google.com/assets/colab-badge.svg\" alt=\"Open In Colab\"/></a>"
      ]
    },
    {
      "cell_type": "code",
      "execution_count": null,
      "metadata": {
        "colab": {
          "base_uri": "https://localhost:8080/"
        },
        "id": "iJZz5s3ErS3h",
        "outputId": "d50507ec-6f39-45b5-eed7-af12a513512d"
      },
      "outputs": [
        {
          "output_type": "stream",
          "name": "stdout",
          "text": [
            "Mounted at /content/drive\n"
          ]
        }
      ],
      "source": [
        "from google.colab import drive\n",
        "drive.mount('/content/drive')"
      ]
    },
    {
      "cell_type": "code",
      "source": [
        "!unzip '/content/drive/MyDrive/thesis/RAV.zip'"
      ],
      "metadata": {
        "colab": {
          "base_uri": "https://localhost:8080/"
        },
        "id": "jalZsHdbrfsS",
        "outputId": "2a88757b-b293-4dd1-e7e1-2d6f155096a7"
      },
      "execution_count": null,
      "outputs": [
        {
          "output_type": "stream",
          "name": "stdout",
          "text": [
            "Archive:  /content/drive/MyDrive/thesis/RAV.zip\n",
            "   creating: rav/\n",
            "   creating: rav/Actor_01/\n",
            "  inflating: rav/Actor_01/03-01-01-01-01-01-01.wav  \n",
            "  inflating: rav/Actor_01/03-01-01-01-01-02-01.wav  \n",
            "  inflating: rav/Actor_01/03-01-01-01-02-01-01.wav  \n",
            "  inflating: rav/Actor_01/03-01-01-01-02-02-01.wav  \n",
            "  inflating: rav/Actor_01/03-01-02-01-01-01-01.wav  \n",
            "  inflating: rav/Actor_01/03-01-02-01-01-02-01.wav  \n",
            "  inflating: rav/Actor_01/03-01-02-01-02-01-01.wav  \n",
            "  inflating: rav/Actor_01/03-01-02-01-02-02-01.wav  \n",
            "  inflating: rav/Actor_01/03-01-02-02-01-01-01.wav  \n",
            "  inflating: rav/Actor_01/03-01-02-02-01-02-01.wav  \n",
            "  inflating: rav/Actor_01/03-01-02-02-02-01-01.wav  \n",
            "  inflating: rav/Actor_01/03-01-02-02-02-02-01.wav  \n",
            "  inflating: rav/Actor_01/03-01-03-01-01-01-01.wav  \n",
            "  inflating: rav/Actor_01/03-01-03-01-01-02-01.wav  \n",
            "  inflating: rav/Actor_01/03-01-03-01-02-01-01.wav  \n",
            "  inflating: rav/Actor_01/03-01-03-01-02-02-01.wav  \n",
            "  inflating: rav/Actor_01/03-01-03-02-01-01-01.wav  \n",
            "  inflating: rav/Actor_01/03-01-03-02-01-02-01.wav  \n",
            "  inflating: rav/Actor_01/03-01-03-02-02-01-01.wav  \n",
            "  inflating: rav/Actor_01/03-01-03-02-02-02-01.wav  \n",
            "  inflating: rav/Actor_01/03-01-04-01-01-01-01.wav  \n",
            "  inflating: rav/Actor_01/03-01-04-01-01-02-01.wav  \n",
            "  inflating: rav/Actor_01/03-01-04-01-02-01-01.wav  \n",
            "  inflating: rav/Actor_01/03-01-04-01-02-02-01.wav  \n",
            "  inflating: rav/Actor_01/03-01-04-02-01-01-01.wav  \n",
            "  inflating: rav/Actor_01/03-01-04-02-01-02-01.wav  \n",
            "  inflating: rav/Actor_01/03-01-04-02-02-01-01.wav  \n",
            "  inflating: rav/Actor_01/03-01-04-02-02-02-01.wav  \n",
            "  inflating: rav/Actor_01/03-01-05-01-01-01-01.wav  \n",
            "  inflating: rav/Actor_01/03-01-05-01-01-02-01.wav  \n",
            "  inflating: rav/Actor_01/03-01-05-01-02-01-01.wav  \n",
            "  inflating: rav/Actor_01/03-01-05-01-02-02-01.wav  \n",
            "  inflating: rav/Actor_01/03-01-05-02-01-01-01.wav  \n",
            "  inflating: rav/Actor_01/03-01-05-02-01-02-01.wav  \n",
            "  inflating: rav/Actor_01/03-01-05-02-02-01-01.wav  \n",
            "  inflating: rav/Actor_01/03-01-05-02-02-02-01.wav  \n",
            "  inflating: rav/Actor_01/03-01-06-01-01-01-01.wav  \n",
            "  inflating: rav/Actor_01/03-01-06-01-01-02-01.wav  \n",
            "  inflating: rav/Actor_01/03-01-06-01-02-01-01.wav  \n",
            "  inflating: rav/Actor_01/03-01-06-01-02-02-01.wav  \n",
            "  inflating: rav/Actor_01/03-01-06-02-01-01-01.wav  \n",
            "  inflating: rav/Actor_01/03-01-06-02-01-02-01.wav  \n",
            "  inflating: rav/Actor_01/03-01-06-02-02-01-01.wav  \n",
            "  inflating: rav/Actor_01/03-01-06-02-02-02-01.wav  \n",
            "  inflating: rav/Actor_01/03-01-07-01-01-01-01.wav  \n",
            "  inflating: rav/Actor_01/03-01-07-01-01-02-01.wav  \n",
            "  inflating: rav/Actor_01/03-01-07-01-02-01-01.wav  \n",
            "  inflating: rav/Actor_01/03-01-07-01-02-02-01.wav  \n",
            "  inflating: rav/Actor_01/03-01-07-02-01-01-01.wav  \n",
            "  inflating: rav/Actor_01/03-01-07-02-01-02-01.wav  \n",
            "  inflating: rav/Actor_01/03-01-07-02-02-01-01.wav  \n",
            "  inflating: rav/Actor_01/03-01-07-02-02-02-01.wav  \n",
            "  inflating: rav/Actor_01/03-01-08-01-01-01-01.wav  \n",
            "  inflating: rav/Actor_01/03-01-08-01-01-02-01.wav  \n",
            "  inflating: rav/Actor_01/03-01-08-01-02-01-01.wav  \n",
            "  inflating: rav/Actor_01/03-01-08-01-02-02-01.wav  \n",
            "  inflating: rav/Actor_01/03-01-08-02-01-01-01.wav  \n",
            "  inflating: rav/Actor_01/03-01-08-02-01-02-01.wav  \n",
            "  inflating: rav/Actor_01/03-01-08-02-02-01-01.wav  \n",
            "  inflating: rav/Actor_01/03-01-08-02-02-02-01.wav  \n",
            "   creating: rav/Actor_02/\n",
            "  inflating: rav/Actor_02/03-01-01-01-01-01-02.wav  \n",
            "  inflating: rav/Actor_02/03-01-01-01-01-02-02.wav  \n",
            "  inflating: rav/Actor_02/03-01-01-01-02-01-02.wav  \n",
            "  inflating: rav/Actor_02/03-01-01-01-02-02-02.wav  \n",
            "  inflating: rav/Actor_02/03-01-02-01-01-01-02.wav  \n",
            "  inflating: rav/Actor_02/03-01-02-01-01-02-02.wav  \n",
            "  inflating: rav/Actor_02/03-01-02-01-02-01-02.wav  \n",
            "  inflating: rav/Actor_02/03-01-02-01-02-02-02.wav  \n",
            "  inflating: rav/Actor_02/03-01-02-02-01-01-02.wav  \n",
            "  inflating: rav/Actor_02/03-01-02-02-01-02-02.wav  \n",
            "  inflating: rav/Actor_02/03-01-02-02-02-01-02.wav  \n",
            "  inflating: rav/Actor_02/03-01-02-02-02-02-02.wav  \n",
            "  inflating: rav/Actor_02/03-01-03-01-01-01-02.wav  \n",
            "  inflating: rav/Actor_02/03-01-03-01-01-02-02.wav  \n",
            "  inflating: rav/Actor_02/03-01-03-01-02-01-02.wav  \n",
            "  inflating: rav/Actor_02/03-01-03-01-02-02-02.wav  \n",
            "  inflating: rav/Actor_02/03-01-03-02-01-01-02.wav  \n",
            "  inflating: rav/Actor_02/03-01-03-02-01-02-02.wav  \n",
            "  inflating: rav/Actor_02/03-01-03-02-02-01-02.wav  \n",
            "  inflating: rav/Actor_02/03-01-03-02-02-02-02.wav  \n",
            "  inflating: rav/Actor_02/03-01-04-01-01-01-02.wav  \n",
            "  inflating: rav/Actor_02/03-01-04-01-01-02-02.wav  \n",
            "  inflating: rav/Actor_02/03-01-04-01-02-01-02.wav  \n",
            "  inflating: rav/Actor_02/03-01-04-01-02-02-02.wav  \n",
            "  inflating: rav/Actor_02/03-01-04-02-01-01-02.wav  \n",
            "  inflating: rav/Actor_02/03-01-04-02-01-02-02.wav  \n",
            "  inflating: rav/Actor_02/03-01-04-02-02-01-02.wav  \n",
            "  inflating: rav/Actor_02/03-01-04-02-02-02-02.wav  \n",
            "  inflating: rav/Actor_02/03-01-05-01-01-01-02.wav  \n",
            "  inflating: rav/Actor_02/03-01-05-01-01-02-02.wav  \n",
            "  inflating: rav/Actor_02/03-01-05-01-02-01-02.wav  \n",
            "  inflating: rav/Actor_02/03-01-05-01-02-02-02.wav  \n",
            "  inflating: rav/Actor_02/03-01-05-02-01-01-02.wav  \n",
            "  inflating: rav/Actor_02/03-01-05-02-01-02-02.wav  \n",
            "  inflating: rav/Actor_02/03-01-05-02-02-01-02.wav  \n",
            "  inflating: rav/Actor_02/03-01-05-02-02-02-02.wav  \n",
            "  inflating: rav/Actor_02/03-01-06-01-01-01-02.wav  \n",
            "  inflating: rav/Actor_02/03-01-06-01-01-02-02.wav  \n",
            "  inflating: rav/Actor_02/03-01-06-01-02-01-02.wav  \n",
            "  inflating: rav/Actor_02/03-01-06-01-02-02-02.wav  \n",
            "  inflating: rav/Actor_02/03-01-06-02-01-01-02.wav  \n",
            "  inflating: rav/Actor_02/03-01-06-02-01-02-02.wav  \n",
            "  inflating: rav/Actor_02/03-01-06-02-02-01-02.wav  \n",
            "  inflating: rav/Actor_02/03-01-06-02-02-02-02.wav  \n",
            "  inflating: rav/Actor_02/03-01-07-01-01-01-02.wav  \n",
            "  inflating: rav/Actor_02/03-01-07-01-01-02-02.wav  \n",
            "  inflating: rav/Actor_02/03-01-07-01-02-01-02.wav  \n",
            "  inflating: rav/Actor_02/03-01-07-01-02-02-02.wav  \n",
            "  inflating: rav/Actor_02/03-01-07-02-01-01-02.wav  \n",
            "  inflating: rav/Actor_02/03-01-07-02-01-02-02.wav  \n",
            "  inflating: rav/Actor_02/03-01-07-02-02-01-02.wav  \n",
            "  inflating: rav/Actor_02/03-01-07-02-02-02-02.wav  \n",
            "  inflating: rav/Actor_02/03-01-08-01-01-01-02.wav  \n",
            "  inflating: rav/Actor_02/03-01-08-01-01-02-02.wav  \n",
            "  inflating: rav/Actor_02/03-01-08-01-02-01-02.wav  \n",
            "  inflating: rav/Actor_02/03-01-08-01-02-02-02.wav  \n",
            "  inflating: rav/Actor_02/03-01-08-02-01-01-02.wav  \n",
            "  inflating: rav/Actor_02/03-01-08-02-01-02-02.wav  \n",
            "  inflating: rav/Actor_02/03-01-08-02-02-01-02.wav  \n",
            "  inflating: rav/Actor_02/03-01-08-02-02-02-02.wav  \n",
            "   creating: rav/Actor_03/\n",
            "  inflating: rav/Actor_03/03-01-01-01-01-01-03.wav  \n",
            "  inflating: rav/Actor_03/03-01-01-01-01-02-03.wav  \n",
            "  inflating: rav/Actor_03/03-01-01-01-02-01-03.wav  \n",
            "  inflating: rav/Actor_03/03-01-01-01-02-02-03.wav  \n",
            "  inflating: rav/Actor_03/03-01-02-01-01-01-03.wav  \n",
            "  inflating: rav/Actor_03/03-01-02-01-01-02-03.wav  \n",
            "  inflating: rav/Actor_03/03-01-02-01-02-01-03.wav  \n",
            "  inflating: rav/Actor_03/03-01-02-01-02-02-03.wav  \n",
            "  inflating: rav/Actor_03/03-01-02-02-01-01-03.wav  \n",
            "  inflating: rav/Actor_03/03-01-02-02-01-02-03.wav  \n",
            "  inflating: rav/Actor_03/03-01-02-02-02-01-03.wav  \n",
            "  inflating: rav/Actor_03/03-01-02-02-02-02-03.wav  \n",
            "  inflating: rav/Actor_03/03-01-03-01-01-01-03.wav  \n",
            "  inflating: rav/Actor_03/03-01-03-01-01-02-03.wav  \n",
            "  inflating: rav/Actor_03/03-01-03-01-02-01-03.wav  \n",
            "  inflating: rav/Actor_03/03-01-03-01-02-02-03.wav  \n",
            "  inflating: rav/Actor_03/03-01-03-02-01-01-03.wav  \n",
            "  inflating: rav/Actor_03/03-01-03-02-01-02-03.wav  \n",
            "  inflating: rav/Actor_03/03-01-03-02-02-01-03.wav  \n",
            "  inflating: rav/Actor_03/03-01-03-02-02-02-03.wav  \n",
            "  inflating: rav/Actor_03/03-01-04-01-01-01-03.wav  \n",
            "  inflating: rav/Actor_03/03-01-04-01-01-02-03.wav  \n",
            "  inflating: rav/Actor_03/03-01-04-01-02-01-03.wav  \n",
            "  inflating: rav/Actor_03/03-01-04-01-02-02-03.wav  \n",
            "  inflating: rav/Actor_03/03-01-04-02-01-01-03.wav  \n",
            "  inflating: rav/Actor_03/03-01-04-02-01-02-03.wav  \n",
            "  inflating: rav/Actor_03/03-01-04-02-02-01-03.wav  \n",
            "  inflating: rav/Actor_03/03-01-04-02-02-02-03.wav  \n",
            "  inflating: rav/Actor_03/03-01-05-01-01-01-03.wav  \n",
            "  inflating: rav/Actor_03/03-01-05-01-01-02-03.wav  \n",
            "  inflating: rav/Actor_03/03-01-05-01-02-01-03.wav  \n",
            "  inflating: rav/Actor_03/03-01-05-01-02-02-03.wav  \n",
            "  inflating: rav/Actor_03/03-01-05-02-01-01-03.wav  \n",
            "  inflating: rav/Actor_03/03-01-05-02-01-02-03.wav  \n",
            "  inflating: rav/Actor_03/03-01-05-02-02-01-03.wav  \n",
            "  inflating: rav/Actor_03/03-01-05-02-02-02-03.wav  \n",
            "  inflating: rav/Actor_03/03-01-06-01-01-01-03.wav  \n",
            "  inflating: rav/Actor_03/03-01-06-01-01-02-03.wav  \n",
            "  inflating: rav/Actor_03/03-01-06-01-02-01-03.wav  \n",
            "  inflating: rav/Actor_03/03-01-06-01-02-02-03.wav  \n",
            "  inflating: rav/Actor_03/03-01-06-02-01-01-03.wav  \n",
            "  inflating: rav/Actor_03/03-01-06-02-01-02-03.wav  \n",
            "  inflating: rav/Actor_03/03-01-06-02-02-01-03.wav  \n",
            "  inflating: rav/Actor_03/03-01-06-02-02-02-03.wav  \n",
            "  inflating: rav/Actor_03/03-01-07-01-01-01-03.wav  \n",
            "  inflating: rav/Actor_03/03-01-07-01-01-02-03.wav  \n",
            "  inflating: rav/Actor_03/03-01-07-01-02-01-03.wav  \n",
            "  inflating: rav/Actor_03/03-01-07-01-02-02-03.wav  \n",
            "  inflating: rav/Actor_03/03-01-07-02-01-01-03.wav  \n",
            "  inflating: rav/Actor_03/03-01-07-02-01-02-03.wav  \n",
            "  inflating: rav/Actor_03/03-01-07-02-02-01-03.wav  \n",
            "  inflating: rav/Actor_03/03-01-07-02-02-02-03.wav  \n",
            "  inflating: rav/Actor_03/03-01-08-01-01-01-03.wav  \n",
            "  inflating: rav/Actor_03/03-01-08-01-01-02-03.wav  \n",
            "  inflating: rav/Actor_03/03-01-08-01-02-01-03.wav  \n",
            "  inflating: rav/Actor_03/03-01-08-01-02-02-03.wav  \n",
            "  inflating: rav/Actor_03/03-01-08-02-01-01-03.wav  \n",
            "  inflating: rav/Actor_03/03-01-08-02-01-02-03.wav  \n",
            "  inflating: rav/Actor_03/03-01-08-02-02-01-03.wav  \n",
            "  inflating: rav/Actor_03/03-01-08-02-02-02-03.wav  \n",
            "   creating: rav/Actor_04/\n",
            "  inflating: rav/Actor_04/03-01-01-01-01-01-04.wav  \n",
            "  inflating: rav/Actor_04/03-01-01-01-01-02-04.wav  \n",
            "  inflating: rav/Actor_04/03-01-01-01-02-01-04.wav  \n",
            "  inflating: rav/Actor_04/03-01-01-01-02-02-04.wav  \n",
            "  inflating: rav/Actor_04/03-01-02-01-01-01-04.wav  \n",
            "  inflating: rav/Actor_04/03-01-02-01-01-02-04.wav  \n",
            "  inflating: rav/Actor_04/03-01-02-01-02-01-04.wav  \n",
            "  inflating: rav/Actor_04/03-01-02-01-02-02-04.wav  \n",
            "  inflating: rav/Actor_04/03-01-02-02-01-01-04.wav  \n",
            "  inflating: rav/Actor_04/03-01-02-02-01-02-04.wav  \n",
            "  inflating: rav/Actor_04/03-01-02-02-02-01-04.wav  \n",
            "  inflating: rav/Actor_04/03-01-02-02-02-02-04.wav  \n",
            "  inflating: rav/Actor_04/03-01-03-01-01-01-04.wav  \n",
            "  inflating: rav/Actor_04/03-01-03-01-01-02-04.wav  \n",
            "  inflating: rav/Actor_04/03-01-03-01-02-01-04.wav  \n",
            "  inflating: rav/Actor_04/03-01-03-01-02-02-04.wav  \n",
            "  inflating: rav/Actor_04/03-01-03-02-01-01-04.wav  \n",
            "  inflating: rav/Actor_04/03-01-03-02-01-02-04.wav  \n",
            "  inflating: rav/Actor_04/03-01-03-02-02-01-04.wav  \n",
            "  inflating: rav/Actor_04/03-01-03-02-02-02-04.wav  \n",
            "  inflating: rav/Actor_04/03-01-04-01-01-01-04.wav  \n",
            "  inflating: rav/Actor_04/03-01-04-01-01-02-04.wav  \n",
            "  inflating: rav/Actor_04/03-01-04-01-02-01-04.wav  \n",
            "  inflating: rav/Actor_04/03-01-04-01-02-02-04.wav  \n",
            "  inflating: rav/Actor_04/03-01-04-02-01-01-04.wav  \n",
            "  inflating: rav/Actor_04/03-01-04-02-01-02-04.wav  \n",
            "  inflating: rav/Actor_04/03-01-04-02-02-01-04.wav  \n",
            "  inflating: rav/Actor_04/03-01-04-02-02-02-04.wav  \n",
            "  inflating: rav/Actor_04/03-01-05-01-01-01-04.wav  \n",
            "  inflating: rav/Actor_04/03-01-05-01-01-02-04.wav  \n",
            "  inflating: rav/Actor_04/03-01-05-01-02-01-04.wav  \n",
            "  inflating: rav/Actor_04/03-01-05-01-02-02-04.wav  \n",
            "  inflating: rav/Actor_04/03-01-05-02-01-01-04.wav  \n",
            "  inflating: rav/Actor_04/03-01-05-02-01-02-04.wav  \n",
            "  inflating: rav/Actor_04/03-01-05-02-02-01-04.wav  \n",
            "  inflating: rav/Actor_04/03-01-05-02-02-02-04.wav  \n",
            "  inflating: rav/Actor_04/03-01-06-01-01-01-04.wav  \n",
            "  inflating: rav/Actor_04/03-01-06-01-01-02-04.wav  \n",
            "  inflating: rav/Actor_04/03-01-06-01-02-01-04.wav  \n",
            "  inflating: rav/Actor_04/03-01-06-01-02-02-04.wav  \n",
            "  inflating: rav/Actor_04/03-01-06-02-01-01-04.wav  \n",
            "  inflating: rav/Actor_04/03-01-06-02-01-02-04.wav  \n",
            "  inflating: rav/Actor_04/03-01-06-02-02-01-04.wav  \n",
            "  inflating: rav/Actor_04/03-01-06-02-02-02-04.wav  \n",
            "  inflating: rav/Actor_04/03-01-07-01-01-01-04.wav  \n",
            "  inflating: rav/Actor_04/03-01-07-01-01-02-04.wav  \n",
            "  inflating: rav/Actor_04/03-01-07-01-02-01-04.wav  \n",
            "  inflating: rav/Actor_04/03-01-07-01-02-02-04.wav  \n",
            "  inflating: rav/Actor_04/03-01-07-02-01-01-04.wav  \n",
            "  inflating: rav/Actor_04/03-01-07-02-01-02-04.wav  \n",
            "  inflating: rav/Actor_04/03-01-07-02-02-01-04.wav  \n",
            "  inflating: rav/Actor_04/03-01-07-02-02-02-04.wav  \n",
            "  inflating: rav/Actor_04/03-01-08-01-01-01-04.wav  \n",
            "  inflating: rav/Actor_04/03-01-08-01-01-02-04.wav  \n",
            "  inflating: rav/Actor_04/03-01-08-01-02-01-04.wav  \n",
            "  inflating: rav/Actor_04/03-01-08-01-02-02-04.wav  \n",
            "  inflating: rav/Actor_04/03-01-08-02-01-01-04.wav  \n",
            "  inflating: rav/Actor_04/03-01-08-02-01-02-04.wav  \n",
            "  inflating: rav/Actor_04/03-01-08-02-02-01-04.wav  \n",
            "  inflating: rav/Actor_04/03-01-08-02-02-02-04.wav  \n",
            "   creating: rav/Actor_05/\n",
            "  inflating: rav/Actor_05/03-01-01-01-01-01-05.wav  \n",
            "  inflating: rav/Actor_05/03-01-01-01-01-02-05.wav  \n",
            "  inflating: rav/Actor_05/03-01-01-01-02-01-05.wav  \n",
            "  inflating: rav/Actor_05/03-01-01-01-02-02-05.wav  \n",
            "  inflating: rav/Actor_05/03-01-02-01-01-01-05.wav  \n",
            "  inflating: rav/Actor_05/03-01-02-01-01-02-05.wav  \n",
            "  inflating: rav/Actor_05/03-01-02-01-02-01-05.wav  \n",
            "  inflating: rav/Actor_05/03-01-02-01-02-02-05.wav  \n",
            "  inflating: rav/Actor_05/03-01-02-02-01-01-05.wav  \n",
            "  inflating: rav/Actor_05/03-01-02-02-01-02-05.wav  \n",
            "  inflating: rav/Actor_05/03-01-02-02-02-01-05.wav  \n",
            "  inflating: rav/Actor_05/03-01-02-02-02-02-05.wav  \n",
            "  inflating: rav/Actor_05/03-01-03-01-01-01-05.wav  \n",
            "  inflating: rav/Actor_05/03-01-03-01-01-02-05.wav  \n",
            "  inflating: rav/Actor_05/03-01-03-01-02-01-05.wav  \n",
            "  inflating: rav/Actor_05/03-01-03-01-02-02-05.wav  \n",
            "  inflating: rav/Actor_05/03-01-03-02-01-01-05.wav  \n",
            "  inflating: rav/Actor_05/03-01-03-02-01-02-05.wav  \n",
            "  inflating: rav/Actor_05/03-01-03-02-02-01-05.wav  \n",
            "  inflating: rav/Actor_05/03-01-03-02-02-02-05.wav  \n",
            "  inflating: rav/Actor_05/03-01-04-01-01-01-05.wav  \n",
            "  inflating: rav/Actor_05/03-01-04-01-01-02-05.wav  \n",
            "  inflating: rav/Actor_05/03-01-04-01-02-01-05.wav  \n",
            "  inflating: rav/Actor_05/03-01-04-01-02-02-05.wav  \n",
            "  inflating: rav/Actor_05/03-01-04-02-01-01-05.wav  \n",
            "  inflating: rav/Actor_05/03-01-04-02-01-02-05.wav  \n",
            "  inflating: rav/Actor_05/03-01-04-02-02-01-05.wav  \n",
            "  inflating: rav/Actor_05/03-01-04-02-02-02-05.wav  \n",
            "  inflating: rav/Actor_05/03-01-05-01-01-01-05.wav  \n",
            "  inflating: rav/Actor_05/03-01-05-01-01-02-05.wav  \n",
            "  inflating: rav/Actor_05/03-01-05-01-02-01-05.wav  \n",
            "  inflating: rav/Actor_05/03-01-05-01-02-02-05.wav  \n",
            "  inflating: rav/Actor_05/03-01-05-02-01-01-05.wav  \n",
            "  inflating: rav/Actor_05/03-01-05-02-01-02-05.wav  \n",
            "  inflating: rav/Actor_05/03-01-05-02-02-01-05.wav  \n",
            "  inflating: rav/Actor_05/03-01-05-02-02-02-05.wav  \n",
            "  inflating: rav/Actor_05/03-01-06-01-01-01-05.wav  \n",
            "  inflating: rav/Actor_05/03-01-06-01-01-02-05.wav  \n",
            "  inflating: rav/Actor_05/03-01-06-01-02-01-05.wav  \n",
            "  inflating: rav/Actor_05/03-01-06-01-02-02-05.wav  \n",
            "  inflating: rav/Actor_05/03-01-06-02-01-01-05.wav  \n",
            "  inflating: rav/Actor_05/03-01-06-02-01-02-05.wav  \n",
            "  inflating: rav/Actor_05/03-01-06-02-02-01-05.wav  \n",
            "  inflating: rav/Actor_05/03-01-06-02-02-02-05.wav  \n",
            "  inflating: rav/Actor_05/03-01-07-01-01-01-05.wav  \n",
            "  inflating: rav/Actor_05/03-01-07-01-01-02-05.wav  \n",
            "  inflating: rav/Actor_05/03-01-07-01-02-01-05.wav  \n",
            "  inflating: rav/Actor_05/03-01-07-01-02-02-05.wav  \n",
            "  inflating: rav/Actor_05/03-01-07-02-01-01-05.wav  \n",
            "  inflating: rav/Actor_05/03-01-07-02-01-02-05.wav  \n",
            "  inflating: rav/Actor_05/03-01-07-02-02-01-05.wav  \n",
            "  inflating: rav/Actor_05/03-01-07-02-02-02-05.wav  \n",
            "  inflating: rav/Actor_05/03-01-08-01-01-01-05.wav  \n",
            "  inflating: rav/Actor_05/03-01-08-01-01-02-05.wav  \n",
            "  inflating: rav/Actor_05/03-01-08-01-02-01-05.wav  \n",
            "  inflating: rav/Actor_05/03-01-08-01-02-02-05.wav  \n",
            "  inflating: rav/Actor_05/03-01-08-02-01-01-05.wav  \n",
            "  inflating: rav/Actor_05/03-01-08-02-01-02-05.wav  \n",
            "  inflating: rav/Actor_05/03-01-08-02-02-01-05.wav  \n",
            "  inflating: rav/Actor_05/03-01-08-02-02-02-05.wav  \n",
            "   creating: rav/Actor_06/\n",
            "  inflating: rav/Actor_06/03-01-01-01-01-01-06.wav  \n",
            "  inflating: rav/Actor_06/03-01-01-01-01-02-06.wav  \n",
            "  inflating: rav/Actor_06/03-01-01-01-02-01-06.wav  \n",
            "  inflating: rav/Actor_06/03-01-01-01-02-02-06.wav  \n",
            "  inflating: rav/Actor_06/03-01-02-01-01-01-06.wav  \n",
            "  inflating: rav/Actor_06/03-01-02-01-01-02-06.wav  \n",
            "  inflating: rav/Actor_06/03-01-02-01-02-01-06.wav  \n",
            "  inflating: rav/Actor_06/03-01-02-01-02-02-06.wav  \n",
            "  inflating: rav/Actor_06/03-01-02-02-01-01-06.wav  \n",
            "  inflating: rav/Actor_06/03-01-02-02-01-02-06.wav  \n",
            "  inflating: rav/Actor_06/03-01-02-02-02-01-06.wav  \n",
            "  inflating: rav/Actor_06/03-01-02-02-02-02-06.wav  \n",
            "  inflating: rav/Actor_06/03-01-03-01-01-01-06.wav  \n",
            "  inflating: rav/Actor_06/03-01-03-01-01-02-06.wav  \n",
            "  inflating: rav/Actor_06/03-01-03-01-02-01-06.wav  \n",
            "  inflating: rav/Actor_06/03-01-03-01-02-02-06.wav  \n",
            "  inflating: rav/Actor_06/03-01-03-02-01-01-06.wav  \n",
            "  inflating: rav/Actor_06/03-01-03-02-01-02-06.wav  \n",
            "  inflating: rav/Actor_06/03-01-03-02-02-01-06.wav  \n",
            "  inflating: rav/Actor_06/03-01-03-02-02-02-06.wav  \n",
            "  inflating: rav/Actor_06/03-01-04-01-01-01-06.wav  \n",
            "  inflating: rav/Actor_06/03-01-04-01-01-02-06.wav  \n",
            "  inflating: rav/Actor_06/03-01-04-01-02-01-06.wav  \n",
            "  inflating: rav/Actor_06/03-01-04-01-02-02-06.wav  \n",
            "  inflating: rav/Actor_06/03-01-04-02-01-01-06.wav  \n",
            "  inflating: rav/Actor_06/03-01-04-02-01-02-06.wav  \n",
            "  inflating: rav/Actor_06/03-01-04-02-02-01-06.wav  \n",
            "  inflating: rav/Actor_06/03-01-04-02-02-02-06.wav  \n",
            "  inflating: rav/Actor_06/03-01-05-01-01-01-06.wav  \n",
            "  inflating: rav/Actor_06/03-01-05-01-01-02-06.wav  \n",
            "  inflating: rav/Actor_06/03-01-05-01-02-01-06.wav  \n",
            "  inflating: rav/Actor_06/03-01-05-01-02-02-06.wav  \n",
            "  inflating: rav/Actor_06/03-01-05-02-01-01-06.wav  \n",
            "  inflating: rav/Actor_06/03-01-05-02-01-02-06.wav  \n",
            "  inflating: rav/Actor_06/03-01-05-02-02-01-06.wav  \n",
            "  inflating: rav/Actor_06/03-01-05-02-02-02-06.wav  \n",
            "  inflating: rav/Actor_06/03-01-06-01-01-01-06.wav  \n",
            "  inflating: rav/Actor_06/03-01-06-01-01-02-06.wav  \n",
            "  inflating: rav/Actor_06/03-01-06-01-02-01-06.wav  \n",
            "  inflating: rav/Actor_06/03-01-06-01-02-02-06.wav  \n",
            "  inflating: rav/Actor_06/03-01-06-02-01-01-06.wav  \n",
            "  inflating: rav/Actor_06/03-01-06-02-01-02-06.wav  \n",
            "  inflating: rav/Actor_06/03-01-06-02-02-01-06.wav  \n",
            "  inflating: rav/Actor_06/03-01-06-02-02-02-06.wav  \n",
            "  inflating: rav/Actor_06/03-01-07-01-01-01-06.wav  \n",
            "  inflating: rav/Actor_06/03-01-07-01-01-02-06.wav  \n",
            "  inflating: rav/Actor_06/03-01-07-01-02-01-06.wav  \n",
            "  inflating: rav/Actor_06/03-01-07-01-02-02-06.wav  \n",
            "  inflating: rav/Actor_06/03-01-07-02-01-01-06.wav  \n",
            "  inflating: rav/Actor_06/03-01-07-02-01-02-06.wav  \n",
            "  inflating: rav/Actor_06/03-01-07-02-02-01-06.wav  \n",
            "  inflating: rav/Actor_06/03-01-07-02-02-02-06.wav  \n",
            "  inflating: rav/Actor_06/03-01-08-01-01-01-06.wav  \n",
            "  inflating: rav/Actor_06/03-01-08-01-01-02-06.wav  \n",
            "  inflating: rav/Actor_06/03-01-08-01-02-01-06.wav  \n",
            "  inflating: rav/Actor_06/03-01-08-01-02-02-06.wav  \n",
            "  inflating: rav/Actor_06/03-01-08-02-01-01-06.wav  \n",
            "  inflating: rav/Actor_06/03-01-08-02-01-02-06.wav  \n",
            "  inflating: rav/Actor_06/03-01-08-02-02-01-06.wav  \n",
            "  inflating: rav/Actor_06/03-01-08-02-02-02-06.wav  \n",
            "   creating: rav/Actor_07/\n",
            "  inflating: rav/Actor_07/03-01-01-01-01-01-07.wav  \n",
            "  inflating: rav/Actor_07/03-01-01-01-01-02-07.wav  \n",
            "  inflating: rav/Actor_07/03-01-01-01-02-01-07.wav  \n",
            "  inflating: rav/Actor_07/03-01-01-01-02-02-07.wav  \n",
            "  inflating: rav/Actor_07/03-01-02-01-01-01-07.wav  \n",
            "  inflating: rav/Actor_07/03-01-02-01-01-02-07.wav  \n",
            "  inflating: rav/Actor_07/03-01-02-01-02-01-07.wav  \n",
            "  inflating: rav/Actor_07/03-01-02-01-02-02-07.wav  \n",
            "  inflating: rav/Actor_07/03-01-02-02-01-01-07.wav  \n",
            "  inflating: rav/Actor_07/03-01-02-02-01-02-07.wav  \n",
            "  inflating: rav/Actor_07/03-01-02-02-02-01-07.wav  \n",
            "  inflating: rav/Actor_07/03-01-02-02-02-02-07.wav  \n",
            "  inflating: rav/Actor_07/03-01-03-01-01-01-07.wav  \n",
            "  inflating: rav/Actor_07/03-01-03-01-01-02-07.wav  \n",
            "  inflating: rav/Actor_07/03-01-03-01-02-01-07.wav  \n",
            "  inflating: rav/Actor_07/03-01-03-01-02-02-07.wav  \n",
            "  inflating: rav/Actor_07/03-01-03-02-01-01-07.wav  \n",
            "  inflating: rav/Actor_07/03-01-03-02-01-02-07.wav  \n",
            "  inflating: rav/Actor_07/03-01-03-02-02-01-07.wav  \n",
            "  inflating: rav/Actor_07/03-01-03-02-02-02-07.wav  \n",
            "  inflating: rav/Actor_07/03-01-04-01-01-01-07.wav  \n",
            "  inflating: rav/Actor_07/03-01-04-01-01-02-07.wav  \n",
            "  inflating: rav/Actor_07/03-01-04-01-02-01-07.wav  \n",
            "  inflating: rav/Actor_07/03-01-04-01-02-02-07.wav  \n",
            "  inflating: rav/Actor_07/03-01-04-02-01-01-07.wav  \n",
            "  inflating: rav/Actor_07/03-01-04-02-01-02-07.wav  \n",
            "  inflating: rav/Actor_07/03-01-04-02-02-01-07.wav  \n",
            "  inflating: rav/Actor_07/03-01-04-02-02-02-07.wav  \n",
            "  inflating: rav/Actor_07/03-01-05-01-01-01-07.wav  \n",
            "  inflating: rav/Actor_07/03-01-05-01-01-02-07.wav  \n",
            "  inflating: rav/Actor_07/03-01-05-01-02-01-07.wav  \n",
            "  inflating: rav/Actor_07/03-01-05-01-02-02-07.wav  \n",
            "  inflating: rav/Actor_07/03-01-05-02-01-01-07.wav  \n",
            "  inflating: rav/Actor_07/03-01-05-02-01-02-07.wav  \n",
            "  inflating: rav/Actor_07/03-01-05-02-02-01-07.wav  \n",
            "  inflating: rav/Actor_07/03-01-05-02-02-02-07.wav  \n",
            "  inflating: rav/Actor_07/03-01-06-01-01-01-07.wav  \n",
            "  inflating: rav/Actor_07/03-01-06-01-01-02-07.wav  \n",
            "  inflating: rav/Actor_07/03-01-06-01-02-01-07.wav  \n",
            "  inflating: rav/Actor_07/03-01-06-01-02-02-07.wav  \n",
            "  inflating: rav/Actor_07/03-01-06-02-01-01-07.wav  \n",
            "  inflating: rav/Actor_07/03-01-06-02-01-02-07.wav  \n",
            "  inflating: rav/Actor_07/03-01-06-02-02-01-07.wav  \n",
            "  inflating: rav/Actor_07/03-01-06-02-02-02-07.wav  \n",
            "  inflating: rav/Actor_07/03-01-07-01-01-01-07.wav  \n",
            "  inflating: rav/Actor_07/03-01-07-01-01-02-07.wav  \n",
            "  inflating: rav/Actor_07/03-01-07-01-02-01-07.wav  \n",
            "  inflating: rav/Actor_07/03-01-07-01-02-02-07.wav  \n",
            "  inflating: rav/Actor_07/03-01-07-02-01-01-07.wav  \n",
            "  inflating: rav/Actor_07/03-01-07-02-01-02-07.wav  \n",
            "  inflating: rav/Actor_07/03-01-07-02-02-01-07.wav  \n",
            "  inflating: rav/Actor_07/03-01-07-02-02-02-07.wav  \n",
            "  inflating: rav/Actor_07/03-01-08-01-01-01-07.wav  \n",
            "  inflating: rav/Actor_07/03-01-08-01-01-02-07.wav  \n",
            "  inflating: rav/Actor_07/03-01-08-01-02-01-07.wav  \n",
            "  inflating: rav/Actor_07/03-01-08-01-02-02-07.wav  \n",
            "  inflating: rav/Actor_07/03-01-08-02-01-01-07.wav  \n",
            "  inflating: rav/Actor_07/03-01-08-02-01-02-07.wav  \n",
            "  inflating: rav/Actor_07/03-01-08-02-02-01-07.wav  \n",
            "  inflating: rav/Actor_07/03-01-08-02-02-02-07.wav  \n",
            "   creating: rav/Actor_08/\n",
            "  inflating: rav/Actor_08/03-01-01-01-01-01-08.wav  \n",
            "  inflating: rav/Actor_08/03-01-01-01-01-02-08.wav  \n",
            "  inflating: rav/Actor_08/03-01-01-01-02-01-08.wav  \n",
            "  inflating: rav/Actor_08/03-01-01-01-02-02-08.wav  \n",
            "  inflating: rav/Actor_08/03-01-02-01-01-01-08.wav  \n",
            "  inflating: rav/Actor_08/03-01-02-01-01-02-08.wav  \n",
            "  inflating: rav/Actor_08/03-01-02-01-02-01-08.wav  \n",
            "  inflating: rav/Actor_08/03-01-02-01-02-02-08.wav  \n",
            "  inflating: rav/Actor_08/03-01-02-02-01-01-08.wav  \n",
            "  inflating: rav/Actor_08/03-01-02-02-01-02-08.wav  \n",
            "  inflating: rav/Actor_08/03-01-02-02-02-01-08.wav  \n",
            "  inflating: rav/Actor_08/03-01-02-02-02-02-08.wav  \n",
            "  inflating: rav/Actor_08/03-01-03-01-01-01-08.wav  \n",
            "  inflating: rav/Actor_08/03-01-03-01-01-02-08.wav  \n",
            "  inflating: rav/Actor_08/03-01-03-01-02-01-08.wav  \n",
            "  inflating: rav/Actor_08/03-01-03-01-02-02-08.wav  \n",
            "  inflating: rav/Actor_08/03-01-03-02-01-01-08.wav  \n",
            "  inflating: rav/Actor_08/03-01-03-02-01-02-08.wav  \n",
            "  inflating: rav/Actor_08/03-01-03-02-02-01-08.wav  \n",
            "  inflating: rav/Actor_08/03-01-03-02-02-02-08.wav  \n",
            "  inflating: rav/Actor_08/03-01-04-01-01-01-08.wav  \n",
            "  inflating: rav/Actor_08/03-01-04-01-01-02-08.wav  \n",
            "  inflating: rav/Actor_08/03-01-04-01-02-01-08.wav  \n",
            "  inflating: rav/Actor_08/03-01-04-01-02-02-08.wav  \n",
            "  inflating: rav/Actor_08/03-01-04-02-01-01-08.wav  \n",
            "  inflating: rav/Actor_08/03-01-04-02-01-02-08.wav  \n",
            "  inflating: rav/Actor_08/03-01-04-02-02-01-08.wav  \n",
            "  inflating: rav/Actor_08/03-01-04-02-02-02-08.wav  \n",
            "  inflating: rav/Actor_08/03-01-05-01-01-01-08.wav  \n",
            "  inflating: rav/Actor_08/03-01-05-01-01-02-08.wav  \n",
            "  inflating: rav/Actor_08/03-01-05-01-02-01-08.wav  \n",
            "  inflating: rav/Actor_08/03-01-05-01-02-02-08.wav  \n",
            "  inflating: rav/Actor_08/03-01-05-02-01-01-08.wav  \n",
            "  inflating: rav/Actor_08/03-01-05-02-01-02-08.wav  \n",
            "  inflating: rav/Actor_08/03-01-05-02-02-01-08.wav  \n",
            "  inflating: rav/Actor_08/03-01-05-02-02-02-08.wav  \n",
            "  inflating: rav/Actor_08/03-01-06-01-01-01-08.wav  \n",
            "  inflating: rav/Actor_08/03-01-06-01-01-02-08.wav  \n",
            "  inflating: rav/Actor_08/03-01-06-01-02-01-08.wav  \n",
            "  inflating: rav/Actor_08/03-01-06-01-02-02-08.wav  \n",
            "  inflating: rav/Actor_08/03-01-06-02-01-01-08.wav  \n",
            "  inflating: rav/Actor_08/03-01-06-02-01-02-08.wav  \n",
            "  inflating: rav/Actor_08/03-01-06-02-02-01-08.wav  \n",
            "  inflating: rav/Actor_08/03-01-06-02-02-02-08.wav  \n",
            "  inflating: rav/Actor_08/03-01-07-01-01-01-08.wav  \n",
            "  inflating: rav/Actor_08/03-01-07-01-01-02-08.wav  \n",
            "  inflating: rav/Actor_08/03-01-07-01-02-01-08.wav  \n",
            "  inflating: rav/Actor_08/03-01-07-01-02-02-08.wav  \n",
            "  inflating: rav/Actor_08/03-01-07-02-01-01-08.wav  \n",
            "  inflating: rav/Actor_08/03-01-07-02-01-02-08.wav  \n",
            "  inflating: rav/Actor_08/03-01-07-02-02-01-08.wav  \n",
            "  inflating: rav/Actor_08/03-01-07-02-02-02-08.wav  \n",
            "  inflating: rav/Actor_08/03-01-08-01-01-01-08.wav  \n",
            "  inflating: rav/Actor_08/03-01-08-01-01-02-08.wav  \n",
            "  inflating: rav/Actor_08/03-01-08-01-02-01-08.wav  \n",
            "  inflating: rav/Actor_08/03-01-08-01-02-02-08.wav  \n",
            "  inflating: rav/Actor_08/03-01-08-02-01-01-08.wav  \n",
            "  inflating: rav/Actor_08/03-01-08-02-01-02-08.wav  \n",
            "  inflating: rav/Actor_08/03-01-08-02-02-01-08.wav  \n",
            "  inflating: rav/Actor_08/03-01-08-02-02-02-08.wav  \n",
            "   creating: rav/Actor_09/\n",
            "  inflating: rav/Actor_09/03-01-01-01-01-01-09.wav  \n",
            "  inflating: rav/Actor_09/03-01-01-01-01-02-09.wav  \n",
            "  inflating: rav/Actor_09/03-01-01-01-02-01-09.wav  \n",
            "  inflating: rav/Actor_09/03-01-01-01-02-02-09.wav  \n",
            "  inflating: rav/Actor_09/03-01-02-01-01-01-09.wav  \n",
            "  inflating: rav/Actor_09/03-01-02-01-01-02-09.wav  \n",
            "  inflating: rav/Actor_09/03-01-02-01-02-01-09.wav  \n",
            "  inflating: rav/Actor_09/03-01-02-01-02-02-09.wav  \n",
            "  inflating: rav/Actor_09/03-01-02-02-01-01-09.wav  \n",
            "  inflating: rav/Actor_09/03-01-02-02-01-02-09.wav  \n",
            "  inflating: rav/Actor_09/03-01-02-02-02-01-09.wav  \n",
            "  inflating: rav/Actor_09/03-01-02-02-02-02-09.wav  \n",
            "  inflating: rav/Actor_09/03-01-03-01-01-01-09.wav  \n",
            "  inflating: rav/Actor_09/03-01-03-01-01-02-09.wav  \n",
            "  inflating: rav/Actor_09/03-01-03-01-02-01-09.wav  \n",
            "  inflating: rav/Actor_09/03-01-03-01-02-02-09.wav  \n",
            "  inflating: rav/Actor_09/03-01-03-02-01-01-09.wav  \n",
            "  inflating: rav/Actor_09/03-01-03-02-01-02-09.wav  \n",
            "  inflating: rav/Actor_09/03-01-03-02-02-01-09.wav  \n",
            "  inflating: rav/Actor_09/03-01-03-02-02-02-09.wav  \n",
            "  inflating: rav/Actor_09/03-01-04-01-01-01-09.wav  \n",
            "  inflating: rav/Actor_09/03-01-04-01-01-02-09.wav  \n",
            "  inflating: rav/Actor_09/03-01-04-01-02-01-09.wav  \n",
            "  inflating: rav/Actor_09/03-01-04-01-02-02-09.wav  \n",
            "  inflating: rav/Actor_09/03-01-04-02-01-01-09.wav  \n",
            "  inflating: rav/Actor_09/03-01-04-02-01-02-09.wav  \n",
            "  inflating: rav/Actor_09/03-01-04-02-02-01-09.wav  \n",
            "  inflating: rav/Actor_09/03-01-04-02-02-02-09.wav  \n",
            "  inflating: rav/Actor_09/03-01-05-01-01-01-09.wav  \n",
            "  inflating: rav/Actor_09/03-01-05-01-01-02-09.wav  \n",
            "  inflating: rav/Actor_09/03-01-05-01-02-01-09.wav  \n",
            "  inflating: rav/Actor_09/03-01-05-01-02-02-09.wav  \n",
            "  inflating: rav/Actor_09/03-01-05-02-01-01-09.wav  \n",
            "  inflating: rav/Actor_09/03-01-05-02-01-02-09.wav  \n",
            "  inflating: rav/Actor_09/03-01-05-02-02-01-09.wav  \n",
            "  inflating: rav/Actor_09/03-01-05-02-02-02-09.wav  \n",
            "  inflating: rav/Actor_09/03-01-06-01-01-01-09.wav  \n",
            "  inflating: rav/Actor_09/03-01-06-01-01-02-09.wav  \n",
            "  inflating: rav/Actor_09/03-01-06-01-02-01-09.wav  \n",
            "  inflating: rav/Actor_09/03-01-06-01-02-02-09.wav  \n",
            "  inflating: rav/Actor_09/03-01-06-02-01-01-09.wav  \n",
            "  inflating: rav/Actor_09/03-01-06-02-01-02-09.wav  \n",
            "  inflating: rav/Actor_09/03-01-06-02-02-01-09.wav  \n",
            "  inflating: rav/Actor_09/03-01-06-02-02-02-09.wav  \n",
            "  inflating: rav/Actor_09/03-01-07-01-01-01-09.wav  \n",
            "  inflating: rav/Actor_09/03-01-07-01-01-02-09.wav  \n",
            "  inflating: rav/Actor_09/03-01-07-01-02-01-09.wav  \n",
            "  inflating: rav/Actor_09/03-01-07-01-02-02-09.wav  \n",
            "  inflating: rav/Actor_09/03-01-07-02-01-01-09.wav  \n",
            "  inflating: rav/Actor_09/03-01-07-02-01-02-09.wav  \n",
            "  inflating: rav/Actor_09/03-01-07-02-02-01-09.wav  \n",
            "  inflating: rav/Actor_09/03-01-07-02-02-02-09.wav  \n",
            "  inflating: rav/Actor_09/03-01-08-01-01-01-09.wav  \n",
            "  inflating: rav/Actor_09/03-01-08-01-01-02-09.wav  \n",
            "  inflating: rav/Actor_09/03-01-08-01-02-01-09.wav  \n",
            "  inflating: rav/Actor_09/03-01-08-01-02-02-09.wav  \n",
            "  inflating: rav/Actor_09/03-01-08-02-01-01-09.wav  \n",
            "  inflating: rav/Actor_09/03-01-08-02-01-02-09.wav  \n",
            "  inflating: rav/Actor_09/03-01-08-02-02-01-09.wav  \n",
            "  inflating: rav/Actor_09/03-01-08-02-02-02-09.wav  \n",
            "   creating: rav/Actor_10/\n",
            "  inflating: rav/Actor_10/03-01-01-01-01-01-10.wav  \n",
            "  inflating: rav/Actor_10/03-01-01-01-01-02-10.wav  \n",
            "  inflating: rav/Actor_10/03-01-01-01-02-01-10.wav  \n",
            "  inflating: rav/Actor_10/03-01-01-01-02-02-10.wav  \n",
            "  inflating: rav/Actor_10/03-01-02-01-01-01-10.wav  \n",
            "  inflating: rav/Actor_10/03-01-02-01-01-02-10.wav  \n",
            "  inflating: rav/Actor_10/03-01-02-01-02-01-10.wav  \n",
            "  inflating: rav/Actor_10/03-01-02-01-02-02-10.wav  \n",
            "  inflating: rav/Actor_10/03-01-02-02-01-01-10.wav  \n",
            "  inflating: rav/Actor_10/03-01-02-02-01-02-10.wav  \n",
            "  inflating: rav/Actor_10/03-01-02-02-02-01-10.wav  \n",
            "  inflating: rav/Actor_10/03-01-02-02-02-02-10.wav  \n",
            "  inflating: rav/Actor_10/03-01-03-01-01-01-10.wav  \n",
            "  inflating: rav/Actor_10/03-01-03-01-01-02-10.wav  \n",
            "  inflating: rav/Actor_10/03-01-03-01-02-01-10.wav  \n",
            "  inflating: rav/Actor_10/03-01-03-01-02-02-10.wav  \n",
            "  inflating: rav/Actor_10/03-01-03-02-01-01-10.wav  \n",
            "  inflating: rav/Actor_10/03-01-03-02-01-02-10.wav  \n",
            "  inflating: rav/Actor_10/03-01-03-02-02-01-10.wav  \n",
            "  inflating: rav/Actor_10/03-01-03-02-02-02-10.wav  \n",
            "  inflating: rav/Actor_10/03-01-04-01-01-01-10.wav  \n",
            "  inflating: rav/Actor_10/03-01-04-01-01-02-10.wav  \n",
            "  inflating: rav/Actor_10/03-01-04-01-02-01-10.wav  \n",
            "  inflating: rav/Actor_10/03-01-04-01-02-02-10.wav  \n",
            "  inflating: rav/Actor_10/03-01-04-02-01-01-10.wav  \n",
            "  inflating: rav/Actor_10/03-01-04-02-01-02-10.wav  \n",
            "  inflating: rav/Actor_10/03-01-04-02-02-01-10.wav  \n",
            "  inflating: rav/Actor_10/03-01-04-02-02-02-10.wav  \n",
            "  inflating: rav/Actor_10/03-01-05-01-01-01-10.wav  \n",
            "  inflating: rav/Actor_10/03-01-05-01-01-02-10.wav  \n",
            "  inflating: rav/Actor_10/03-01-05-01-02-01-10.wav  \n",
            "  inflating: rav/Actor_10/03-01-05-01-02-02-10.wav  \n",
            "  inflating: rav/Actor_10/03-01-05-02-01-01-10.wav  \n",
            "  inflating: rav/Actor_10/03-01-05-02-01-02-10.wav  \n",
            "  inflating: rav/Actor_10/03-01-05-02-02-01-10.wav  \n",
            "  inflating: rav/Actor_10/03-01-05-02-02-02-10.wav  \n",
            "  inflating: rav/Actor_10/03-01-06-01-01-01-10.wav  \n",
            "  inflating: rav/Actor_10/03-01-06-01-01-02-10.wav  \n",
            "  inflating: rav/Actor_10/03-01-06-01-02-01-10.wav  \n",
            "  inflating: rav/Actor_10/03-01-06-01-02-02-10.wav  \n",
            "  inflating: rav/Actor_10/03-01-06-02-01-01-10.wav  \n",
            "  inflating: rav/Actor_10/03-01-06-02-01-02-10.wav  \n",
            "  inflating: rav/Actor_10/03-01-06-02-02-01-10.wav  \n",
            "  inflating: rav/Actor_10/03-01-06-02-02-02-10.wav  \n",
            "  inflating: rav/Actor_10/03-01-07-01-01-01-10.wav  \n",
            "  inflating: rav/Actor_10/03-01-07-01-01-02-10.wav  \n",
            "  inflating: rav/Actor_10/03-01-07-01-02-01-10.wav  \n",
            "  inflating: rav/Actor_10/03-01-07-01-02-02-10.wav  \n",
            "  inflating: rav/Actor_10/03-01-07-02-01-01-10.wav  \n",
            "  inflating: rav/Actor_10/03-01-07-02-01-02-10.wav  \n",
            "  inflating: rav/Actor_10/03-01-07-02-02-01-10.wav  \n",
            "  inflating: rav/Actor_10/03-01-07-02-02-02-10.wav  \n",
            "  inflating: rav/Actor_10/03-01-08-01-01-01-10.wav  \n",
            "  inflating: rav/Actor_10/03-01-08-01-01-02-10.wav  \n",
            "  inflating: rav/Actor_10/03-01-08-01-02-01-10.wav  \n",
            "  inflating: rav/Actor_10/03-01-08-01-02-02-10.wav  \n",
            "  inflating: rav/Actor_10/03-01-08-02-01-01-10.wav  \n",
            "  inflating: rav/Actor_10/03-01-08-02-01-02-10.wav  \n",
            "  inflating: rav/Actor_10/03-01-08-02-02-01-10.wav  \n",
            "  inflating: rav/Actor_10/03-01-08-02-02-02-10.wav  \n",
            "   creating: rav/Actor_11/\n",
            "  inflating: rav/Actor_11/03-01-01-01-01-01-11.wav  \n",
            "  inflating: rav/Actor_11/03-01-01-01-01-02-11.wav  \n",
            "  inflating: rav/Actor_11/03-01-01-01-02-01-11.wav  \n",
            "  inflating: rav/Actor_11/03-01-01-01-02-02-11.wav  \n",
            "  inflating: rav/Actor_11/03-01-02-01-01-01-11.wav  \n",
            "  inflating: rav/Actor_11/03-01-02-01-01-02-11.wav  \n",
            "  inflating: rav/Actor_11/03-01-02-01-02-01-11.wav  \n",
            "  inflating: rav/Actor_11/03-01-02-01-02-02-11.wav  \n",
            "  inflating: rav/Actor_11/03-01-02-02-01-01-11.wav  \n",
            "  inflating: rav/Actor_11/03-01-02-02-01-02-11.wav  \n",
            "  inflating: rav/Actor_11/03-01-02-02-02-01-11.wav  \n",
            "  inflating: rav/Actor_11/03-01-02-02-02-02-11.wav  \n",
            "  inflating: rav/Actor_11/03-01-03-01-01-01-11.wav  \n",
            "  inflating: rav/Actor_11/03-01-03-01-01-02-11.wav  \n",
            "  inflating: rav/Actor_11/03-01-03-01-02-01-11.wav  \n",
            "  inflating: rav/Actor_11/03-01-03-01-02-02-11.wav  \n",
            "  inflating: rav/Actor_11/03-01-03-02-01-01-11.wav  \n",
            "  inflating: rav/Actor_11/03-01-03-02-01-02-11.wav  \n",
            "  inflating: rav/Actor_11/03-01-03-02-02-01-11.wav  \n",
            "  inflating: rav/Actor_11/03-01-03-02-02-02-11.wav  \n",
            "  inflating: rav/Actor_11/03-01-04-01-01-01-11.wav  \n",
            "  inflating: rav/Actor_11/03-01-04-01-01-02-11.wav  \n",
            "  inflating: rav/Actor_11/03-01-04-01-02-01-11.wav  \n",
            "  inflating: rav/Actor_11/03-01-04-01-02-02-11.wav  \n",
            "  inflating: rav/Actor_11/03-01-04-02-01-01-11.wav  \n",
            "  inflating: rav/Actor_11/03-01-04-02-01-02-11.wav  \n",
            "  inflating: rav/Actor_11/03-01-04-02-02-01-11.wav  \n",
            "  inflating: rav/Actor_11/03-01-04-02-02-02-11.wav  \n",
            "  inflating: rav/Actor_11/03-01-05-01-01-01-11.wav  \n",
            "  inflating: rav/Actor_11/03-01-05-01-01-02-11.wav  \n",
            "  inflating: rav/Actor_11/03-01-05-01-02-01-11.wav  \n",
            "  inflating: rav/Actor_11/03-01-05-01-02-02-11.wav  \n",
            "  inflating: rav/Actor_11/03-01-05-02-01-01-11.wav  \n",
            "  inflating: rav/Actor_11/03-01-05-02-01-02-11.wav  \n",
            "  inflating: rav/Actor_11/03-01-05-02-02-01-11.wav  \n",
            "  inflating: rav/Actor_11/03-01-05-02-02-02-11.wav  \n",
            "  inflating: rav/Actor_11/03-01-06-01-01-01-11.wav  \n",
            "  inflating: rav/Actor_11/03-01-06-01-01-02-11.wav  \n",
            "  inflating: rav/Actor_11/03-01-06-01-02-01-11.wav  \n",
            "  inflating: rav/Actor_11/03-01-06-01-02-02-11.wav  \n",
            "  inflating: rav/Actor_11/03-01-06-02-01-01-11.wav  \n",
            "  inflating: rav/Actor_11/03-01-06-02-01-02-11.wav  \n",
            "  inflating: rav/Actor_11/03-01-06-02-02-01-11.wav  \n",
            "  inflating: rav/Actor_11/03-01-06-02-02-02-11.wav  \n",
            "  inflating: rav/Actor_11/03-01-07-01-01-01-11.wav  \n",
            "  inflating: rav/Actor_11/03-01-07-01-01-02-11.wav  \n",
            "  inflating: rav/Actor_11/03-01-07-01-02-01-11.wav  \n",
            "  inflating: rav/Actor_11/03-01-07-01-02-02-11.wav  \n",
            "  inflating: rav/Actor_11/03-01-07-02-01-01-11.wav  \n",
            "  inflating: rav/Actor_11/03-01-07-02-01-02-11.wav  \n",
            "  inflating: rav/Actor_11/03-01-07-02-02-01-11.wav  \n",
            "  inflating: rav/Actor_11/03-01-07-02-02-02-11.wav  \n",
            "  inflating: rav/Actor_11/03-01-08-01-01-01-11.wav  \n",
            "  inflating: rav/Actor_11/03-01-08-01-01-02-11.wav  \n",
            "  inflating: rav/Actor_11/03-01-08-01-02-01-11.wav  \n",
            "  inflating: rav/Actor_11/03-01-08-01-02-02-11.wav  \n",
            "  inflating: rav/Actor_11/03-01-08-02-01-01-11.wav  \n",
            "  inflating: rav/Actor_11/03-01-08-02-01-02-11.wav  \n",
            "  inflating: rav/Actor_11/03-01-08-02-02-01-11.wav  \n",
            "  inflating: rav/Actor_11/03-01-08-02-02-02-11.wav  \n",
            "   creating: rav/Actor_12/\n",
            "  inflating: rav/Actor_12/03-01-01-01-01-01-12.wav  \n",
            "  inflating: rav/Actor_12/03-01-01-01-01-02-12.wav  \n",
            "  inflating: rav/Actor_12/03-01-01-01-02-01-12.wav  \n",
            "  inflating: rav/Actor_12/03-01-01-01-02-02-12.wav  \n",
            "  inflating: rav/Actor_12/03-01-02-01-01-01-12.wav  \n",
            "  inflating: rav/Actor_12/03-01-02-01-01-02-12.wav  \n",
            "  inflating: rav/Actor_12/03-01-02-01-02-01-12.wav  \n",
            "  inflating: rav/Actor_12/03-01-02-01-02-02-12.wav  \n",
            "  inflating: rav/Actor_12/03-01-02-02-01-01-12.wav  \n",
            "  inflating: rav/Actor_12/03-01-02-02-01-02-12.wav  \n",
            "  inflating: rav/Actor_12/03-01-02-02-02-01-12.wav  \n",
            "  inflating: rav/Actor_12/03-01-02-02-02-02-12.wav  \n",
            "  inflating: rav/Actor_12/03-01-03-01-01-01-12.wav  \n",
            "  inflating: rav/Actor_12/03-01-03-01-01-02-12.wav  \n",
            "  inflating: rav/Actor_12/03-01-03-01-02-01-12.wav  \n",
            "  inflating: rav/Actor_12/03-01-03-01-02-02-12.wav  \n",
            "  inflating: rav/Actor_12/03-01-03-02-01-01-12.wav  \n",
            "  inflating: rav/Actor_12/03-01-03-02-01-02-12.wav  \n",
            "  inflating: rav/Actor_12/03-01-03-02-02-01-12.wav  \n",
            "  inflating: rav/Actor_12/03-01-03-02-02-02-12.wav  \n",
            "  inflating: rav/Actor_12/03-01-04-01-01-01-12.wav  \n",
            "  inflating: rav/Actor_12/03-01-04-01-01-02-12.wav  \n",
            "  inflating: rav/Actor_12/03-01-04-01-02-01-12.wav  \n",
            "  inflating: rav/Actor_12/03-01-04-01-02-02-12.wav  \n",
            "  inflating: rav/Actor_12/03-01-04-02-01-01-12.wav  \n",
            "  inflating: rav/Actor_12/03-01-04-02-01-02-12.wav  \n",
            "  inflating: rav/Actor_12/03-01-04-02-02-01-12.wav  \n",
            "  inflating: rav/Actor_12/03-01-04-02-02-02-12.wav  \n",
            "  inflating: rav/Actor_12/03-01-05-01-01-01-12.wav  \n",
            "  inflating: rav/Actor_12/03-01-05-01-01-02-12.wav  \n",
            "  inflating: rav/Actor_12/03-01-05-01-02-01-12.wav  \n",
            "  inflating: rav/Actor_12/03-01-05-01-02-02-12.wav  \n",
            "  inflating: rav/Actor_12/03-01-05-02-01-01-12.wav  \n",
            "  inflating: rav/Actor_12/03-01-05-02-01-02-12.wav  \n",
            "  inflating: rav/Actor_12/03-01-05-02-02-01-12.wav  \n",
            "  inflating: rav/Actor_12/03-01-05-02-02-02-12.wav  \n",
            "  inflating: rav/Actor_12/03-01-06-01-01-01-12.wav  \n",
            "  inflating: rav/Actor_12/03-01-06-01-01-02-12.wav  \n",
            "  inflating: rav/Actor_12/03-01-06-01-02-01-12.wav  \n",
            "  inflating: rav/Actor_12/03-01-06-01-02-02-12.wav  \n",
            "  inflating: rav/Actor_12/03-01-06-02-01-01-12.wav  \n",
            "  inflating: rav/Actor_12/03-01-06-02-01-02-12.wav  \n",
            "  inflating: rav/Actor_12/03-01-06-02-02-01-12.wav  \n",
            "  inflating: rav/Actor_12/03-01-06-02-02-02-12.wav  \n",
            "  inflating: rav/Actor_12/03-01-07-01-01-01-12.wav  \n",
            "  inflating: rav/Actor_12/03-01-07-01-01-02-12.wav  \n",
            "  inflating: rav/Actor_12/03-01-07-01-02-01-12.wav  \n",
            "  inflating: rav/Actor_12/03-01-07-01-02-02-12.wav  \n",
            "  inflating: rav/Actor_12/03-01-07-02-01-01-12.wav  \n",
            "  inflating: rav/Actor_12/03-01-07-02-01-02-12.wav  \n",
            "  inflating: rav/Actor_12/03-01-07-02-02-01-12.wav  \n",
            "  inflating: rav/Actor_12/03-01-07-02-02-02-12.wav  \n",
            "  inflating: rav/Actor_12/03-01-08-01-01-01-12.wav  \n",
            "  inflating: rav/Actor_12/03-01-08-01-01-02-12.wav  \n",
            "  inflating: rav/Actor_12/03-01-08-01-02-01-12.wav  \n",
            "  inflating: rav/Actor_12/03-01-08-01-02-02-12.wav  \n",
            "  inflating: rav/Actor_12/03-01-08-02-01-01-12.wav  \n",
            "  inflating: rav/Actor_12/03-01-08-02-01-02-12.wav  \n",
            "  inflating: rav/Actor_12/03-01-08-02-02-01-12.wav  \n",
            "  inflating: rav/Actor_12/03-01-08-02-02-02-12.wav  \n",
            "   creating: rav/Actor_13/\n",
            "  inflating: rav/Actor_13/03-01-01-01-01-01-13.wav  \n",
            "  inflating: rav/Actor_13/03-01-01-01-01-02-13.wav  \n",
            "  inflating: rav/Actor_13/03-01-01-01-02-01-13.wav  \n",
            "  inflating: rav/Actor_13/03-01-01-01-02-02-13.wav  \n",
            "  inflating: rav/Actor_13/03-01-02-01-01-01-13.wav  \n",
            "  inflating: rav/Actor_13/03-01-02-01-01-02-13.wav  \n",
            "  inflating: rav/Actor_13/03-01-02-01-02-01-13.wav  \n",
            "  inflating: rav/Actor_13/03-01-02-01-02-02-13.wav  \n",
            "  inflating: rav/Actor_13/03-01-02-02-01-01-13.wav  \n",
            "  inflating: rav/Actor_13/03-01-02-02-01-02-13.wav  \n",
            "  inflating: rav/Actor_13/03-01-02-02-02-01-13.wav  \n",
            "  inflating: rav/Actor_13/03-01-02-02-02-02-13.wav  \n",
            "  inflating: rav/Actor_13/03-01-03-01-01-01-13.wav  \n",
            "  inflating: rav/Actor_13/03-01-03-01-01-02-13.wav  \n",
            "  inflating: rav/Actor_13/03-01-03-01-02-01-13.wav  \n",
            "  inflating: rav/Actor_13/03-01-03-01-02-02-13.wav  \n",
            "  inflating: rav/Actor_13/03-01-03-02-01-01-13.wav  \n",
            "  inflating: rav/Actor_13/03-01-03-02-01-02-13.wav  \n",
            "  inflating: rav/Actor_13/03-01-03-02-02-01-13.wav  \n",
            "  inflating: rav/Actor_13/03-01-03-02-02-02-13.wav  \n",
            "  inflating: rav/Actor_13/03-01-04-01-01-01-13.wav  \n",
            "  inflating: rav/Actor_13/03-01-04-01-01-02-13.wav  \n",
            "  inflating: rav/Actor_13/03-01-04-01-02-01-13.wav  \n",
            "  inflating: rav/Actor_13/03-01-04-01-02-02-13.wav  \n",
            "  inflating: rav/Actor_13/03-01-04-02-01-01-13.wav  \n",
            "  inflating: rav/Actor_13/03-01-04-02-01-02-13.wav  \n",
            "  inflating: rav/Actor_13/03-01-04-02-02-01-13.wav  \n",
            "  inflating: rav/Actor_13/03-01-04-02-02-02-13.wav  \n",
            "  inflating: rav/Actor_13/03-01-05-01-01-01-13.wav  \n",
            "  inflating: rav/Actor_13/03-01-05-01-01-02-13.wav  \n",
            "  inflating: rav/Actor_13/03-01-05-01-02-01-13.wav  \n",
            "  inflating: rav/Actor_13/03-01-05-01-02-02-13.wav  \n",
            "  inflating: rav/Actor_13/03-01-05-02-01-01-13.wav  \n",
            "  inflating: rav/Actor_13/03-01-05-02-01-02-13.wav  \n",
            "  inflating: rav/Actor_13/03-01-05-02-02-01-13.wav  \n",
            "  inflating: rav/Actor_13/03-01-05-02-02-02-13.wav  \n",
            "  inflating: rav/Actor_13/03-01-06-01-01-01-13.wav  \n",
            "  inflating: rav/Actor_13/03-01-06-01-01-02-13.wav  \n",
            "  inflating: rav/Actor_13/03-01-06-01-02-01-13.wav  \n",
            "  inflating: rav/Actor_13/03-01-06-01-02-02-13.wav  \n",
            "  inflating: rav/Actor_13/03-01-06-02-01-01-13.wav  \n",
            "  inflating: rav/Actor_13/03-01-06-02-01-02-13.wav  \n",
            "  inflating: rav/Actor_13/03-01-06-02-02-01-13.wav  \n",
            "  inflating: rav/Actor_13/03-01-06-02-02-02-13.wav  \n",
            "  inflating: rav/Actor_13/03-01-07-01-01-01-13.wav  \n",
            "  inflating: rav/Actor_13/03-01-07-01-01-02-13.wav  \n",
            "  inflating: rav/Actor_13/03-01-07-01-02-01-13.wav  \n",
            "  inflating: rav/Actor_13/03-01-07-01-02-02-13.wav  \n",
            "  inflating: rav/Actor_13/03-01-07-02-01-01-13.wav  \n",
            "  inflating: rav/Actor_13/03-01-07-02-01-02-13.wav  \n",
            "  inflating: rav/Actor_13/03-01-07-02-02-01-13.wav  \n",
            "  inflating: rav/Actor_13/03-01-07-02-02-02-13.wav  \n",
            "  inflating: rav/Actor_13/03-01-08-01-01-01-13.wav  \n",
            "  inflating: rav/Actor_13/03-01-08-01-01-02-13.wav  \n",
            "  inflating: rav/Actor_13/03-01-08-01-02-01-13.wav  \n",
            "  inflating: rav/Actor_13/03-01-08-01-02-02-13.wav  \n",
            "  inflating: rav/Actor_13/03-01-08-02-01-01-13.wav  \n",
            "  inflating: rav/Actor_13/03-01-08-02-01-02-13.wav  \n",
            "  inflating: rav/Actor_13/03-01-08-02-02-01-13.wav  \n",
            "  inflating: rav/Actor_13/03-01-08-02-02-02-13.wav  \n",
            "   creating: rav/Actor_14/\n",
            "  inflating: rav/Actor_14/03-01-01-01-01-01-14.wav  \n",
            "  inflating: rav/Actor_14/03-01-01-01-01-02-14.wav  \n",
            "  inflating: rav/Actor_14/03-01-01-01-02-01-14.wav  \n",
            "  inflating: rav/Actor_14/03-01-01-01-02-02-14.wav  \n",
            "  inflating: rav/Actor_14/03-01-02-01-01-01-14.wav  \n",
            "  inflating: rav/Actor_14/03-01-02-01-01-02-14.wav  \n",
            "  inflating: rav/Actor_14/03-01-02-01-02-01-14.wav  \n",
            "  inflating: rav/Actor_14/03-01-02-01-02-02-14.wav  \n",
            "  inflating: rav/Actor_14/03-01-02-02-01-01-14.wav  \n",
            "  inflating: rav/Actor_14/03-01-02-02-01-02-14.wav  \n",
            "  inflating: rav/Actor_14/03-01-02-02-02-01-14.wav  \n",
            "  inflating: rav/Actor_14/03-01-02-02-02-02-14.wav  \n",
            "  inflating: rav/Actor_14/03-01-03-01-01-01-14.wav  \n",
            "  inflating: rav/Actor_14/03-01-03-01-01-02-14.wav  \n",
            "  inflating: rav/Actor_14/03-01-03-01-02-01-14.wav  \n",
            "  inflating: rav/Actor_14/03-01-03-01-02-02-14.wav  \n",
            "  inflating: rav/Actor_14/03-01-03-02-01-01-14.wav  \n",
            "  inflating: rav/Actor_14/03-01-03-02-01-02-14.wav  \n",
            "  inflating: rav/Actor_14/03-01-03-02-02-01-14.wav  \n",
            "  inflating: rav/Actor_14/03-01-03-02-02-02-14.wav  \n",
            "  inflating: rav/Actor_14/03-01-04-01-01-01-14.wav  \n",
            "  inflating: rav/Actor_14/03-01-04-01-01-02-14.wav  \n",
            "  inflating: rav/Actor_14/03-01-04-01-02-01-14.wav  \n",
            "  inflating: rav/Actor_14/03-01-04-01-02-02-14.wav  \n",
            "  inflating: rav/Actor_14/03-01-04-02-01-01-14.wav  \n",
            "  inflating: rav/Actor_14/03-01-04-02-01-02-14.wav  \n",
            "  inflating: rav/Actor_14/03-01-04-02-02-01-14.wav  \n",
            "  inflating: rav/Actor_14/03-01-04-02-02-02-14.wav  \n",
            "  inflating: rav/Actor_14/03-01-05-01-01-01-14.wav  \n",
            "  inflating: rav/Actor_14/03-01-05-01-01-02-14.wav  \n",
            "  inflating: rav/Actor_14/03-01-05-01-02-01-14.wav  \n",
            "  inflating: rav/Actor_14/03-01-05-01-02-02-14.wav  \n",
            "  inflating: rav/Actor_14/03-01-05-02-01-01-14.wav  \n",
            "  inflating: rav/Actor_14/03-01-05-02-01-02-14.wav  \n",
            "  inflating: rav/Actor_14/03-01-05-02-02-01-14.wav  \n",
            "  inflating: rav/Actor_14/03-01-05-02-02-02-14.wav  \n",
            "  inflating: rav/Actor_14/03-01-06-01-01-01-14.wav  \n",
            "  inflating: rav/Actor_14/03-01-06-01-01-02-14.wav  \n",
            "  inflating: rav/Actor_14/03-01-06-01-02-01-14.wav  \n",
            "  inflating: rav/Actor_14/03-01-06-01-02-02-14.wav  \n",
            "  inflating: rav/Actor_14/03-01-06-02-01-01-14.wav  \n",
            "  inflating: rav/Actor_14/03-01-06-02-01-02-14.wav  \n",
            "  inflating: rav/Actor_14/03-01-06-02-02-01-14.wav  \n",
            "  inflating: rav/Actor_14/03-01-06-02-02-02-14.wav  \n",
            "  inflating: rav/Actor_14/03-01-07-01-01-01-14.wav  \n",
            "  inflating: rav/Actor_14/03-01-07-01-01-02-14.wav  \n",
            "  inflating: rav/Actor_14/03-01-07-01-02-01-14.wav  \n",
            "  inflating: rav/Actor_14/03-01-07-01-02-02-14.wav  \n",
            "  inflating: rav/Actor_14/03-01-07-02-01-01-14.wav  \n",
            "  inflating: rav/Actor_14/03-01-07-02-01-02-14.wav  \n",
            "  inflating: rav/Actor_14/03-01-07-02-02-01-14.wav  \n",
            "  inflating: rav/Actor_14/03-01-07-02-02-02-14.wav  \n",
            "  inflating: rav/Actor_14/03-01-08-01-01-01-14.wav  \n",
            "  inflating: rav/Actor_14/03-01-08-01-01-02-14.wav  \n",
            "  inflating: rav/Actor_14/03-01-08-01-02-01-14.wav  \n",
            "  inflating: rav/Actor_14/03-01-08-01-02-02-14.wav  \n",
            "  inflating: rav/Actor_14/03-01-08-02-01-01-14.wav  \n",
            "  inflating: rav/Actor_14/03-01-08-02-01-02-14.wav  \n",
            "  inflating: rav/Actor_14/03-01-08-02-02-01-14.wav  \n",
            "  inflating: rav/Actor_14/03-01-08-02-02-02-14.wav  \n",
            "   creating: rav/Actor_15/\n",
            "  inflating: rav/Actor_15/03-01-01-01-01-01-15.wav  \n",
            "  inflating: rav/Actor_15/03-01-01-01-01-02-15.wav  \n",
            "  inflating: rav/Actor_15/03-01-01-01-02-01-15.wav  \n",
            "  inflating: rav/Actor_15/03-01-01-01-02-02-15.wav  \n",
            "  inflating: rav/Actor_15/03-01-02-01-01-01-15.wav  \n",
            "  inflating: rav/Actor_15/03-01-02-01-01-02-15.wav  \n",
            "  inflating: rav/Actor_15/03-01-02-01-02-01-15.wav  \n",
            "  inflating: rav/Actor_15/03-01-02-01-02-02-15.wav  \n",
            "  inflating: rav/Actor_15/03-01-02-02-01-01-15.wav  \n",
            "  inflating: rav/Actor_15/03-01-02-02-01-02-15.wav  \n",
            "  inflating: rav/Actor_15/03-01-02-02-02-01-15.wav  \n",
            "  inflating: rav/Actor_15/03-01-02-02-02-02-15.wav  \n",
            "  inflating: rav/Actor_15/03-01-03-01-01-01-15.wav  \n",
            "  inflating: rav/Actor_15/03-01-03-01-01-02-15.wav  \n",
            "  inflating: rav/Actor_15/03-01-03-01-02-01-15.wav  \n",
            "  inflating: rav/Actor_15/03-01-03-01-02-02-15.wav  \n",
            "  inflating: rav/Actor_15/03-01-03-02-01-01-15.wav  \n",
            "  inflating: rav/Actor_15/03-01-03-02-01-02-15.wav  \n",
            "  inflating: rav/Actor_15/03-01-03-02-02-01-15.wav  \n",
            "  inflating: rav/Actor_15/03-01-03-02-02-02-15.wav  \n",
            "  inflating: rav/Actor_15/03-01-04-01-01-01-15.wav  \n",
            "  inflating: rav/Actor_15/03-01-04-01-01-02-15.wav  \n",
            "  inflating: rav/Actor_15/03-01-04-01-02-01-15.wav  \n",
            "  inflating: rav/Actor_15/03-01-04-01-02-02-15.wav  \n",
            "  inflating: rav/Actor_15/03-01-04-02-01-01-15.wav  \n",
            "  inflating: rav/Actor_15/03-01-04-02-01-02-15.wav  \n",
            "  inflating: rav/Actor_15/03-01-04-02-02-01-15.wav  \n",
            "  inflating: rav/Actor_15/03-01-04-02-02-02-15.wav  \n",
            "  inflating: rav/Actor_15/03-01-05-01-01-01-15.wav  \n",
            "  inflating: rav/Actor_15/03-01-05-01-01-02-15.wav  \n",
            "  inflating: rav/Actor_15/03-01-05-01-02-01-15.wav  \n",
            "  inflating: rav/Actor_15/03-01-05-01-02-02-15.wav  \n",
            "  inflating: rav/Actor_15/03-01-05-02-01-01-15.wav  \n",
            "  inflating: rav/Actor_15/03-01-05-02-01-02-15.wav  \n",
            "  inflating: rav/Actor_15/03-01-05-02-02-01-15.wav  \n",
            "  inflating: rav/Actor_15/03-01-05-02-02-02-15.wav  \n",
            "  inflating: rav/Actor_15/03-01-06-01-01-01-15.wav  \n",
            "  inflating: rav/Actor_15/03-01-06-01-01-02-15.wav  \n",
            "  inflating: rav/Actor_15/03-01-06-01-02-01-15.wav  \n",
            "  inflating: rav/Actor_15/03-01-06-01-02-02-15.wav  \n",
            "  inflating: rav/Actor_15/03-01-06-02-01-01-15.wav  \n",
            "  inflating: rav/Actor_15/03-01-06-02-01-02-15.wav  \n",
            "  inflating: rav/Actor_15/03-01-06-02-02-01-15.wav  \n",
            "  inflating: rav/Actor_15/03-01-06-02-02-02-15.wav  \n",
            "  inflating: rav/Actor_15/03-01-07-01-01-01-15.wav  \n",
            "  inflating: rav/Actor_15/03-01-07-01-01-02-15.wav  \n",
            "  inflating: rav/Actor_15/03-01-07-01-02-01-15.wav  \n",
            "  inflating: rav/Actor_15/03-01-07-01-02-02-15.wav  \n",
            "  inflating: rav/Actor_15/03-01-07-02-01-01-15.wav  \n",
            "  inflating: rav/Actor_15/03-01-07-02-01-02-15.wav  \n",
            "  inflating: rav/Actor_15/03-01-07-02-02-01-15.wav  \n",
            "  inflating: rav/Actor_15/03-01-07-02-02-02-15.wav  \n",
            "  inflating: rav/Actor_15/03-01-08-01-01-01-15.wav  \n",
            "  inflating: rav/Actor_15/03-01-08-01-01-02-15.wav  \n",
            "  inflating: rav/Actor_15/03-01-08-01-02-01-15.wav  \n",
            "  inflating: rav/Actor_15/03-01-08-01-02-02-15.wav  \n",
            "  inflating: rav/Actor_15/03-01-08-02-01-01-15.wav  \n",
            "  inflating: rav/Actor_15/03-01-08-02-01-02-15.wav  \n",
            "  inflating: rav/Actor_15/03-01-08-02-02-01-15.wav  \n",
            "  inflating: rav/Actor_15/03-01-08-02-02-02-15.wav  \n",
            "   creating: rav/Actor_16/\n",
            "  inflating: rav/Actor_16/03-01-01-01-01-01-16.wav  \n",
            "  inflating: rav/Actor_16/03-01-01-01-01-02-16.wav  \n",
            "  inflating: rav/Actor_16/03-01-01-01-02-01-16.wav  \n",
            "  inflating: rav/Actor_16/03-01-01-01-02-02-16.wav  \n",
            "  inflating: rav/Actor_16/03-01-02-01-01-01-16.wav  \n",
            "  inflating: rav/Actor_16/03-01-02-01-01-02-16.wav  \n",
            "  inflating: rav/Actor_16/03-01-02-01-02-01-16.wav  \n",
            "  inflating: rav/Actor_16/03-01-02-01-02-02-16.wav  \n",
            "  inflating: rav/Actor_16/03-01-02-02-01-01-16.wav  \n",
            "  inflating: rav/Actor_16/03-01-02-02-01-02-16.wav  \n",
            "  inflating: rav/Actor_16/03-01-02-02-02-01-16.wav  \n",
            "  inflating: rav/Actor_16/03-01-02-02-02-02-16.wav  \n",
            "  inflating: rav/Actor_16/03-01-03-01-01-01-16.wav  \n",
            "  inflating: rav/Actor_16/03-01-03-01-01-02-16.wav  \n",
            "  inflating: rav/Actor_16/03-01-03-01-02-01-16.wav  \n",
            "  inflating: rav/Actor_16/03-01-03-01-02-02-16.wav  \n",
            "  inflating: rav/Actor_16/03-01-03-02-01-01-16.wav  \n",
            "  inflating: rav/Actor_16/03-01-03-02-01-02-16.wav  \n",
            "  inflating: rav/Actor_16/03-01-03-02-02-01-16.wav  \n",
            "  inflating: rav/Actor_16/03-01-03-02-02-02-16.wav  \n",
            "  inflating: rav/Actor_16/03-01-04-01-01-01-16.wav  \n",
            "  inflating: rav/Actor_16/03-01-04-01-01-02-16.wav  \n",
            "  inflating: rav/Actor_16/03-01-04-01-02-01-16.wav  \n",
            "  inflating: rav/Actor_16/03-01-04-01-02-02-16.wav  \n",
            "  inflating: rav/Actor_16/03-01-04-02-01-01-16.wav  \n",
            "  inflating: rav/Actor_16/03-01-04-02-01-02-16.wav  \n",
            "  inflating: rav/Actor_16/03-01-04-02-02-01-16.wav  \n",
            "  inflating: rav/Actor_16/03-01-04-02-02-02-16.wav  \n",
            "  inflating: rav/Actor_16/03-01-05-01-01-01-16.wav  \n",
            "  inflating: rav/Actor_16/03-01-05-01-01-02-16.wav  \n",
            "  inflating: rav/Actor_16/03-01-05-01-02-01-16.wav  \n",
            "  inflating: rav/Actor_16/03-01-05-01-02-02-16.wav  \n",
            "  inflating: rav/Actor_16/03-01-05-02-01-01-16.wav  \n",
            "  inflating: rav/Actor_16/03-01-05-02-01-02-16.wav  \n",
            "  inflating: rav/Actor_16/03-01-05-02-02-01-16.wav  \n",
            "  inflating: rav/Actor_16/03-01-05-02-02-02-16.wav  \n",
            "  inflating: rav/Actor_16/03-01-06-01-01-01-16.wav  \n",
            "  inflating: rav/Actor_16/03-01-06-01-01-02-16.wav  \n",
            "  inflating: rav/Actor_16/03-01-06-01-02-01-16.wav  \n",
            "  inflating: rav/Actor_16/03-01-06-01-02-02-16.wav  \n",
            "  inflating: rav/Actor_16/03-01-06-02-01-01-16.wav  \n",
            "  inflating: rav/Actor_16/03-01-06-02-01-02-16.wav  \n",
            "  inflating: rav/Actor_16/03-01-06-02-02-01-16.wav  \n",
            "  inflating: rav/Actor_16/03-01-06-02-02-02-16.wav  \n",
            "  inflating: rav/Actor_16/03-01-07-01-01-01-16.wav  \n",
            "  inflating: rav/Actor_16/03-01-07-01-01-02-16.wav  \n",
            "  inflating: rav/Actor_16/03-01-07-01-02-01-16.wav  \n",
            "  inflating: rav/Actor_16/03-01-07-01-02-02-16.wav  \n",
            "  inflating: rav/Actor_16/03-01-07-02-01-01-16.wav  \n",
            "  inflating: rav/Actor_16/03-01-07-02-01-02-16.wav  \n",
            "  inflating: rav/Actor_16/03-01-07-02-02-01-16.wav  \n",
            "  inflating: rav/Actor_16/03-01-07-02-02-02-16.wav  \n",
            "  inflating: rav/Actor_16/03-01-08-01-01-01-16.wav  \n",
            "  inflating: rav/Actor_16/03-01-08-01-01-02-16.wav  \n",
            "  inflating: rav/Actor_16/03-01-08-01-02-01-16.wav  \n",
            "  inflating: rav/Actor_16/03-01-08-01-02-02-16.wav  \n",
            "  inflating: rav/Actor_16/03-01-08-02-01-01-16.wav  \n",
            "  inflating: rav/Actor_16/03-01-08-02-01-02-16.wav  \n",
            "  inflating: rav/Actor_16/03-01-08-02-02-01-16.wav  \n",
            "  inflating: rav/Actor_16/03-01-08-02-02-02-16.wav  \n",
            "   creating: rav/Actor_17/\n",
            "  inflating: rav/Actor_17/03-01-01-01-01-01-17.wav  \n",
            "  inflating: rav/Actor_17/03-01-01-01-01-02-17.wav  \n",
            "  inflating: rav/Actor_17/03-01-01-01-02-01-17.wav  \n",
            "  inflating: rav/Actor_17/03-01-01-01-02-02-17.wav  \n",
            "  inflating: rav/Actor_17/03-01-02-01-01-01-17.wav  \n",
            "  inflating: rav/Actor_17/03-01-02-01-01-02-17.wav  \n",
            "  inflating: rav/Actor_17/03-01-02-01-02-01-17.wav  \n",
            "  inflating: rav/Actor_17/03-01-02-01-02-02-17.wav  \n",
            "  inflating: rav/Actor_17/03-01-02-02-01-01-17.wav  \n",
            "  inflating: rav/Actor_17/03-01-02-02-01-02-17.wav  \n",
            "  inflating: rav/Actor_17/03-01-02-02-02-01-17.wav  \n",
            "  inflating: rav/Actor_17/03-01-02-02-02-02-17.wav  \n",
            "  inflating: rav/Actor_17/03-01-03-01-01-01-17.wav  \n",
            "  inflating: rav/Actor_17/03-01-03-01-01-02-17.wav  \n",
            "  inflating: rav/Actor_17/03-01-03-01-02-01-17.wav  \n",
            "  inflating: rav/Actor_17/03-01-03-01-02-02-17.wav  \n",
            "  inflating: rav/Actor_17/03-01-03-02-01-01-17.wav  \n",
            "  inflating: rav/Actor_17/03-01-03-02-01-02-17.wav  \n",
            "  inflating: rav/Actor_17/03-01-03-02-02-01-17.wav  \n",
            "  inflating: rav/Actor_17/03-01-03-02-02-02-17.wav  \n",
            "  inflating: rav/Actor_17/03-01-04-01-01-01-17.wav  \n",
            "  inflating: rav/Actor_17/03-01-04-01-01-02-17.wav  \n",
            "  inflating: rav/Actor_17/03-01-04-01-02-01-17.wav  \n",
            "  inflating: rav/Actor_17/03-01-04-01-02-02-17.wav  \n",
            "  inflating: rav/Actor_17/03-01-04-02-01-01-17.wav  \n",
            "  inflating: rav/Actor_17/03-01-04-02-01-02-17.wav  \n",
            "  inflating: rav/Actor_17/03-01-04-02-02-01-17.wav  \n",
            "  inflating: rav/Actor_17/03-01-04-02-02-02-17.wav  \n",
            "  inflating: rav/Actor_17/03-01-05-01-01-01-17.wav  \n",
            "  inflating: rav/Actor_17/03-01-05-01-01-02-17.wav  \n",
            "  inflating: rav/Actor_17/03-01-05-01-02-01-17.wav  \n",
            "  inflating: rav/Actor_17/03-01-05-01-02-02-17.wav  \n",
            "  inflating: rav/Actor_17/03-01-05-02-01-01-17.wav  \n",
            "  inflating: rav/Actor_17/03-01-05-02-01-02-17.wav  \n",
            "  inflating: rav/Actor_17/03-01-05-02-02-01-17.wav  \n",
            "  inflating: rav/Actor_17/03-01-05-02-02-02-17.wav  \n",
            "  inflating: rav/Actor_17/03-01-06-01-01-01-17.wav  \n",
            "  inflating: rav/Actor_17/03-01-06-01-01-02-17.wav  \n",
            "  inflating: rav/Actor_17/03-01-06-01-02-01-17.wav  \n",
            "  inflating: rav/Actor_17/03-01-06-01-02-02-17.wav  \n",
            "  inflating: rav/Actor_17/03-01-06-02-01-01-17.wav  \n",
            "  inflating: rav/Actor_17/03-01-06-02-01-02-17.wav  \n",
            "  inflating: rav/Actor_17/03-01-06-02-02-01-17.wav  \n",
            "  inflating: rav/Actor_17/03-01-06-02-02-02-17.wav  \n",
            "  inflating: rav/Actor_17/03-01-07-01-01-01-17.wav  \n",
            "  inflating: rav/Actor_17/03-01-07-01-01-02-17.wav  \n",
            "  inflating: rav/Actor_17/03-01-07-01-02-01-17.wav  \n",
            "  inflating: rav/Actor_17/03-01-07-01-02-02-17.wav  \n",
            "  inflating: rav/Actor_17/03-01-07-02-01-01-17.wav  \n",
            "  inflating: rav/Actor_17/03-01-07-02-01-02-17.wav  \n",
            "  inflating: rav/Actor_17/03-01-07-02-02-01-17.wav  \n",
            "  inflating: rav/Actor_17/03-01-07-02-02-02-17.wav  \n",
            "  inflating: rav/Actor_17/03-01-08-01-01-01-17.wav  \n",
            "  inflating: rav/Actor_17/03-01-08-01-01-02-17.wav  \n",
            "  inflating: rav/Actor_17/03-01-08-01-02-01-17.wav  \n",
            "  inflating: rav/Actor_17/03-01-08-01-02-02-17.wav  \n",
            "  inflating: rav/Actor_17/03-01-08-02-01-01-17.wav  \n",
            "  inflating: rav/Actor_17/03-01-08-02-01-02-17.wav  \n",
            "  inflating: rav/Actor_17/03-01-08-02-02-01-17.wav  \n",
            "  inflating: rav/Actor_17/03-01-08-02-02-02-17.wav  \n",
            "   creating: rav/Actor_18/\n",
            "  inflating: rav/Actor_18/03-01-01-01-01-01-18.wav  \n",
            "  inflating: rav/Actor_18/03-01-01-01-01-02-18.wav  \n",
            "  inflating: rav/Actor_18/03-01-01-01-02-01-18.wav  \n",
            "  inflating: rav/Actor_18/03-01-01-01-02-02-18.wav  \n",
            "  inflating: rav/Actor_18/03-01-02-01-01-01-18.wav  \n",
            "  inflating: rav/Actor_18/03-01-02-01-01-02-18.wav  \n",
            "  inflating: rav/Actor_18/03-01-02-01-02-01-18.wav  \n",
            "  inflating: rav/Actor_18/03-01-02-01-02-02-18.wav  \n",
            "  inflating: rav/Actor_18/03-01-02-02-01-01-18.wav  \n",
            "  inflating: rav/Actor_18/03-01-02-02-01-02-18.wav  \n",
            "  inflating: rav/Actor_18/03-01-02-02-02-01-18.wav  \n",
            "  inflating: rav/Actor_18/03-01-02-02-02-02-18.wav  \n",
            "  inflating: rav/Actor_18/03-01-03-01-01-01-18.wav  \n",
            "  inflating: rav/Actor_18/03-01-03-01-01-02-18.wav  \n",
            "  inflating: rav/Actor_18/03-01-03-01-02-01-18.wav  \n",
            "  inflating: rav/Actor_18/03-01-03-01-02-02-18.wav  \n",
            "  inflating: rav/Actor_18/03-01-03-02-01-01-18.wav  \n",
            "  inflating: rav/Actor_18/03-01-03-02-01-02-18.wav  \n",
            "  inflating: rav/Actor_18/03-01-03-02-02-01-18.wav  \n",
            "  inflating: rav/Actor_18/03-01-03-02-02-02-18.wav  \n",
            "  inflating: rav/Actor_18/03-01-04-01-01-01-18.wav  \n",
            "  inflating: rav/Actor_18/03-01-04-01-01-02-18.wav  \n",
            "  inflating: rav/Actor_18/03-01-04-01-02-01-18.wav  \n",
            "  inflating: rav/Actor_18/03-01-04-01-02-02-18.wav  \n",
            "  inflating: rav/Actor_18/03-01-04-02-01-01-18.wav  \n",
            "  inflating: rav/Actor_18/03-01-04-02-01-02-18.wav  \n",
            "  inflating: rav/Actor_18/03-01-04-02-02-01-18.wav  \n",
            "  inflating: rav/Actor_18/03-01-04-02-02-02-18.wav  \n",
            "  inflating: rav/Actor_18/03-01-05-01-01-01-18.wav  \n",
            "  inflating: rav/Actor_18/03-01-05-01-01-02-18.wav  \n",
            "  inflating: rav/Actor_18/03-01-05-01-02-01-18.wav  \n",
            "  inflating: rav/Actor_18/03-01-05-01-02-02-18.wav  \n",
            "  inflating: rav/Actor_18/03-01-05-02-01-01-18.wav  \n",
            "  inflating: rav/Actor_18/03-01-05-02-01-02-18.wav  \n",
            "  inflating: rav/Actor_18/03-01-05-02-02-01-18.wav  \n",
            "  inflating: rav/Actor_18/03-01-05-02-02-02-18.wav  \n",
            "  inflating: rav/Actor_18/03-01-06-01-01-01-18.wav  \n",
            "  inflating: rav/Actor_18/03-01-06-01-01-02-18.wav  \n",
            "  inflating: rav/Actor_18/03-01-06-01-02-01-18.wav  \n",
            "  inflating: rav/Actor_18/03-01-06-01-02-02-18.wav  \n",
            "  inflating: rav/Actor_18/03-01-06-02-01-01-18.wav  \n",
            "  inflating: rav/Actor_18/03-01-06-02-01-02-18.wav  \n",
            "  inflating: rav/Actor_18/03-01-06-02-02-01-18.wav  \n",
            "  inflating: rav/Actor_18/03-01-06-02-02-02-18.wav  \n",
            "  inflating: rav/Actor_18/03-01-07-01-01-01-18.wav  \n",
            "  inflating: rav/Actor_18/03-01-07-01-01-02-18.wav  \n",
            "  inflating: rav/Actor_18/03-01-07-01-02-01-18.wav  \n",
            "  inflating: rav/Actor_18/03-01-07-01-02-02-18.wav  \n",
            "  inflating: rav/Actor_18/03-01-07-02-01-01-18.wav  \n",
            "  inflating: rav/Actor_18/03-01-07-02-01-02-18.wav  \n",
            "  inflating: rav/Actor_18/03-01-07-02-02-01-18.wav  \n",
            "  inflating: rav/Actor_18/03-01-07-02-02-02-18.wav  \n",
            "  inflating: rav/Actor_18/03-01-08-01-01-01-18.wav  \n",
            "  inflating: rav/Actor_18/03-01-08-01-01-02-18.wav  \n",
            "  inflating: rav/Actor_18/03-01-08-01-02-01-18.wav  \n",
            "  inflating: rav/Actor_18/03-01-08-01-02-02-18.wav  \n",
            "  inflating: rav/Actor_18/03-01-08-02-01-01-18.wav  \n",
            "  inflating: rav/Actor_18/03-01-08-02-01-02-18.wav  \n",
            "  inflating: rav/Actor_18/03-01-08-02-02-01-18.wav  \n",
            "  inflating: rav/Actor_18/03-01-08-02-02-02-18.wav  \n",
            "   creating: rav/Actor_19/\n",
            "  inflating: rav/Actor_19/03-01-01-01-01-01-19.wav  \n",
            "  inflating: rav/Actor_19/03-01-01-01-01-02-19.wav  \n",
            "  inflating: rav/Actor_19/03-01-01-01-02-01-19.wav  \n",
            "  inflating: rav/Actor_19/03-01-01-01-02-02-19.wav  \n",
            "  inflating: rav/Actor_19/03-01-02-01-01-01-19.wav  \n",
            "  inflating: rav/Actor_19/03-01-02-01-01-02-19.wav  \n",
            "  inflating: rav/Actor_19/03-01-02-01-02-01-19.wav  \n",
            "  inflating: rav/Actor_19/03-01-02-01-02-02-19.wav  \n",
            "  inflating: rav/Actor_19/03-01-02-02-01-01-19.wav  \n",
            "  inflating: rav/Actor_19/03-01-02-02-01-02-19.wav  \n",
            "  inflating: rav/Actor_19/03-01-02-02-02-01-19.wav  \n",
            "  inflating: rav/Actor_19/03-01-02-02-02-02-19.wav  \n",
            "  inflating: rav/Actor_19/03-01-03-01-01-01-19.wav  \n",
            "  inflating: rav/Actor_19/03-01-03-01-01-02-19.wav  \n",
            "  inflating: rav/Actor_19/03-01-03-01-02-01-19.wav  \n",
            "  inflating: rav/Actor_19/03-01-03-01-02-02-19.wav  \n",
            "  inflating: rav/Actor_19/03-01-03-02-01-01-19.wav  \n",
            "  inflating: rav/Actor_19/03-01-03-02-01-02-19.wav  \n",
            "  inflating: rav/Actor_19/03-01-03-02-02-01-19.wav  \n",
            "  inflating: rav/Actor_19/03-01-03-02-02-02-19.wav  \n",
            "  inflating: rav/Actor_19/03-01-04-01-01-01-19.wav  \n",
            "  inflating: rav/Actor_19/03-01-04-01-01-02-19.wav  \n",
            "  inflating: rav/Actor_19/03-01-04-01-02-01-19.wav  \n",
            "  inflating: rav/Actor_19/03-01-04-01-02-02-19.wav  \n",
            "  inflating: rav/Actor_19/03-01-04-02-01-01-19.wav  \n",
            "  inflating: rav/Actor_19/03-01-04-02-01-02-19.wav  \n",
            "  inflating: rav/Actor_19/03-01-04-02-02-01-19.wav  \n",
            "  inflating: rav/Actor_19/03-01-04-02-02-02-19.wav  \n",
            "  inflating: rav/Actor_19/03-01-05-01-01-01-19.wav  \n",
            "  inflating: rav/Actor_19/03-01-05-01-01-02-19.wav  \n",
            "  inflating: rav/Actor_19/03-01-05-01-02-01-19.wav  \n",
            "  inflating: rav/Actor_19/03-01-05-01-02-02-19.wav  \n",
            "  inflating: rav/Actor_19/03-01-05-02-01-01-19.wav  \n",
            "  inflating: rav/Actor_19/03-01-05-02-01-02-19.wav  \n",
            "  inflating: rav/Actor_19/03-01-05-02-02-01-19.wav  \n",
            "  inflating: rav/Actor_19/03-01-05-02-02-02-19.wav  \n",
            "  inflating: rav/Actor_19/03-01-06-01-01-01-19.wav  \n",
            "  inflating: rav/Actor_19/03-01-06-01-01-02-19.wav  \n",
            "  inflating: rav/Actor_19/03-01-06-01-02-01-19.wav  \n",
            "  inflating: rav/Actor_19/03-01-06-01-02-02-19.wav  \n",
            "  inflating: rav/Actor_19/03-01-06-02-01-01-19.wav  \n",
            "  inflating: rav/Actor_19/03-01-06-02-01-02-19.wav  \n",
            "  inflating: rav/Actor_19/03-01-06-02-02-01-19.wav  \n",
            "  inflating: rav/Actor_19/03-01-06-02-02-02-19.wav  \n",
            "  inflating: rav/Actor_19/03-01-07-01-01-01-19.wav  \n",
            "  inflating: rav/Actor_19/03-01-07-01-01-02-19.wav  \n",
            "  inflating: rav/Actor_19/03-01-07-01-02-01-19.wav  \n",
            "  inflating: rav/Actor_19/03-01-07-01-02-02-19.wav  \n",
            "  inflating: rav/Actor_19/03-01-07-02-01-01-19.wav  \n",
            "  inflating: rav/Actor_19/03-01-07-02-01-02-19.wav  \n",
            "  inflating: rav/Actor_19/03-01-07-02-02-01-19.wav  \n",
            "  inflating: rav/Actor_19/03-01-07-02-02-02-19.wav  \n",
            "  inflating: rav/Actor_19/03-01-08-01-01-01-19.wav  \n",
            "  inflating: rav/Actor_19/03-01-08-01-01-02-19.wav  \n",
            "  inflating: rav/Actor_19/03-01-08-01-02-01-19.wav  \n",
            "  inflating: rav/Actor_19/03-01-08-01-02-02-19.wav  \n",
            "  inflating: rav/Actor_19/03-01-08-02-01-01-19.wav  \n",
            "  inflating: rav/Actor_19/03-01-08-02-01-02-19.wav  \n",
            "  inflating: rav/Actor_19/03-01-08-02-02-01-19.wav  \n",
            "  inflating: rav/Actor_19/03-01-08-02-02-02-19.wav  \n",
            "   creating: rav/Actor_20/\n",
            "  inflating: rav/Actor_20/03-01-01-01-01-01-20.wav  \n",
            "  inflating: rav/Actor_20/03-01-01-01-01-02-20.wav  \n",
            "  inflating: rav/Actor_20/03-01-01-01-02-01-20.wav  \n",
            "  inflating: rav/Actor_20/03-01-01-01-02-02-20.wav  \n",
            "  inflating: rav/Actor_20/03-01-02-01-01-01-20.wav  \n",
            "  inflating: rav/Actor_20/03-01-02-01-01-02-20.wav  \n",
            "  inflating: rav/Actor_20/03-01-02-01-02-01-20.wav  \n",
            "  inflating: rav/Actor_20/03-01-02-01-02-02-20.wav  \n",
            "  inflating: rav/Actor_20/03-01-02-02-01-01-20.wav  \n",
            "  inflating: rav/Actor_20/03-01-02-02-01-02-20.wav  \n",
            "  inflating: rav/Actor_20/03-01-02-02-02-01-20.wav  \n",
            "  inflating: rav/Actor_20/03-01-02-02-02-02-20.wav  \n",
            "  inflating: rav/Actor_20/03-01-03-01-01-01-20.wav  \n",
            "  inflating: rav/Actor_20/03-01-03-01-01-02-20.wav  \n",
            "  inflating: rav/Actor_20/03-01-03-01-02-01-20.wav  \n",
            "  inflating: rav/Actor_20/03-01-03-01-02-02-20.wav  \n",
            "  inflating: rav/Actor_20/03-01-03-02-01-01-20.wav  \n",
            "  inflating: rav/Actor_20/03-01-03-02-01-02-20.wav  \n",
            "  inflating: rav/Actor_20/03-01-03-02-02-01-20.wav  \n",
            "  inflating: rav/Actor_20/03-01-03-02-02-02-20.wav  \n",
            "  inflating: rav/Actor_20/03-01-04-01-01-01-20.wav  \n",
            "  inflating: rav/Actor_20/03-01-04-01-01-02-20.wav  \n",
            "  inflating: rav/Actor_20/03-01-04-01-02-01-20.wav  \n",
            "  inflating: rav/Actor_20/03-01-04-01-02-02-20.wav  \n",
            "  inflating: rav/Actor_20/03-01-04-02-01-01-20.wav  \n",
            "  inflating: rav/Actor_20/03-01-04-02-01-02-20.wav  \n",
            "  inflating: rav/Actor_20/03-01-04-02-02-01-20.wav  \n",
            "  inflating: rav/Actor_20/03-01-04-02-02-02-20.wav  \n",
            "  inflating: rav/Actor_20/03-01-05-01-01-01-20.wav  \n",
            "  inflating: rav/Actor_20/03-01-05-01-01-02-20.wav  \n",
            "  inflating: rav/Actor_20/03-01-05-01-02-01-20.wav  \n",
            "  inflating: rav/Actor_20/03-01-05-01-02-02-20.wav  \n",
            "  inflating: rav/Actor_20/03-01-05-02-01-01-20.wav  \n",
            "  inflating: rav/Actor_20/03-01-05-02-01-02-20.wav  \n",
            "  inflating: rav/Actor_20/03-01-05-02-02-01-20.wav  \n",
            "  inflating: rav/Actor_20/03-01-05-02-02-02-20.wav  \n",
            "  inflating: rav/Actor_20/03-01-06-01-01-01-20.wav  \n",
            "  inflating: rav/Actor_20/03-01-06-01-01-02-20.wav  \n",
            "  inflating: rav/Actor_20/03-01-06-01-02-01-20.wav  \n",
            "  inflating: rav/Actor_20/03-01-06-01-02-02-20.wav  \n",
            "  inflating: rav/Actor_20/03-01-06-02-01-01-20.wav  \n",
            "  inflating: rav/Actor_20/03-01-06-02-01-02-20.wav  \n",
            "  inflating: rav/Actor_20/03-01-06-02-02-01-20.wav  \n",
            "  inflating: rav/Actor_20/03-01-06-02-02-02-20.wav  \n",
            "  inflating: rav/Actor_20/03-01-07-01-01-01-20.wav  \n",
            "  inflating: rav/Actor_20/03-01-07-01-01-02-20.wav  \n",
            "  inflating: rav/Actor_20/03-01-07-01-02-01-20.wav  \n",
            "  inflating: rav/Actor_20/03-01-07-01-02-02-20.wav  \n",
            "  inflating: rav/Actor_20/03-01-07-02-01-01-20.wav  \n",
            "  inflating: rav/Actor_20/03-01-07-02-01-02-20.wav  \n",
            "  inflating: rav/Actor_20/03-01-07-02-02-01-20.wav  \n",
            "  inflating: rav/Actor_20/03-01-07-02-02-02-20.wav  \n",
            "  inflating: rav/Actor_20/03-01-08-01-01-01-20.wav  \n",
            "  inflating: rav/Actor_20/03-01-08-01-01-02-20.wav  \n",
            "  inflating: rav/Actor_20/03-01-08-01-02-01-20.wav  \n",
            "  inflating: rav/Actor_20/03-01-08-01-02-02-20.wav  \n",
            "  inflating: rav/Actor_20/03-01-08-02-01-01-20.wav  \n",
            "  inflating: rav/Actor_20/03-01-08-02-01-02-20.wav  \n",
            "  inflating: rav/Actor_20/03-01-08-02-02-01-20.wav  \n",
            "  inflating: rav/Actor_20/03-01-08-02-02-02-20.wav  \n",
            "   creating: rav/Actor_21/\n",
            "  inflating: rav/Actor_21/03-01-01-01-01-01-21.wav  \n",
            "  inflating: rav/Actor_21/03-01-01-01-01-02-21.wav  \n",
            "  inflating: rav/Actor_21/03-01-01-01-02-01-21.wav  \n",
            "  inflating: rav/Actor_21/03-01-01-01-02-02-21.wav  \n",
            "  inflating: rav/Actor_21/03-01-02-01-01-01-21.wav  \n",
            "  inflating: rav/Actor_21/03-01-02-01-01-02-21.wav  \n",
            "  inflating: rav/Actor_21/03-01-02-01-02-01-21.wav  \n",
            "  inflating: rav/Actor_21/03-01-02-01-02-02-21.wav  \n",
            "  inflating: rav/Actor_21/03-01-02-02-01-01-21.wav  \n",
            "  inflating: rav/Actor_21/03-01-02-02-01-02-21.wav  \n",
            "  inflating: rav/Actor_21/03-01-02-02-02-01-21.wav  \n",
            "  inflating: rav/Actor_21/03-01-02-02-02-02-21.wav  \n",
            "  inflating: rav/Actor_21/03-01-03-01-01-01-21.wav  \n",
            "  inflating: rav/Actor_21/03-01-03-01-01-02-21.wav  \n",
            "  inflating: rav/Actor_21/03-01-03-01-02-01-21.wav  \n",
            "  inflating: rav/Actor_21/03-01-03-01-02-02-21.wav  \n",
            "  inflating: rav/Actor_21/03-01-03-02-01-01-21.wav  \n",
            "  inflating: rav/Actor_21/03-01-03-02-01-02-21.wav  \n",
            "  inflating: rav/Actor_21/03-01-03-02-02-01-21.wav  \n",
            "  inflating: rav/Actor_21/03-01-03-02-02-02-21.wav  \n",
            "  inflating: rav/Actor_21/03-01-04-01-01-01-21.wav  \n",
            "  inflating: rav/Actor_21/03-01-04-01-01-02-21.wav  \n",
            "  inflating: rav/Actor_21/03-01-04-01-02-01-21.wav  \n",
            "  inflating: rav/Actor_21/03-01-04-01-02-02-21.wav  \n",
            "  inflating: rav/Actor_21/03-01-04-02-01-01-21.wav  \n",
            "  inflating: rav/Actor_21/03-01-04-02-01-02-21.wav  \n",
            "  inflating: rav/Actor_21/03-01-04-02-02-01-21.wav  \n",
            "  inflating: rav/Actor_21/03-01-04-02-02-02-21.wav  \n",
            "  inflating: rav/Actor_21/03-01-05-01-01-01-21.wav  \n",
            "  inflating: rav/Actor_21/03-01-05-01-01-02-21.wav  \n",
            "  inflating: rav/Actor_21/03-01-05-01-02-01-21.wav  \n",
            "  inflating: rav/Actor_21/03-01-05-01-02-02-21.wav  \n",
            "  inflating: rav/Actor_21/03-01-05-02-01-01-21.wav  \n",
            "  inflating: rav/Actor_21/03-01-05-02-01-02-21.wav  \n",
            "  inflating: rav/Actor_21/03-01-05-02-02-01-21.wav  \n",
            "  inflating: rav/Actor_21/03-01-05-02-02-02-21.wav  \n",
            "  inflating: rav/Actor_21/03-01-06-01-01-01-21.wav  \n",
            "  inflating: rav/Actor_21/03-01-06-01-01-02-21.wav  \n",
            "  inflating: rav/Actor_21/03-01-06-01-02-01-21.wav  \n",
            "  inflating: rav/Actor_21/03-01-06-01-02-02-21.wav  \n",
            "  inflating: rav/Actor_21/03-01-06-02-01-01-21.wav  \n",
            "  inflating: rav/Actor_21/03-01-06-02-01-02-21.wav  \n",
            "  inflating: rav/Actor_21/03-01-06-02-02-01-21.wav  \n",
            "  inflating: rav/Actor_21/03-01-06-02-02-02-21.wav  \n",
            "  inflating: rav/Actor_21/03-01-07-01-01-01-21.wav  \n",
            "  inflating: rav/Actor_21/03-01-07-01-01-02-21.wav  \n",
            "  inflating: rav/Actor_21/03-01-07-01-02-01-21.wav  \n",
            "  inflating: rav/Actor_21/03-01-07-01-02-02-21.wav  \n",
            "  inflating: rav/Actor_21/03-01-07-02-01-01-21.wav  \n",
            "  inflating: rav/Actor_21/03-01-07-02-01-02-21.wav  \n",
            "  inflating: rav/Actor_21/03-01-07-02-02-01-21.wav  \n",
            "  inflating: rav/Actor_21/03-01-07-02-02-02-21.wav  \n",
            "  inflating: rav/Actor_21/03-01-08-01-01-01-21.wav  \n",
            "  inflating: rav/Actor_21/03-01-08-01-01-02-21.wav  \n",
            "  inflating: rav/Actor_21/03-01-08-01-02-01-21.wav  \n",
            "  inflating: rav/Actor_21/03-01-08-01-02-02-21.wav  \n",
            "  inflating: rav/Actor_21/03-01-08-02-01-01-21.wav  \n",
            "  inflating: rav/Actor_21/03-01-08-02-01-02-21.wav  \n",
            "  inflating: rav/Actor_21/03-01-08-02-02-01-21.wav  \n",
            "  inflating: rav/Actor_21/03-01-08-02-02-02-21.wav  \n",
            "   creating: rav/Actor_22/\n",
            "  inflating: rav/Actor_22/03-01-01-01-01-01-22.wav  \n",
            "  inflating: rav/Actor_22/03-01-01-01-01-02-22.wav  \n",
            "  inflating: rav/Actor_22/03-01-01-01-02-01-22.wav  \n",
            "  inflating: rav/Actor_22/03-01-01-01-02-02-22.wav  \n",
            "  inflating: rav/Actor_22/03-01-02-01-01-01-22.wav  \n",
            "  inflating: rav/Actor_22/03-01-02-01-01-02-22.wav  \n",
            "  inflating: rav/Actor_22/03-01-02-01-02-01-22.wav  \n",
            "  inflating: rav/Actor_22/03-01-02-01-02-02-22.wav  \n",
            "  inflating: rav/Actor_22/03-01-02-02-01-01-22.wav  \n",
            "  inflating: rav/Actor_22/03-01-02-02-01-02-22.wav  \n",
            "  inflating: rav/Actor_22/03-01-02-02-02-01-22.wav  \n",
            "  inflating: rav/Actor_22/03-01-02-02-02-02-22.wav  \n",
            "  inflating: rav/Actor_22/03-01-03-01-01-01-22.wav  \n",
            "  inflating: rav/Actor_22/03-01-03-01-01-02-22.wav  \n",
            "  inflating: rav/Actor_22/03-01-03-01-02-01-22.wav  \n",
            "  inflating: rav/Actor_22/03-01-03-01-02-02-22.wav  \n",
            "  inflating: rav/Actor_22/03-01-03-02-01-01-22.wav  \n",
            "  inflating: rav/Actor_22/03-01-03-02-01-02-22.wav  \n",
            "  inflating: rav/Actor_22/03-01-03-02-02-01-22.wav  \n",
            "  inflating: rav/Actor_22/03-01-03-02-02-02-22.wav  \n",
            "  inflating: rav/Actor_22/03-01-04-01-01-01-22.wav  \n",
            "  inflating: rav/Actor_22/03-01-04-01-01-02-22.wav  \n",
            "  inflating: rav/Actor_22/03-01-04-01-02-01-22.wav  \n",
            "  inflating: rav/Actor_22/03-01-04-01-02-02-22.wav  \n",
            "  inflating: rav/Actor_22/03-01-04-02-01-01-22.wav  \n",
            "  inflating: rav/Actor_22/03-01-04-02-01-02-22.wav  \n",
            "  inflating: rav/Actor_22/03-01-04-02-02-01-22.wav  \n",
            "  inflating: rav/Actor_22/03-01-04-02-02-02-22.wav  \n",
            "  inflating: rav/Actor_22/03-01-05-01-01-01-22.wav  \n",
            "  inflating: rav/Actor_22/03-01-05-01-01-02-22.wav  \n",
            "  inflating: rav/Actor_22/03-01-05-01-02-01-22.wav  \n",
            "  inflating: rav/Actor_22/03-01-05-01-02-02-22.wav  \n",
            "  inflating: rav/Actor_22/03-01-05-02-01-01-22.wav  \n",
            "  inflating: rav/Actor_22/03-01-05-02-01-02-22.wav  \n",
            "  inflating: rav/Actor_22/03-01-05-02-02-01-22.wav  \n",
            "  inflating: rav/Actor_22/03-01-05-02-02-02-22.wav  \n",
            "  inflating: rav/Actor_22/03-01-06-01-01-01-22.wav  \n",
            "  inflating: rav/Actor_22/03-01-06-01-01-02-22.wav  \n",
            "  inflating: rav/Actor_22/03-01-06-01-02-01-22.wav  \n",
            "  inflating: rav/Actor_22/03-01-06-01-02-02-22.wav  \n",
            "  inflating: rav/Actor_22/03-01-06-02-01-01-22.wav  \n",
            "  inflating: rav/Actor_22/03-01-06-02-01-02-22.wav  \n",
            "  inflating: rav/Actor_22/03-01-06-02-02-01-22.wav  \n",
            "  inflating: rav/Actor_22/03-01-06-02-02-02-22.wav  \n",
            "  inflating: rav/Actor_22/03-01-07-01-01-01-22.wav  \n",
            "  inflating: rav/Actor_22/03-01-07-01-01-02-22.wav  \n",
            "  inflating: rav/Actor_22/03-01-07-01-02-01-22.wav  \n",
            "  inflating: rav/Actor_22/03-01-07-01-02-02-22.wav  \n",
            "  inflating: rav/Actor_22/03-01-07-02-01-01-22.wav  \n",
            "  inflating: rav/Actor_22/03-01-07-02-01-02-22.wav  \n",
            "  inflating: rav/Actor_22/03-01-07-02-02-01-22.wav  \n",
            "  inflating: rav/Actor_22/03-01-07-02-02-02-22.wav  \n",
            "  inflating: rav/Actor_22/03-01-08-01-01-01-22.wav  \n",
            "  inflating: rav/Actor_22/03-01-08-01-01-02-22.wav  \n",
            "  inflating: rav/Actor_22/03-01-08-01-02-01-22.wav  \n",
            "  inflating: rav/Actor_22/03-01-08-01-02-02-22.wav  \n",
            "  inflating: rav/Actor_22/03-01-08-02-01-01-22.wav  \n",
            "  inflating: rav/Actor_22/03-01-08-02-01-02-22.wav  \n",
            "  inflating: rav/Actor_22/03-01-08-02-02-01-22.wav  \n",
            "  inflating: rav/Actor_22/03-01-08-02-02-02-22.wav  \n",
            "   creating: rav/Actor_23/\n",
            "  inflating: rav/Actor_23/03-01-01-01-01-01-23.wav  \n",
            "  inflating: rav/Actor_23/03-01-01-01-01-02-23.wav  \n",
            "  inflating: rav/Actor_23/03-01-01-01-02-01-23.wav  \n",
            "  inflating: rav/Actor_23/03-01-01-01-02-02-23.wav  \n",
            "  inflating: rav/Actor_23/03-01-02-01-01-01-23.wav  \n",
            "  inflating: rav/Actor_23/03-01-02-01-01-02-23.wav  \n",
            "  inflating: rav/Actor_23/03-01-02-01-02-01-23.wav  \n",
            "  inflating: rav/Actor_23/03-01-02-01-02-02-23.wav  \n",
            "  inflating: rav/Actor_23/03-01-02-02-01-01-23.wav  \n",
            "  inflating: rav/Actor_23/03-01-02-02-01-02-23.wav  \n",
            "  inflating: rav/Actor_23/03-01-02-02-02-01-23.wav  \n",
            "  inflating: rav/Actor_23/03-01-02-02-02-02-23.wav  \n",
            "  inflating: rav/Actor_23/03-01-03-01-01-01-23.wav  \n",
            "  inflating: rav/Actor_23/03-01-03-01-01-02-23.wav  \n",
            "  inflating: rav/Actor_23/03-01-03-01-02-01-23.wav  \n",
            "  inflating: rav/Actor_23/03-01-03-01-02-02-23.wav  \n",
            "  inflating: rav/Actor_23/03-01-03-02-01-01-23.wav  \n",
            "  inflating: rav/Actor_23/03-01-03-02-01-02-23.wav  \n",
            "  inflating: rav/Actor_23/03-01-03-02-02-01-23.wav  \n",
            "  inflating: rav/Actor_23/03-01-03-02-02-02-23.wav  \n",
            "  inflating: rav/Actor_23/03-01-04-01-01-01-23.wav  \n",
            "  inflating: rav/Actor_23/03-01-04-01-01-02-23.wav  \n",
            "  inflating: rav/Actor_23/03-01-04-01-02-01-23.wav  \n",
            "  inflating: rav/Actor_23/03-01-04-01-02-02-23.wav  \n",
            "  inflating: rav/Actor_23/03-01-04-02-01-01-23.wav  \n",
            "  inflating: rav/Actor_23/03-01-04-02-01-02-23.wav  \n",
            "  inflating: rav/Actor_23/03-01-04-02-02-01-23.wav  \n",
            "  inflating: rav/Actor_23/03-01-04-02-02-02-23.wav  \n",
            "  inflating: rav/Actor_23/03-01-05-01-01-01-23.wav  \n",
            "  inflating: rav/Actor_23/03-01-05-01-01-02-23.wav  \n",
            "  inflating: rav/Actor_23/03-01-05-01-02-01-23.wav  \n",
            "  inflating: rav/Actor_23/03-01-05-01-02-02-23.wav  \n",
            "  inflating: rav/Actor_23/03-01-05-02-01-01-23.wav  \n",
            "  inflating: rav/Actor_23/03-01-05-02-01-02-23.wav  \n",
            "  inflating: rav/Actor_23/03-01-05-02-02-01-23.wav  \n",
            "  inflating: rav/Actor_23/03-01-05-02-02-02-23.wav  \n",
            "  inflating: rav/Actor_23/03-01-06-01-01-01-23.wav  \n",
            "  inflating: rav/Actor_23/03-01-06-01-01-02-23.wav  \n",
            "  inflating: rav/Actor_23/03-01-06-01-02-01-23.wav  \n",
            "  inflating: rav/Actor_23/03-01-06-01-02-02-23.wav  \n",
            "  inflating: rav/Actor_23/03-01-06-02-01-01-23.wav  \n",
            "  inflating: rav/Actor_23/03-01-06-02-01-02-23.wav  \n",
            "  inflating: rav/Actor_23/03-01-06-02-02-01-23.wav  \n",
            "  inflating: rav/Actor_23/03-01-06-02-02-02-23.wav  \n",
            "  inflating: rav/Actor_23/03-01-07-01-01-01-23.wav  \n",
            "  inflating: rav/Actor_23/03-01-07-01-01-02-23.wav  \n",
            "  inflating: rav/Actor_23/03-01-07-01-02-01-23.wav  \n",
            "  inflating: rav/Actor_23/03-01-07-01-02-02-23.wav  \n",
            "  inflating: rav/Actor_23/03-01-07-02-01-01-23.wav  \n",
            "  inflating: rav/Actor_23/03-01-07-02-01-02-23.wav  \n",
            "  inflating: rav/Actor_23/03-01-07-02-02-01-23.wav  \n",
            "  inflating: rav/Actor_23/03-01-07-02-02-02-23.wav  \n",
            "  inflating: rav/Actor_23/03-01-08-01-01-01-23.wav  \n",
            "  inflating: rav/Actor_23/03-01-08-01-01-02-23.wav  \n",
            "  inflating: rav/Actor_23/03-01-08-01-02-01-23.wav  \n",
            "  inflating: rav/Actor_23/03-01-08-01-02-02-23.wav  \n",
            "  inflating: rav/Actor_23/03-01-08-02-01-01-23.wav  \n",
            "  inflating: rav/Actor_23/03-01-08-02-01-02-23.wav  \n",
            "  inflating: rav/Actor_23/03-01-08-02-02-01-23.wav  \n",
            "  inflating: rav/Actor_23/03-01-08-02-02-02-23.wav  \n",
            "   creating: rav/Actor_24/\n",
            "  inflating: rav/Actor_24/03-01-01-01-01-01-24.wav  \n",
            "  inflating: rav/Actor_24/03-01-01-01-01-02-24.wav  \n",
            "  inflating: rav/Actor_24/03-01-01-01-02-01-24.wav  \n",
            "  inflating: rav/Actor_24/03-01-01-01-02-02-24.wav  \n",
            "  inflating: rav/Actor_24/03-01-02-01-01-01-24.wav  \n",
            "  inflating: rav/Actor_24/03-01-02-01-01-02-24.wav  \n",
            "  inflating: rav/Actor_24/03-01-02-01-02-01-24.wav  \n",
            "  inflating: rav/Actor_24/03-01-02-01-02-02-24.wav  \n",
            "  inflating: rav/Actor_24/03-01-02-02-01-01-24.wav  \n",
            "  inflating: rav/Actor_24/03-01-02-02-01-02-24.wav  \n",
            "  inflating: rav/Actor_24/03-01-02-02-02-01-24.wav  \n",
            "  inflating: rav/Actor_24/03-01-02-02-02-02-24.wav  \n",
            "  inflating: rav/Actor_24/03-01-03-01-01-01-24.wav  \n",
            "  inflating: rav/Actor_24/03-01-03-01-01-02-24.wav  \n",
            "  inflating: rav/Actor_24/03-01-03-01-02-01-24.wav  \n",
            "  inflating: rav/Actor_24/03-01-03-01-02-02-24.wav  \n",
            "  inflating: rav/Actor_24/03-01-03-02-01-01-24.wav  \n",
            "  inflating: rav/Actor_24/03-01-03-02-01-02-24.wav  \n",
            "  inflating: rav/Actor_24/03-01-03-02-02-01-24.wav  \n",
            "  inflating: rav/Actor_24/03-01-03-02-02-02-24.wav  \n",
            "  inflating: rav/Actor_24/03-01-04-01-01-01-24.wav  \n",
            "  inflating: rav/Actor_24/03-01-04-01-01-02-24.wav  \n",
            "  inflating: rav/Actor_24/03-01-04-01-02-01-24.wav  \n",
            "  inflating: rav/Actor_24/03-01-04-01-02-02-24.wav  \n",
            "  inflating: rav/Actor_24/03-01-04-02-01-01-24.wav  \n",
            "  inflating: rav/Actor_24/03-01-04-02-01-02-24.wav  \n",
            "  inflating: rav/Actor_24/03-01-04-02-02-01-24.wav  \n",
            "  inflating: rav/Actor_24/03-01-04-02-02-02-24.wav  \n",
            "  inflating: rav/Actor_24/03-01-05-01-01-01-24.wav  \n",
            "  inflating: rav/Actor_24/03-01-05-01-01-02-24.wav  \n",
            "  inflating: rav/Actor_24/03-01-05-01-02-01-24.wav  \n",
            "  inflating: rav/Actor_24/03-01-05-01-02-02-24.wav  \n",
            "  inflating: rav/Actor_24/03-01-05-02-01-01-24.wav  \n",
            "  inflating: rav/Actor_24/03-01-05-02-01-02-24.wav  \n",
            "  inflating: rav/Actor_24/03-01-05-02-02-01-24.wav  \n",
            "  inflating: rav/Actor_24/03-01-05-02-02-02-24.wav  \n",
            "  inflating: rav/Actor_24/03-01-06-01-01-01-24.wav  \n",
            "  inflating: rav/Actor_24/03-01-06-01-01-02-24.wav  \n",
            "  inflating: rav/Actor_24/03-01-06-01-02-01-24.wav  \n",
            "  inflating: rav/Actor_24/03-01-06-01-02-02-24.wav  \n",
            "  inflating: rav/Actor_24/03-01-06-02-01-01-24.wav  \n",
            "  inflating: rav/Actor_24/03-01-06-02-01-02-24.wav  \n",
            "  inflating: rav/Actor_24/03-01-06-02-02-01-24.wav  \n",
            "  inflating: rav/Actor_24/03-01-06-02-02-02-24.wav  \n",
            "  inflating: rav/Actor_24/03-01-07-01-01-01-24.wav  \n",
            "  inflating: rav/Actor_24/03-01-07-01-01-02-24.wav  \n",
            "  inflating: rav/Actor_24/03-01-07-01-02-01-24.wav  \n",
            "  inflating: rav/Actor_24/03-01-07-01-02-02-24.wav  \n",
            "  inflating: rav/Actor_24/03-01-07-02-01-01-24.wav  \n",
            "  inflating: rav/Actor_24/03-01-07-02-01-02-24.wav  \n",
            "  inflating: rav/Actor_24/03-01-07-02-02-01-24.wav  \n",
            "  inflating: rav/Actor_24/03-01-07-02-02-02-24.wav  \n",
            "  inflating: rav/Actor_24/03-01-08-01-01-01-24.wav  \n",
            "  inflating: rav/Actor_24/03-01-08-01-01-02-24.wav  \n",
            "  inflating: rav/Actor_24/03-01-08-01-02-01-24.wav  \n",
            "  inflating: rav/Actor_24/03-01-08-01-02-02-24.wav  \n",
            "  inflating: rav/Actor_24/03-01-08-02-01-01-24.wav  \n",
            "  inflating: rav/Actor_24/03-01-08-02-01-02-24.wav  \n",
            "  inflating: rav/Actor_24/03-01-08-02-02-01-24.wav  \n",
            "  inflating: rav/Actor_24/03-01-08-02-02-02-24.wav  \n"
          ]
        }
      ]
    },
    {
      "cell_type": "code",
      "source": [
        "!unzip '/content/drive/MyDrive/thesis/TESS.zip'"
      ],
      "metadata": {
        "colab": {
          "base_uri": "https://localhost:8080/"
        },
        "id": "6we8pC38rtzw",
        "outputId": "f5c94ddf-eb2f-46c9-b17b-c4eb68b811fc"
      },
      "execution_count": null,
      "outputs": [
        {
          "output_type": "stream",
          "name": "stdout",
          "text": [
            "Archive:  /content/drive/MyDrive/thesis/TESS.zip\n",
            "   creating: TESS/\n",
            "   creating: TESS/OAF_angry/\n",
            "  inflating: TESS/OAF_angry/OAF_back_angry.wav  \n",
            "  inflating: TESS/OAF_angry/OAF_bar_angry.wav  \n",
            "  inflating: TESS/OAF_angry/OAF_base_angry.wav  \n",
            "  inflating: TESS/OAF_angry/OAF_bath_angry.wav  \n",
            "  inflating: TESS/OAF_angry/OAF_bean_angry.wav  \n",
            "  inflating: TESS/OAF_angry/OAF_beg_angry.wav  \n",
            "  inflating: TESS/OAF_angry/OAF_bite_angry.wav  \n",
            "  inflating: TESS/OAF_angry/OAF_boat_angry.wav  \n",
            "  inflating: TESS/OAF_angry/OAF_bone_angry.wav  \n",
            "  inflating: TESS/OAF_angry/OAF_book_angry.wav  \n",
            "  inflating: TESS/OAF_angry/OAF_bought_angry.wav  \n",
            "  inflating: TESS/OAF_angry/OAF_burn_angry.wav  \n",
            "  inflating: TESS/OAF_angry/OAF_cab_angry.wav  \n",
            "  inflating: TESS/OAF_angry/OAF_calm_angry.wav  \n",
            "  inflating: TESS/OAF_angry/OAF_came_angry.wav  \n",
            "  inflating: TESS/OAF_angry/OAF_cause_angry.wav  \n",
            "  inflating: TESS/OAF_angry/OAF_chain_angry.wav  \n",
            "  inflating: TESS/OAF_angry/OAF_chair_angry.wav  \n",
            "  inflating: TESS/OAF_angry/OAF_chalk_angry.wav  \n",
            "  inflating: TESS/OAF_angry/OAF_chat_angry.wav  \n",
            "  inflating: TESS/OAF_angry/OAF_check_angry.wav  \n",
            "  inflating: TESS/OAF_angry/OAF_cheek_angry.wav  \n",
            "  inflating: TESS/OAF_angry/OAF_chief_angry.wav  \n",
            "  inflating: TESS/OAF_angry/OAF_choice_angry.wav  \n",
            "  inflating: TESS/OAF_angry/OAF_cool_angry.wav  \n",
            "  inflating: TESS/OAF_angry/OAF_dab_angry.wav  \n",
            "  inflating: TESS/OAF_angry/OAF_date_angry.wav  \n",
            "  inflating: TESS/OAF_angry/OAF_dead_angry.wav  \n",
            "  inflating: TESS/OAF_angry/OAF_death_angry.wav  \n",
            "  inflating: TESS/OAF_angry/OAF_deep_angry.wav  \n",
            "  inflating: TESS/OAF_angry/OAF_dime_angry.wav  \n",
            "  inflating: TESS/OAF_angry/OAF_dip_angry.wav  \n",
            "  inflating: TESS/OAF_angry/OAF_ditch_angry.wav  \n",
            "  inflating: TESS/OAF_angry/OAF_dodge_angry.wav  \n",
            "  inflating: TESS/OAF_angry/OAF_dog_angry.wav  \n",
            "  inflating: TESS/OAF_angry/OAF_doll_angry.wav  \n",
            "  inflating: TESS/OAF_angry/OAF_door_angry.wav  \n",
            "  inflating: TESS/OAF_angry/OAF_fail_angry.wav  \n",
            "  inflating: TESS/OAF_angry/OAF_fall_angry.wav  \n",
            "  inflating: TESS/OAF_angry/OAF_far_angry.wav  \n",
            "  inflating: TESS/OAF_angry/OAF_fat_angry.wav  \n",
            "  inflating: TESS/OAF_angry/OAF_fit_angry.wav  \n",
            "  inflating: TESS/OAF_angry/OAF_five_angry.wav  \n",
            "  inflating: TESS/OAF_angry/OAF_food_angry.wav  \n",
            "  inflating: TESS/OAF_angry/OAF_gap_angry.wav  \n",
            "  inflating: TESS/OAF_angry/OAF_gas_angry.wav  \n",
            "  inflating: TESS/OAF_angry/OAF_gaze_angry.wav  \n",
            "  inflating: TESS/OAF_angry/OAF_germ_angry.wav  \n",
            "  inflating: TESS/OAF_angry/OAF_get_angry.wav  \n",
            "  inflating: TESS/OAF_angry/OAF_gin_angry.wav  \n",
            "  inflating: TESS/OAF_angry/OAF_goal_angry.wav  \n",
            "  inflating: TESS/OAF_angry/OAF_good_angry.wav  \n",
            "  inflating: TESS/OAF_angry/OAF_goose_angry.wav  \n",
            "  inflating: TESS/OAF_angry/OAF_gun_angry.wav  \n",
            "  inflating: TESS/OAF_angry/OAF_half_angry.wav  \n",
            "  inflating: TESS/OAF_angry/OAF_hall_angry.wav  \n",
            "  inflating: TESS/OAF_angry/OAF_hash_angry.wav  \n",
            "  inflating: TESS/OAF_angry/OAF_hate_angry.wav  \n",
            "  inflating: TESS/OAF_angry/OAF_have_angry.wav  \n",
            "  inflating: TESS/OAF_angry/OAF_haze_angry.wav  \n",
            "  inflating: TESS/OAF_angry/OAF_hire_angry.wav  \n",
            "  inflating: TESS/OAF_angry/OAF_hit_angry.wav  \n",
            "  inflating: TESS/OAF_angry/OAF_hole_angry.wav  \n",
            "  inflating: TESS/OAF_angry/OAF_home_angry.wav  \n",
            "  inflating: TESS/OAF_angry/OAF_hurl_angry.wav  \n",
            "  inflating: TESS/OAF_angry/OAF_hush_angry.wav  \n",
            "  inflating: TESS/OAF_angry/OAF_jail_angry.wav  \n",
            "  inflating: TESS/OAF_angry/OAF_jar_angry.wav  \n",
            "  inflating: TESS/OAF_angry/OAF_join_angry.wav  \n",
            "  inflating: TESS/OAF_angry/OAF_judge_angry.wav  \n",
            "  inflating: TESS/OAF_angry/OAF_jug_angry.wav  \n",
            "  inflating: TESS/OAF_angry/OAF_juice_angry.wav  \n",
            "  inflating: TESS/OAF_angry/OAF_keen_angry.wav  \n",
            "  inflating: TESS/OAF_angry/OAF_keep_angry.wav  \n",
            "  inflating: TESS/OAF_angry/OAF_keg_angry.wav  \n",
            "  inflating: TESS/OAF_angry/OAF_kick_angry.wav  \n",
            "  inflating: TESS/OAF_angry/OAF_kill_angry.wav  \n",
            "  inflating: TESS/OAF_angry/OAF_king_angry.wav  \n",
            "  inflating: TESS/OAF_angry/OAF_kite_angry.wav  \n",
            "  inflating: TESS/OAF_angry/OAF_knock_angry.wav  \n",
            "  inflating: TESS/OAF_angry/OAF_late_angry.wav  \n",
            "  inflating: TESS/OAF_angry/OAF_laud_angry.wav  \n",
            "  inflating: TESS/OAF_angry/OAF_lean_angry.wav  \n",
            "  inflating: TESS/OAF_angry/OAF_learn_angry.wav  \n",
            "  inflating: TESS/OAF_angry/OAF_lease_angry.wav  \n",
            "  inflating: TESS/OAF_angry/OAF_lid_angry.wav  \n",
            "  inflating: TESS/OAF_angry/OAF_life_angry.wav  \n",
            "  inflating: TESS/OAF_angry/OAF_limb_angry.wav  \n",
            "  inflating: TESS/OAF_angry/OAF_live_angry.wav  \n",
            "  inflating: TESS/OAF_angry/OAF_loaf_angry.wav  \n",
            "  inflating: TESS/OAF_angry/OAF_long_angry.wav  \n",
            "  inflating: TESS/OAF_angry/OAF_lore_angry.wav  \n",
            "  inflating: TESS/OAF_angry/OAF_lose_angry.wav  \n",
            "  inflating: TESS/OAF_angry/OAF_lot_angry.wav  \n",
            "  inflating: TESS/OAF_angry/OAF_love_angry.wav  \n",
            "  inflating: TESS/OAF_angry/OAF_luck_angry.wav  \n",
            "  inflating: TESS/OAF_angry/OAF_make_angry.wav  \n",
            "  inflating: TESS/OAF_angry/OAF_match_angry.wav  \n",
            "  inflating: TESS/OAF_angry/OAF_merge_angry.wav  \n",
            "  inflating: TESS/OAF_angry/OAF_mess_angry.wav  \n",
            "  inflating: TESS/OAF_angry/OAF_met_angry.wav  \n",
            "  inflating: TESS/OAF_angry/OAF_mill_angry.wav  \n",
            "  inflating: TESS/OAF_angry/OAF_mob_angry.wav  \n",
            "  inflating: TESS/OAF_angry/OAF_mode_angry.wav  \n",
            "  inflating: TESS/OAF_angry/OAF_mood_angry.wav  \n",
            "  inflating: TESS/OAF_angry/OAF_moon_angry.wav  \n",
            "  inflating: TESS/OAF_angry/OAF_mop_angry.wav  \n",
            "  inflating: TESS/OAF_angry/OAF_mouse_angry.wav  \n",
            "  inflating: TESS/OAF_angry/OAF_nag_angry.wav  \n",
            "  inflating: TESS/OAF_angry/OAF_name_angry.wav  \n",
            "  inflating: TESS/OAF_angry/OAF_near_angry.wav  \n",
            "  inflating: TESS/OAF_angry/OAF_neat_angry.wav  \n",
            "  inflating: TESS/OAF_angry/OAF_nice_angry.wav  \n",
            "  inflating: TESS/OAF_angry/OAF_note_angry.wav  \n",
            "  inflating: TESS/OAF_angry/OAF_numb_angry.wav  \n",
            "  inflating: TESS/OAF_angry/OAF_pad_angry.wav  \n",
            "  inflating: TESS/OAF_angry/OAF_page_angry.wav  \n",
            "  inflating: TESS/OAF_angry/OAF_pain_angry.wav  \n",
            "  inflating: TESS/OAF_angry/OAF_pass_angry.wav  \n",
            "  inflating: TESS/OAF_angry/OAF_pearl_angry.wav  \n",
            "  inflating: TESS/OAF_angry/OAF_peg_angry.wav  \n",
            "  inflating: TESS/OAF_angry/OAF_perch_angry.wav  \n",
            "  inflating: TESS/OAF_angry/OAF_phone_angry.wav  \n",
            "  inflating: TESS/OAF_angry/OAF_pick_angry.wav  \n",
            "  inflating: TESS/OAF_angry/OAF_pike_angry.wav  \n",
            "  inflating: TESS/OAF_angry/OAF_pole_angry.wav  \n",
            "  inflating: TESS/OAF_angry/OAF_pool_angry.wav  \n",
            "  inflating: TESS/OAF_angry/OAF_puff_angry.wav  \n",
            "  inflating: TESS/OAF_angry/OAF_rag_angry.wav  \n",
            "  inflating: TESS/OAF_angry/OAF_raid_angry.wav  \n",
            "  inflating: TESS/OAF_angry/OAF_rain_angry.wav  \n",
            "  inflating: TESS/OAF_angry/OAF_raise_angry.wav  \n",
            "  inflating: TESS/OAF_angry/OAF_rat_angry.wav  \n",
            "  inflating: TESS/OAF_angry/OAF_reach_angry.wav  \n",
            "  inflating: TESS/OAF_angry/OAF_read_angry.wav  \n",
            "  inflating: TESS/OAF_angry/OAF_red_angry.wav  \n",
            "  inflating: TESS/OAF_angry/OAF_ring_angry.wav  \n",
            "  inflating: TESS/OAF_angry/OAF_ripe_angry.wav  \n",
            "  inflating: TESS/OAF_angry/OAF_road_angry.wav  \n",
            "  inflating: TESS/OAF_angry/OAF_room_angry.wav  \n",
            "  inflating: TESS/OAF_angry/OAF_rose_angry.wav  \n",
            "  inflating: TESS/OAF_angry/OAF_rot_angry.wav  \n",
            "  inflating: TESS/OAF_angry/OAF_rough_angry.wav  \n",
            "  inflating: TESS/OAF_angry/OAF_rush_angry.wav  \n",
            "  inflating: TESS/OAF_angry/OAF_said_angry.wav  \n",
            "  inflating: TESS/OAF_angry/OAF_sail_angry.wav  \n",
            "  inflating: TESS/OAF_angry/OAF_search_angry.wav  \n",
            "  inflating: TESS/OAF_angry/OAF_seize_angry.wav  \n",
            "  inflating: TESS/OAF_angry/OAF_sell_angry.wav  \n",
            "  inflating: TESS/OAF_angry/OAF_shack_angry.wav  \n",
            "  inflating: TESS/OAF_angry/OAF_shall_angry.wav  \n",
            "  inflating: TESS/OAF_angry/OAF_shawl_angry.wav  \n",
            "  inflating: TESS/OAF_angry/OAF_sheep_angry.wav  \n",
            "  inflating: TESS/OAF_angry/OAF_shirt_angry.wav  \n",
            "  inflating: TESS/OAF_angry/OAF_should_angry.wav  \n",
            "  inflating: TESS/OAF_angry/OAF_shout_angry.wav  \n",
            "  inflating: TESS/OAF_angry/OAF_size_angry.wav  \n",
            "  inflating: TESS/OAF_angry/OAF_soap_angry.wav  \n",
            "  inflating: TESS/OAF_angry/OAF_soup_angry.wav  \n",
            "  inflating: TESS/OAF_angry/OAF_sour_angry.wav  \n",
            "  inflating: TESS/OAF_angry/OAF_south_angry.wav  \n",
            "  inflating: TESS/OAF_angry/OAF_sub_angry.wav  \n",
            "  inflating: TESS/OAF_angry/OAF_such_angry.wav  \n",
            "  inflating: TESS/OAF_angry/OAF_sure_angry.wav  \n",
            "  inflating: TESS/OAF_angry/OAF_take_angry.wav  \n",
            "  inflating: TESS/OAF_angry/OAF_talk_angry.wav  \n",
            "  inflating: TESS/OAF_angry/OAF_tape_angry.wav  \n",
            "  inflating: TESS/OAF_angry/OAF_team_angry.wav  \n",
            "  inflating: TESS/OAF_angry/OAF_tell_angry.wav  \n",
            "  inflating: TESS/OAF_angry/OAF_thin_angry.wav  \n",
            "  inflating: TESS/OAF_angry/OAF_third_angry.wav  \n",
            "  inflating: TESS/OAF_angry/OAF_thought_angry.wav  \n",
            "  inflating: TESS/OAF_angry/OAF_thumb_angry.wav  \n",
            "  inflating: TESS/OAF_angry/OAF_time_angry.wav  \n",
            "  inflating: TESS/OAF_angry/OAF_tip_angry.wav  \n",
            "  inflating: TESS/OAF_angry/OAF_tire_angry.wav  \n",
            "  inflating: TESS/OAF_angry/OAF_ton_angry.wav  \n",
            "  inflating: TESS/OAF_angry/OAF_tool_angry.wav  \n",
            "  inflating: TESS/OAF_angry/OAF_tough_angry.wav  \n",
            "  inflating: TESS/OAF_angry/OAF_turn_angry.wav  \n",
            "  inflating: TESS/OAF_angry/OAF_vine_angry.wav  \n",
            "  inflating: TESS/OAF_angry/OAF_voice_angry.wav  \n",
            "  inflating: TESS/OAF_angry/OAF_void_angry.wav  \n",
            "  inflating: TESS/OAF_angry/OAF_vote_angry.wav  \n",
            "  inflating: TESS/OAF_angry/OAF_wag_angry.wav  \n",
            "  inflating: TESS/OAF_angry/OAF_walk_angry.wav  \n",
            "  inflating: TESS/OAF_angry/OAF_wash_angry.wav  \n",
            "  inflating: TESS/OAF_angry/OAF_week_angry.wav  \n",
            "  inflating: TESS/OAF_angry/OAF_wheat_angry.wav  \n",
            "  inflating: TESS/OAF_angry/OAF_when_angry.wav  \n",
            "  inflating: TESS/OAF_angry/OAF_which_angry.wav  \n",
            "  inflating: TESS/OAF_angry/OAF_whip_angry.wav  \n",
            "  inflating: TESS/OAF_angry/OAF_white_angry.wav  \n",
            "  inflating: TESS/OAF_angry/OAF_wife_angry.wav  \n",
            "  inflating: TESS/OAF_angry/OAF_wire_angry.wav  \n",
            "  inflating: TESS/OAF_angry/OAF_witch_angry.wav  \n",
            "  inflating: TESS/OAF_angry/OAF_yearn_angry.wav  \n",
            "  inflating: TESS/OAF_angry/OAF_yes_angry.wav  \n",
            "  inflating: TESS/OAF_angry/OAF_young_angry.wav  \n",
            "  inflating: TESS/OAF_angry/OAF_youth_angry.wav  \n",
            "   creating: TESS/OAF_disgust/\n",
            "  inflating: TESS/OAF_disgust/OAF_back_disgust.wav  \n",
            "  inflating: TESS/OAF_disgust/OAF_bar_disgust.wav  \n",
            "  inflating: TESS/OAF_disgust/OAF_base_disgust.wav  \n",
            "  inflating: TESS/OAF_disgust/OAF_bath_disgust.wav  \n",
            "  inflating: TESS/OAF_disgust/OAF_bean_disgust.wav  \n",
            "  inflating: TESS/OAF_disgust/OAF_beg_disgust.wav  \n",
            "  inflating: TESS/OAF_disgust/OAF_bite_disgust.wav  \n",
            "  inflating: TESS/OAF_disgust/OAF_boat_disgust.wav  \n",
            "  inflating: TESS/OAF_disgust/OAF_bone_disgust.wav  \n",
            "  inflating: TESS/OAF_disgust/OAF_book_disgust.wav  \n",
            "  inflating: TESS/OAF_disgust/OAF_bought_disgust.wav  \n",
            "  inflating: TESS/OAF_disgust/OAF_burn_disgust.wav  \n",
            "  inflating: TESS/OAF_disgust/OAF_cab_disgust.wav  \n",
            "  inflating: TESS/OAF_disgust/OAF_calm_disgust.wav  \n",
            "  inflating: TESS/OAF_disgust/OAF_came_disgust.wav  \n",
            "  inflating: TESS/OAF_disgust/OAF_cause_disgust.wav  \n",
            "  inflating: TESS/OAF_disgust/OAF_chain_disgust.wav  \n",
            "  inflating: TESS/OAF_disgust/OAF_chair_disgust.wav  \n",
            "  inflating: TESS/OAF_disgust/OAF_chalk_disgust.wav  \n",
            "  inflating: TESS/OAF_disgust/OAF_chat_disgust.wav  \n",
            "  inflating: TESS/OAF_disgust/OAF_check_disgust.wav  \n",
            "  inflating: TESS/OAF_disgust/OAF_cheek_disgust.wav  \n",
            "  inflating: TESS/OAF_disgust/OAF_chief_disgust.wav  \n",
            "  inflating: TESS/OAF_disgust/OAF_choice_disgust.wav  \n",
            "  inflating: TESS/OAF_disgust/OAF_cool_disgust.wav  \n",
            "  inflating: TESS/OAF_disgust/OAF_dab_disgust.wav  \n",
            "  inflating: TESS/OAF_disgust/OAF_date_disgust.wav  \n",
            "  inflating: TESS/OAF_disgust/OAF_dead_disgust.wav  \n",
            "  inflating: TESS/OAF_disgust/OAF_death_disgust.wav  \n",
            "  inflating: TESS/OAF_disgust/OAF_deep_disgust.wav  \n",
            "  inflating: TESS/OAF_disgust/OAF_dime_disgust.wav  \n",
            "  inflating: TESS/OAF_disgust/OAF_dip_disgust.wav  \n",
            "  inflating: TESS/OAF_disgust/OAF_ditch_disgust.wav  \n",
            "  inflating: TESS/OAF_disgust/OAF_dodge_disgust.wav  \n",
            "  inflating: TESS/OAF_disgust/OAF_dog_disgust.wav  \n",
            "  inflating: TESS/OAF_disgust/OAF_doll_disgust.wav  \n",
            "  inflating: TESS/OAF_disgust/OAF_door_disgust.wav  \n",
            "  inflating: TESS/OAF_disgust/OAF_fail_disgust.wav  \n",
            "  inflating: TESS/OAF_disgust/OAF_fall_disgust.wav  \n",
            "  inflating: TESS/OAF_disgust/OAF_far_disgust.wav  \n",
            "  inflating: TESS/OAF_disgust/OAF_fat_disgust.wav  \n",
            "  inflating: TESS/OAF_disgust/OAF_fit_disgust.wav  \n",
            "  inflating: TESS/OAF_disgust/OAF_five_disgust.wav  \n",
            "  inflating: TESS/OAF_disgust/OAF_food_disgust.wav  \n",
            "  inflating: TESS/OAF_disgust/OAF_gap_disgust.wav  \n",
            "  inflating: TESS/OAF_disgust/OAF_gas_disgust.wav  \n",
            "  inflating: TESS/OAF_disgust/OAF_gaze_disgust.wav  \n",
            "  inflating: TESS/OAF_disgust/OAF_germ_disgust.wav  \n",
            "  inflating: TESS/OAF_disgust/OAF_get_disgust.wav  \n",
            "  inflating: TESS/OAF_disgust/OAF_gin_disgust.wav  \n",
            "  inflating: TESS/OAF_disgust/OAF_goal_disgust.wav  \n",
            "  inflating: TESS/OAF_disgust/OAF_good_disgust.wav  \n",
            "  inflating: TESS/OAF_disgust/OAF_goose_disgust.wav  \n",
            "  inflating: TESS/OAF_disgust/OAF_gun_disgust.wav  \n",
            "  inflating: TESS/OAF_disgust/OAF_half_disgust.wav  \n",
            "  inflating: TESS/OAF_disgust/OAF_hall_disgust.wav  \n",
            "  inflating: TESS/OAF_disgust/OAF_hash_disgust.wav  \n",
            "  inflating: TESS/OAF_disgust/OAF_hate_disgust.wav  \n",
            "  inflating: TESS/OAF_disgust/OAF_have_disgust.wav  \n",
            "  inflating: TESS/OAF_disgust/OAF_haze_disgust.wav  \n",
            "  inflating: TESS/OAF_disgust/OAF_hire_disgust.wav  \n",
            "  inflating: TESS/OAF_disgust/OAF_hit_disgust.wav  \n",
            "  inflating: TESS/OAF_disgust/OAF_hole_disgust.wav  \n",
            "  inflating: TESS/OAF_disgust/OAF_home_disgust.wav  \n",
            "  inflating: TESS/OAF_disgust/OAF_hurl_disgust.wav  \n",
            "  inflating: TESS/OAF_disgust/OAF_hush_disgust.wav  \n",
            "  inflating: TESS/OAF_disgust/OAF_jail_disgust.wav  \n",
            "  inflating: TESS/OAF_disgust/OAF_jar_disgust.wav  \n",
            "  inflating: TESS/OAF_disgust/OAF_join_disgust.wav  \n",
            "  inflating: TESS/OAF_disgust/OAF_judge_disgust.wav  \n",
            "  inflating: TESS/OAF_disgust/OAF_jug_disgust.wav  \n",
            "  inflating: TESS/OAF_disgust/OAF_juice_disgust.wav  \n",
            "  inflating: TESS/OAF_disgust/OAF_keen_disgust.wav  \n",
            "  inflating: TESS/OAF_disgust/OAF_keep_disgust.wav  \n",
            "  inflating: TESS/OAF_disgust/OAF_keg_disgust.wav  \n",
            "  inflating: TESS/OAF_disgust/OAF_kick_disgust.wav  \n",
            "  inflating: TESS/OAF_disgust/OAF_kill_disgust.wav  \n",
            "  inflating: TESS/OAF_disgust/OAF_king_disgust.wav  \n",
            "  inflating: TESS/OAF_disgust/OAF_kite_disgust.wav  \n",
            "  inflating: TESS/OAF_disgust/OAF_knock_disgust.wav  \n",
            "  inflating: TESS/OAF_disgust/OAF_late_disgust.wav  \n",
            "  inflating: TESS/OAF_disgust/OAF_laud_disgust.wav  \n",
            "  inflating: TESS/OAF_disgust/OAF_lean_disgust.wav  \n",
            "  inflating: TESS/OAF_disgust/OAF_learn_disgust.wav  \n",
            "  inflating: TESS/OAF_disgust/OAF_lease_disgust.wav  \n",
            "  inflating: TESS/OAF_disgust/OAF_lid_disgust.wav  \n",
            "  inflating: TESS/OAF_disgust/OAF_life_disgust.wav  \n",
            "  inflating: TESS/OAF_disgust/OAF_limb_disgust.wav  \n",
            "  inflating: TESS/OAF_disgust/OAF_live_disgust.wav  \n",
            "  inflating: TESS/OAF_disgust/OAF_loaf_disgust.wav  \n",
            "  inflating: TESS/OAF_disgust/OAF_long_disgust.wav  \n",
            "  inflating: TESS/OAF_disgust/OAF_lore_disgust.wav  \n",
            "  inflating: TESS/OAF_disgust/OAF_lose_disgust.wav  \n",
            "  inflating: TESS/OAF_disgust/OAF_lot_disgust.wav  \n",
            "  inflating: TESS/OAF_disgust/OAF_love_disgust.wav  \n",
            "  inflating: TESS/OAF_disgust/OAF_luck_disgust.wav  \n",
            "  inflating: TESS/OAF_disgust/OAF_make_disgust.wav  \n",
            "  inflating: TESS/OAF_disgust/OAF_match_disgust.wav  \n",
            "  inflating: TESS/OAF_disgust/OAF_merge_disgust.wav  \n",
            "  inflating: TESS/OAF_disgust/OAF_mess_disgust.wav  \n",
            "  inflating: TESS/OAF_disgust/OAF_met_disgust.wav  \n",
            "  inflating: TESS/OAF_disgust/OAF_mill_disgust.wav  \n",
            "  inflating: TESS/OAF_disgust/OAF_mob_disgust.wav  \n",
            "  inflating: TESS/OAF_disgust/OAF_mode_disgust.wav  \n",
            "  inflating: TESS/OAF_disgust/OAF_mood_disgust.wav  \n",
            "  inflating: TESS/OAF_disgust/OAF_moon_disgust.wav  \n",
            "  inflating: TESS/OAF_disgust/OAF_mop_disgust.wav  \n",
            "  inflating: TESS/OAF_disgust/OAF_mouse_disgust.wav  \n",
            "  inflating: TESS/OAF_disgust/OAF_nag_disgust.wav  \n",
            "  inflating: TESS/OAF_disgust/OAF_name_disgust.wav  \n",
            "  inflating: TESS/OAF_disgust/OAF_near_disgust.wav  \n",
            "  inflating: TESS/OAF_disgust/OAF_neat_disgust.wav  \n",
            "  inflating: TESS/OAF_disgust/OAF_nice_disgust.wav  \n",
            "  inflating: TESS/OAF_disgust/OAF_note_disgust.wav  \n",
            "  inflating: TESS/OAF_disgust/OAF_numb_disgust.wav  \n",
            "  inflating: TESS/OAF_disgust/OAF_pad_disgust.wav  \n",
            "  inflating: TESS/OAF_disgust/OAF_page_disgust.wav  \n",
            "  inflating: TESS/OAF_disgust/OAF_pain_disgust.wav  \n",
            "  inflating: TESS/OAF_disgust/OAF_pass_disgust.wav  \n",
            "  inflating: TESS/OAF_disgust/OAF_pearl_disgust.wav  \n",
            "  inflating: TESS/OAF_disgust/OAF_peg_disgust.wav  \n",
            "  inflating: TESS/OAF_disgust/OAF_perch_disgust.wav  \n",
            "  inflating: TESS/OAF_disgust/OAF_phone_disgust.wav  \n",
            "  inflating: TESS/OAF_disgust/OAF_pick_disgust.wav  \n",
            "  inflating: TESS/OAF_disgust/OAF_pike_disgust.wav  \n",
            "  inflating: TESS/OAF_disgust/OAF_pole_disgust.wav  \n",
            "  inflating: TESS/OAF_disgust/OAF_pool_disgust.wav  \n",
            "  inflating: TESS/OAF_disgust/OAF_puff_disgust.wav  \n",
            "  inflating: TESS/OAF_disgust/OAF_rag_disgust.wav  \n",
            "  inflating: TESS/OAF_disgust/OAF_raid_disgust.wav  \n",
            "  inflating: TESS/OAF_disgust/OAF_rain_disgust.wav  \n",
            "  inflating: TESS/OAF_disgust/OAF_raise_disgust.wav  \n",
            "  inflating: TESS/OAF_disgust/OAF_rat_disgust.wav  \n",
            "  inflating: TESS/OAF_disgust/OAF_reach_disgust.wav  \n",
            "  inflating: TESS/OAF_disgust/OAF_read_disgust.wav  \n",
            "  inflating: TESS/OAF_disgust/OAF_red_disgust.wav  \n",
            "  inflating: TESS/OAF_disgust/OAF_ring_disgust.wav  \n",
            "  inflating: TESS/OAF_disgust/OAF_ripe_disgust.wav  \n",
            "  inflating: TESS/OAF_disgust/OAF_road_disgust.wav  \n",
            "  inflating: TESS/OAF_disgust/OAF_room_disgust.wav  \n",
            "  inflating: TESS/OAF_disgust/OAF_rose_disgust.wav  \n",
            "  inflating: TESS/OAF_disgust/OAF_rot_disgust.wav  \n",
            "  inflating: TESS/OAF_disgust/OAF_rough_disgust.wav  \n",
            "  inflating: TESS/OAF_disgust/OAF_rush_disgust.wav  \n",
            "  inflating: TESS/OAF_disgust/OAF_said_disgust.wav  \n",
            "  inflating: TESS/OAF_disgust/OAF_sail_disgust.wav  \n",
            "  inflating: TESS/OAF_disgust/OAF_search_disgust.wav  \n",
            "  inflating: TESS/OAF_disgust/OAF_seize_disgust.wav  \n",
            "  inflating: TESS/OAF_disgust/OAF_sell_disgust.wav  \n",
            "  inflating: TESS/OAF_disgust/OAF_shack_disgust.wav  \n",
            "  inflating: TESS/OAF_disgust/OAF_shall_disgust.wav  \n",
            "  inflating: TESS/OAF_disgust/OAF_shawl_disgust.wav  \n",
            "  inflating: TESS/OAF_disgust/OAF_sheep_disgust.wav  \n",
            "  inflating: TESS/OAF_disgust/OAF_shirt_disgust.wav  \n",
            "  inflating: TESS/OAF_disgust/OAF_should_disgust.wav  \n",
            "  inflating: TESS/OAF_disgust/OAF_shout_disgust.wav  \n",
            "  inflating: TESS/OAF_disgust/OAF_size_disgust.wav  \n",
            "  inflating: TESS/OAF_disgust/OAF_soap_disgust.wav  \n",
            "  inflating: TESS/OAF_disgust/OAF_soup_disgust.wav  \n",
            "  inflating: TESS/OAF_disgust/OAF_sour_disgust.wav  \n",
            "  inflating: TESS/OAF_disgust/OAF_south_disgust.wav  \n",
            "  inflating: TESS/OAF_disgust/OAF_sub_disgust.wav  \n",
            "  inflating: TESS/OAF_disgust/OAF_such_disgust.wav  \n",
            "  inflating: TESS/OAF_disgust/OAF_sure_disgust.wav  \n",
            "  inflating: TESS/OAF_disgust/OAF_take_disgust.wav  \n",
            "  inflating: TESS/OAF_disgust/OAF_talk_disgust.wav  \n",
            "  inflating: TESS/OAF_disgust/OAF_tape_disgust.wav  \n",
            "  inflating: TESS/OAF_disgust/OAF_team_disgust.wav  \n",
            "  inflating: TESS/OAF_disgust/OAF_tell_disgust.wav  \n",
            "  inflating: TESS/OAF_disgust/OAF_thin_disgust.wav  \n",
            "  inflating: TESS/OAF_disgust/OAF_third_disgust.wav  \n",
            "  inflating: TESS/OAF_disgust/OAF_thought_disgust.wav  \n",
            "  inflating: TESS/OAF_disgust/OAF_thumb_disgust.wav  \n",
            "  inflating: TESS/OAF_disgust/OAF_time_disgust.wav  \n",
            "  inflating: TESS/OAF_disgust/OAF_tip_disgust.wav  \n",
            "  inflating: TESS/OAF_disgust/OAF_tire_disgust.wav  \n",
            "  inflating: TESS/OAF_disgust/OAF_ton_disgust.wav  \n",
            "  inflating: TESS/OAF_disgust/OAF_tool_disgust.wav  \n",
            "  inflating: TESS/OAF_disgust/OAF_tough_disgust.wav  \n",
            "  inflating: TESS/OAF_disgust/OAF_turn_disgust.wav  \n",
            "  inflating: TESS/OAF_disgust/OAF_vine_disgust.wav  \n",
            "  inflating: TESS/OAF_disgust/OAF_voice_disgust.wav  \n",
            "  inflating: TESS/OAF_disgust/OAF_void_disgust.wav  \n",
            "  inflating: TESS/OAF_disgust/OAF_vote_disgust.wav  \n",
            "  inflating: TESS/OAF_disgust/OAF_wag_disgust.wav  \n",
            "  inflating: TESS/OAF_disgust/OAF_walk_disgust.wav  \n",
            "  inflating: TESS/OAF_disgust/OAF_wash_disgust.wav  \n",
            "  inflating: TESS/OAF_disgust/OAF_week_disgust.wav  \n",
            "  inflating: TESS/OAF_disgust/OAF_wheat_disgust.wav  \n",
            "  inflating: TESS/OAF_disgust/OAF_when_disgust.wav  \n",
            "  inflating: TESS/OAF_disgust/OAF_which_disgust.wav  \n",
            "  inflating: TESS/OAF_disgust/OAF_whip_disgust.wav  \n",
            "  inflating: TESS/OAF_disgust/OAF_white_disgust.wav  \n",
            "  inflating: TESS/OAF_disgust/OAF_wife_disgust.wav  \n",
            "  inflating: TESS/OAF_disgust/OAF_wire_disgust.wav  \n",
            "  inflating: TESS/OAF_disgust/OAF_witch_disgust.wav  \n",
            "  inflating: TESS/OAF_disgust/OAF_yearn_disgust.wav  \n",
            "  inflating: TESS/OAF_disgust/OAF_yes_disgust.wav  \n",
            "  inflating: TESS/OAF_disgust/OAF_young_disgust.wav  \n",
            "  inflating: TESS/OAF_disgust/OAF_youth_disgust.wav  \n",
            "   creating: TESS/OAF_Fear/\n",
            "  inflating: TESS/OAF_Fear/OAF_back_fear.wav  \n",
            "  inflating: TESS/OAF_Fear/OAF_bar_fear.wav  \n",
            "  inflating: TESS/OAF_Fear/OAF_base_fear.wav  \n",
            "  inflating: TESS/OAF_Fear/OAF_bath_fear.wav  \n",
            "  inflating: TESS/OAF_Fear/OAF_bean_fear.wav  \n",
            "  inflating: TESS/OAF_Fear/OAF_beg_fear.wav  \n",
            "  inflating: TESS/OAF_Fear/OAF_bite_fear.wav  \n",
            "  inflating: TESS/OAF_Fear/OAF_boat_fear.wav  \n",
            "  inflating: TESS/OAF_Fear/OAF_bone_fear.wav  \n",
            "  inflating: TESS/OAF_Fear/OAF_book_fear.wav  \n",
            "  inflating: TESS/OAF_Fear/OAF_bought_fear.wav  \n",
            "  inflating: TESS/OAF_Fear/OAF_burn_fear.wav  \n",
            "  inflating: TESS/OAF_Fear/OAF_cab_fear.wav  \n",
            "  inflating: TESS/OAF_Fear/OAF_calm_fear.wav  \n",
            "  inflating: TESS/OAF_Fear/OAF_came_fear.wav  \n",
            "  inflating: TESS/OAF_Fear/OAF_cause_fear.wav  \n",
            "  inflating: TESS/OAF_Fear/OAF_chain_fear.wav  \n",
            "  inflating: TESS/OAF_Fear/OAF_chair_fear.wav  \n",
            "  inflating: TESS/OAF_Fear/OAF_chalk_fear.wav  \n",
            "  inflating: TESS/OAF_Fear/OAF_chat_fear.wav  \n",
            "  inflating: TESS/OAF_Fear/OAF_check_fear.wav  \n",
            "  inflating: TESS/OAF_Fear/OAF_cheek_fear.wav  \n",
            "  inflating: TESS/OAF_Fear/OAF_chief_fear.wav  \n",
            "  inflating: TESS/OAF_Fear/OAF_choice_fear.wav  \n",
            "  inflating: TESS/OAF_Fear/OAF_cool_fear.wav  \n",
            "  inflating: TESS/OAF_Fear/OAF_dab_fear.wav  \n",
            "  inflating: TESS/OAF_Fear/OAF_date_fear.wav  \n",
            "  inflating: TESS/OAF_Fear/OAF_dead_fear.wav  \n",
            "  inflating: TESS/OAF_Fear/OAF_death_fear.wav  \n",
            "  inflating: TESS/OAF_Fear/OAF_deep_fear.wav  \n",
            "  inflating: TESS/OAF_Fear/OAF_dime_fear.wav  \n",
            "  inflating: TESS/OAF_Fear/OAF_dip_fear.wav  \n",
            "  inflating: TESS/OAF_Fear/OAF_ditch_fear.wav  \n",
            "  inflating: TESS/OAF_Fear/OAF_dodge_fear.wav  \n",
            "  inflating: TESS/OAF_Fear/OAF_dog_fear.wav  \n",
            "  inflating: TESS/OAF_Fear/OAF_doll_fear.wav  \n",
            "  inflating: TESS/OAF_Fear/OAF_door_fear.wav  \n",
            "  inflating: TESS/OAF_Fear/OAF_fail_fear.wav  \n",
            "  inflating: TESS/OAF_Fear/OAF_fall_fear.wav  \n",
            "  inflating: TESS/OAF_Fear/OAF_far_fear.wav  \n",
            "  inflating: TESS/OAF_Fear/OAF_fat_fear.wav  \n",
            "  inflating: TESS/OAF_Fear/OAF_fit_fear.wav  \n",
            "  inflating: TESS/OAF_Fear/OAF_five_fear.wav  \n",
            "  inflating: TESS/OAF_Fear/OAF_food_fear.wav  \n",
            "  inflating: TESS/OAF_Fear/OAF_gap_fear.wav  \n",
            "  inflating: TESS/OAF_Fear/OAF_gas_fear.wav  \n",
            "  inflating: TESS/OAF_Fear/OAF_gaze_fear.wav  \n",
            "  inflating: TESS/OAF_Fear/OAF_germ_fear.wav  \n",
            "  inflating: TESS/OAF_Fear/OAF_get_fear.wav  \n",
            "  inflating: TESS/OAF_Fear/OAF_gin_fear.wav  \n",
            "  inflating: TESS/OAF_Fear/OAF_goal_fear.wav  \n",
            "  inflating: TESS/OAF_Fear/OAF_good_fear.wav  \n",
            "  inflating: TESS/OAF_Fear/OAF_goose_fear.wav  \n",
            "  inflating: TESS/OAF_Fear/OAF_gun_fear.wav  \n",
            "  inflating: TESS/OAF_Fear/OAF_half_fear.wav  \n",
            "  inflating: TESS/OAF_Fear/OAF_hall_fear.wav  \n",
            "  inflating: TESS/OAF_Fear/OAF_hash_fear.wav  \n",
            "  inflating: TESS/OAF_Fear/OAF_hate_fear.wav  \n",
            "  inflating: TESS/OAF_Fear/OAF_have_fear.wav  \n",
            "  inflating: TESS/OAF_Fear/OAF_haze_fear.wav  \n",
            "  inflating: TESS/OAF_Fear/OAF_hire_fear.wav  \n",
            "  inflating: TESS/OAF_Fear/OAF_hit_fear.wav  \n",
            "  inflating: TESS/OAF_Fear/OAF_hole_fear.wav  \n",
            "  inflating: TESS/OAF_Fear/OAF_home_fear.wav  \n",
            "  inflating: TESS/OAF_Fear/OAF_hurl_fear.wav  \n",
            "  inflating: TESS/OAF_Fear/OAF_hush_fear.wav  \n",
            "  inflating: TESS/OAF_Fear/OAF_jail_fear.wav  \n",
            "  inflating: TESS/OAF_Fear/OAF_jar_fear.wav  \n",
            "  inflating: TESS/OAF_Fear/OAF_join_fear.wav  \n",
            "  inflating: TESS/OAF_Fear/OAF_judge_fear.wav  \n",
            "  inflating: TESS/OAF_Fear/OAF_jug_fear.wav  \n",
            "  inflating: TESS/OAF_Fear/OAF_juice_fear.wav  \n",
            "  inflating: TESS/OAF_Fear/OAF_keen_fear.wav  \n",
            "  inflating: TESS/OAF_Fear/OAF_keep_fear.wav  \n",
            "  inflating: TESS/OAF_Fear/OAF_keg_fear.wav  \n",
            "  inflating: TESS/OAF_Fear/OAF_kick_fear.wav  \n",
            "  inflating: TESS/OAF_Fear/OAF_kill_fear.wav  \n",
            "  inflating: TESS/OAF_Fear/OAF_king_fear.wav  \n",
            "  inflating: TESS/OAF_Fear/OAF_kite_fear.wav  \n",
            "  inflating: TESS/OAF_Fear/OAF_knock_fear.wav  \n",
            "  inflating: TESS/OAF_Fear/OAF_late_fear.wav  \n",
            "  inflating: TESS/OAF_Fear/OAF_laud_fear.wav  \n",
            "  inflating: TESS/OAF_Fear/OAF_lean_fear.wav  \n",
            "  inflating: TESS/OAF_Fear/OAF_learn_fear.wav  \n",
            "  inflating: TESS/OAF_Fear/OAF_lease_fear.wav  \n",
            "  inflating: TESS/OAF_Fear/OAF_lid_fear.wav  \n",
            "  inflating: TESS/OAF_Fear/OAF_life_fear.wav  \n",
            "  inflating: TESS/OAF_Fear/OAF_limb_fear.wav  \n",
            "  inflating: TESS/OAF_Fear/OAF_live_fear.wav  \n",
            "  inflating: TESS/OAF_Fear/OAF_loaf_fear.wav  \n",
            "  inflating: TESS/OAF_Fear/OAF_long_fear.wav  \n",
            "  inflating: TESS/OAF_Fear/OAF_lore_fear.wav  \n",
            "  inflating: TESS/OAF_Fear/OAF_lose_fear.wav  \n",
            "  inflating: TESS/OAF_Fear/OAF_lot_fear.wav  \n",
            "  inflating: TESS/OAF_Fear/OAF_love_fear.wav  \n",
            "  inflating: TESS/OAF_Fear/OAF_luck_fear.wav  \n",
            "  inflating: TESS/OAF_Fear/OAF_make_fear.wav  \n",
            "  inflating: TESS/OAF_Fear/OAF_match_fear.wav  \n",
            "  inflating: TESS/OAF_Fear/OAF_merge_fear.wav  \n",
            "  inflating: TESS/OAF_Fear/OAF_mess_fear.wav  \n",
            "  inflating: TESS/OAF_Fear/OAF_met_fear.wav  \n",
            "  inflating: TESS/OAF_Fear/OAF_mill_fear.wav  \n",
            "  inflating: TESS/OAF_Fear/OAF_mob_fear.wav  \n",
            "  inflating: TESS/OAF_Fear/OAF_mode_fear.wav  \n",
            "  inflating: TESS/OAF_Fear/OAF_mood_fear.wav  \n",
            "  inflating: TESS/OAF_Fear/OAF_moon_fear.wav  \n",
            "  inflating: TESS/OAF_Fear/OAF_mop_fear.wav  \n",
            "  inflating: TESS/OAF_Fear/OAF_mouse_fear.wav  \n",
            "  inflating: TESS/OAF_Fear/OAF_nag_fear.wav  \n",
            "  inflating: TESS/OAF_Fear/OAF_name_fear.wav  \n",
            "  inflating: TESS/OAF_Fear/OAF_near_fear.wav  \n",
            "  inflating: TESS/OAF_Fear/OAF_neat_fear.wav  \n",
            "  inflating: TESS/OAF_Fear/OAF_nice_fear.wav  \n",
            "  inflating: TESS/OAF_Fear/OAF_note_fear.wav  \n",
            "  inflating: TESS/OAF_Fear/OAF_numb_fear.wav  \n",
            "  inflating: TESS/OAF_Fear/OAF_pad_fear.wav  \n",
            "  inflating: TESS/OAF_Fear/OAF_page_fear.wav  \n",
            "  inflating: TESS/OAF_Fear/OAF_pain_fear.wav  \n",
            "  inflating: TESS/OAF_Fear/OAF_pass_fear.wav  \n",
            "  inflating: TESS/OAF_Fear/OAF_pearl_fear.wav  \n",
            "  inflating: TESS/OAF_Fear/OAF_peg_fear.wav  \n",
            "  inflating: TESS/OAF_Fear/OAF_perch_fear.wav  \n",
            "  inflating: TESS/OAF_Fear/OAF_phone_fear.wav  \n",
            "  inflating: TESS/OAF_Fear/OAF_pick_fear.wav  \n",
            "  inflating: TESS/OAF_Fear/OAF_pike_fear.wav  \n",
            "  inflating: TESS/OAF_Fear/OAF_pole_fear.wav  \n",
            "  inflating: TESS/OAF_Fear/OAF_pool_fear.wav  \n",
            "  inflating: TESS/OAF_Fear/OAF_puff_fear.wav  \n",
            "  inflating: TESS/OAF_Fear/OAF_rag_fear.wav  \n",
            "  inflating: TESS/OAF_Fear/OAF_raid_fear.wav  \n",
            "  inflating: TESS/OAF_Fear/OAF_rain_fear.wav  \n",
            "  inflating: TESS/OAF_Fear/OAF_raise_fear.wav  \n",
            "  inflating: TESS/OAF_Fear/OAF_rat_fear.wav  \n",
            "  inflating: TESS/OAF_Fear/OAF_reach_fear.wav  \n",
            "  inflating: TESS/OAF_Fear/OAF_read_fear.wav  \n",
            "  inflating: TESS/OAF_Fear/OAF_red_fear.wav  \n",
            "  inflating: TESS/OAF_Fear/OAF_ring_fear.wav  \n",
            "  inflating: TESS/OAF_Fear/OAF_ripe_fear.wav  \n",
            "  inflating: TESS/OAF_Fear/OAF_road_fear.wav  \n",
            "  inflating: TESS/OAF_Fear/OAF_room_fear.wav  \n",
            "  inflating: TESS/OAF_Fear/OAF_rose_fear.wav  \n",
            "  inflating: TESS/OAF_Fear/OAF_rot_fear.wav  \n",
            "  inflating: TESS/OAF_Fear/OAF_rough_fear.wav  \n",
            "  inflating: TESS/OAF_Fear/OAF_rush_fear.wav  \n",
            "  inflating: TESS/OAF_Fear/OAF_said_fear.wav  \n",
            "  inflating: TESS/OAF_Fear/OAF_sail_fear.wav  \n",
            "  inflating: TESS/OAF_Fear/OAF_search_fear.wav  \n",
            "  inflating: TESS/OAF_Fear/OAF_seize_fear.wav  \n",
            "  inflating: TESS/OAF_Fear/OAF_sell_fear.wav  \n",
            "  inflating: TESS/OAF_Fear/OAF_shack_fear.wav  \n",
            "  inflating: TESS/OAF_Fear/OAF_shall_fear.wav  \n",
            "  inflating: TESS/OAF_Fear/OAF_shawl_fear.wav  \n",
            "  inflating: TESS/OAF_Fear/OAF_sheep_fear.wav  \n",
            "  inflating: TESS/OAF_Fear/OAF_shirt_fear.wav  \n",
            "  inflating: TESS/OAF_Fear/OAF_should_fear.wav  \n",
            "  inflating: TESS/OAF_Fear/OAF_shout_fear.wav  \n",
            "  inflating: TESS/OAF_Fear/OAF_size_fear.wav  \n",
            "  inflating: TESS/OAF_Fear/OAF_soap_fear.wav  \n",
            "  inflating: TESS/OAF_Fear/OAF_soup_fear.wav  \n",
            "  inflating: TESS/OAF_Fear/OAF_sour_fear.wav  \n",
            "  inflating: TESS/OAF_Fear/OAF_south_fear.wav  \n",
            "  inflating: TESS/OAF_Fear/OAF_sub_fear.wav  \n",
            "  inflating: TESS/OAF_Fear/OAF_such_fear.wav  \n",
            "  inflating: TESS/OAF_Fear/OAF_sure_fear.wav  \n",
            "  inflating: TESS/OAF_Fear/OAF_take_fear.wav  \n",
            "  inflating: TESS/OAF_Fear/OAF_talk_fear.wav  \n",
            "  inflating: TESS/OAF_Fear/OAF_tape_fear.wav  \n",
            "  inflating: TESS/OAF_Fear/OAF_team_fear.wav  \n",
            "  inflating: TESS/OAF_Fear/OAF_tell_fear.wav  \n",
            "  inflating: TESS/OAF_Fear/OAF_thin_fear.wav  \n",
            "  inflating: TESS/OAF_Fear/OAF_third_fear.wav  \n",
            "  inflating: TESS/OAF_Fear/OAF_thought_fear.wav  \n",
            "  inflating: TESS/OAF_Fear/OAF_thumb_fear.wav  \n",
            "  inflating: TESS/OAF_Fear/OAF_time_fear.wav  \n",
            "  inflating: TESS/OAF_Fear/OAF_tip_fear.wav  \n",
            "  inflating: TESS/OAF_Fear/OAF_tire_fear.wav  \n",
            "  inflating: TESS/OAF_Fear/OAF_ton_fear.wav  \n",
            "  inflating: TESS/OAF_Fear/OAF_tool_fear.wav  \n",
            "  inflating: TESS/OAF_Fear/OAF_tough_fear.wav  \n",
            "  inflating: TESS/OAF_Fear/OAF_turn_fear.wav  \n",
            "  inflating: TESS/OAF_Fear/OAF_vine_fear.wav  \n",
            "  inflating: TESS/OAF_Fear/OAF_voice_fear.wav  \n",
            "  inflating: TESS/OAF_Fear/OAF_void_fear.wav  \n",
            "  inflating: TESS/OAF_Fear/OAF_vote_fear.wav  \n",
            "  inflating: TESS/OAF_Fear/OAF_wag_fear.wav  \n",
            "  inflating: TESS/OAF_Fear/OAF_walk_fear.wav  \n",
            "  inflating: TESS/OAF_Fear/OAF_wash_fear.wav  \n",
            "  inflating: TESS/OAF_Fear/OAF_week_fear.wav  \n",
            "  inflating: TESS/OAF_Fear/OAF_wheat_fear.wav  \n",
            "  inflating: TESS/OAF_Fear/OAF_when_fear.wav  \n",
            "  inflating: TESS/OAF_Fear/OAF_which_fear.wav  \n",
            "  inflating: TESS/OAF_Fear/OAF_whip_fear.wav  \n",
            "  inflating: TESS/OAF_Fear/OAF_white_fear.wav  \n",
            "  inflating: TESS/OAF_Fear/OAF_wife_fear.wav  \n",
            "  inflating: TESS/OAF_Fear/OAF_wire_fear.wav  \n",
            "  inflating: TESS/OAF_Fear/OAF_witch_fear.wav  \n",
            "  inflating: TESS/OAF_Fear/OAF_yearn_fear.wav  \n",
            "  inflating: TESS/OAF_Fear/OAF_yes_fear.wav  \n",
            "  inflating: TESS/OAF_Fear/OAF_young_fear.wav  \n",
            "  inflating: TESS/OAF_Fear/OAF_youth_fear.wav  \n",
            "   creating: TESS/OAF_happy/\n",
            "  inflating: TESS/OAF_happy/OAF_back_happy.wav  \n",
            "  inflating: TESS/OAF_happy/OAF_bar_happy.wav  \n",
            "  inflating: TESS/OAF_happy/OAF_base_happy.wav  \n",
            "  inflating: TESS/OAF_happy/OAF_bath_happy.wav  \n",
            "  inflating: TESS/OAF_happy/OAF_bean_happy.wav  \n",
            "  inflating: TESS/OAF_happy/OAF_beg_happy.wav  \n",
            "  inflating: TESS/OAF_happy/OAF_bite_happy.wav  \n",
            "  inflating: TESS/OAF_happy/OAF_boat_happy.wav  \n",
            "  inflating: TESS/OAF_happy/OAF_bone_happy.wav  \n",
            "  inflating: TESS/OAF_happy/OAF_book_happy.wav  \n",
            "  inflating: TESS/OAF_happy/OAF_bought_happy.wav  \n",
            "  inflating: TESS/OAF_happy/OAF_burn_happy.wav  \n",
            "  inflating: TESS/OAF_happy/OAF_cab_happy.wav  \n",
            "  inflating: TESS/OAF_happy/OAF_calm_happy.wav  \n",
            "  inflating: TESS/OAF_happy/OAF_came_happy.wav  \n",
            "  inflating: TESS/OAF_happy/OAF_cause_happy.wav  \n",
            "  inflating: TESS/OAF_happy/OAF_chain_happy.wav  \n",
            "  inflating: TESS/OAF_happy/OAF_chair_happy.wav  \n",
            "  inflating: TESS/OAF_happy/OAF_chalk_happy.wav  \n",
            "  inflating: TESS/OAF_happy/OAF_chat_happy.wav  \n",
            "  inflating: TESS/OAF_happy/OAF_check_happy.wav  \n",
            "  inflating: TESS/OAF_happy/OAF_cheek_happy.wav  \n",
            "  inflating: TESS/OAF_happy/OAF_chief_happy.wav  \n",
            "  inflating: TESS/OAF_happy/OAF_choice_happy.wav  \n",
            "  inflating: TESS/OAF_happy/OAF_cool_happy.wav  \n",
            "  inflating: TESS/OAF_happy/OAF_dab_happy.wav  \n",
            "  inflating: TESS/OAF_happy/OAF_date_happy.wav  \n",
            "  inflating: TESS/OAF_happy/OAF_dead_happy.wav  \n",
            "  inflating: TESS/OAF_happy/OAF_death_happy.wav  \n",
            "  inflating: TESS/OAF_happy/OAF_deep_happy.wav  \n",
            "  inflating: TESS/OAF_happy/OAF_dime_happy.wav  \n",
            "  inflating: TESS/OAF_happy/OAF_dip_happy.wav  \n",
            "  inflating: TESS/OAF_happy/OAF_ditch_happy.wav  \n",
            "  inflating: TESS/OAF_happy/OAF_dodge_happy.wav  \n",
            "  inflating: TESS/OAF_happy/OAF_dog_happy.wav  \n",
            "  inflating: TESS/OAF_happy/OAF_doll_happy.wav  \n",
            "  inflating: TESS/OAF_happy/OAF_door_happy.wav  \n",
            "  inflating: TESS/OAF_happy/OAF_fail_happy.wav  \n",
            "  inflating: TESS/OAF_happy/OAF_fall_happy.wav  \n",
            "  inflating: TESS/OAF_happy/OAF_far_happy.wav  \n",
            "  inflating: TESS/OAF_happy/OAF_fat_happy.wav  \n",
            "  inflating: TESS/OAF_happy/OAF_fit_happy.wav  \n",
            "  inflating: TESS/OAF_happy/OAF_five_happy.wav  \n",
            "  inflating: TESS/OAF_happy/OAF_food_happy.wav  \n",
            "  inflating: TESS/OAF_happy/OAF_gap_happy.wav  \n",
            "  inflating: TESS/OAF_happy/OAF_gas_happy.wav  \n",
            "  inflating: TESS/OAF_happy/OAF_gaze_happy.wav  \n",
            "  inflating: TESS/OAF_happy/OAF_germ_happy.wav  \n",
            "  inflating: TESS/OAF_happy/OAF_get_happy.wav  \n",
            "  inflating: TESS/OAF_happy/OAF_gin_happy.wav  \n",
            "  inflating: TESS/OAF_happy/OAF_goal_happy.wav  \n",
            "  inflating: TESS/OAF_happy/OAF_good_happy.wav  \n",
            "  inflating: TESS/OAF_happy/OAF_goose_happy.wav  \n",
            "  inflating: TESS/OAF_happy/OAF_gun_happy.wav  \n",
            "  inflating: TESS/OAF_happy/OAF_half_happy.wav  \n",
            "  inflating: TESS/OAF_happy/OAF_hall_happy.wav  \n",
            "  inflating: TESS/OAF_happy/OAF_hash_happy.wav  \n",
            "  inflating: TESS/OAF_happy/OAF_hate_happy.wav  \n",
            "  inflating: TESS/OAF_happy/OAF_have_happy.wav  \n",
            "  inflating: TESS/OAF_happy/OAF_haze_happy.wav  \n",
            "  inflating: TESS/OAF_happy/OAF_hire_happy.wav  \n",
            "  inflating: TESS/OAF_happy/OAF_hit_happy.wav  \n",
            "  inflating: TESS/OAF_happy/OAF_hole_happy.wav  \n",
            "  inflating: TESS/OAF_happy/OAF_home_happy.wav  \n",
            "  inflating: TESS/OAF_happy/OAF_hurl_happy.wav  \n",
            "  inflating: TESS/OAF_happy/OAF_hush_happy.wav  \n",
            "  inflating: TESS/OAF_happy/OAF_jail_happy.wav  \n",
            "  inflating: TESS/OAF_happy/OAF_jar_happy.wav  \n",
            "  inflating: TESS/OAF_happy/OAF_join_happy.wav  \n",
            "  inflating: TESS/OAF_happy/OAF_judge_happy.wav  \n",
            "  inflating: TESS/OAF_happy/OAF_jug_happy.wav  \n",
            "  inflating: TESS/OAF_happy/OAF_juice_happy.wav  \n",
            "  inflating: TESS/OAF_happy/OAF_keen_happy.wav  \n",
            "  inflating: TESS/OAF_happy/OAF_keep_happy.wav  \n",
            "  inflating: TESS/OAF_happy/OAF_keg_happy.wav  \n",
            "  inflating: TESS/OAF_happy/OAF_kick_happy.wav  \n",
            "  inflating: TESS/OAF_happy/OAF_kill_happy.wav  \n",
            "  inflating: TESS/OAF_happy/OAF_king_happy.wav  \n",
            "  inflating: TESS/OAF_happy/OAF_kite_happy.wav  \n",
            "  inflating: TESS/OAF_happy/OAF_knock_happy.wav  \n",
            "  inflating: TESS/OAF_happy/OAF_late_happy.wav  \n",
            "  inflating: TESS/OAF_happy/OAF_laud_happy.wav  \n",
            "  inflating: TESS/OAF_happy/OAF_lean_happy.wav  \n",
            "  inflating: TESS/OAF_happy/OAF_learn_happy.wav  \n",
            "  inflating: TESS/OAF_happy/OAF_lease_happy.wav  \n",
            "  inflating: TESS/OAF_happy/OAF_lid_happy.wav  \n",
            "  inflating: TESS/OAF_happy/OAF_life_happy.wav  \n",
            "  inflating: TESS/OAF_happy/OAF_limb_happy.wav  \n",
            "  inflating: TESS/OAF_happy/OAF_live_happy.wav  \n",
            "  inflating: TESS/OAF_happy/OAF_loaf_happy.wav  \n",
            "  inflating: TESS/OAF_happy/OAF_long_happy.wav  \n",
            "  inflating: TESS/OAF_happy/OAF_lore_happy.wav  \n",
            "  inflating: TESS/OAF_happy/OAF_lose_happy.wav  \n",
            "  inflating: TESS/OAF_happy/OAF_lot_happy.wav  \n",
            "  inflating: TESS/OAF_happy/OAF_love_happy.wav  \n",
            "  inflating: TESS/OAF_happy/OAF_luck_happy.wav  \n",
            "  inflating: TESS/OAF_happy/OAF_make_happy.wav  \n",
            "  inflating: TESS/OAF_happy/OAF_match_happy.wav  \n",
            "  inflating: TESS/OAF_happy/OAF_merge_happy.wav  \n",
            "  inflating: TESS/OAF_happy/OAF_mess_happy.wav  \n",
            "  inflating: TESS/OAF_happy/OAF_met_happy.wav  \n",
            "  inflating: TESS/OAF_happy/OAF_mill_happy.wav  \n",
            "  inflating: TESS/OAF_happy/OAF_mob_happy.wav  \n",
            "  inflating: TESS/OAF_happy/OAF_mode_happy.wav  \n",
            "  inflating: TESS/OAF_happy/OAF_mood_happy.wav  \n",
            "  inflating: TESS/OAF_happy/OAF_moon_happy.wav  \n",
            "  inflating: TESS/OAF_happy/OAF_mop_happy.wav  \n",
            "  inflating: TESS/OAF_happy/OAF_mouse_happy.wav  \n",
            "  inflating: TESS/OAF_happy/OAF_nag_happy.wav  \n",
            "  inflating: TESS/OAF_happy/OAF_name_happy.wav  \n",
            "  inflating: TESS/OAF_happy/OAF_near_happy.wav  \n",
            "  inflating: TESS/OAF_happy/OAF_neat_happy.wav  \n",
            "  inflating: TESS/OAF_happy/OAF_nice_happy.wav  \n",
            "  inflating: TESS/OAF_happy/OAF_note_happy.wav  \n",
            "  inflating: TESS/OAF_happy/OAF_numb_happy.wav  \n",
            "  inflating: TESS/OAF_happy/OAF_pad_happy.wav  \n",
            "  inflating: TESS/OAF_happy/OAF_page_happy.wav  \n",
            "  inflating: TESS/OAF_happy/OAF_pain_happy.wav  \n",
            "  inflating: TESS/OAF_happy/OAF_pass_happy.wav  \n",
            "  inflating: TESS/OAF_happy/OAF_pearl_happy.wav  \n",
            "  inflating: TESS/OAF_happy/OAF_peg_happy.wav  \n",
            "  inflating: TESS/OAF_happy/OAF_perch_happy.wav  \n",
            "  inflating: TESS/OAF_happy/OAF_phone_happy.wav  \n",
            "  inflating: TESS/OAF_happy/OAF_pick_happy.wav  \n",
            "  inflating: TESS/OAF_happy/OAF_pike_happy.wav  \n",
            "  inflating: TESS/OAF_happy/OAF_pole_happy.wav  \n",
            "  inflating: TESS/OAF_happy/OAF_pool_happy.wav  \n",
            "  inflating: TESS/OAF_happy/OAF_puff_happy.wav  \n",
            "  inflating: TESS/OAF_happy/OAF_rag_happy.wav  \n",
            "  inflating: TESS/OAF_happy/OAF_raid_happy.wav  \n",
            "  inflating: TESS/OAF_happy/OAF_rain_happy.wav  \n",
            "  inflating: TESS/OAF_happy/OAF_raise_happy.wav  \n",
            "  inflating: TESS/OAF_happy/OAF_rat_happy.wav  \n",
            "  inflating: TESS/OAF_happy/OAF_reach_happy.wav  \n",
            "  inflating: TESS/OAF_happy/OAF_read_happy.wav  \n",
            "  inflating: TESS/OAF_happy/OAF_red_happy.wav  \n",
            "  inflating: TESS/OAF_happy/OAF_ring_happy.wav  \n",
            "  inflating: TESS/OAF_happy/OAF_ripe_happy.wav  \n",
            "  inflating: TESS/OAF_happy/OAF_road_happy.wav  \n",
            "  inflating: TESS/OAF_happy/OAF_room_happy.wav  \n",
            "  inflating: TESS/OAF_happy/OAF_rose_happy.wav  \n",
            "  inflating: TESS/OAF_happy/OAF_rot_happy.wav  \n",
            "  inflating: TESS/OAF_happy/OAF_rough_happy.wav  \n",
            "  inflating: TESS/OAF_happy/OAF_rush_happy.wav  \n",
            "  inflating: TESS/OAF_happy/OAF_said_happy.wav  \n",
            "  inflating: TESS/OAF_happy/OAF_sail_happy.wav  \n",
            "  inflating: TESS/OAF_happy/OAF_search_happy.wav  \n",
            "  inflating: TESS/OAF_happy/OAF_seize_happy.wav  \n",
            "  inflating: TESS/OAF_happy/OAF_sell_happy.wav  \n",
            "  inflating: TESS/OAF_happy/OAF_shack_happy.wav  \n",
            "  inflating: TESS/OAF_happy/OAF_shall_happy.wav  \n",
            "  inflating: TESS/OAF_happy/OAF_shawl_happy.wav  \n",
            "  inflating: TESS/OAF_happy/OAF_sheep_happy.wav  \n",
            "  inflating: TESS/OAF_happy/OAF_shirt_happy.wav  \n",
            "  inflating: TESS/OAF_happy/OAF_should_happy.wav  \n",
            "  inflating: TESS/OAF_happy/OAF_shout_happy.wav  \n",
            "  inflating: TESS/OAF_happy/OAF_size_happy.wav  \n",
            "  inflating: TESS/OAF_happy/OAF_soap_happy.wav  \n",
            "  inflating: TESS/OAF_happy/OAF_soup_happy.wav  \n",
            "  inflating: TESS/OAF_happy/OAF_sour_happy.wav  \n",
            "  inflating: TESS/OAF_happy/OAF_south_happy.wav  \n",
            "  inflating: TESS/OAF_happy/OAF_sub_happy.wav  \n",
            "  inflating: TESS/OAF_happy/OAF_such_happy.wav  \n",
            "  inflating: TESS/OAF_happy/OAF_sure_happy.wav  \n",
            "  inflating: TESS/OAF_happy/OAF_take_happy.wav  \n",
            "  inflating: TESS/OAF_happy/OAF_talk_happy.wav  \n",
            "  inflating: TESS/OAF_happy/OAF_tape_happy.wav  \n",
            "  inflating: TESS/OAF_happy/OAF_team_happy.wav  \n",
            "  inflating: TESS/OAF_happy/OAF_tell_happy.wav  \n",
            "  inflating: TESS/OAF_happy/OAF_thin_happy.wav  \n",
            "  inflating: TESS/OAF_happy/OAF_third_happy.wav  \n",
            "  inflating: TESS/OAF_happy/OAF_thought_happy.wav  \n",
            "  inflating: TESS/OAF_happy/OAF_thumb_happy.wav  \n",
            "  inflating: TESS/OAF_happy/OAF_time_happy.wav  \n",
            "  inflating: TESS/OAF_happy/OAF_tip_happy.wav  \n",
            "  inflating: TESS/OAF_happy/OAF_tire_happy.wav  \n",
            "  inflating: TESS/OAF_happy/OAF_ton_happy.wav  \n",
            "  inflating: TESS/OAF_happy/OAF_tool_happy.wav  \n",
            "  inflating: TESS/OAF_happy/OAF_tough_happy.wav  \n",
            "  inflating: TESS/OAF_happy/OAF_turn_happy.wav  \n",
            "  inflating: TESS/OAF_happy/OAF_vine_happy.wav  \n",
            "  inflating: TESS/OAF_happy/OAF_voice_happy.wav  \n",
            "  inflating: TESS/OAF_happy/OAF_void_happy.wav  \n",
            "  inflating: TESS/OAF_happy/OAF_vote_happy.wav  \n",
            "  inflating: TESS/OAF_happy/OAF_wag_happy.wav  \n",
            "  inflating: TESS/OAF_happy/OAF_walk_happy.wav  \n",
            "  inflating: TESS/OAF_happy/OAF_wash_happy.wav  \n",
            "  inflating: TESS/OAF_happy/OAF_week_happy.wav  \n",
            "  inflating: TESS/OAF_happy/OAF_wheat_happy.wav  \n",
            "  inflating: TESS/OAF_happy/OAF_when_happy.wav  \n",
            "  inflating: TESS/OAF_happy/OAF_which_happy.wav  \n",
            "  inflating: TESS/OAF_happy/OAF_whip_happy.wav  \n",
            "  inflating: TESS/OAF_happy/OAF_white_happy.wav  \n",
            "  inflating: TESS/OAF_happy/OAF_wife_happy.wav  \n",
            "  inflating: TESS/OAF_happy/OAF_wire_happy.wav  \n",
            "  inflating: TESS/OAF_happy/OAF_witch_happy.wav  \n",
            "  inflating: TESS/OAF_happy/OAF_yearn_happy.wav  \n",
            "  inflating: TESS/OAF_happy/OAF_yes_happy.wav  \n",
            "  inflating: TESS/OAF_happy/OAF_young_happy.wav  \n",
            "  inflating: TESS/OAF_happy/OAF_youth_happy.wav  \n",
            "   creating: TESS/OAF_neutral/\n",
            "  inflating: TESS/OAF_neutral/OAF_back_neutral.wav  \n",
            "  inflating: TESS/OAF_neutral/OAF_bar_neutral.wav  \n",
            "  inflating: TESS/OAF_neutral/OAF_base_neutral.wav  \n",
            "  inflating: TESS/OAF_neutral/OAF_bath_neutral.wav  \n",
            "  inflating: TESS/OAF_neutral/OAF_bean_neutral.wav  \n",
            "  inflating: TESS/OAF_neutral/OAF_beg_neutral.wav  \n",
            "  inflating: TESS/OAF_neutral/OAF_boat_neutral.wav  \n",
            "  inflating: TESS/OAF_neutral/OAF_bone_neutral.wav  \n",
            "  inflating: TESS/OAF_neutral/OAF_book_neutral.wav  \n",
            "  inflating: TESS/OAF_neutral/OAF_bought_neutral.wav  \n",
            "  inflating: TESS/OAF_neutral/OAF_burn_neutral.wav  \n",
            "  inflating: TESS/OAF_neutral/OAF_cab_neutral.wav  \n",
            "  inflating: TESS/OAF_neutral/OAF_calm_neutral.wav  \n",
            "  inflating: TESS/OAF_neutral/OAF_came_neutral.wav  \n",
            "  inflating: TESS/OAF_neutral/OAF_cause_neutral.wav  \n",
            "  inflating: TESS/OAF_neutral/OAF_chain_neutral.wav  \n",
            "  inflating: TESS/OAF_neutral/OAF_chair_neutral.wav  \n",
            "  inflating: TESS/OAF_neutral/OAF_chalk_neutral.wav  \n",
            "  inflating: TESS/OAF_neutral/OAF_chat_neutral.wav  \n",
            "  inflating: TESS/OAF_neutral/OAF_check_neutral.wav  \n",
            "  inflating: TESS/OAF_neutral/OAF_cheek_neutral.wav  \n",
            "  inflating: TESS/OAF_neutral/OAF_chief_neutral.wav  \n",
            "  inflating: TESS/OAF_neutral/OAF_choice_neutral.wav  \n",
            "  inflating: TESS/OAF_neutral/OAF_cool_neutral.wav  \n",
            "  inflating: TESS/OAF_neutral/OAF_dab_neutral.wav  \n",
            "  inflating: TESS/OAF_neutral/OAF_date_neutral.wav  \n",
            "  inflating: TESS/OAF_neutral/OAF_dead_neutral.wav  \n",
            "  inflating: TESS/OAF_neutral/OAF_death_neutral.wav  \n",
            "  inflating: TESS/OAF_neutral/OAF_deep_neutral.wav  \n",
            "  inflating: TESS/OAF_neutral/OAF_dime_neutral.wav  \n",
            "  inflating: TESS/OAF_neutral/OAF_dip_neutral.wav  \n",
            "  inflating: TESS/OAF_neutral/OAF_ditch_neutral.wav  \n",
            "  inflating: TESS/OAF_neutral/OAF_dodge_neutral.wav  \n",
            "  inflating: TESS/OAF_neutral/OAF_dog_neutral.wav  \n",
            "  inflating: TESS/OAF_neutral/OAF_doll_neutral.wav  \n",
            "  inflating: TESS/OAF_neutral/OAF_door_neutral.wav  \n",
            "  inflating: TESS/OAF_neutral/OAF_fail_neutral.wav  \n",
            "  inflating: TESS/OAF_neutral/OAF_fall_neutral.wav  \n",
            "  inflating: TESS/OAF_neutral/OAF_far_neutral.wav  \n",
            "  inflating: TESS/OAF_neutral/OAF_fat_neutral.wav  \n",
            "  inflating: TESS/OAF_neutral/OAF_fit_neutral.wav  \n",
            "  inflating: TESS/OAF_neutral/OAF_five_neutral.wav  \n",
            "  inflating: TESS/OAF_neutral/OAF_food_neutral.wav  \n",
            "  inflating: TESS/OAF_neutral/OAF_gap_neutral.wav  \n",
            "  inflating: TESS/OAF_neutral/OAF_gas_neutral.wav  \n",
            "  inflating: TESS/OAF_neutral/OAF_gaze_neutral.wav  \n",
            "  inflating: TESS/OAF_neutral/OAF_germ_neutral.wav  \n",
            "  inflating: TESS/OAF_neutral/OAF_get_neutral.wav  \n",
            "  inflating: TESS/OAF_neutral/OAF_gin_neutral.wav  \n",
            "  inflating: TESS/OAF_neutral/OAF_goal_neutral.wav  \n",
            "  inflating: TESS/OAF_neutral/OAF_good_neutral.wav  \n",
            "  inflating: TESS/OAF_neutral/OAF_goose_neutral.wav  \n",
            "  inflating: TESS/OAF_neutral/OAF_gun_neutral.wav  \n",
            "  inflating: TESS/OAF_neutral/OAF_half_neutral.wav  \n",
            "  inflating: TESS/OAF_neutral/OAF_hall_neutral.wav  \n",
            "  inflating: TESS/OAF_neutral/OAF_hash_neutral.wav  \n",
            "  inflating: TESS/OAF_neutral/OAF_hate_neutral.wav  \n",
            "  inflating: TESS/OAF_neutral/OAF_have_neutral.wav  \n",
            "  inflating: TESS/OAF_neutral/OAF_haze_neutral.wav  \n",
            "  inflating: TESS/OAF_neutral/OAF_hire_neutral.wav  \n",
            "  inflating: TESS/OAF_neutral/OAF_hit_neutral.wav  \n",
            "  inflating: TESS/OAF_neutral/OAF_hole_neutral.wav  \n",
            "  inflating: TESS/OAF_neutral/OAF_home_neutral.wav  \n",
            "  inflating: TESS/OAF_neutral/OAF_hurl_neutral.wav  \n",
            "  inflating: TESS/OAF_neutral/OAF_hush_neutral.wav  \n",
            "  inflating: TESS/OAF_neutral/OAF_jail_neutral.wav  \n",
            "  inflating: TESS/OAF_neutral/OAF_jar_neutral.wav  \n",
            "  inflating: TESS/OAF_neutral/OAF_join_neutral.wav  \n",
            "  inflating: TESS/OAF_neutral/OAF_judge_neutral.wav  \n",
            "  inflating: TESS/OAF_neutral/OAF_jug_neutral.wav  \n",
            "  inflating: TESS/OAF_neutral/OAF_juice_neutral.wav  \n",
            "  inflating: TESS/OAF_neutral/OAF_keen_neutral.wav  \n",
            "  inflating: TESS/OAF_neutral/OAF_keep_neutral.wav  \n",
            "  inflating: TESS/OAF_neutral/OAF_keg_neutral.wav  \n",
            "  inflating: TESS/OAF_neutral/OAF_kick_neutral.wav  \n",
            "  inflating: TESS/OAF_neutral/OAF_kill_neutral.wav  \n",
            "  inflating: TESS/OAF_neutral/OAF_king_neutral.wav  \n",
            "  inflating: TESS/OAF_neutral/OAF_kite_neutral.wav  \n",
            "  inflating: TESS/OAF_neutral/OAF_knock_neutral.wav  \n",
            "  inflating: TESS/OAF_neutral/OAF_late_neutral.wav  \n",
            "  inflating: TESS/OAF_neutral/OAF_laud_neutral.wav  \n",
            "  inflating: TESS/OAF_neutral/OAF_lean_neutral.wav  \n",
            "  inflating: TESS/OAF_neutral/OAF_learn_neutral.wav  \n",
            "  inflating: TESS/OAF_neutral/OAF_lease_neutral.wav  \n",
            "  inflating: TESS/OAF_neutral/OAF_lid_neutral.wav  \n",
            "  inflating: TESS/OAF_neutral/OAF_life_neutral.wav  \n",
            "  inflating: TESS/OAF_neutral/OAF_limb_neutral.wav  \n",
            "  inflating: TESS/OAF_neutral/OAF_live_neutral.wav  \n",
            "  inflating: TESS/OAF_neutral/OAF_loaf_neutral.wav  \n",
            "  inflating: TESS/OAF_neutral/OAF_long_neutral.wav  \n",
            "  inflating: TESS/OAF_neutral/OAF_lore_neutral.wav  \n",
            "  inflating: TESS/OAF_neutral/OAF_lose_neutral.wav  \n",
            "  inflating: TESS/OAF_neutral/OAF_lot_neutral.wav  \n",
            "  inflating: TESS/OAF_neutral/OAF_love_neutral.wav  \n",
            "  inflating: TESS/OAF_neutral/OAF_luck_neutral.wav  \n",
            "  inflating: TESS/OAF_neutral/OAF_make_neutral.wav  \n",
            "  inflating: TESS/OAF_neutral/OAF_match_neutral.wav  \n",
            "  inflating: TESS/OAF_neutral/OAF_merge_neutral.wav  \n",
            "  inflating: TESS/OAF_neutral/OAF_mess_neutral.wav  \n",
            "  inflating: TESS/OAF_neutral/OAF_met_neutral.wav  \n",
            "  inflating: TESS/OAF_neutral/OAF_mill_neutral.wav  \n",
            "  inflating: TESS/OAF_neutral/OAF_mob_neutral.wav  \n",
            "  inflating: TESS/OAF_neutral/OAF_mode_neutral.wav  \n",
            "  inflating: TESS/OAF_neutral/OAF_mood_neutral.wav  \n",
            "  inflating: TESS/OAF_neutral/OAF_moon_neutral.wav  \n",
            "  inflating: TESS/OAF_neutral/OAF_mop_neutral.wav  \n",
            "  inflating: TESS/OAF_neutral/OAF_mouse_neutral.wav  \n",
            "  inflating: TESS/OAF_neutral/OAF_nag_neutral.wav  \n",
            "  inflating: TESS/OAF_neutral/OAF_name_neutral.wav  \n",
            "  inflating: TESS/OAF_neutral/OAF_near_neutral.wav  \n",
            "  inflating: TESS/OAF_neutral/OAF_neat_neutral.wav  \n",
            "  inflating: TESS/OAF_neutral/OAF_nice_neutral.wav  \n",
            "  inflating: TESS/OAF_neutral/OAF_note_neutral.wav  \n",
            "  inflating: TESS/OAF_neutral/OAF_numb_neutral.wav  \n",
            "  inflating: TESS/OAF_neutral/OAF_pad_neutral.wav  \n",
            "  inflating: TESS/OAF_neutral/OAF_page_neutral.wav  \n",
            "  inflating: TESS/OAF_neutral/OAF_pain_neutral.wav  \n",
            "  inflating: TESS/OAF_neutral/OAF_pass_neutral.wav  \n",
            "  inflating: TESS/OAF_neutral/OAF_pearl_neutral.wav  \n",
            "  inflating: TESS/OAF_neutral/OAF_peg_neutral.wav  \n",
            "  inflating: TESS/OAF_neutral/OAF_perch_neutral.wav  \n",
            "  inflating: TESS/OAF_neutral/OAF_phone_neutral.wav  \n",
            "  inflating: TESS/OAF_neutral/OAF_pick_neutral.wav  \n",
            "  inflating: TESS/OAF_neutral/OAF_pike_neutral.wav  \n",
            "  inflating: TESS/OAF_neutral/OAF_pole_neutral.wav  \n",
            "  inflating: TESS/OAF_neutral/OAF_pool_neutral.wav  \n",
            "  inflating: TESS/OAF_neutral/OAF_puff_neutral.wav  \n",
            "  inflating: TESS/OAF_neutral/OAF_rag_neutral.wav  \n",
            "  inflating: TESS/OAF_neutral/OAF_raid_neutral.wav  \n",
            "  inflating: TESS/OAF_neutral/OAF_rain_neutral.wav  \n",
            "  inflating: TESS/OAF_neutral/OAF_raise_neutral.wav  \n",
            "  inflating: TESS/OAF_neutral/OAF_rat_neutral.wav  \n",
            "  inflating: TESS/OAF_neutral/OAF_reach_neutral.wav  \n",
            "  inflating: TESS/OAF_neutral/OAF_read_neutral.wav  \n",
            "  inflating: TESS/OAF_neutral/OAF_red_neutral.wav  \n",
            "  inflating: TESS/OAF_neutral/OAF_ring_neutral.wav  \n",
            "  inflating: TESS/OAF_neutral/OAF_ripe_neutral.wav  \n",
            "  inflating: TESS/OAF_neutral/OAF_road_neutral.wav  \n",
            "  inflating: TESS/OAF_neutral/OAF_room_neutral.wav  \n",
            "  inflating: TESS/OAF_neutral/OAF_rose_neutral.wav  \n",
            "  inflating: TESS/OAF_neutral/OAF_rot_neutral.wav  \n",
            "  inflating: TESS/OAF_neutral/OAF_rough_neutral.wav  \n",
            "  inflating: TESS/OAF_neutral/OAF_rush_neutral.wav  \n",
            "  inflating: TESS/OAF_neutral/OAF_said_neutral.wav  \n",
            "  inflating: TESS/OAF_neutral/OAF_sail_neutral.wav  \n",
            "  inflating: TESS/OAF_neutral/OAF_search_neutral.wav  \n",
            "  inflating: TESS/OAF_neutral/OAF_seize_neutral.wav  \n",
            "  inflating: TESS/OAF_neutral/OAF_sell_neutral.wav  \n",
            "  inflating: TESS/OAF_neutral/OAF_shack_neutral.wav  \n",
            "  inflating: TESS/OAF_neutral/OAF_shall_neutral.wav  \n",
            "  inflating: TESS/OAF_neutral/OAF_shawl_neutral.wav  \n",
            "  inflating: TESS/OAF_neutral/OAF_sheep_neutral.wav  \n",
            "  inflating: TESS/OAF_neutral/OAF_shirt_neutral.wav  \n",
            "  inflating: TESS/OAF_neutral/OAF_should_neutral.wav  \n",
            "  inflating: TESS/OAF_neutral/OAF_shout_neutral.wav  \n",
            "  inflating: TESS/OAF_neutral/OAF_size_neutral.wav  \n",
            "  inflating: TESS/OAF_neutral/OAF_soap_neutral.wav  \n",
            "  inflating: TESS/OAF_neutral/OAF_soup_neutral.wav  \n",
            "  inflating: TESS/OAF_neutral/OAF_sour_neutral.wav  \n",
            "  inflating: TESS/OAF_neutral/OAF_south_neutral.wav  \n",
            "  inflating: TESS/OAF_neutral/OAF_sub_neutral.wav  \n",
            "  inflating: TESS/OAF_neutral/OAF_such_neutral.wav  \n",
            "  inflating: TESS/OAF_neutral/OAF_sure_neutral.wav  \n",
            "  inflating: TESS/OAF_neutral/OAF_take_neutral.wav  \n",
            "  inflating: TESS/OAF_neutral/OAF_talk_neutral.wav  \n",
            "  inflating: TESS/OAF_neutral/OAF_tape_neutral.wav  \n",
            "  inflating: TESS/OAF_neutral/OAF_team_neutral.wav  \n",
            "  inflating: TESS/OAF_neutral/OAF_tell_neutral.wav  \n",
            "  inflating: TESS/OAF_neutral/OAF_thin_neutral.wav  \n",
            "  inflating: TESS/OAF_neutral/OAF_third_neutral.wav  \n",
            "  inflating: TESS/OAF_neutral/OAF_thought_neutral.wav  \n",
            "  inflating: TESS/OAF_neutral/OAF_thumb_neutral.wav  \n",
            "  inflating: TESS/OAF_neutral/OAF_time_neutral.wav  \n",
            "  inflating: TESS/OAF_neutral/OAF_tip_neutral.wav  \n",
            "  inflating: TESS/OAF_neutral/OAF_tire_neutral.wav  \n",
            "  inflating: TESS/OAF_neutral/OAF_ton_neutral.wav  \n",
            "  inflating: TESS/OAF_neutral/OAF_tool_neutral.wav  \n",
            "  inflating: TESS/OAF_neutral/OAF_tough_neutral.wav  \n",
            "  inflating: TESS/OAF_neutral/OAF_turn_neutral.wav  \n",
            "  inflating: TESS/OAF_neutral/OAF_vine_neutral.wav  \n",
            "  inflating: TESS/OAF_neutral/OAF_voice_neutral.wav  \n",
            "  inflating: TESS/OAF_neutral/OAF_void_neutral.wav  \n",
            "  inflating: TESS/OAF_neutral/OAF_vote_neutral.wav  \n",
            "  inflating: TESS/OAF_neutral/OAF_wag_neutral.wav  \n",
            "  inflating: TESS/OAF_neutral/OAF_walk_neutral.wav  \n",
            "  inflating: TESS/OAF_neutral/OAF_wash_neutral.wav  \n",
            "  inflating: TESS/OAF_neutral/OAF_week_neutral.wav  \n",
            "  inflating: TESS/OAF_neutral/OAF_wheat_neutral.wav  \n",
            "  inflating: TESS/OAF_neutral/OAF_when_neutral.wav  \n",
            "  inflating: TESS/OAF_neutral/OAF_which_neutral.wav  \n",
            "  inflating: TESS/OAF_neutral/OAF_whip_neutral.wav  \n",
            "  inflating: TESS/OAF_neutral/OAF_white_neutral.wav  \n",
            "  inflating: TESS/OAF_neutral/OAF_wife_neutral.wav  \n",
            "  inflating: TESS/OAF_neutral/OAF_wire_neutral.wav  \n",
            "  inflating: TESS/OAF_neutral/OAF_witch_neutral.wav  \n",
            "  inflating: TESS/OAF_neutral/OAF_yearn_neutral.wav  \n",
            "  inflating: TESS/OAF_neutral/OAF_yes_neutral.wav  \n",
            "  inflating: TESS/OAF_neutral/OAF_young_neutral.wav  \n",
            "  inflating: TESS/OAF_neutral/OAF_youth_neutral.wav  \n",
            "  inflating: TESS/OAF_neutral/OA_bite_neutral.wav  \n",
            "   creating: TESS/OAF_Pleasant_surprise/\n",
            "  inflating: TESS/OAF_Pleasant_surprise/OAF_back_ps.wav  \n",
            "  inflating: TESS/OAF_Pleasant_surprise/OAF_bar_ps.wav  \n",
            "  inflating: TESS/OAF_Pleasant_surprise/OAF_base_ps.wav  \n",
            "  inflating: TESS/OAF_Pleasant_surprise/OAF_bath_ps.wav  \n",
            "  inflating: TESS/OAF_Pleasant_surprise/OAF_bean_ps.wav  \n",
            "  inflating: TESS/OAF_Pleasant_surprise/OAF_beg_ps.wav  \n",
            "  inflating: TESS/OAF_Pleasant_surprise/OAF_bite_ps.wav  \n",
            "  inflating: TESS/OAF_Pleasant_surprise/OAF_boat_ps.wav  \n",
            "  inflating: TESS/OAF_Pleasant_surprise/OAF_bone_ps.wav  \n",
            "  inflating: TESS/OAF_Pleasant_surprise/OAF_book_ps.wav  \n",
            "  inflating: TESS/OAF_Pleasant_surprise/OAF_bought_ps.wav  \n",
            "  inflating: TESS/OAF_Pleasant_surprise/OAF_burn_ps.wav  \n",
            "  inflating: TESS/OAF_Pleasant_surprise/OAF_cab_ps.wav  \n",
            "  inflating: TESS/OAF_Pleasant_surprise/OAF_calm_ps.wav  \n",
            "  inflating: TESS/OAF_Pleasant_surprise/OAF_came_ps.wav  \n",
            "  inflating: TESS/OAF_Pleasant_surprise/OAF_cause_ps.wav  \n",
            "  inflating: TESS/OAF_Pleasant_surprise/OAF_chain_ps.wav  \n",
            "  inflating: TESS/OAF_Pleasant_surprise/OAF_chair_ps.wav  \n",
            "  inflating: TESS/OAF_Pleasant_surprise/OAF_chalk_ps.wav  \n",
            "  inflating: TESS/OAF_Pleasant_surprise/OAF_chat_ps.wav  \n",
            "  inflating: TESS/OAF_Pleasant_surprise/OAF_check_ps.wav  \n",
            "  inflating: TESS/OAF_Pleasant_surprise/OAF_cheek_ps.wav  \n",
            "  inflating: TESS/OAF_Pleasant_surprise/OAF_chief_ps.wav  \n",
            "  inflating: TESS/OAF_Pleasant_surprise/OAF_choice_ps.wav  \n",
            "  inflating: TESS/OAF_Pleasant_surprise/OAF_cool_ps.wav  \n",
            "  inflating: TESS/OAF_Pleasant_surprise/OAF_dab_ps.wav  \n",
            "  inflating: TESS/OAF_Pleasant_surprise/OAF_date_ps.wav  \n",
            "  inflating: TESS/OAF_Pleasant_surprise/OAF_dead_ps.wav  \n",
            "  inflating: TESS/OAF_Pleasant_surprise/OAF_death_ps.wav  \n",
            "  inflating: TESS/OAF_Pleasant_surprise/OAF_deep_ps.wav  \n",
            "  inflating: TESS/OAF_Pleasant_surprise/OAF_dime_ps.wav  \n",
            "  inflating: TESS/OAF_Pleasant_surprise/OAF_dip_ps.wav  \n",
            "  inflating: TESS/OAF_Pleasant_surprise/OAF_ditch_ps.wav  \n",
            "  inflating: TESS/OAF_Pleasant_surprise/OAF_dodge_ps.wav  \n",
            "  inflating: TESS/OAF_Pleasant_surprise/OAF_dog_ps.wav  \n",
            "  inflating: TESS/OAF_Pleasant_surprise/OAF_doll_ps.wav  \n",
            "  inflating: TESS/OAF_Pleasant_surprise/OAF_door_ps.wav  \n",
            "  inflating: TESS/OAF_Pleasant_surprise/OAF_fail_ps.wav  \n",
            "  inflating: TESS/OAF_Pleasant_surprise/OAF_fall_ps.wav  \n",
            "  inflating: TESS/OAF_Pleasant_surprise/OAF_far_ps.wav  \n",
            "  inflating: TESS/OAF_Pleasant_surprise/OAF_fat_ps.wav  \n",
            "  inflating: TESS/OAF_Pleasant_surprise/OAF_fit_ps.wav  \n",
            "  inflating: TESS/OAF_Pleasant_surprise/OAF_five_ps.wav  \n",
            "  inflating: TESS/OAF_Pleasant_surprise/OAF_food_ps.wav  \n",
            "  inflating: TESS/OAF_Pleasant_surprise/OAF_gap_ps.wav  \n",
            "  inflating: TESS/OAF_Pleasant_surprise/OAF_gas_ps.wav  \n",
            "  inflating: TESS/OAF_Pleasant_surprise/OAF_gaze_ps.wav  \n",
            "  inflating: TESS/OAF_Pleasant_surprise/OAF_germ_ps.wav  \n",
            "  inflating: TESS/OAF_Pleasant_surprise/OAF_get_ps.wav  \n",
            "  inflating: TESS/OAF_Pleasant_surprise/OAF_gin_ps.wav  \n",
            "  inflating: TESS/OAF_Pleasant_surprise/OAF_goal_ps.wav  \n",
            "  inflating: TESS/OAF_Pleasant_surprise/OAF_good_ps.wav  \n",
            "  inflating: TESS/OAF_Pleasant_surprise/OAF_goose_ps.wav  \n",
            "  inflating: TESS/OAF_Pleasant_surprise/OAF_gun_ps.wav  \n",
            "  inflating: TESS/OAF_Pleasant_surprise/OAF_half_ps.wav  \n",
            "  inflating: TESS/OAF_Pleasant_surprise/OAF_hall_ps.wav  \n",
            "  inflating: TESS/OAF_Pleasant_surprise/OAF_hash_ps.wav  \n",
            "  inflating: TESS/OAF_Pleasant_surprise/OAF_hate_ps.wav  \n",
            "  inflating: TESS/OAF_Pleasant_surprise/OAF_have_ps.wav  \n",
            "  inflating: TESS/OAF_Pleasant_surprise/OAF_haze_ps.wav  \n",
            "  inflating: TESS/OAF_Pleasant_surprise/OAF_hire_ps.wav  \n",
            "  inflating: TESS/OAF_Pleasant_surprise/OAF_hit_ps.wav  \n",
            "  inflating: TESS/OAF_Pleasant_surprise/OAF_hole_ps.wav  \n",
            "  inflating: TESS/OAF_Pleasant_surprise/OAF_home_ps.wav  \n",
            "  inflating: TESS/OAF_Pleasant_surprise/OAF_hurl_ps.wav  \n",
            "  inflating: TESS/OAF_Pleasant_surprise/OAF_hush_ps.wav  \n",
            "  inflating: TESS/OAF_Pleasant_surprise/OAF_jail_ps.wav  \n",
            "  inflating: TESS/OAF_Pleasant_surprise/OAF_jar_ps.wav  \n",
            "  inflating: TESS/OAF_Pleasant_surprise/OAF_join_ps.wav  \n",
            "  inflating: TESS/OAF_Pleasant_surprise/OAF_judge_ps.wav  \n",
            "  inflating: TESS/OAF_Pleasant_surprise/OAF_jug_ps.wav  \n",
            "  inflating: TESS/OAF_Pleasant_surprise/OAF_juice_ps.wav  \n",
            "  inflating: TESS/OAF_Pleasant_surprise/OAF_keen_ps.wav  \n",
            "  inflating: TESS/OAF_Pleasant_surprise/OAF_keep_ps.wav  \n",
            "  inflating: TESS/OAF_Pleasant_surprise/OAF_keg_ps.wav  \n",
            "  inflating: TESS/OAF_Pleasant_surprise/OAF_kick_ps.wav  \n",
            "  inflating: TESS/OAF_Pleasant_surprise/OAF_kill_ps.wav  \n",
            "  inflating: TESS/OAF_Pleasant_surprise/OAF_king_ps.wav  \n",
            "  inflating: TESS/OAF_Pleasant_surprise/OAF_kite_ps.wav  \n",
            "  inflating: TESS/OAF_Pleasant_surprise/OAF_knock_ps.wav  \n",
            "  inflating: TESS/OAF_Pleasant_surprise/OAF_late_ps.wav  \n",
            "  inflating: TESS/OAF_Pleasant_surprise/OAF_laud_ps.wav  \n",
            "  inflating: TESS/OAF_Pleasant_surprise/OAF_lean_ps.wav  \n",
            "  inflating: TESS/OAF_Pleasant_surprise/OAF_learn_ps.wav  \n",
            "  inflating: TESS/OAF_Pleasant_surprise/OAF_lease_ps.wav  \n",
            "  inflating: TESS/OAF_Pleasant_surprise/OAF_lid_ps.wav  \n",
            "  inflating: TESS/OAF_Pleasant_surprise/OAF_life_ps.wav  \n",
            "  inflating: TESS/OAF_Pleasant_surprise/OAF_limb_ps.wav  \n",
            "  inflating: TESS/OAF_Pleasant_surprise/OAF_live_ps.wav  \n",
            "  inflating: TESS/OAF_Pleasant_surprise/OAF_loaf_ps.wav  \n",
            "  inflating: TESS/OAF_Pleasant_surprise/OAF_long_ps.wav  \n",
            "  inflating: TESS/OAF_Pleasant_surprise/OAF_lore_ps.wav  \n",
            "  inflating: TESS/OAF_Pleasant_surprise/OAF_lose_ps.wav  \n",
            "  inflating: TESS/OAF_Pleasant_surprise/OAF_lot_ps.wav  \n",
            "  inflating: TESS/OAF_Pleasant_surprise/OAF_love_ps.wav  \n",
            "  inflating: TESS/OAF_Pleasant_surprise/OAF_luck_ps.wav  \n",
            "  inflating: TESS/OAF_Pleasant_surprise/OAF_make_ps.wav  \n",
            "  inflating: TESS/OAF_Pleasant_surprise/OAF_match_ps.wav  \n",
            "  inflating: TESS/OAF_Pleasant_surprise/OAF_merge_ps.wav  \n",
            "  inflating: TESS/OAF_Pleasant_surprise/OAF_mess_ps.wav  \n",
            "  inflating: TESS/OAF_Pleasant_surprise/OAF_met_ps.wav  \n",
            "  inflating: TESS/OAF_Pleasant_surprise/OAF_mill_ps.wav  \n",
            "  inflating: TESS/OAF_Pleasant_surprise/OAF_mob_ps.wav  \n",
            "  inflating: TESS/OAF_Pleasant_surprise/OAF_mode_ps.wav  \n",
            "  inflating: TESS/OAF_Pleasant_surprise/OAF_mood_ps.wav  \n",
            "  inflating: TESS/OAF_Pleasant_surprise/OAF_moon_ps.wav  \n",
            "  inflating: TESS/OAF_Pleasant_surprise/OAF_mop_ps.wav  \n",
            "  inflating: TESS/OAF_Pleasant_surprise/OAF_mouse_ps.wav  \n",
            "  inflating: TESS/OAF_Pleasant_surprise/OAF_nag_ps.wav  \n",
            "  inflating: TESS/OAF_Pleasant_surprise/OAF_name_ps.wav  \n",
            "  inflating: TESS/OAF_Pleasant_surprise/OAF_near_ps.wav  \n",
            "  inflating: TESS/OAF_Pleasant_surprise/OAF_neat_ps.wav  \n",
            "  inflating: TESS/OAF_Pleasant_surprise/OAF_nice_ps.wav  \n",
            "  inflating: TESS/OAF_Pleasant_surprise/OAF_note_ps.wav  \n",
            "  inflating: TESS/OAF_Pleasant_surprise/OAF_numb_ps.wav  \n",
            "  inflating: TESS/OAF_Pleasant_surprise/OAF_pad_ps.wav  \n",
            "  inflating: TESS/OAF_Pleasant_surprise/OAF_page_ps.wav  \n",
            "  inflating: TESS/OAF_Pleasant_surprise/OAF_pain_ps.wav  \n",
            "  inflating: TESS/OAF_Pleasant_surprise/OAF_pass_ps.wav  \n",
            "  inflating: TESS/OAF_Pleasant_surprise/OAF_pearl_ps.wav  \n",
            "  inflating: TESS/OAF_Pleasant_surprise/OAF_peg_ps.wav  \n",
            "  inflating: TESS/OAF_Pleasant_surprise/OAF_perch_ps.wav  \n",
            "  inflating: TESS/OAF_Pleasant_surprise/OAF_phone_ps.wav  \n",
            "  inflating: TESS/OAF_Pleasant_surprise/OAF_pick_ps.wav  \n",
            "  inflating: TESS/OAF_Pleasant_surprise/OAF_pike_ps.wav  \n",
            "  inflating: TESS/OAF_Pleasant_surprise/OAF_pole_ps.wav  \n",
            "  inflating: TESS/OAF_Pleasant_surprise/OAF_pool_ps.wav  \n",
            "  inflating: TESS/OAF_Pleasant_surprise/OAF_puff_ps.wav  \n",
            "  inflating: TESS/OAF_Pleasant_surprise/OAF_rag_ps.wav  \n",
            "  inflating: TESS/OAF_Pleasant_surprise/OAF_raid_ps.wav  \n",
            "  inflating: TESS/OAF_Pleasant_surprise/OAF_rain_ps.wav  \n",
            "  inflating: TESS/OAF_Pleasant_surprise/OAF_raise_ps.wav  \n",
            "  inflating: TESS/OAF_Pleasant_surprise/OAF_rat_ps.wav  \n",
            "  inflating: TESS/OAF_Pleasant_surprise/OAF_reach_ps.wav  \n",
            "  inflating: TESS/OAF_Pleasant_surprise/OAF_read_ps.wav  \n",
            "  inflating: TESS/OAF_Pleasant_surprise/OAF_red_ps.wav  \n",
            "  inflating: TESS/OAF_Pleasant_surprise/OAF_ring_ps.wav  \n",
            "  inflating: TESS/OAF_Pleasant_surprise/OAF_ripe_ps.wav  \n",
            "  inflating: TESS/OAF_Pleasant_surprise/OAF_road_ps.wav  \n",
            "  inflating: TESS/OAF_Pleasant_surprise/OAF_room_ps.wav  \n",
            "  inflating: TESS/OAF_Pleasant_surprise/OAF_rose_ps.wav  \n",
            "  inflating: TESS/OAF_Pleasant_surprise/OAF_rot_ps.wav  \n",
            "  inflating: TESS/OAF_Pleasant_surprise/OAF_rough_ps.wav  \n",
            "  inflating: TESS/OAF_Pleasant_surprise/OAF_rush_ps.wav  \n",
            "  inflating: TESS/OAF_Pleasant_surprise/OAF_said_ps.wav  \n",
            "  inflating: TESS/OAF_Pleasant_surprise/OAF_sail_ps.wav  \n",
            "  inflating: TESS/OAF_Pleasant_surprise/OAF_search_ps.wav  \n",
            "  inflating: TESS/OAF_Pleasant_surprise/OAF_seize_ps.wav  \n",
            "  inflating: TESS/OAF_Pleasant_surprise/OAF_sell_ps.wav  \n",
            "  inflating: TESS/OAF_Pleasant_surprise/OAF_shack_ps.wav  \n",
            "  inflating: TESS/OAF_Pleasant_surprise/OAF_shall_ps.wav  \n",
            "  inflating: TESS/OAF_Pleasant_surprise/OAF_shawl_ps.wav  \n",
            "  inflating: TESS/OAF_Pleasant_surprise/OAF_sheep_ps.wav  \n",
            "  inflating: TESS/OAF_Pleasant_surprise/OAF_shirt_ps.wav  \n",
            "  inflating: TESS/OAF_Pleasant_surprise/OAF_should_ps.wav  \n",
            "  inflating: TESS/OAF_Pleasant_surprise/OAF_shout_ps.wav  \n",
            "  inflating: TESS/OAF_Pleasant_surprise/OAF_size_ps.wav  \n",
            "  inflating: TESS/OAF_Pleasant_surprise/OAF_soap_ps.wav  \n",
            "  inflating: TESS/OAF_Pleasant_surprise/OAF_soup_ps.wav  \n",
            "  inflating: TESS/OAF_Pleasant_surprise/OAF_sour_ps.wav  \n",
            "  inflating: TESS/OAF_Pleasant_surprise/OAF_south_ps.wav  \n",
            "  inflating: TESS/OAF_Pleasant_surprise/OAF_sub_ps.wav  \n",
            "  inflating: TESS/OAF_Pleasant_surprise/OAF_such_ps.wav  \n",
            "  inflating: TESS/OAF_Pleasant_surprise/OAF_sure_ps.wav  \n",
            "  inflating: TESS/OAF_Pleasant_surprise/OAF_take_ps.wav  \n",
            "  inflating: TESS/OAF_Pleasant_surprise/OAF_talk_ps.wav  \n",
            "  inflating: TESS/OAF_Pleasant_surprise/OAF_tape_ps.wav  \n",
            "  inflating: TESS/OAF_Pleasant_surprise/OAF_team_ps.wav  \n",
            "  inflating: TESS/OAF_Pleasant_surprise/OAF_tell_ps.wav  \n",
            "  inflating: TESS/OAF_Pleasant_surprise/OAF_thin_ps.wav  \n",
            "  inflating: TESS/OAF_Pleasant_surprise/OAF_third_ps.wav  \n",
            "  inflating: TESS/OAF_Pleasant_surprise/OAF_thought_ps.wav  \n",
            "  inflating: TESS/OAF_Pleasant_surprise/OAF_thumb_ps.wav  \n",
            "  inflating: TESS/OAF_Pleasant_surprise/OAF_time_ps.wav  \n",
            "  inflating: TESS/OAF_Pleasant_surprise/OAF_tip_ps.wav  \n",
            "  inflating: TESS/OAF_Pleasant_surprise/OAF_tire_ps.wav  \n",
            "  inflating: TESS/OAF_Pleasant_surprise/OAF_ton_ps.wav  \n",
            "  inflating: TESS/OAF_Pleasant_surprise/OAF_tool_ps.wav  \n",
            "  inflating: TESS/OAF_Pleasant_surprise/OAF_tough_ps.wav  \n",
            "  inflating: TESS/OAF_Pleasant_surprise/OAF_turn_ps.wav  \n",
            "  inflating: TESS/OAF_Pleasant_surprise/OAF_vine_ps.wav  \n",
            "  inflating: TESS/OAF_Pleasant_surprise/OAF_voice_ps.wav  \n",
            "  inflating: TESS/OAF_Pleasant_surprise/OAF_void_ps.wav  \n",
            "  inflating: TESS/OAF_Pleasant_surprise/OAF_vote_ps.wav  \n",
            "  inflating: TESS/OAF_Pleasant_surprise/OAF_wag_ps.wav  \n",
            "  inflating: TESS/OAF_Pleasant_surprise/OAF_walk_ps.wav  \n",
            "  inflating: TESS/OAF_Pleasant_surprise/OAF_wash_ps.wav  \n",
            "  inflating: TESS/OAF_Pleasant_surprise/OAF_week_ps.wav  \n",
            "  inflating: TESS/OAF_Pleasant_surprise/OAF_wheat_ps.wav  \n",
            "  inflating: TESS/OAF_Pleasant_surprise/OAF_when_ps.wav  \n",
            "  inflating: TESS/OAF_Pleasant_surprise/OAF_which_ps.wav  \n",
            "  inflating: TESS/OAF_Pleasant_surprise/OAF_whip_ps.wav  \n",
            "  inflating: TESS/OAF_Pleasant_surprise/OAF_white_ps.wav  \n",
            "  inflating: TESS/OAF_Pleasant_surprise/OAF_wife_ps.wav  \n",
            "  inflating: TESS/OAF_Pleasant_surprise/OAF_wire_ps.wav  \n",
            "  inflating: TESS/OAF_Pleasant_surprise/OAF_witch_ps.wav  \n",
            "  inflating: TESS/OAF_Pleasant_surprise/OAF_yearn_ps.wav  \n",
            "  inflating: TESS/OAF_Pleasant_surprise/OAF_yes_ps.wav  \n",
            "  inflating: TESS/OAF_Pleasant_surprise/OAF_young_ps.wav  \n",
            "  inflating: TESS/OAF_Pleasant_surprise/OAF_youth_ps.wav  \n",
            "   creating: TESS/OAF_Sad/\n",
            "  inflating: TESS/OAF_Sad/OAF_back_sad.wav  \n",
            "  inflating: TESS/OAF_Sad/OAF_bar_sad.wav  \n",
            "  inflating: TESS/OAF_Sad/OAF_base_sad.wav  \n",
            "  inflating: TESS/OAF_Sad/OAF_bath_sad.wav  \n",
            "  inflating: TESS/OAF_Sad/OAF_bean_sad.wav  \n",
            "  inflating: TESS/OAF_Sad/OAF_beg_sad.wav  \n",
            "  inflating: TESS/OAF_Sad/OAF_bite_sad.wav  \n",
            "  inflating: TESS/OAF_Sad/OAF_boat_sad.wav  \n",
            "  inflating: TESS/OAF_Sad/OAF_bone_sad.wav  \n",
            "  inflating: TESS/OAF_Sad/OAF_book_sad.wav  \n",
            "  inflating: TESS/OAF_Sad/OAF_bought_sad.wav  \n",
            "  inflating: TESS/OAF_Sad/OAF_burn_sad.wav  \n",
            "  inflating: TESS/OAF_Sad/OAF_cab_sad.wav  \n",
            "  inflating: TESS/OAF_Sad/OAF_calm_sad.wav  \n",
            "  inflating: TESS/OAF_Sad/OAF_came_sad.wav  \n",
            "  inflating: TESS/OAF_Sad/OAF_cause_sad.wav  \n",
            "  inflating: TESS/OAF_Sad/OAF_chain_sad.wav  \n",
            "  inflating: TESS/OAF_Sad/OAF_chair_sad.wav  \n",
            "  inflating: TESS/OAF_Sad/OAF_chalk_sad.wav  \n",
            "  inflating: TESS/OAF_Sad/OAF_chat_sad.wav  \n",
            "  inflating: TESS/OAF_Sad/OAF_check_sad.wav  \n",
            "  inflating: TESS/OAF_Sad/OAF_cheek_sad.wav  \n",
            "  inflating: TESS/OAF_Sad/OAF_chief_sad.wav  \n",
            "  inflating: TESS/OAF_Sad/OAF_choice_sad.wav  \n",
            "  inflating: TESS/OAF_Sad/OAF_cool_sad.wav  \n",
            "  inflating: TESS/OAF_Sad/OAF_dab_sad.wav  \n",
            "  inflating: TESS/OAF_Sad/OAF_date_sad.wav  \n",
            "  inflating: TESS/OAF_Sad/OAF_dead_sad.wav  \n",
            "  inflating: TESS/OAF_Sad/OAF_death_sad.wav  \n",
            "  inflating: TESS/OAF_Sad/OAF_deep_sad.wav  \n",
            "  inflating: TESS/OAF_Sad/OAF_dime_sad.wav  \n",
            "  inflating: TESS/OAF_Sad/OAF_dip_sad.wav  \n",
            "  inflating: TESS/OAF_Sad/OAF_ditch_sad.wav  \n",
            "  inflating: TESS/OAF_Sad/OAF_dodge_sad.wav  \n",
            "  inflating: TESS/OAF_Sad/OAF_dog_sad.wav  \n",
            "  inflating: TESS/OAF_Sad/OAF_doll_sad.wav  \n",
            "  inflating: TESS/OAF_Sad/OAF_door_sad.wav  \n",
            "  inflating: TESS/OAF_Sad/OAF_fail_sad.wav  \n",
            "  inflating: TESS/OAF_Sad/OAF_fall_sad.wav  \n",
            "  inflating: TESS/OAF_Sad/OAF_far_sad.wav  \n",
            "  inflating: TESS/OAF_Sad/OAF_fat_sad.wav  \n",
            "  inflating: TESS/OAF_Sad/OAF_fit_sad.wav  \n",
            "  inflating: TESS/OAF_Sad/OAF_five_sad.wav  \n",
            "  inflating: TESS/OAF_Sad/OAF_food_sad.wav  \n",
            "  inflating: TESS/OAF_Sad/OAF_gap_sad.wav  \n",
            "  inflating: TESS/OAF_Sad/OAF_gas_sad.wav  \n",
            "  inflating: TESS/OAF_Sad/OAF_gaze_sad.wav  \n",
            "  inflating: TESS/OAF_Sad/OAF_germ_sad.wav  \n",
            "  inflating: TESS/OAF_Sad/OAF_get_sad.wav  \n",
            "  inflating: TESS/OAF_Sad/OAF_gin_sad.wav  \n",
            "  inflating: TESS/OAF_Sad/OAF_goal_sad.wav  \n",
            "  inflating: TESS/OAF_Sad/OAF_good_sad.wav  \n",
            "  inflating: TESS/OAF_Sad/OAF_goose_sad.wav  \n",
            "  inflating: TESS/OAF_Sad/OAF_gun_sad.wav  \n",
            "  inflating: TESS/OAF_Sad/OAF_half_sad.wav  \n",
            "  inflating: TESS/OAF_Sad/OAF_hall_sad.wav  \n",
            "  inflating: TESS/OAF_Sad/OAF_hash_sad.wav  \n",
            "  inflating: TESS/OAF_Sad/OAF_hate_sad.wav  \n",
            "  inflating: TESS/OAF_Sad/OAF_have_sad.wav  \n",
            "  inflating: TESS/OAF_Sad/OAF_haze_sad.wav  \n",
            "  inflating: TESS/OAF_Sad/OAF_hire_sad.wav  \n",
            "  inflating: TESS/OAF_Sad/OAF_hit_sad.wav  \n",
            "  inflating: TESS/OAF_Sad/OAF_hole_sad.wav  \n",
            "  inflating: TESS/OAF_Sad/OAF_home_sad.wav  \n",
            "  inflating: TESS/OAF_Sad/OAF_hurl_sad.wav  \n",
            "  inflating: TESS/OAF_Sad/OAF_hush_sad.wav  \n",
            "  inflating: TESS/OAF_Sad/OAF_jail_sad.wav  \n",
            "  inflating: TESS/OAF_Sad/OAF_jar_sad.wav  \n",
            "  inflating: TESS/OAF_Sad/OAF_join_sad.wav  \n",
            "  inflating: TESS/OAF_Sad/OAF_judge_sad.wav  \n",
            "  inflating: TESS/OAF_Sad/OAF_jug_sad.wav  \n",
            "  inflating: TESS/OAF_Sad/OAF_juice_sad.wav  \n",
            "  inflating: TESS/OAF_Sad/OAF_keen_sad.wav  \n",
            "  inflating: TESS/OAF_Sad/OAF_keep_sad.wav  \n",
            "  inflating: TESS/OAF_Sad/OAF_keg_sad.wav  \n",
            "  inflating: TESS/OAF_Sad/OAF_kick_sad.wav  \n",
            "  inflating: TESS/OAF_Sad/OAF_kill_sad.wav  \n",
            "  inflating: TESS/OAF_Sad/OAF_king_sad.wav  \n",
            "  inflating: TESS/OAF_Sad/OAF_kite_sad.wav  \n",
            "  inflating: TESS/OAF_Sad/OAF_knock_sad.wav  \n",
            "  inflating: TESS/OAF_Sad/OAF_late_sad.wav  \n",
            "  inflating: TESS/OAF_Sad/OAF_laud_sad.wav  \n",
            "  inflating: TESS/OAF_Sad/OAF_lean_sad.wav  \n",
            "  inflating: TESS/OAF_Sad/OAF_learn_sad.wav  \n",
            "  inflating: TESS/OAF_Sad/OAF_lease_sad.wav  \n",
            "  inflating: TESS/OAF_Sad/OAF_lid_sad.wav  \n",
            "  inflating: TESS/OAF_Sad/OAF_life_sad.wav  \n",
            "  inflating: TESS/OAF_Sad/OAF_limb_sad.wav  \n",
            "  inflating: TESS/OAF_Sad/OAF_live_sad.wav  \n",
            "  inflating: TESS/OAF_Sad/OAF_loaf_sad.wav  \n",
            "  inflating: TESS/OAF_Sad/OAF_long_sad.wav  \n",
            "  inflating: TESS/OAF_Sad/OAF_lore_sad.wav  \n",
            "  inflating: TESS/OAF_Sad/OAF_lose_sad.wav  \n",
            "  inflating: TESS/OAF_Sad/OAF_lot_sad.wav  \n",
            "  inflating: TESS/OAF_Sad/OAF_love_sad.wav  \n",
            "  inflating: TESS/OAF_Sad/OAF_luck_sad.wav  \n",
            "  inflating: TESS/OAF_Sad/OAF_make_sad.wav  \n",
            "  inflating: TESS/OAF_Sad/OAF_match_sad.wav  \n",
            "  inflating: TESS/OAF_Sad/OAF_merge_sad.wav  \n",
            "  inflating: TESS/OAF_Sad/OAF_mess_sad.wav  \n",
            "  inflating: TESS/OAF_Sad/OAF_met_sad.wav  \n",
            "  inflating: TESS/OAF_Sad/OAF_mill_sad.wav  \n",
            "  inflating: TESS/OAF_Sad/OAF_mob_sad.wav  \n",
            "  inflating: TESS/OAF_Sad/OAF_mode_sad.wav  \n",
            "  inflating: TESS/OAF_Sad/OAF_mood_sad.wav  \n",
            "  inflating: TESS/OAF_Sad/OAF_moon_sad.wav  \n",
            "  inflating: TESS/OAF_Sad/OAF_mop_sad.wav  \n",
            "  inflating: TESS/OAF_Sad/OAF_mouse_sad.wav  \n",
            "  inflating: TESS/OAF_Sad/OAF_nag_sad.wav  \n",
            "  inflating: TESS/OAF_Sad/OAF_name_sad.wav  \n",
            "  inflating: TESS/OAF_Sad/OAF_near_sad.wav  \n",
            "  inflating: TESS/OAF_Sad/OAF_neat_sad.wav  \n",
            "  inflating: TESS/OAF_Sad/OAF_nice_sad.wav  \n",
            "  inflating: TESS/OAF_Sad/OAF_note_sad.wav  \n",
            "  inflating: TESS/OAF_Sad/OAF_numb_sad.wav  \n",
            "  inflating: TESS/OAF_Sad/OAF_pad_sad.wav  \n",
            "  inflating: TESS/OAF_Sad/OAF_page_sad.wav  \n",
            "  inflating: TESS/OAF_Sad/OAF_pain_sad.wav  \n",
            "  inflating: TESS/OAF_Sad/OAF_pass_sad.wav  \n",
            "  inflating: TESS/OAF_Sad/OAF_pearl_sad.wav  \n",
            "  inflating: TESS/OAF_Sad/OAF_peg_sad.wav  \n",
            "  inflating: TESS/OAF_Sad/OAF_perch_sad.wav  \n",
            "  inflating: TESS/OAF_Sad/OAF_phone_sad.wav  \n",
            "  inflating: TESS/OAF_Sad/OAF_pick_sad.wav  \n",
            "  inflating: TESS/OAF_Sad/OAF_pike_sad.wav  \n",
            "  inflating: TESS/OAF_Sad/OAF_pole_sad.wav  \n",
            "  inflating: TESS/OAF_Sad/OAF_pool_sad.wav  \n",
            "  inflating: TESS/OAF_Sad/OAF_puff_sad.wav  \n",
            "  inflating: TESS/OAF_Sad/OAF_rag_sad.wav  \n",
            "  inflating: TESS/OAF_Sad/OAF_raid_sad.wav  \n",
            "  inflating: TESS/OAF_Sad/OAF_rain_sad.wav  \n",
            "  inflating: TESS/OAF_Sad/OAF_raise_sad.wav  \n",
            "  inflating: TESS/OAF_Sad/OAF_rat_sad.wav  \n",
            "  inflating: TESS/OAF_Sad/OAF_reach_sad.wav  \n",
            "  inflating: TESS/OAF_Sad/OAF_read_sad.wav  \n",
            "  inflating: TESS/OAF_Sad/OAF_red_sad.wav  \n",
            "  inflating: TESS/OAF_Sad/OAF_ring_sad.wav  \n",
            "  inflating: TESS/OAF_Sad/OAF_ripe_sad.wav  \n",
            "  inflating: TESS/OAF_Sad/OAF_road_sad.wav  \n",
            "  inflating: TESS/OAF_Sad/OAF_room_sad.wav  \n",
            "  inflating: TESS/OAF_Sad/OAF_rose_sad.wav  \n",
            "  inflating: TESS/OAF_Sad/OAF_rot_sad.wav  \n",
            "  inflating: TESS/OAF_Sad/OAF_rough_sad.wav  \n",
            "  inflating: TESS/OAF_Sad/OAF_rush_sad.wav  \n",
            "  inflating: TESS/OAF_Sad/OAF_said_sad.wav  \n",
            "  inflating: TESS/OAF_Sad/OAF_sail_sad.wav  \n",
            "  inflating: TESS/OAF_Sad/OAF_search_sad.wav  \n",
            "  inflating: TESS/OAF_Sad/OAF_seize_sad.wav  \n",
            "  inflating: TESS/OAF_Sad/OAF_sell_sad.wav  \n",
            "  inflating: TESS/OAF_Sad/OAF_shack_sad.wav  \n",
            "  inflating: TESS/OAF_Sad/OAF_shall_sad.wav  \n",
            "  inflating: TESS/OAF_Sad/OAF_shawl_sad.wav  \n",
            "  inflating: TESS/OAF_Sad/OAF_sheep_sad.wav  \n",
            "  inflating: TESS/OAF_Sad/OAF_shirt_sad.wav  \n",
            "  inflating: TESS/OAF_Sad/OAF_should_sad.wav  \n",
            "  inflating: TESS/OAF_Sad/OAF_shout_sad.wav  \n",
            "  inflating: TESS/OAF_Sad/OAF_size_sad.wav  \n",
            "  inflating: TESS/OAF_Sad/OAF_soap_sad.wav  \n",
            "  inflating: TESS/OAF_Sad/OAF_soup_sad.wav  \n",
            "  inflating: TESS/OAF_Sad/OAF_sour_sad.wav  \n",
            "  inflating: TESS/OAF_Sad/OAF_south_sad.wav  \n",
            "  inflating: TESS/OAF_Sad/OAF_sub_sad.wav  \n",
            "  inflating: TESS/OAF_Sad/OAF_such_sad.wav  \n",
            "  inflating: TESS/OAF_Sad/OAF_sure_sad.wav  \n",
            "  inflating: TESS/OAF_Sad/OAF_take_sad.wav  \n",
            "  inflating: TESS/OAF_Sad/OAF_talk_sad.wav  \n",
            "  inflating: TESS/OAF_Sad/OAF_tape_sad.wav  \n",
            "  inflating: TESS/OAF_Sad/OAF_team_sad.wav  \n",
            "  inflating: TESS/OAF_Sad/OAF_tell_sad.wav  \n",
            "  inflating: TESS/OAF_Sad/OAF_thin_sad.wav  \n",
            "  inflating: TESS/OAF_Sad/OAF_third_sad.wav  \n",
            "  inflating: TESS/OAF_Sad/OAF_thought_sad.wav  \n",
            "  inflating: TESS/OAF_Sad/OAF_thumb_sad.wav  \n",
            "  inflating: TESS/OAF_Sad/OAF_time_sad.wav  \n",
            "  inflating: TESS/OAF_Sad/OAF_tip_sad.wav  \n",
            "  inflating: TESS/OAF_Sad/OAF_tire_sad.wav  \n",
            "  inflating: TESS/OAF_Sad/OAF_ton_sad.wav  \n",
            "  inflating: TESS/OAF_Sad/OAF_tool_sad.wav  \n",
            "  inflating: TESS/OAF_Sad/OAF_tough_sad.wav  \n",
            "  inflating: TESS/OAF_Sad/OAF_turn_sad.wav  \n",
            "  inflating: TESS/OAF_Sad/OAF_vine_sad.wav  \n",
            "  inflating: TESS/OAF_Sad/OAF_voice_sad.wav  \n",
            "  inflating: TESS/OAF_Sad/OAF_void_sad.wav  \n",
            "  inflating: TESS/OAF_Sad/OAF_vote_sad.wav  \n",
            "  inflating: TESS/OAF_Sad/OAF_wag_sad.wav  \n",
            "  inflating: TESS/OAF_Sad/OAF_walk_sad.wav  \n",
            "  inflating: TESS/OAF_Sad/OAF_wash_sad.wav  \n",
            "  inflating: TESS/OAF_Sad/OAF_week_sad.wav  \n",
            "  inflating: TESS/OAF_Sad/OAF_wheat_sad.wav  \n",
            "  inflating: TESS/OAF_Sad/OAF_when_sad.wav  \n",
            "  inflating: TESS/OAF_Sad/OAF_which_sad.wav  \n",
            "  inflating: TESS/OAF_Sad/OAF_whip_sad.wav  \n",
            "  inflating: TESS/OAF_Sad/OAF_white_sad.wav  \n",
            "  inflating: TESS/OAF_Sad/OAF_wife_sad.wav  \n",
            "  inflating: TESS/OAF_Sad/OAF_wire_sad.wav  \n",
            "  inflating: TESS/OAF_Sad/OAF_witch_sad.wav  \n",
            "  inflating: TESS/OAF_Sad/OAF_yearn_sad.wav  \n",
            "  inflating: TESS/OAF_Sad/OAF_yes_sad.wav  \n",
            "  inflating: TESS/OAF_Sad/OAF_young_sad.wav  \n",
            "  inflating: TESS/OAF_Sad/OAF_youth_sad.wav  \n",
            "   creating: TESS/YAF_angry/\n",
            "  inflating: TESS/YAF_angry/YAF_back_angry.wav  \n",
            "  inflating: TESS/YAF_angry/YAF_bar_angry.wav  \n",
            "  inflating: TESS/YAF_angry/YAF_base_angry.wav  \n",
            "  inflating: TESS/YAF_angry/YAF_bath_angry.wav  \n",
            "  inflating: TESS/YAF_angry/YAF_bean_angry.wav  \n",
            "  inflating: TESS/YAF_angry/YAF_beg_angry.wav  \n",
            "  inflating: TESS/YAF_angry/YAF_bite_angry.wav  \n",
            "  inflating: TESS/YAF_angry/YAF_boat_angry.wav  \n",
            "  inflating: TESS/YAF_angry/YAF_bone_angry.wav  \n",
            "  inflating: TESS/YAF_angry/YAF_book_angry.wav  \n",
            "  inflating: TESS/YAF_angry/YAF_bought_angry.wav  \n",
            "  inflating: TESS/YAF_angry/YAF_burn_angry.wav  \n",
            "  inflating: TESS/YAF_angry/YAF_cab_angry.wav  \n",
            "  inflating: TESS/YAF_angry/YAF_calm_angry.wav  \n",
            "  inflating: TESS/YAF_angry/YAF_came_angry.wav  \n",
            "  inflating: TESS/YAF_angry/YAF_cause_angry.wav  \n",
            "  inflating: TESS/YAF_angry/YAF_chain_angry.wav  \n",
            "  inflating: TESS/YAF_angry/YAF_chair_angry.wav  \n",
            "  inflating: TESS/YAF_angry/YAF_chalk_angry.wav  \n",
            "  inflating: TESS/YAF_angry/YAF_chat_angry.wav  \n",
            "  inflating: TESS/YAF_angry/YAF_check_angry.wav  \n",
            "  inflating: TESS/YAF_angry/YAF_cheek_angry.wav  \n",
            "  inflating: TESS/YAF_angry/YAF_chief_angry.wav  \n",
            "  inflating: TESS/YAF_angry/YAF_choice_angry.wav  \n",
            "  inflating: TESS/YAF_angry/YAF_cool_angry.wav  \n",
            "  inflating: TESS/YAF_angry/YAF_dab_angry.wav  \n",
            "  inflating: TESS/YAF_angry/YAF_date_angry.wav  \n",
            "  inflating: TESS/YAF_angry/YAF_dead_angry.wav  \n",
            "  inflating: TESS/YAF_angry/YAF_death_angry.wav  \n",
            "  inflating: TESS/YAF_angry/YAF_deep_angry.wav  \n",
            "  inflating: TESS/YAF_angry/YAF_dime_angry.wav  \n",
            "  inflating: TESS/YAF_angry/YAF_dip_angry.wav  \n",
            "  inflating: TESS/YAF_angry/YAF_ditch_angry.wav  \n",
            "  inflating: TESS/YAF_angry/YAF_dodge_angry.wav  \n",
            "  inflating: TESS/YAF_angry/YAF_dog_angry.wav  \n",
            "  inflating: TESS/YAF_angry/YAF_doll_angry.wav  \n",
            "  inflating: TESS/YAF_angry/YAF_door_angry.wav  \n",
            "  inflating: TESS/YAF_angry/YAF_fail_angry.wav  \n",
            "  inflating: TESS/YAF_angry/YAF_fall_angry.wav  \n",
            "  inflating: TESS/YAF_angry/YAF_far_angry.wav  \n",
            "  inflating: TESS/YAF_angry/YAF_fat_angry.wav  \n",
            "  inflating: TESS/YAF_angry/YAF_fit_angry.wav  \n",
            "  inflating: TESS/YAF_angry/YAF_five_angry.wav  \n",
            "  inflating: TESS/YAF_angry/YAF_food_angry.wav  \n",
            "  inflating: TESS/YAF_angry/YAF_gap_angry.wav  \n",
            "  inflating: TESS/YAF_angry/YAF_gas_angry.wav  \n",
            "  inflating: TESS/YAF_angry/YAF_gaze_angry.wav  \n",
            "  inflating: TESS/YAF_angry/YAF_germ_angry.wav  \n",
            "  inflating: TESS/YAF_angry/YAF_get_angry.wav  \n",
            "  inflating: TESS/YAF_angry/YAF_gin_angry.wav  \n",
            "  inflating: TESS/YAF_angry/YAF_goal_angry.wav  \n",
            "  inflating: TESS/YAF_angry/YAF_good_angry.wav  \n",
            "  inflating: TESS/YAF_angry/YAF_goose_angry.wav  \n",
            "  inflating: TESS/YAF_angry/YAF_gun_angry.wav  \n",
            "  inflating: TESS/YAF_angry/YAF_half_angry.wav  \n",
            "  inflating: TESS/YAF_angry/YAF_hall_angry.wav  \n",
            "  inflating: TESS/YAF_angry/YAF_hash_angry.wav  \n",
            "  inflating: TESS/YAF_angry/YAF_hate_angry.wav  \n",
            "  inflating: TESS/YAF_angry/YAF_have_angry.wav  \n",
            "  inflating: TESS/YAF_angry/YAF_haze_angry.wav  \n",
            "  inflating: TESS/YAF_angry/YAF_hire_angry.wav  \n",
            "  inflating: TESS/YAF_angry/YAF_hit_angry.wav  \n",
            "  inflating: TESS/YAF_angry/YAF_hole_angry.wav  \n",
            "  inflating: TESS/YAF_angry/YAF_home_angry.wav  \n",
            "  inflating: TESS/YAF_angry/YAF_hurl_angry.wav  \n",
            "  inflating: TESS/YAF_angry/YAF_hush_angry.wav  \n",
            "  inflating: TESS/YAF_angry/YAF_jail_angry.wav  \n",
            "  inflating: TESS/YAF_angry/YAF_jar_angry.wav  \n",
            "  inflating: TESS/YAF_angry/YAF_join_angry.wav  \n",
            "  inflating: TESS/YAF_angry/YAF_judge_angry.wav  \n",
            "  inflating: TESS/YAF_angry/YAF_jug_angry.wav  \n",
            "  inflating: TESS/YAF_angry/YAF_juice_angry.wav  \n",
            "  inflating: TESS/YAF_angry/YAF_keen_angry.wav  \n",
            "  inflating: TESS/YAF_angry/YAF_keep_angry.wav  \n",
            "  inflating: TESS/YAF_angry/YAF_keg_angry.wav  \n",
            "  inflating: TESS/YAF_angry/YAF_kick_angry.wav  \n",
            "  inflating: TESS/YAF_angry/YAF_kill_angry.wav  \n",
            "  inflating: TESS/YAF_angry/YAF_king_angry.wav  \n",
            "  inflating: TESS/YAF_angry/YAF_kite_angry.wav  \n",
            "  inflating: TESS/YAF_angry/YAF_knock_angry.wav  \n",
            "  inflating: TESS/YAF_angry/YAF_late_angry.wav  \n",
            "  inflating: TESS/YAF_angry/YAF_laud_angry.wav  \n",
            "  inflating: TESS/YAF_angry/YAF_lean_angry.wav  \n",
            "  inflating: TESS/YAF_angry/YAF_learn_angry.wav  \n",
            "  inflating: TESS/YAF_angry/YAF_lease_angry.wav  \n",
            "  inflating: TESS/YAF_angry/YAF_lid_angry.wav  \n",
            "  inflating: TESS/YAF_angry/YAF_life_angry.wav  \n",
            "  inflating: TESS/YAF_angry/YAF_limb_angry.wav  \n",
            "  inflating: TESS/YAF_angry/YAF_live_angry.wav  \n",
            "  inflating: TESS/YAF_angry/YAF_loaf_angry.wav  \n",
            "  inflating: TESS/YAF_angry/YAF_long_angry.wav  \n",
            "  inflating: TESS/YAF_angry/YAF_lore_angry.wav  \n",
            "  inflating: TESS/YAF_angry/YAF_lose_angry.wav  \n",
            "  inflating: TESS/YAF_angry/YAF_lot_angry.wav  \n",
            "  inflating: TESS/YAF_angry/YAF_love_angry.wav  \n",
            "  inflating: TESS/YAF_angry/YAF_luck_angry.wav  \n",
            "  inflating: TESS/YAF_angry/YAF_make_angry.wav  \n",
            "  inflating: TESS/YAF_angry/YAF_match_angry.wav  \n",
            "  inflating: TESS/YAF_angry/YAF_merge_angry.wav  \n",
            "  inflating: TESS/YAF_angry/YAF_mess_angry.wav  \n",
            "  inflating: TESS/YAF_angry/YAF_met_angry.wav  \n",
            "  inflating: TESS/YAF_angry/YAF_mill_angry.wav  \n",
            "  inflating: TESS/YAF_angry/YAF_mob_angry.wav  \n",
            "  inflating: TESS/YAF_angry/YAF_mode_angry.wav  \n",
            "  inflating: TESS/YAF_angry/YAF_mood_angry.wav  \n",
            "  inflating: TESS/YAF_angry/YAF_moon_angry.wav  \n",
            "  inflating: TESS/YAF_angry/YAF_mop_angry.wav  \n",
            "  inflating: TESS/YAF_angry/YAF_mouse_angry.wav  \n",
            "  inflating: TESS/YAF_angry/YAF_nag_angry.wav  \n",
            "  inflating: TESS/YAF_angry/YAF_name_angry.wav  \n",
            "  inflating: TESS/YAF_angry/YAF_near_angry.wav  \n",
            "  inflating: TESS/YAF_angry/YAF_neat_angry.wav  \n",
            "  inflating: TESS/YAF_angry/YAF_nice_angry.wav  \n",
            "  inflating: TESS/YAF_angry/YAF_note_angry.wav  \n",
            "  inflating: TESS/YAF_angry/YAF_numb_angry.wav  \n",
            "  inflating: TESS/YAF_angry/YAF_pad_angry.wav  \n",
            "  inflating: TESS/YAF_angry/YAF_page_angry.wav  \n",
            "  inflating: TESS/YAF_angry/YAF_pain_angry.wav  \n",
            "  inflating: TESS/YAF_angry/YAF_pass_angry.wav  \n",
            "  inflating: TESS/YAF_angry/YAF_pearl_angry.wav  \n",
            "  inflating: TESS/YAF_angry/YAF_peg_angry.wav  \n",
            "  inflating: TESS/YAF_angry/YAF_perch_angry.wav  \n",
            "  inflating: TESS/YAF_angry/YAF_phone_angry.wav  \n",
            "  inflating: TESS/YAF_angry/YAF_pick_angry.wav  \n",
            "  inflating: TESS/YAF_angry/YAF_pike_angry.wav  \n",
            "  inflating: TESS/YAF_angry/YAF_pole_angry.wav  \n",
            "  inflating: TESS/YAF_angry/YAF_pool_angry.wav  \n",
            "  inflating: TESS/YAF_angry/YAF_puff_angry.wav  \n",
            "  inflating: TESS/YAF_angry/YAF_rag_angry.wav  \n",
            "  inflating: TESS/YAF_angry/YAF_raid_angry.wav  \n",
            "  inflating: TESS/YAF_angry/YAF_rain_angry.wav  \n",
            "  inflating: TESS/YAF_angry/YAF_raise_angry.wav  \n",
            "  inflating: TESS/YAF_angry/YAF_rat_angry.wav  \n",
            "  inflating: TESS/YAF_angry/YAF_reach_angry.wav  \n",
            "  inflating: TESS/YAF_angry/YAF_read_angry.wav  \n",
            "  inflating: TESS/YAF_angry/YAF_red_angry.wav  \n",
            "  inflating: TESS/YAF_angry/YAF_ring_angry.wav  \n",
            "  inflating: TESS/YAF_angry/YAF_ripe_angry.wav  \n",
            "  inflating: TESS/YAF_angry/YAF_road_angry.wav  \n",
            "  inflating: TESS/YAF_angry/YAF_room_angry.wav  \n",
            "  inflating: TESS/YAF_angry/YAF_rose_angry.wav  \n",
            "  inflating: TESS/YAF_angry/YAF_rot_angry.wav  \n",
            "  inflating: TESS/YAF_angry/YAF_rough_angry.wav  \n",
            "  inflating: TESS/YAF_angry/YAF_rush_angry.wav  \n",
            "  inflating: TESS/YAF_angry/YAF_said_angry.wav  \n",
            "  inflating: TESS/YAF_angry/YAF_sail_angry.wav  \n",
            "  inflating: TESS/YAF_angry/YAF_search_angry.wav  \n",
            "  inflating: TESS/YAF_angry/YAF_seize_angry.wav  \n",
            "  inflating: TESS/YAF_angry/YAF_sell_angry.wav  \n",
            "  inflating: TESS/YAF_angry/YAF_shack_angry.wav  \n",
            "  inflating: TESS/YAF_angry/YAF_shall_angry.wav  \n",
            "  inflating: TESS/YAF_angry/YAF_shawl_angry.wav  \n",
            "  inflating: TESS/YAF_angry/YAF_sheep_angry.wav  \n",
            "  inflating: TESS/YAF_angry/YAF_shirt_angry.wav  \n",
            "  inflating: TESS/YAF_angry/YAF_should_angry.wav  \n",
            "  inflating: TESS/YAF_angry/YAF_shout_angry.wav  \n",
            "  inflating: TESS/YAF_angry/YAF_size_angry.wav  \n",
            "  inflating: TESS/YAF_angry/YAF_soap_angry.wav  \n",
            "  inflating: TESS/YAF_angry/YAF_soup_angry.wav  \n",
            "  inflating: TESS/YAF_angry/YAF_sour_angry.wav  \n",
            "  inflating: TESS/YAF_angry/YAF_south_angry.wav  \n",
            "  inflating: TESS/YAF_angry/YAF_sub_angry.wav  \n",
            "  inflating: TESS/YAF_angry/YAF_such_angry.wav  \n",
            "  inflating: TESS/YAF_angry/YAF_sure_angry.wav  \n",
            "  inflating: TESS/YAF_angry/YAF_take_angry.wav  \n",
            "  inflating: TESS/YAF_angry/YAF_talk_angry.wav  \n",
            "  inflating: TESS/YAF_angry/YAF_tape_angry.wav  \n",
            "  inflating: TESS/YAF_angry/YAF_team_angry.wav  \n",
            "  inflating: TESS/YAF_angry/YAF_tell_angry.wav  \n",
            "  inflating: TESS/YAF_angry/YAF_thin_angry.wav  \n",
            "  inflating: TESS/YAF_angry/YAF_third_angry.wav  \n",
            "  inflating: TESS/YAF_angry/YAF_thought_angry.wav  \n",
            "  inflating: TESS/YAF_angry/YAF_thumb_angry.wav  \n",
            "  inflating: TESS/YAF_angry/YAF_time_angry.wav  \n",
            "  inflating: TESS/YAF_angry/YAF_tip_angry.wav  \n",
            "  inflating: TESS/YAF_angry/YAF_tire_angry.wav  \n",
            "  inflating: TESS/YAF_angry/YAF_ton_angry.wav  \n",
            "  inflating: TESS/YAF_angry/YAF_tool_angry.wav  \n",
            "  inflating: TESS/YAF_angry/YAF_tough_angry.wav  \n",
            "  inflating: TESS/YAF_angry/YAF_turn_angry.wav  \n",
            "  inflating: TESS/YAF_angry/YAF_vine_angry.wav  \n",
            "  inflating: TESS/YAF_angry/YAF_voice_angry.wav  \n",
            "  inflating: TESS/YAF_angry/YAF_void_angry.wav  \n",
            "  inflating: TESS/YAF_angry/YAF_vote_angry.wav  \n",
            "  inflating: TESS/YAF_angry/YAF_wag_angry.wav  \n",
            "  inflating: TESS/YAF_angry/YAF_walk_angry.wav  \n",
            "  inflating: TESS/YAF_angry/YAF_wash_angry.wav  \n",
            "  inflating: TESS/YAF_angry/YAF_week_angry.wav  \n",
            "  inflating: TESS/YAF_angry/YAF_wheat_angry.wav  \n",
            "  inflating: TESS/YAF_angry/YAF_when_angry.wav  \n",
            "  inflating: TESS/YAF_angry/YAF_which_angry.wav  \n",
            "  inflating: TESS/YAF_angry/YAF_whip_angry.wav  \n",
            "  inflating: TESS/YAF_angry/YAF_white_angry.wav  \n",
            "  inflating: TESS/YAF_angry/YAF_wife_angry.wav  \n",
            "  inflating: TESS/YAF_angry/YAF_wire_angry.wav  \n",
            "  inflating: TESS/YAF_angry/YAF_witch_angry.wav  \n",
            "  inflating: TESS/YAF_angry/YAF_yearn_angry.wav  \n",
            "  inflating: TESS/YAF_angry/YAF_yes_angry.wav  \n",
            "  inflating: TESS/YAF_angry/YAF_young_angry.wav  \n",
            "  inflating: TESS/YAF_angry/YAF_youth_angry.wav  \n",
            "   creating: TESS/YAF_disgust/\n",
            "  inflating: TESS/YAF_disgust/YAF_back_disgust.wav  \n",
            "  inflating: TESS/YAF_disgust/YAF_bar_disgust.wav  \n",
            "  inflating: TESS/YAF_disgust/YAF_base_disgust.wav  \n",
            "  inflating: TESS/YAF_disgust/YAF_bath_disgust.wav  \n",
            "  inflating: TESS/YAF_disgust/YAF_bean_disgust.wav  \n",
            "  inflating: TESS/YAF_disgust/YAF_beg_disgust.wav  \n",
            "  inflating: TESS/YAF_disgust/YAF_bite_disgust.wav  \n",
            "  inflating: TESS/YAF_disgust/YAF_boat_disgust.wav  \n",
            "  inflating: TESS/YAF_disgust/YAF_bone_disgust.wav  \n",
            "  inflating: TESS/YAF_disgust/YAF_book_disgust.wav  \n",
            "  inflating: TESS/YAF_disgust/YAF_bought_disgust.wav  \n",
            "  inflating: TESS/YAF_disgust/YAF_burn_disgust.wav  \n",
            "  inflating: TESS/YAF_disgust/YAF_cab_disgust.wav  \n",
            "  inflating: TESS/YAF_disgust/YAF_calm_disgust.wav  \n",
            "  inflating: TESS/YAF_disgust/YAF_came_disgust.wav  \n",
            "  inflating: TESS/YAF_disgust/YAF_cause_disgust.wav  \n",
            "  inflating: TESS/YAF_disgust/YAF_chain_disgust.wav  \n",
            "  inflating: TESS/YAF_disgust/YAF_chair_disgust.wav  \n",
            "  inflating: TESS/YAF_disgust/YAF_chalk_disgust.wav  \n",
            "  inflating: TESS/YAF_disgust/YAF_chat_disgust.wav  \n",
            "  inflating: TESS/YAF_disgust/YAF_check_disgust.wav  \n",
            "  inflating: TESS/YAF_disgust/YAF_cheek_disgust.wav  \n",
            "  inflating: TESS/YAF_disgust/YAF_chief_disgust.wav  \n",
            "  inflating: TESS/YAF_disgust/YAF_choice_disgust.wav  \n",
            "  inflating: TESS/YAF_disgust/YAF_cool_disgust.wav  \n",
            "  inflating: TESS/YAF_disgust/YAF_dab_disgust.wav  \n",
            "  inflating: TESS/YAF_disgust/YAF_date_disgust.wav  \n",
            "  inflating: TESS/YAF_disgust/YAF_dead_disgust.wav  \n",
            "  inflating: TESS/YAF_disgust/YAF_death_disgust.wav  \n",
            "  inflating: TESS/YAF_disgust/YAF_deep_disgust.wav  \n",
            "  inflating: TESS/YAF_disgust/YAF_dime_disgust.wav  \n",
            "  inflating: TESS/YAF_disgust/YAF_dip_disgust.wav  \n",
            "  inflating: TESS/YAF_disgust/YAF_ditch_disgust.wav  \n",
            "  inflating: TESS/YAF_disgust/YAF_dodge_disgust.wav  \n",
            "  inflating: TESS/YAF_disgust/YAF_dog_disgust.wav  \n",
            "  inflating: TESS/YAF_disgust/YAF_doll_disgust.wav  \n",
            "  inflating: TESS/YAF_disgust/YAF_door_disgust.wav  \n",
            "  inflating: TESS/YAF_disgust/YAF_fail_disgust.wav  \n",
            "  inflating: TESS/YAF_disgust/YAF_fall_disgust.wav  \n",
            "  inflating: TESS/YAF_disgust/YAF_far_disgust.wav  \n",
            "  inflating: TESS/YAF_disgust/YAF_fat_disgust.wav  \n",
            "  inflating: TESS/YAF_disgust/YAF_fit_disgust.wav  \n",
            "  inflating: TESS/YAF_disgust/YAF_five_disgust.wav  \n",
            "  inflating: TESS/YAF_disgust/YAF_food_disgust.wav  \n",
            "  inflating: TESS/YAF_disgust/YAF_gap_disgust.wav  \n",
            "  inflating: TESS/YAF_disgust/YAF_gas_disgust.wav  \n",
            "  inflating: TESS/YAF_disgust/YAF_gaze_disgust.wav  \n",
            "  inflating: TESS/YAF_disgust/YAF_germ_disgust.wav  \n",
            "  inflating: TESS/YAF_disgust/YAF_get_disgust.wav  \n",
            "  inflating: TESS/YAF_disgust/YAF_gin_disgust.wav  \n",
            "  inflating: TESS/YAF_disgust/YAF_goal_disgust.wav  \n",
            "  inflating: TESS/YAF_disgust/YAF_good_disgust.wav  \n",
            "  inflating: TESS/YAF_disgust/YAF_goose_disgust.wav  \n",
            "  inflating: TESS/YAF_disgust/YAF_gun_disgust.wav  \n",
            "  inflating: TESS/YAF_disgust/YAF_half_disgust.wav  \n",
            "  inflating: TESS/YAF_disgust/YAF_hall_disgust.wav  \n",
            "  inflating: TESS/YAF_disgust/YAF_hash_disgust.wav  \n",
            "  inflating: TESS/YAF_disgust/YAF_hate_disgust.wav  \n",
            "  inflating: TESS/YAF_disgust/YAF_have_disgust.wav  \n",
            "  inflating: TESS/YAF_disgust/YAF_haze_disgust.wav  \n",
            "  inflating: TESS/YAF_disgust/YAF_hire_disgust.wav  \n",
            "  inflating: TESS/YAF_disgust/YAF_hit_disgust.wav  \n",
            "  inflating: TESS/YAF_disgust/YAF_hole_disgust.wav  \n",
            "  inflating: TESS/YAF_disgust/YAF_home_disgust.wav  \n",
            "  inflating: TESS/YAF_disgust/YAF_hurl_disgust.wav  \n",
            "  inflating: TESS/YAF_disgust/YAF_hush_disgust.wav  \n",
            "  inflating: TESS/YAF_disgust/YAF_jail_disgust.wav  \n",
            "  inflating: TESS/YAF_disgust/YAF_jar_disgust.wav  \n",
            "  inflating: TESS/YAF_disgust/YAF_join_disgust.wav  \n",
            "  inflating: TESS/YAF_disgust/YAF_judge_disgust.wav  \n",
            "  inflating: TESS/YAF_disgust/YAF_jug_disgust.wav  \n",
            "  inflating: TESS/YAF_disgust/YAF_juice_disgust.wav  \n",
            "  inflating: TESS/YAF_disgust/YAF_keen_disgust.wav  \n",
            "  inflating: TESS/YAF_disgust/YAF_keep_disgust.wav  \n",
            "  inflating: TESS/YAF_disgust/YAF_keg_disgust.wav  \n",
            "  inflating: TESS/YAF_disgust/YAF_kick_disgust.wav  \n",
            "  inflating: TESS/YAF_disgust/YAF_kill_disgust.wav  \n",
            "  inflating: TESS/YAF_disgust/YAF_king_disgust.wav  \n",
            "  inflating: TESS/YAF_disgust/YAF_kite_disgust.wav  \n",
            "  inflating: TESS/YAF_disgust/YAF_knock_disgust.wav  \n",
            "  inflating: TESS/YAF_disgust/YAF_late_disgust.wav  \n",
            "  inflating: TESS/YAF_disgust/YAF_laud_disgust.wav  \n",
            "  inflating: TESS/YAF_disgust/YAF_lean_disgust.wav  \n",
            "  inflating: TESS/YAF_disgust/YAF_learn_disgust.wav  \n",
            "  inflating: TESS/YAF_disgust/YAF_lease_disgust.wav  \n",
            "  inflating: TESS/YAF_disgust/YAF_lid_disgust.wav  \n",
            "  inflating: TESS/YAF_disgust/YAF_life_disgust.wav  \n",
            "  inflating: TESS/YAF_disgust/YAF_limb_disgust.wav  \n",
            "  inflating: TESS/YAF_disgust/YAF_live_disgust.wav  \n",
            "  inflating: TESS/YAF_disgust/YAF_loaf_disgust.wav  \n",
            "  inflating: TESS/YAF_disgust/YAF_long_disgust.wav  \n",
            "  inflating: TESS/YAF_disgust/YAF_lore_disgust.wav  \n",
            "  inflating: TESS/YAF_disgust/YAF_lose_disgust.wav  \n",
            "  inflating: TESS/YAF_disgust/YAF_lot_disgust.wav  \n",
            "  inflating: TESS/YAF_disgust/YAF_love_disgust.wav  \n",
            "  inflating: TESS/YAF_disgust/YAF_luck_disgust.wav  \n",
            "  inflating: TESS/YAF_disgust/YAF_make_disgust.wav  \n",
            "  inflating: TESS/YAF_disgust/YAF_match_disgust.wav  \n",
            "  inflating: TESS/YAF_disgust/YAF_merge_disgust.wav  \n",
            "  inflating: TESS/YAF_disgust/YAF_mess_disgust.wav  \n",
            "  inflating: TESS/YAF_disgust/YAF_met_disgust.wav  \n",
            "  inflating: TESS/YAF_disgust/YAF_mill_disgust.wav  \n",
            "  inflating: TESS/YAF_disgust/YAF_mob_disgust.wav  \n",
            "  inflating: TESS/YAF_disgust/YAF_mode_disgust.wav  \n",
            "  inflating: TESS/YAF_disgust/YAF_mood_disgust.wav  \n",
            "  inflating: TESS/YAF_disgust/YAF_moon_disgust.wav  \n",
            "  inflating: TESS/YAF_disgust/YAF_mop_disgust.wav  \n",
            "  inflating: TESS/YAF_disgust/YAF_mouse_disgust.wav  \n",
            "  inflating: TESS/YAF_disgust/YAF_nag_disgust.wav  \n",
            "  inflating: TESS/YAF_disgust/YAF_name_disgust.wav  \n",
            "  inflating: TESS/YAF_disgust/YAF_near_disgust.wav  \n",
            "  inflating: TESS/YAF_disgust/YAF_neat_disgust.wav  \n",
            "  inflating: TESS/YAF_disgust/YAF_nice_disgust.wav  \n",
            "  inflating: TESS/YAF_disgust/YAF_note_disgust.wav  \n",
            "  inflating: TESS/YAF_disgust/YAF_numb_disgust.wav  \n",
            "  inflating: TESS/YAF_disgust/YAF_pad_disgust.wav  \n",
            "  inflating: TESS/YAF_disgust/YAF_page_disgust.wav  \n",
            "  inflating: TESS/YAF_disgust/YAF_pain_disgust.wav  \n",
            "  inflating: TESS/YAF_disgust/YAF_pass_disgust.wav  \n",
            "  inflating: TESS/YAF_disgust/YAF_pearl_disgust.wav  \n",
            "  inflating: TESS/YAF_disgust/YAF_peg_disgust.wav  \n",
            "  inflating: TESS/YAF_disgust/YAF_perch_disgust.wav  \n",
            "  inflating: TESS/YAF_disgust/YAF_phone_disgust.wav  \n",
            "  inflating: TESS/YAF_disgust/YAF_pick_disgust.wav  \n",
            "  inflating: TESS/YAF_disgust/YAF_pike_disgust.wav  \n",
            "  inflating: TESS/YAF_disgust/YAF_pole_disgust.wav  \n",
            "  inflating: TESS/YAF_disgust/YAF_pool_disgust.wav  \n",
            "  inflating: TESS/YAF_disgust/YAF_puff_disgust.wav  \n",
            "  inflating: TESS/YAF_disgust/YAF_rag_disgust.wav  \n",
            "  inflating: TESS/YAF_disgust/YAF_raid_disgust.wav  \n",
            "  inflating: TESS/YAF_disgust/YAF_rain_disgust.wav  \n",
            "  inflating: TESS/YAF_disgust/YAF_raise_disgust.wav  \n",
            "  inflating: TESS/YAF_disgust/YAF_rat_disgust.wav  \n",
            "  inflating: TESS/YAF_disgust/YAF_reach_disgust.wav  \n",
            "  inflating: TESS/YAF_disgust/YAF_read_disgust.wav  \n",
            "  inflating: TESS/YAF_disgust/YAF_red_disgust.wav  \n",
            "  inflating: TESS/YAF_disgust/YAF_ring_disgust.wav  \n",
            "  inflating: TESS/YAF_disgust/YAF_ripe_disgust.wav  \n",
            "  inflating: TESS/YAF_disgust/YAF_road_disgust.wav  \n",
            "  inflating: TESS/YAF_disgust/YAF_room_disgust.wav  \n",
            "  inflating: TESS/YAF_disgust/YAF_rose_disgust.wav  \n",
            "  inflating: TESS/YAF_disgust/YAF_rot_disgust.wav  \n",
            "  inflating: TESS/YAF_disgust/YAF_rough_disgust.wav  \n",
            "  inflating: TESS/YAF_disgust/YAF_rush_disgust.wav  \n",
            "  inflating: TESS/YAF_disgust/YAF_said_disgust.wav  \n",
            "  inflating: TESS/YAF_disgust/YAF_sail_disgust.wav  \n",
            "  inflating: TESS/YAF_disgust/YAF_search_disgust.wav  \n",
            "  inflating: TESS/YAF_disgust/YAF_seize_disgust.wav  \n",
            "  inflating: TESS/YAF_disgust/YAF_sell_disgust.wav  \n",
            "  inflating: TESS/YAF_disgust/YAF_shack_disgust.wav  \n",
            "  inflating: TESS/YAF_disgust/YAF_shall_disgust.wav  \n",
            "  inflating: TESS/YAF_disgust/YAF_shawl_disgust.wav  \n",
            "  inflating: TESS/YAF_disgust/YAF_sheep_disgust.wav  \n",
            "  inflating: TESS/YAF_disgust/YAF_shirt_disgust.wav  \n",
            "  inflating: TESS/YAF_disgust/YAF_should_disgust.wav  \n",
            "  inflating: TESS/YAF_disgust/YAF_shout_disgust.wav  \n",
            "  inflating: TESS/YAF_disgust/YAF_size_disgust.wav  \n",
            "  inflating: TESS/YAF_disgust/YAF_soap_disgust.wav  \n",
            "  inflating: TESS/YAF_disgust/YAF_soup_disgust.wav  \n",
            "  inflating: TESS/YAF_disgust/YAF_sour_disgust.wav  \n",
            "  inflating: TESS/YAF_disgust/YAF_south_disgust.wav  \n",
            "  inflating: TESS/YAF_disgust/YAF_sub_disgust.wav  \n",
            "  inflating: TESS/YAF_disgust/YAF_such_disgust.wav  \n",
            "  inflating: TESS/YAF_disgust/YAF_sure_disgust.wav  \n",
            "  inflating: TESS/YAF_disgust/YAF_take_disgust.wav  \n",
            "  inflating: TESS/YAF_disgust/YAF_talk_disgust.wav  \n",
            "  inflating: TESS/YAF_disgust/YAF_tape_disgust.wav  \n",
            "  inflating: TESS/YAF_disgust/YAF_team_disgust.wav  \n",
            "  inflating: TESS/YAF_disgust/YAF_tell_disgust.wav  \n",
            "  inflating: TESS/YAF_disgust/YAF_thin_disgust.wav  \n",
            "  inflating: TESS/YAF_disgust/YAF_third_disgust.wav  \n",
            "  inflating: TESS/YAF_disgust/YAF_thought_disgust.wav  \n",
            "  inflating: TESS/YAF_disgust/YAF_thumb_disgust.wav  \n",
            "  inflating: TESS/YAF_disgust/YAF_time_disgust.wav  \n",
            "  inflating: TESS/YAF_disgust/YAF_tip_disgust.wav  \n",
            "  inflating: TESS/YAF_disgust/YAF_tire_disgust.wav  \n",
            "  inflating: TESS/YAF_disgust/YAF_ton_disgust.wav  \n",
            "  inflating: TESS/YAF_disgust/YAF_tool_disgust.wav  \n",
            "  inflating: TESS/YAF_disgust/YAF_tough_disgust.wav  \n",
            "  inflating: TESS/YAF_disgust/YAF_turn_disgust.wav  \n",
            "  inflating: TESS/YAF_disgust/YAF_vine_disgust.wav  \n",
            "  inflating: TESS/YAF_disgust/YAF_voice_disgust.wav  \n",
            "  inflating: TESS/YAF_disgust/YAF_void_disgust.wav  \n",
            "  inflating: TESS/YAF_disgust/YAF_vote_disgust.wav  \n",
            "  inflating: TESS/YAF_disgust/YAF_wag_disgust.wav  \n",
            "  inflating: TESS/YAF_disgust/YAF_walk_disgust.wav  \n",
            "  inflating: TESS/YAF_disgust/YAF_wash_disgust.wav  \n",
            "  inflating: TESS/YAF_disgust/YAF_week_disgust.wav  \n",
            "  inflating: TESS/YAF_disgust/YAF_wheat_disgust.wav  \n",
            "  inflating: TESS/YAF_disgust/YAF_when_disgust.wav  \n",
            "  inflating: TESS/YAF_disgust/YAF_which_disgust.wav  \n",
            "  inflating: TESS/YAF_disgust/YAF_whip_disgust.wav  \n",
            "  inflating: TESS/YAF_disgust/YAF_white_disgust.wav  \n",
            "  inflating: TESS/YAF_disgust/YAF_wife_disgust.wav  \n",
            "  inflating: TESS/YAF_disgust/YAF_wire_disgust.wav  \n",
            "  inflating: TESS/YAF_disgust/YAF_witch_disgust.wav  \n",
            "  inflating: TESS/YAF_disgust/YAF_yearn_disgust.wav  \n",
            "  inflating: TESS/YAF_disgust/YAF_yes_disgust.wav  \n",
            "  inflating: TESS/YAF_disgust/YAF_young_disgust.wav  \n",
            "  inflating: TESS/YAF_disgust/YAF_youth_disgust.wav  \n",
            "   creating: TESS/YAF_fear/\n",
            "  inflating: TESS/YAF_fear/YAF_back_fear.wav  \n",
            "  inflating: TESS/YAF_fear/YAF_bar_fear.wav  \n",
            "  inflating: TESS/YAF_fear/YAF_base_fear.wav  \n",
            "  inflating: TESS/YAF_fear/YAF_bath_fear.wav  \n",
            "  inflating: TESS/YAF_fear/YAF_bean_fear.wav  \n",
            "  inflating: TESS/YAF_fear/YAF_beg_fear.wav  \n",
            "  inflating: TESS/YAF_fear/YAF_bite_fear.wav  \n",
            "  inflating: TESS/YAF_fear/YAF_boat_fear.wav  \n",
            "  inflating: TESS/YAF_fear/YAF_bone_fear.wav  \n",
            "  inflating: TESS/YAF_fear/YAF_book_fear.wav  \n",
            "  inflating: TESS/YAF_fear/YAF_bought_fear.wav  \n",
            "  inflating: TESS/YAF_fear/YAF_burn_fear.wav  \n",
            "  inflating: TESS/YAF_fear/YAF_cab_fear.wav  \n",
            "  inflating: TESS/YAF_fear/YAF_calm_fear.wav  \n",
            "  inflating: TESS/YAF_fear/YAF_came_fear.wav  \n",
            "  inflating: TESS/YAF_fear/YAF_cause_fear.wav  \n",
            "  inflating: TESS/YAF_fear/YAF_chain_fear.wav  \n",
            "  inflating: TESS/YAF_fear/YAF_chair_fear.wav  \n",
            "  inflating: TESS/YAF_fear/YAF_chalk_fear.wav  \n",
            "  inflating: TESS/YAF_fear/YAF_chat_fear.wav  \n",
            "  inflating: TESS/YAF_fear/YAF_check_fear.wav  \n",
            "  inflating: TESS/YAF_fear/YAF_cheek_fear.wav  \n",
            "  inflating: TESS/YAF_fear/YAF_chief_fear.wav  \n",
            "  inflating: TESS/YAF_fear/YAF_choice_fear.wav  \n",
            "  inflating: TESS/YAF_fear/YAF_cool_fear.wav  \n",
            "  inflating: TESS/YAF_fear/YAF_dab_fear.wav  \n",
            "  inflating: TESS/YAF_fear/YAF_date_fear.wav  \n",
            "  inflating: TESS/YAF_fear/YAF_dead_fear.wav  \n",
            "  inflating: TESS/YAF_fear/YAF_death_fear.wav  \n",
            "  inflating: TESS/YAF_fear/YAF_deep_fear.wav  \n",
            "  inflating: TESS/YAF_fear/YAF_dime_fear.wav  \n",
            "  inflating: TESS/YAF_fear/YAF_dip_fear.wav  \n",
            "  inflating: TESS/YAF_fear/YAF_ditch_fear.wav  \n",
            "  inflating: TESS/YAF_fear/YAF_dodge_fear.wav  \n",
            "  inflating: TESS/YAF_fear/YAF_dog_fear.wav  \n",
            "  inflating: TESS/YAF_fear/YAF_doll_fear.wav  \n",
            "  inflating: TESS/YAF_fear/YAF_door_fear.wav  \n",
            "  inflating: TESS/YAF_fear/YAF_fail_fear.wav  \n",
            "  inflating: TESS/YAF_fear/YAF_fall_fear.wav  \n",
            "  inflating: TESS/YAF_fear/YAF_far_fear.wav  \n",
            "  inflating: TESS/YAF_fear/YAF_fat_fear.wav  \n",
            "  inflating: TESS/YAF_fear/YAF_fit_fear.wav  \n",
            "  inflating: TESS/YAF_fear/YAF_five_fear.wav  \n",
            "  inflating: TESS/YAF_fear/YAF_food_fear.wav  \n",
            "  inflating: TESS/YAF_fear/YAF_gap_fear.wav  \n",
            "  inflating: TESS/YAF_fear/YAF_gas_fear.wav  \n",
            "  inflating: TESS/YAF_fear/YAF_gaze_fear.wav  \n",
            "  inflating: TESS/YAF_fear/YAF_germ_fear.wav  \n",
            "  inflating: TESS/YAF_fear/YAF_get_fear.wav  \n",
            "  inflating: TESS/YAF_fear/YAF_gin_fear.wav  \n",
            "  inflating: TESS/YAF_fear/YAF_goal_fear.wav  \n",
            "  inflating: TESS/YAF_fear/YAF_good_fear.wav  \n",
            "  inflating: TESS/YAF_fear/YAF_goose_fear.wav  \n",
            "  inflating: TESS/YAF_fear/YAF_gun_fear.wav  \n",
            "  inflating: TESS/YAF_fear/YAF_half_fear.wav  \n",
            "  inflating: TESS/YAF_fear/YAF_hall_fear.wav  \n",
            "  inflating: TESS/YAF_fear/YAF_hash_fear.wav  \n",
            "  inflating: TESS/YAF_fear/YAF_hate_fear.wav  \n",
            "  inflating: TESS/YAF_fear/YAF_have_fear.wav  \n",
            "  inflating: TESS/YAF_fear/YAF_haze_fear.wav  \n",
            "  inflating: TESS/YAF_fear/YAF_hire_fear.wav  \n",
            "  inflating: TESS/YAF_fear/YAF_hit_fear.wav  \n",
            "  inflating: TESS/YAF_fear/YAF_hole_fear.wav  \n",
            "  inflating: TESS/YAF_fear/YAF_home_fear.wav  \n",
            "  inflating: TESS/YAF_fear/YAF_hurl_fear.wav  \n",
            "  inflating: TESS/YAF_fear/YAF_hush_fear.wav  \n",
            "  inflating: TESS/YAF_fear/YAF_jail_fear.wav  \n",
            "  inflating: TESS/YAF_fear/YAF_jar_fear.wav  \n",
            "  inflating: TESS/YAF_fear/YAF_join_fear.wav  \n",
            "  inflating: TESS/YAF_fear/YAF_judge_fear.wav  \n",
            "  inflating: TESS/YAF_fear/YAF_jug_fear.wav  \n",
            "  inflating: TESS/YAF_fear/YAF_juice_fear.wav  \n",
            "  inflating: TESS/YAF_fear/YAF_keen_fear.wav  \n",
            "  inflating: TESS/YAF_fear/YAF_keep_fear.wav  \n",
            "  inflating: TESS/YAF_fear/YAF_keg_fear.wav  \n",
            "  inflating: TESS/YAF_fear/YAF_kick_fear.wav  \n",
            "  inflating: TESS/YAF_fear/YAF_kill_fear.wav  \n",
            "  inflating: TESS/YAF_fear/YAF_king_fear.wav  \n",
            "  inflating: TESS/YAF_fear/YAF_kite_fear.wav  \n",
            "  inflating: TESS/YAF_fear/YAF_knock_fear.wav  \n",
            "  inflating: TESS/YAF_fear/YAF_late_fear.wav  \n",
            "  inflating: TESS/YAF_fear/YAF_laud_fear.wav  \n",
            "  inflating: TESS/YAF_fear/YAF_lean_fear.wav  \n",
            "  inflating: TESS/YAF_fear/YAF_learn_fear.wav  \n",
            "  inflating: TESS/YAF_fear/YAF_lease_fear.wav  \n",
            "  inflating: TESS/YAF_fear/YAF_lid_fear.wav  \n",
            "  inflating: TESS/YAF_fear/YAF_life_fear.wav  \n",
            "  inflating: TESS/YAF_fear/YAF_limb_fear.wav  \n",
            "  inflating: TESS/YAF_fear/YAF_live_fear.wav  \n",
            "  inflating: TESS/YAF_fear/YAF_loaf_fear.wav  \n",
            "  inflating: TESS/YAF_fear/YAF_long_fear.wav  \n",
            "  inflating: TESS/YAF_fear/YAF_lore_fear.wav  \n",
            "  inflating: TESS/YAF_fear/YAF_lose_fear.wav  \n",
            "  inflating: TESS/YAF_fear/YAF_lot_fear.wav  \n",
            "  inflating: TESS/YAF_fear/YAF_love_fear.wav  \n",
            "  inflating: TESS/YAF_fear/YAF_luck_fear.wav  \n",
            "  inflating: TESS/YAF_fear/YAF_make_fear.wav  \n",
            "  inflating: TESS/YAF_fear/YAF_match_fear.wav  \n",
            "  inflating: TESS/YAF_fear/YAF_merge_fear.wav  \n",
            "  inflating: TESS/YAF_fear/YAF_mess_fear.wav  \n",
            "  inflating: TESS/YAF_fear/YAF_met_fear.wav  \n",
            "  inflating: TESS/YAF_fear/YAF_mill_fear.wav  \n",
            "  inflating: TESS/YAF_fear/YAF_mob_fear.wav  \n",
            "  inflating: TESS/YAF_fear/YAF_mode_fear.wav  \n",
            "  inflating: TESS/YAF_fear/YAF_mood_fear.wav  \n",
            "  inflating: TESS/YAF_fear/YAF_moon_fear.wav  \n",
            "  inflating: TESS/YAF_fear/YAF_mop_fear.wav  \n",
            "  inflating: TESS/YAF_fear/YAF_mouse_fear.wav  \n",
            "  inflating: TESS/YAF_fear/YAF_nag_fear.wav  \n",
            "  inflating: TESS/YAF_fear/YAF_name_fear.wav  \n",
            "  inflating: TESS/YAF_fear/YAF_near_fear.wav  \n",
            "  inflating: TESS/YAF_fear/YAF_neat_fear.wav  \n",
            "  inflating: TESS/YAF_fear/YAF_nice_fear.wav  \n",
            "  inflating: TESS/YAF_fear/YAF_note_fear.wav  \n",
            "  inflating: TESS/YAF_fear/YAF_numb_fear.wav  \n",
            "  inflating: TESS/YAF_fear/YAF_pad_fear.wav  \n",
            "  inflating: TESS/YAF_fear/YAF_page_fear.wav  \n",
            "  inflating: TESS/YAF_fear/YAF_pain_fear.wav  \n",
            "  inflating: TESS/YAF_fear/YAF_pass_fear.wav  \n",
            "  inflating: TESS/YAF_fear/YAF_pearl_fear.wav  \n",
            "  inflating: TESS/YAF_fear/YAF_peg_fear.wav  \n",
            "  inflating: TESS/YAF_fear/YAF_perch_fear.wav  \n",
            "  inflating: TESS/YAF_fear/YAF_phone_fear.wav  \n",
            "  inflating: TESS/YAF_fear/YAF_pick_fear.wav  \n",
            "  inflating: TESS/YAF_fear/YAF_pike_fear.wav  \n",
            "  inflating: TESS/YAF_fear/YAF_pole_fear.wav  \n",
            "  inflating: TESS/YAF_fear/YAF_pool_fear.wav  \n",
            "  inflating: TESS/YAF_fear/YAF_puff_fear.wav  \n",
            "  inflating: TESS/YAF_fear/YAF_rag_fear.wav  \n",
            "  inflating: TESS/YAF_fear/YAF_raid_fear.wav  \n",
            "  inflating: TESS/YAF_fear/YAF_rain_fear.wav  \n",
            "  inflating: TESS/YAF_fear/YAF_raise_fear.wav  \n",
            "  inflating: TESS/YAF_fear/YAF_rat_fear.wav  \n",
            "  inflating: TESS/YAF_fear/YAF_reach_fear.wav  \n",
            "  inflating: TESS/YAF_fear/YAF_read_fear.wav  \n",
            "  inflating: TESS/YAF_fear/YAF_red_fear.wav  \n",
            "  inflating: TESS/YAF_fear/YAF_ring_fear.wav  \n",
            "  inflating: TESS/YAF_fear/YAF_ripe_fear.wav  \n",
            "  inflating: TESS/YAF_fear/YAF_road_fear.wav  \n",
            "  inflating: TESS/YAF_fear/YAF_room_fear.wav  \n",
            "  inflating: TESS/YAF_fear/YAF_rose_fear.wav  \n",
            "  inflating: TESS/YAF_fear/YAF_rot_fear.wav  \n",
            "  inflating: TESS/YAF_fear/YAF_rough_fear.wav  \n",
            "  inflating: TESS/YAF_fear/YAF_rush_fear.wav  \n",
            "  inflating: TESS/YAF_fear/YAF_said_fear.wav  \n",
            "  inflating: TESS/YAF_fear/YAF_sail_fear.wav  \n",
            "  inflating: TESS/YAF_fear/YAF_search_fear.wav  \n",
            "  inflating: TESS/YAF_fear/YAF_seize_fear.wav  \n",
            "  inflating: TESS/YAF_fear/YAF_sell_fear.wav  \n",
            "  inflating: TESS/YAF_fear/YAF_shack_fear.wav  \n",
            "  inflating: TESS/YAF_fear/YAF_shall_fear.wav  \n",
            "  inflating: TESS/YAF_fear/YAF_shawl_fear.wav  \n",
            "  inflating: TESS/YAF_fear/YAF_sheep_fear.wav  \n",
            "  inflating: TESS/YAF_fear/YAF_shirt_fear.wav  \n",
            "  inflating: TESS/YAF_fear/YAF_should_fear.wav  \n",
            "  inflating: TESS/YAF_fear/YAF_shout_fear.wav  \n",
            "  inflating: TESS/YAF_fear/YAF_size_fear.wav  \n",
            "  inflating: TESS/YAF_fear/YAF_soap_fear.wav  \n",
            "  inflating: TESS/YAF_fear/YAF_soup_fear.wav  \n",
            "  inflating: TESS/YAF_fear/YAF_sour_fear.wav  \n",
            "  inflating: TESS/YAF_fear/YAF_south_fear.wav  \n",
            "  inflating: TESS/YAF_fear/YAF_sub_fear.wav  \n",
            "  inflating: TESS/YAF_fear/YAF_such_fear.wav  \n",
            "  inflating: TESS/YAF_fear/YAF_sure_fear.wav  \n",
            "  inflating: TESS/YAF_fear/YAF_take_fear.wav  \n",
            "  inflating: TESS/YAF_fear/YAF_talk_fear.wav  \n",
            "  inflating: TESS/YAF_fear/YAF_tape_fear.wav  \n",
            "  inflating: TESS/YAF_fear/YAF_team_fear.wav  \n",
            "  inflating: TESS/YAF_fear/YAF_tell_fear.wav  \n",
            "  inflating: TESS/YAF_fear/YAF_thin_fear.wav  \n",
            "  inflating: TESS/YAF_fear/YAF_third_fear.wav  \n",
            "  inflating: TESS/YAF_fear/YAF_thought_fear.wav  \n",
            "  inflating: TESS/YAF_fear/YAF_thumb_fear.wav  \n",
            "  inflating: TESS/YAF_fear/YAF_time_fear.wav  \n",
            "  inflating: TESS/YAF_fear/YAF_tip_fear.wav  \n",
            "  inflating: TESS/YAF_fear/YAF_tire_fear.wav  \n",
            "  inflating: TESS/YAF_fear/YAF_ton_fear.wav  \n",
            "  inflating: TESS/YAF_fear/YAF_tool_fear.wav  \n",
            "  inflating: TESS/YAF_fear/YAF_tough_fear.wav  \n",
            "  inflating: TESS/YAF_fear/YAF_turn_fear.wav  \n",
            "  inflating: TESS/YAF_fear/YAF_vine_fear.wav  \n",
            "  inflating: TESS/YAF_fear/YAF_voice_fear.wav  \n",
            "  inflating: TESS/YAF_fear/YAF_void_fear.wav  \n",
            "  inflating: TESS/YAF_fear/YAF_vote_fear.wav  \n",
            "  inflating: TESS/YAF_fear/YAF_wag_fear.wav  \n",
            "  inflating: TESS/YAF_fear/YAF_walk_fear.wav  \n",
            "  inflating: TESS/YAF_fear/YAF_wash_fear.wav  \n",
            "  inflating: TESS/YAF_fear/YAF_week_fear.wav  \n",
            "  inflating: TESS/YAF_fear/YAF_wheat_fear.wav  \n",
            "  inflating: TESS/YAF_fear/YAF_when_fear.wav  \n",
            "  inflating: TESS/YAF_fear/YAF_which_fear.wav  \n",
            "  inflating: TESS/YAF_fear/YAF_whip_fear.wav  \n",
            "  inflating: TESS/YAF_fear/YAF_white_fear.wav  \n",
            "  inflating: TESS/YAF_fear/YAF_wife_fear.wav  \n",
            "  inflating: TESS/YAF_fear/YAF_wire_fear.wav  \n",
            "  inflating: TESS/YAF_fear/YAF_witch_fear.wav  \n",
            "  inflating: TESS/YAF_fear/YAF_yearn_fear.wav  \n",
            "  inflating: TESS/YAF_fear/YAF_yes_fear.wav  \n",
            "  inflating: TESS/YAF_fear/YAF_young_fear.wav  \n",
            "  inflating: TESS/YAF_fear/YAF_youth_fear.wav  \n",
            "   creating: TESS/YAF_happy/\n",
            "  inflating: TESS/YAF_happy/YAF_back_happy.wav  \n",
            "  inflating: TESS/YAF_happy/YAF_bar_happy.wav  \n",
            "  inflating: TESS/YAF_happy/YAF_base_happy.wav  \n",
            "  inflating: TESS/YAF_happy/YAF_bath_happy.wav  \n",
            "  inflating: TESS/YAF_happy/YAF_bean_happy.wav  \n",
            "  inflating: TESS/YAF_happy/YAF_beg_happy.wav  \n",
            "  inflating: TESS/YAF_happy/YAF_bite_happy.wav  \n",
            "  inflating: TESS/YAF_happy/YAF_boat_happy.wav  \n",
            "  inflating: TESS/YAF_happy/YAF_bone_happy.wav  \n",
            "  inflating: TESS/YAF_happy/YAF_book_happy.wav  \n",
            "  inflating: TESS/YAF_happy/YAF_bought_happy.wav  \n",
            "  inflating: TESS/YAF_happy/YAF_burn_happy.wav  \n",
            "  inflating: TESS/YAF_happy/YAF_cab_happy.wav  \n",
            "  inflating: TESS/YAF_happy/YAF_calm_happy.wav  \n",
            "  inflating: TESS/YAF_happy/YAF_came_happy.wav  \n",
            "  inflating: TESS/YAF_happy/YAF_cause_happy.wav  \n",
            "  inflating: TESS/YAF_happy/YAF_chain_happy.wav  \n",
            "  inflating: TESS/YAF_happy/YAF_chair_happy.wav  \n",
            "  inflating: TESS/YAF_happy/YAF_chalk_happy.wav  \n",
            "  inflating: TESS/YAF_happy/YAF_chat_happy.wav  \n",
            "  inflating: TESS/YAF_happy/YAF_check_happy.wav  \n",
            "  inflating: TESS/YAF_happy/YAF_cheek_happy.wav  \n",
            "  inflating: TESS/YAF_happy/YAF_chief_happy.wav  \n",
            "  inflating: TESS/YAF_happy/YAF_choice_happy.wav  \n",
            "  inflating: TESS/YAF_happy/YAF_cool_happy.wav  \n",
            "  inflating: TESS/YAF_happy/YAF_dab_happy.wav  \n",
            "  inflating: TESS/YAF_happy/YAF_date_happy.wav  \n",
            "  inflating: TESS/YAF_happy/YAF_dead_happy.wav  \n",
            "  inflating: TESS/YAF_happy/YAF_death_happy.wav  \n",
            "  inflating: TESS/YAF_happy/YAF_deep_happy.wav  \n",
            "  inflating: TESS/YAF_happy/YAF_dime_happy.wav  \n",
            "  inflating: TESS/YAF_happy/YAF_dip_happy.wav  \n",
            "  inflating: TESS/YAF_happy/YAF_ditch_happy.wav  \n",
            "  inflating: TESS/YAF_happy/YAF_dodge_happy.wav  \n",
            "  inflating: TESS/YAF_happy/YAF_dog_happy.wav  \n",
            "  inflating: TESS/YAF_happy/YAF_doll_happy.wav  \n",
            "  inflating: TESS/YAF_happy/YAF_door_happy.wav  \n",
            "  inflating: TESS/YAF_happy/YAF_fail_happy.wav  \n",
            "  inflating: TESS/YAF_happy/YAF_fall_happy.wav  \n",
            "  inflating: TESS/YAF_happy/YAF_far_happy.wav  \n",
            "  inflating: TESS/YAF_happy/YAF_fat_happy.wav  \n",
            "  inflating: TESS/YAF_happy/YAF_fit_happy.wav  \n",
            "  inflating: TESS/YAF_happy/YAF_five_happy.wav  \n",
            "  inflating: TESS/YAF_happy/YAF_food_happy.wav  \n",
            "  inflating: TESS/YAF_happy/YAF_gap_happy.wav  \n",
            "  inflating: TESS/YAF_happy/YAF_gas_happy.wav  \n",
            "  inflating: TESS/YAF_happy/YAF_gaze_happy.wav  \n",
            "  inflating: TESS/YAF_happy/YAF_germ_happy.wav  \n",
            "  inflating: TESS/YAF_happy/YAF_get_happy.wav  \n",
            "  inflating: TESS/YAF_happy/YAF_gin_happy.wav  \n",
            "  inflating: TESS/YAF_happy/YAF_goal_happy.wav  \n",
            "  inflating: TESS/YAF_happy/YAF_good_happy.wav  \n",
            "  inflating: TESS/YAF_happy/YAF_goose_happy.wav  \n",
            "  inflating: TESS/YAF_happy/YAF_gun_happy.wav  \n",
            "  inflating: TESS/YAF_happy/YAF_half_happy.wav  \n",
            "  inflating: TESS/YAF_happy/YAF_hall_happy.wav  \n",
            "  inflating: TESS/YAF_happy/YAF_hash_happy.wav  \n",
            "  inflating: TESS/YAF_happy/YAF_hate_happy.wav  \n",
            "  inflating: TESS/YAF_happy/YAF_have_happy.wav  \n",
            "  inflating: TESS/YAF_happy/YAF_haze_happy.wav  \n",
            "  inflating: TESS/YAF_happy/YAF_hire_happy.wav  \n",
            "  inflating: TESS/YAF_happy/YAF_hit_happy.wav  \n",
            "  inflating: TESS/YAF_happy/YAF_hole_happy.wav  \n",
            "  inflating: TESS/YAF_happy/YAF_home_happy.wav  \n",
            "  inflating: TESS/YAF_happy/YAF_hurl_happy.wav  \n",
            "  inflating: TESS/YAF_happy/YAF_hush_happy.wav  \n",
            "  inflating: TESS/YAF_happy/YAF_jail_happy.wav  \n",
            "  inflating: TESS/YAF_happy/YAF_jar_happy.wav  \n",
            "  inflating: TESS/YAF_happy/YAF_join_happy.wav  \n",
            "  inflating: TESS/YAF_happy/YAF_judge_happy.wav  \n",
            "  inflating: TESS/YAF_happy/YAF_jug_happy.wav  \n",
            "  inflating: TESS/YAF_happy/YAF_juice_happy.wav  \n",
            "  inflating: TESS/YAF_happy/YAF_keen_happy.wav  \n",
            "  inflating: TESS/YAF_happy/YAF_keep_happy.wav  \n",
            "  inflating: TESS/YAF_happy/YAF_keg_happy.wav  \n",
            "  inflating: TESS/YAF_happy/YAF_kick_happy.wav  \n",
            "  inflating: TESS/YAF_happy/YAF_kill_happy.wav  \n",
            "  inflating: TESS/YAF_happy/YAF_king_happy.wav  \n",
            "  inflating: TESS/YAF_happy/YAF_kite_happy.wav  \n",
            "  inflating: TESS/YAF_happy/YAF_knock_happy.wav  \n",
            "  inflating: TESS/YAF_happy/YAF_late_happy.wav  \n",
            "  inflating: TESS/YAF_happy/YAF_laud_happy.wav  \n",
            "  inflating: TESS/YAF_happy/YAF_lean_happy.wav  \n",
            "  inflating: TESS/YAF_happy/YAF_learn_happy.wav  \n",
            "  inflating: TESS/YAF_happy/YAF_lease_happy.wav  \n",
            "  inflating: TESS/YAF_happy/YAF_lid_happy.wav  \n",
            "  inflating: TESS/YAF_happy/YAF_life_happy.wav  \n",
            "  inflating: TESS/YAF_happy/YAF_limb_happy.wav  \n",
            "  inflating: TESS/YAF_happy/YAF_live_happy.wav  \n",
            "  inflating: TESS/YAF_happy/YAF_loaf_happy.wav  \n",
            "  inflating: TESS/YAF_happy/YAF_long_happy.wav  \n",
            "  inflating: TESS/YAF_happy/YAF_lore_happy.wav  \n",
            "  inflating: TESS/YAF_happy/YAF_lose_happy.wav  \n",
            "  inflating: TESS/YAF_happy/YAF_lot_happy.wav  \n",
            "  inflating: TESS/YAF_happy/YAF_love_happy.wav  \n",
            "  inflating: TESS/YAF_happy/YAF_luck_happy.wav  \n",
            "  inflating: TESS/YAF_happy/YAF_make_happy.wav  \n",
            "  inflating: TESS/YAF_happy/YAF_match_happy.wav  \n",
            "  inflating: TESS/YAF_happy/YAF_merge_happy.wav  \n",
            "  inflating: TESS/YAF_happy/YAF_mess_happy.wav  \n",
            "  inflating: TESS/YAF_happy/YAF_met_happy.wav  \n",
            "  inflating: TESS/YAF_happy/YAF_mill_happy.wav  \n",
            "  inflating: TESS/YAF_happy/YAF_mob_happy.wav  \n",
            "  inflating: TESS/YAF_happy/YAF_mode_happy.wav  \n",
            "  inflating: TESS/YAF_happy/YAF_mood_happy.wav  \n",
            "  inflating: TESS/YAF_happy/YAF_moon_happy.wav  \n",
            "  inflating: TESS/YAF_happy/YAF_mop_happy.wav  \n",
            "  inflating: TESS/YAF_happy/YAF_mouse_happy.wav  \n",
            "  inflating: TESS/YAF_happy/YAF_nag_happy.wav  \n",
            "  inflating: TESS/YAF_happy/YAF_name_happy.wav  \n",
            "  inflating: TESS/YAF_happy/YAF_near_happy.wav  \n",
            "  inflating: TESS/YAF_happy/YAF_neat_happy.wav  \n",
            "  inflating: TESS/YAF_happy/YAF_nice_happy.wav  \n",
            "  inflating: TESS/YAF_happy/YAF_note_happy.wav  \n",
            "  inflating: TESS/YAF_happy/YAF_numb_happy.wav  \n",
            "  inflating: TESS/YAF_happy/YAF_pad_happy.wav  \n",
            "  inflating: TESS/YAF_happy/YAF_page_happy.wav  \n",
            "  inflating: TESS/YAF_happy/YAF_pain_happy.wav  \n",
            "  inflating: TESS/YAF_happy/YAF_pass_happy.wav  \n",
            "  inflating: TESS/YAF_happy/YAF_pearl_happy.wav  \n",
            "  inflating: TESS/YAF_happy/YAF_peg_happy.wav  \n",
            "  inflating: TESS/YAF_happy/YAF_perch_happy.wav  \n",
            "  inflating: TESS/YAF_happy/YAF_phone_happy.wav  \n",
            "  inflating: TESS/YAF_happy/YAF_pick_happy.wav  \n",
            "  inflating: TESS/YAF_happy/YAF_pike_happy.wav  \n",
            "  inflating: TESS/YAF_happy/YAF_pole_happy.wav  \n",
            "  inflating: TESS/YAF_happy/YAF_pool_happy.wav  \n",
            "  inflating: TESS/YAF_happy/YAF_puff_happy.wav  \n",
            "  inflating: TESS/YAF_happy/YAF_rag_happy.wav  \n",
            "  inflating: TESS/YAF_happy/YAF_raid_happy.wav  \n",
            "  inflating: TESS/YAF_happy/YAF_rain_happy.wav  \n",
            "  inflating: TESS/YAF_happy/YAF_raise_happy.wav  \n",
            "  inflating: TESS/YAF_happy/YAF_rat_happy.wav  \n",
            "  inflating: TESS/YAF_happy/YAF_reach_happy.wav  \n",
            "  inflating: TESS/YAF_happy/YAF_read_happy.wav  \n",
            "  inflating: TESS/YAF_happy/YAF_red_happy.wav  \n",
            "  inflating: TESS/YAF_happy/YAF_ring_happy.wav  \n",
            "  inflating: TESS/YAF_happy/YAF_ripe_happy.wav  \n",
            "  inflating: TESS/YAF_happy/YAF_road_happy.wav  \n",
            "  inflating: TESS/YAF_happy/YAF_room_happy.wav  \n",
            "  inflating: TESS/YAF_happy/YAF_rose_happy.wav  \n",
            "  inflating: TESS/YAF_happy/YAF_rot_happy.wav  \n",
            "  inflating: TESS/YAF_happy/YAF_rough_happy.wav  \n",
            "  inflating: TESS/YAF_happy/YAF_rush_happy.wav  \n",
            "  inflating: TESS/YAF_happy/YAF_said_happy.wav  \n",
            "  inflating: TESS/YAF_happy/YAF_sail_happy.wav  \n",
            "  inflating: TESS/YAF_happy/YAF_search_happy.wav  \n",
            "  inflating: TESS/YAF_happy/YAF_seize_happy.wav  \n",
            "  inflating: TESS/YAF_happy/YAF_sell_happy.wav  \n",
            "  inflating: TESS/YAF_happy/YAF_shack_happy.wav  \n",
            "  inflating: TESS/YAF_happy/YAF_shall_happy.wav  \n",
            "  inflating: TESS/YAF_happy/YAF_shawl_happy.wav  \n",
            "  inflating: TESS/YAF_happy/YAF_sheep_happy.wav  \n",
            "  inflating: TESS/YAF_happy/YAF_shirt_happy.wav  \n",
            "  inflating: TESS/YAF_happy/YAF_should_happy.wav  \n",
            "  inflating: TESS/YAF_happy/YAF_shout_happy.wav  \n",
            "  inflating: TESS/YAF_happy/YAF_size_happy.wav  \n",
            "  inflating: TESS/YAF_happy/YAF_soap_happy.wav  \n",
            "  inflating: TESS/YAF_happy/YAF_soup_happy.wav  \n",
            "  inflating: TESS/YAF_happy/YAF_sour_happy.wav  \n",
            "  inflating: TESS/YAF_happy/YAF_south_happy.wav  \n",
            "  inflating: TESS/YAF_happy/YAF_sub_happy.wav  \n",
            "  inflating: TESS/YAF_happy/YAF_such_happy.wav  \n",
            "  inflating: TESS/YAF_happy/YAF_sure_happy.wav  \n",
            "  inflating: TESS/YAF_happy/YAF_take_happy.wav  \n",
            "  inflating: TESS/YAF_happy/YAF_talk_happy.wav  \n",
            "  inflating: TESS/YAF_happy/YAF_tape_happy.wav  \n",
            "  inflating: TESS/YAF_happy/YAF_team_happy.wav  \n",
            "  inflating: TESS/YAF_happy/YAF_tell_happy.wav  \n",
            "  inflating: TESS/YAF_happy/YAF_thin_happy.wav  \n",
            "  inflating: TESS/YAF_happy/YAF_third_happy.wav  \n",
            "  inflating: TESS/YAF_happy/YAF_thought_happy.wav  \n",
            "  inflating: TESS/YAF_happy/YAF_thumb_happy.wav  \n",
            "  inflating: TESS/YAF_happy/YAF_time_happy.wav  \n",
            "  inflating: TESS/YAF_happy/YAF_tip_happy.wav  \n",
            "  inflating: TESS/YAF_happy/YAF_tire_happy.wav  \n",
            "  inflating: TESS/YAF_happy/YAF_ton_happy.wav  \n",
            "  inflating: TESS/YAF_happy/YAF_tool_happy.wav  \n",
            "  inflating: TESS/YAF_happy/YAF_tough_happy.wav  \n",
            "  inflating: TESS/YAF_happy/YAF_turn_happy.wav  \n",
            "  inflating: TESS/YAF_happy/YAF_vine_happy.wav  \n",
            "  inflating: TESS/YAF_happy/YAF_voice_happy.wav  \n",
            "  inflating: TESS/YAF_happy/YAF_void_happy.wav  \n",
            "  inflating: TESS/YAF_happy/YAF_vote_happy.wav  \n",
            "  inflating: TESS/YAF_happy/YAF_wag_happy.wav  \n",
            "  inflating: TESS/YAF_happy/YAF_walk_happy.wav  \n",
            "  inflating: TESS/YAF_happy/YAF_wash_happy.wav  \n",
            "  inflating: TESS/YAF_happy/YAF_week_happy.wav  \n",
            "  inflating: TESS/YAF_happy/YAF_wheat_happy.wav  \n",
            "  inflating: TESS/YAF_happy/YAF_when_happy.wav  \n",
            "  inflating: TESS/YAF_happy/YAF_which_happy.wav  \n",
            "  inflating: TESS/YAF_happy/YAF_whip_happy.wav  \n",
            "  inflating: TESS/YAF_happy/YAF_white_happy.wav  \n",
            "  inflating: TESS/YAF_happy/YAF_wife_happy.wav  \n",
            "  inflating: TESS/YAF_happy/YAF_wire_happy.wav  \n",
            "  inflating: TESS/YAF_happy/YAF_witch_happy.wav  \n",
            "  inflating: TESS/YAF_happy/YAF_yearn_happy.wav  \n",
            "  inflating: TESS/YAF_happy/YAF_yes_happy.wav  \n",
            "  inflating: TESS/YAF_happy/YAF_young_happy.wav  \n",
            "  inflating: TESS/YAF_happy/YAF_youth_happy.wav  \n",
            "   creating: TESS/YAF_neutral/\n",
            "  inflating: TESS/YAF_neutral/YAF_back_neutral.wav  \n",
            "  inflating: TESS/YAF_neutral/YAF_bar_neutral.wav  \n",
            "  inflating: TESS/YAF_neutral/YAF_base_neutral.wav  \n",
            "  inflating: TESS/YAF_neutral/YAF_bath_neutral.wav  \n",
            "  inflating: TESS/YAF_neutral/YAF_bean_neutral.wav  \n",
            "  inflating: TESS/YAF_neutral/YAF_beg_neutral.wav  \n",
            "  inflating: TESS/YAF_neutral/YAF_bite_neutral.wav  \n",
            "  inflating: TESS/YAF_neutral/YAF_boat_neutral.wav  \n",
            "  inflating: TESS/YAF_neutral/YAF_bone_neutral.wav  \n",
            "  inflating: TESS/YAF_neutral/YAF_book_neutral.wav  \n",
            "  inflating: TESS/YAF_neutral/YAF_bought_neutral.wav  \n",
            "  inflating: TESS/YAF_neutral/YAF_burn_neutral.wav  \n",
            "  inflating: TESS/YAF_neutral/YAF_cab_neutral.wav  \n",
            "  inflating: TESS/YAF_neutral/YAF_calm_neutral.wav  \n",
            "  inflating: TESS/YAF_neutral/YAF_came_neutral.wav  \n",
            "  inflating: TESS/YAF_neutral/YAF_cause_neutral.wav  \n",
            "  inflating: TESS/YAF_neutral/YAF_chain_neutral.wav  \n",
            "  inflating: TESS/YAF_neutral/YAF_chair_neutral.wav  \n",
            "  inflating: TESS/YAF_neutral/YAF_chalk_neutral.wav  \n",
            "  inflating: TESS/YAF_neutral/YAF_chat_neutral.wav  \n",
            "  inflating: TESS/YAF_neutral/YAF_check_neutral.wav  \n",
            "  inflating: TESS/YAF_neutral/YAF_cheek_neutral.wav  \n",
            "  inflating: TESS/YAF_neutral/YAF_chief_neutral.wav  \n",
            "  inflating: TESS/YAF_neutral/YAF_choice_neutral.wav  \n",
            "  inflating: TESS/YAF_neutral/YAF_cool_neutral.wav  \n",
            "  inflating: TESS/YAF_neutral/YAF_dab_neutral.wav  \n",
            "  inflating: TESS/YAF_neutral/YAF_date_neutral.wav  \n",
            "  inflating: TESS/YAF_neutral/YAF_dead_neutral.wav  \n",
            "  inflating: TESS/YAF_neutral/YAF_death_neutral.wav  \n",
            "  inflating: TESS/YAF_neutral/YAF_deep_neutral.wav  \n",
            "  inflating: TESS/YAF_neutral/YAF_dime_neutral.wav  \n",
            "  inflating: TESS/YAF_neutral/YAF_dip_neutral.wav  \n",
            "  inflating: TESS/YAF_neutral/YAF_ditch_neutral.wav  \n",
            "  inflating: TESS/YAF_neutral/YAF_dodge_neutral.wav  \n",
            "  inflating: TESS/YAF_neutral/YAF_dog_neutral.wav  \n",
            "  inflating: TESS/YAF_neutral/YAF_doll_neutral.wav  \n",
            "  inflating: TESS/YAF_neutral/YAF_door_neutral.wav  \n",
            "  inflating: TESS/YAF_neutral/YAF_fail_neutral.wav  \n",
            "  inflating: TESS/YAF_neutral/YAF_fall_neutral.wav  \n",
            "  inflating: TESS/YAF_neutral/YAF_far_neutral.wav  \n",
            "  inflating: TESS/YAF_neutral/YAF_fat_neutral.wav  \n",
            "  inflating: TESS/YAF_neutral/YAF_fit_neutral.wav  \n",
            "  inflating: TESS/YAF_neutral/YAF_five_neutral.wav  \n",
            "  inflating: TESS/YAF_neutral/YAF_food_neutral.wav  \n",
            "  inflating: TESS/YAF_neutral/YAF_gap_neutral.wav  \n",
            "  inflating: TESS/YAF_neutral/YAF_gas_neutral.wav  \n",
            "  inflating: TESS/YAF_neutral/YAF_gaze_neutral.wav  \n",
            "  inflating: TESS/YAF_neutral/YAF_germ_neutral.wav  \n",
            "  inflating: TESS/YAF_neutral/YAF_get_neutral.wav  \n",
            "  inflating: TESS/YAF_neutral/YAF_gin_neutral.wav  \n",
            "  inflating: TESS/YAF_neutral/YAF_goal_neutral.wav  \n",
            "  inflating: TESS/YAF_neutral/YAF_good_neutral.wav  \n",
            "  inflating: TESS/YAF_neutral/YAF_goose_neutral.wav  \n",
            "  inflating: TESS/YAF_neutral/YAF_gun_neutral.wav  \n",
            "  inflating: TESS/YAF_neutral/YAF_half_neutral.wav  \n",
            "  inflating: TESS/YAF_neutral/YAF_hall_neutral.wav  \n",
            "  inflating: TESS/YAF_neutral/YAF_hash_neutral.wav  \n",
            "  inflating: TESS/YAF_neutral/YAF_hate_neutral.wav  \n",
            "  inflating: TESS/YAF_neutral/YAF_have_neutral.wav  \n",
            "  inflating: TESS/YAF_neutral/YAF_haze_neutral.wav  \n",
            "  inflating: TESS/YAF_neutral/YAF_hire_neutral.wav  \n",
            "  inflating: TESS/YAF_neutral/YAF_hit_neutral.wav  \n",
            "  inflating: TESS/YAF_neutral/YAF_hole_neutral.wav  \n",
            "  inflating: TESS/YAF_neutral/YAF_home_neutral.wav  \n",
            "  inflating: TESS/YAF_neutral/YAF_hurl_neutral.wav  \n",
            "  inflating: TESS/YAF_neutral/YAF_hush_neutral.wav  \n",
            "  inflating: TESS/YAF_neutral/YAF_jail_neutral.wav  \n",
            "  inflating: TESS/YAF_neutral/YAF_jar_neutral.wav  \n",
            "  inflating: TESS/YAF_neutral/YAF_join_neutral.wav  \n",
            "  inflating: TESS/YAF_neutral/YAF_judge_neutral.wav  \n",
            "  inflating: TESS/YAF_neutral/YAF_jug_neutral.wav  \n",
            "  inflating: TESS/YAF_neutral/YAF_juice_neutral.wav  \n",
            "  inflating: TESS/YAF_neutral/YAF_keen_neutral.wav  \n",
            "  inflating: TESS/YAF_neutral/YAF_keep_neutral.wav  \n",
            "  inflating: TESS/YAF_neutral/YAF_keg_neutral.wav  \n",
            "  inflating: TESS/YAF_neutral/YAF_kick_neutral.wav  \n",
            "  inflating: TESS/YAF_neutral/YAF_kill_neutral.wav  \n",
            "  inflating: TESS/YAF_neutral/YAF_king_neutral.wav  \n",
            "  inflating: TESS/YAF_neutral/YAF_kite_neutral.wav  \n",
            "  inflating: TESS/YAF_neutral/YAF_knock_neutral.wav  \n",
            "  inflating: TESS/YAF_neutral/YAF_late_neutral.wav  \n",
            "  inflating: TESS/YAF_neutral/YAF_laud_neutral.wav  \n",
            "  inflating: TESS/YAF_neutral/YAF_lean_neutral.wav  \n",
            "  inflating: TESS/YAF_neutral/YAF_learn_neutral.wav  \n",
            "  inflating: TESS/YAF_neutral/YAF_lease_neutral.wav  \n",
            "  inflating: TESS/YAF_neutral/YAF_lid_neutral.wav  \n",
            "  inflating: TESS/YAF_neutral/YAF_life_neutral.wav  \n",
            "  inflating: TESS/YAF_neutral/YAF_limb_neutral.wav  \n",
            "  inflating: TESS/YAF_neutral/YAF_live_neutral.wav  \n",
            "  inflating: TESS/YAF_neutral/YAF_loaf_neutral.wav  \n",
            "  inflating: TESS/YAF_neutral/YAF_long_neutral.wav  \n",
            "  inflating: TESS/YAF_neutral/YAF_lore_neutral.wav  \n",
            "  inflating: TESS/YAF_neutral/YAF_lose_neutral.wav  \n",
            "  inflating: TESS/YAF_neutral/YAF_lot_neutral.wav  \n",
            "  inflating: TESS/YAF_neutral/YAF_love_neutral.wav  \n",
            "  inflating: TESS/YAF_neutral/YAF_luck_neutral.wav  \n",
            "  inflating: TESS/YAF_neutral/YAF_make_neutral.wav  \n",
            "  inflating: TESS/YAF_neutral/YAF_match_neutral.wav  \n",
            "  inflating: TESS/YAF_neutral/YAF_merge_neutral.wav  \n",
            "  inflating: TESS/YAF_neutral/YAF_mess_neutral.wav  \n",
            "  inflating: TESS/YAF_neutral/YAF_met_neutral.wav  \n",
            "  inflating: TESS/YAF_neutral/YAF_mill_neutral.wav  \n",
            "  inflating: TESS/YAF_neutral/YAF_mob_neutral.wav  \n",
            "  inflating: TESS/YAF_neutral/YAF_mode_neutral.wav  \n",
            "  inflating: TESS/YAF_neutral/YAF_mood_neutral.wav  \n",
            "  inflating: TESS/YAF_neutral/YAF_moon_neutral.wav  \n",
            "  inflating: TESS/YAF_neutral/YAF_mop_neutral.wav  \n",
            "  inflating: TESS/YAF_neutral/YAF_mouse_neutral.wav  \n",
            "  inflating: TESS/YAF_neutral/YAF_nag_neutral.wav  \n",
            "  inflating: TESS/YAF_neutral/YAF_name_neutral.wav  \n",
            "  inflating: TESS/YAF_neutral/YAF_near_neutral.wav  \n",
            "  inflating: TESS/YAF_neutral/YAF_neat_neutral.wav  \n",
            "  inflating: TESS/YAF_neutral/YAF_nice_neutral.wav  \n",
            "  inflating: TESS/YAF_neutral/YAF_note_neutral.wav  \n",
            "  inflating: TESS/YAF_neutral/YAF_numb_neutral.wav  \n",
            "  inflating: TESS/YAF_neutral/YAF_pad_neutral.wav  \n",
            "  inflating: TESS/YAF_neutral/YAF_page_neutral.wav  \n",
            "  inflating: TESS/YAF_neutral/YAF_pain_neutral.wav  \n",
            "  inflating: TESS/YAF_neutral/YAF_pass_neutral.wav  \n",
            "  inflating: TESS/YAF_neutral/YAF_pearl_neutral.wav  \n",
            "  inflating: TESS/YAF_neutral/YAF_peg_neutral.wav  \n",
            "  inflating: TESS/YAF_neutral/YAF_perch_neutral.wav  \n",
            "  inflating: TESS/YAF_neutral/YAF_phone_neutral.wav  \n",
            "  inflating: TESS/YAF_neutral/YAF_pick_neutral.wav  \n",
            "  inflating: TESS/YAF_neutral/YAF_pike_neutral.wav  \n",
            "  inflating: TESS/YAF_neutral/YAF_pole_neutral.wav  \n",
            "  inflating: TESS/YAF_neutral/YAF_pool_neutral.wav  \n",
            "  inflating: TESS/YAF_neutral/YAF_puff_neutral.wav  \n",
            "  inflating: TESS/YAF_neutral/YAF_rag_neutral.wav  \n",
            "  inflating: TESS/YAF_neutral/YAF_raid_neutral.wav  \n",
            "  inflating: TESS/YAF_neutral/YAF_rain_neutral.wav  \n",
            "  inflating: TESS/YAF_neutral/YAF_raise_neutral.wav  \n",
            "  inflating: TESS/YAF_neutral/YAF_rat_neutral.wav  \n",
            "  inflating: TESS/YAF_neutral/YAF_reach_neutral.wav  \n",
            "  inflating: TESS/YAF_neutral/YAF_read_neutral.wav  \n",
            "  inflating: TESS/YAF_neutral/YAF_red_neutral.wav  \n",
            "  inflating: TESS/YAF_neutral/YAF_ring_neutral.wav  \n",
            "  inflating: TESS/YAF_neutral/YAF_ripe_neutral.wav  \n",
            "  inflating: TESS/YAF_neutral/YAF_road_neutral.wav  \n",
            "  inflating: TESS/YAF_neutral/YAF_room_neutral.wav  \n",
            "  inflating: TESS/YAF_neutral/YAF_rose_neutral.wav  \n",
            "  inflating: TESS/YAF_neutral/YAF_rot_neutral.wav  \n",
            "  inflating: TESS/YAF_neutral/YAF_rough_neutral.wav  \n",
            "  inflating: TESS/YAF_neutral/YAF_rush_neutral.wav  \n",
            "  inflating: TESS/YAF_neutral/YAF_said_neutral.wav  \n",
            "  inflating: TESS/YAF_neutral/YAF_sail_neutral.wav  \n",
            "  inflating: TESS/YAF_neutral/YAF_search_neutral.wav  \n",
            "  inflating: TESS/YAF_neutral/YAF_seize_neutral.wav  \n",
            "  inflating: TESS/YAF_neutral/YAF_sell_neutral.wav  \n",
            "  inflating: TESS/YAF_neutral/YAF_shack_neutral.wav  \n",
            "  inflating: TESS/YAF_neutral/YAF_shall_neutral.wav  \n",
            "  inflating: TESS/YAF_neutral/YAF_shawl_neutral.wav  \n",
            "  inflating: TESS/YAF_neutral/YAF_sheep_neutral.wav  \n",
            "  inflating: TESS/YAF_neutral/YAF_shirt_neutral.wav  \n",
            "  inflating: TESS/YAF_neutral/YAF_should_neutral.wav  \n",
            "  inflating: TESS/YAF_neutral/YAF_shout_neutral.wav  \n",
            "  inflating: TESS/YAF_neutral/YAF_size_neutral.wav  \n",
            "  inflating: TESS/YAF_neutral/YAF_soap_neutral.wav  \n",
            "  inflating: TESS/YAF_neutral/YAF_soup_neutral.wav  \n",
            "  inflating: TESS/YAF_neutral/YAF_sour_neutral.wav  \n",
            "  inflating: TESS/YAF_neutral/YAF_south_neutral.wav  \n",
            "  inflating: TESS/YAF_neutral/YAF_sub_neutral.wav  \n",
            "  inflating: TESS/YAF_neutral/YAF_such_neutral.wav  \n",
            "  inflating: TESS/YAF_neutral/YAF_sure_neutral.wav  \n",
            "  inflating: TESS/YAF_neutral/YAF_take_neutral.wav  \n",
            "  inflating: TESS/YAF_neutral/YAF_talk_neutral.wav  \n",
            "  inflating: TESS/YAF_neutral/YAF_tape_neutral.wav  \n",
            "  inflating: TESS/YAF_neutral/YAF_team_neutral.wav  \n",
            "  inflating: TESS/YAF_neutral/YAF_tell_neutral.wav  \n",
            "  inflating: TESS/YAF_neutral/YAF_thin_neutral.wav  \n",
            "  inflating: TESS/YAF_neutral/YAF_third_neutral.wav  \n",
            "  inflating: TESS/YAF_neutral/YAF_thought_neutral.wav  \n",
            "  inflating: TESS/YAF_neutral/YAF_thumb_neutral.wav  \n",
            "  inflating: TESS/YAF_neutral/YAF_time_neutral.wav  \n",
            "  inflating: TESS/YAF_neutral/YAF_tip_neutral.wav  \n",
            "  inflating: TESS/YAF_neutral/YAF_tire_neutral.wav  \n",
            "  inflating: TESS/YAF_neutral/YAF_ton_neutral.wav  \n",
            "  inflating: TESS/YAF_neutral/YAF_tool_neutral.wav  \n",
            "  inflating: TESS/YAF_neutral/YAF_tough_neutral.wav  \n",
            "  inflating: TESS/YAF_neutral/YAF_turn_neutral.wav  \n",
            "  inflating: TESS/YAF_neutral/YAF_vine_neutral.wav  \n",
            "  inflating: TESS/YAF_neutral/YAF_voice_neutral.wav  \n",
            "  inflating: TESS/YAF_neutral/YAF_void_neutral.wav  \n",
            "  inflating: TESS/YAF_neutral/YAF_vote_neutral.wav  \n",
            "  inflating: TESS/YAF_neutral/YAF_wag_neutral.wav  \n",
            "  inflating: TESS/YAF_neutral/YAF_walk_neutral.wav  \n",
            "  inflating: TESS/YAF_neutral/YAF_wash_neutral.wav  \n",
            "  inflating: TESS/YAF_neutral/YAF_week_neutral.wav  \n",
            "  inflating: TESS/YAF_neutral/YAF_wheat_neutral.wav  \n",
            "  inflating: TESS/YAF_neutral/YAF_when_neutral.wav  \n",
            "  inflating: TESS/YAF_neutral/YAF_which_neutral.wav  \n",
            "  inflating: TESS/YAF_neutral/YAF_whip_neutral.wav  \n",
            "  inflating: TESS/YAF_neutral/YAF_white_neutral.wav  \n",
            "  inflating: TESS/YAF_neutral/YAF_wife_neutral.wav  \n",
            "  inflating: TESS/YAF_neutral/YAF_wire_neutral.wav  \n",
            "  inflating: TESS/YAF_neutral/YAF_witch_neutral.wav  \n",
            "  inflating: TESS/YAF_neutral/YAF_yearn_neutral.wav  \n",
            "  inflating: TESS/YAF_neutral/YAF_yes_neutral.wav  \n",
            "  inflating: TESS/YAF_neutral/YAF_young_neutral.wav  \n",
            "  inflating: TESS/YAF_neutral/YAF_youth_neutral.wav  \n",
            "   creating: TESS/YAF_pleasant_surprised/\n",
            "  inflating: TESS/YAF_pleasant_surprised/YAF_back_ps.wav  \n",
            "  inflating: TESS/YAF_pleasant_surprised/YAF_bar_ps.wav  \n",
            "  inflating: TESS/YAF_pleasant_surprised/YAF_base_ps.wav  \n",
            "  inflating: TESS/YAF_pleasant_surprised/YAF_bath_ps.wav  \n",
            "  inflating: TESS/YAF_pleasant_surprised/YAF_bean_ps.wav  \n",
            "  inflating: TESS/YAF_pleasant_surprised/YAF_beg_ps.wav  \n",
            "  inflating: TESS/YAF_pleasant_surprised/YAF_bite_ps.wav  \n",
            "  inflating: TESS/YAF_pleasant_surprised/YAF_boat_ps.wav  \n",
            "  inflating: TESS/YAF_pleasant_surprised/YAF_bone_ps.wav  \n",
            "  inflating: TESS/YAF_pleasant_surprised/YAF_book_ps.wav  \n",
            "  inflating: TESS/YAF_pleasant_surprised/YAF_bought_ps.wav  \n",
            "  inflating: TESS/YAF_pleasant_surprised/YAF_burn_ps.wav  \n",
            "  inflating: TESS/YAF_pleasant_surprised/YAF_cab_ps.wav  \n",
            "  inflating: TESS/YAF_pleasant_surprised/YAF_calm_ps.wav  \n",
            "  inflating: TESS/YAF_pleasant_surprised/YAF_came_ps.wav  \n",
            "  inflating: TESS/YAF_pleasant_surprised/YAF_cause_ps.wav  \n",
            "  inflating: TESS/YAF_pleasant_surprised/YAF_chain_ps.wav  \n",
            "  inflating: TESS/YAF_pleasant_surprised/YAF_chair_ps.wav  \n",
            "  inflating: TESS/YAF_pleasant_surprised/YAF_chalk_ps.wav  \n",
            "  inflating: TESS/YAF_pleasant_surprised/YAF_chat_ps.wav  \n",
            "  inflating: TESS/YAF_pleasant_surprised/YAF_check_ps.wav  \n",
            "  inflating: TESS/YAF_pleasant_surprised/YAF_cheek_ps.wav  \n",
            "  inflating: TESS/YAF_pleasant_surprised/YAF_chief_ps.wav  \n",
            "  inflating: TESS/YAF_pleasant_surprised/YAF_choice_ps.wav  \n",
            "  inflating: TESS/YAF_pleasant_surprised/YAF_cool_ps.wav  \n",
            "  inflating: TESS/YAF_pleasant_surprised/YAF_dab_ps.wav  \n",
            "  inflating: TESS/YAF_pleasant_surprised/YAF_date_ps.wav  \n",
            "  inflating: TESS/YAF_pleasant_surprised/YAF_dead_ps.wav  \n",
            "  inflating: TESS/YAF_pleasant_surprised/YAF_death_ps.wav  \n",
            "  inflating: TESS/YAF_pleasant_surprised/YAF_deep_ps.wav  \n",
            "  inflating: TESS/YAF_pleasant_surprised/YAF_dime_ps.wav  \n",
            "  inflating: TESS/YAF_pleasant_surprised/YAF_dip_ps.wav  \n",
            "  inflating: TESS/YAF_pleasant_surprised/YAF_ditch_ps.wav  \n",
            "  inflating: TESS/YAF_pleasant_surprised/YAF_dodge_ps.wav  \n",
            "  inflating: TESS/YAF_pleasant_surprised/YAF_dog_ps.wav  \n",
            "  inflating: TESS/YAF_pleasant_surprised/YAF_doll_ps.wav  \n",
            "  inflating: TESS/YAF_pleasant_surprised/YAF_door_ps.wav  \n",
            "  inflating: TESS/YAF_pleasant_surprised/YAF_fail_ps.wav  \n",
            "  inflating: TESS/YAF_pleasant_surprised/YAF_fall_ps.wav  \n",
            "  inflating: TESS/YAF_pleasant_surprised/YAF_far_ps.wav  \n",
            "  inflating: TESS/YAF_pleasant_surprised/YAF_fat_ps.wav  \n",
            "  inflating: TESS/YAF_pleasant_surprised/YAF_fit_ps.wav  \n",
            "  inflating: TESS/YAF_pleasant_surprised/YAF_five_ps.wav  \n",
            "  inflating: TESS/YAF_pleasant_surprised/YAF_food_ps.wav  \n",
            "  inflating: TESS/YAF_pleasant_surprised/YAF_gap_ps.wav  \n",
            "  inflating: TESS/YAF_pleasant_surprised/YAF_gas_ps.wav  \n",
            "  inflating: TESS/YAF_pleasant_surprised/YAF_gaze_ps.wav  \n",
            "  inflating: TESS/YAF_pleasant_surprised/YAF_germ_ps.wav  \n",
            "  inflating: TESS/YAF_pleasant_surprised/YAF_get_ps.wav  \n",
            "  inflating: TESS/YAF_pleasant_surprised/YAF_gin_ps.wav  \n",
            "  inflating: TESS/YAF_pleasant_surprised/YAF_goal_ps.wav  \n",
            "  inflating: TESS/YAF_pleasant_surprised/YAF_good_ps.wav  \n",
            "  inflating: TESS/YAF_pleasant_surprised/YAF_goose_ps.wav  \n",
            "  inflating: TESS/YAF_pleasant_surprised/YAF_gun_ps.wav  \n",
            "  inflating: TESS/YAF_pleasant_surprised/YAF_half_ps.wav  \n",
            "  inflating: TESS/YAF_pleasant_surprised/YAF_hall_ps.wav  \n",
            "  inflating: TESS/YAF_pleasant_surprised/YAF_hash_ps.wav  \n",
            "  inflating: TESS/YAF_pleasant_surprised/YAF_hate_ps.wav  \n",
            "  inflating: TESS/YAF_pleasant_surprised/YAF_have_ps.wav  \n",
            "  inflating: TESS/YAF_pleasant_surprised/YAF_haze_ps.wav  \n",
            "  inflating: TESS/YAF_pleasant_surprised/YAF_hire_ps.wav  \n",
            "  inflating: TESS/YAF_pleasant_surprised/YAF_hit_ps.wav  \n",
            "  inflating: TESS/YAF_pleasant_surprised/YAF_hole_ps.wav  \n",
            "  inflating: TESS/YAF_pleasant_surprised/YAF_home_ps.wav  \n",
            "  inflating: TESS/YAF_pleasant_surprised/YAF_hurl_ps.wav  \n",
            "  inflating: TESS/YAF_pleasant_surprised/YAF_hush_ps.wav  \n",
            "  inflating: TESS/YAF_pleasant_surprised/YAF_jail_ps.wav  \n",
            "  inflating: TESS/YAF_pleasant_surprised/YAF_jar_ps.wav  \n",
            "  inflating: TESS/YAF_pleasant_surprised/YAF_join_ps.wav  \n",
            "  inflating: TESS/YAF_pleasant_surprised/YAF_judge_ps.wav  \n",
            "  inflating: TESS/YAF_pleasant_surprised/YAF_jug_ps.wav  \n",
            "  inflating: TESS/YAF_pleasant_surprised/YAF_juice_ps.wav  \n",
            "  inflating: TESS/YAF_pleasant_surprised/YAF_keen_ps.wav  \n",
            "  inflating: TESS/YAF_pleasant_surprised/YAF_keep_ps.wav  \n",
            "  inflating: TESS/YAF_pleasant_surprised/YAF_keg_ps.wav  \n",
            "  inflating: TESS/YAF_pleasant_surprised/YAF_kick_ps.wav  \n",
            "  inflating: TESS/YAF_pleasant_surprised/YAF_kill_ps.wav  \n",
            "  inflating: TESS/YAF_pleasant_surprised/YAF_king_ps.wav  \n",
            "  inflating: TESS/YAF_pleasant_surprised/YAF_kite_ps.wav  \n",
            "  inflating: TESS/YAF_pleasant_surprised/YAF_knock_ps.wav  \n",
            "  inflating: TESS/YAF_pleasant_surprised/YAF_late_ps.wav  \n",
            "  inflating: TESS/YAF_pleasant_surprised/YAF_laud_ps.wav  \n",
            "  inflating: TESS/YAF_pleasant_surprised/YAF_lean_ps.wav  \n",
            "  inflating: TESS/YAF_pleasant_surprised/YAF_learn_ps.wav  \n",
            "  inflating: TESS/YAF_pleasant_surprised/YAF_lease_ps.wav  \n",
            "  inflating: TESS/YAF_pleasant_surprised/YAF_lid_ps.wav  \n",
            "  inflating: TESS/YAF_pleasant_surprised/YAF_life_ps.wav  \n",
            "  inflating: TESS/YAF_pleasant_surprised/YAF_limb_ps.wav  \n",
            "  inflating: TESS/YAF_pleasant_surprised/YAF_live_ps.wav  \n",
            "  inflating: TESS/YAF_pleasant_surprised/YAF_loaf_ps.wav  \n",
            "  inflating: TESS/YAF_pleasant_surprised/YAF_long_ps.wav  \n",
            "  inflating: TESS/YAF_pleasant_surprised/YAF_lore_ps.wav  \n",
            "  inflating: TESS/YAF_pleasant_surprised/YAF_lose_ps.wav  \n",
            "  inflating: TESS/YAF_pleasant_surprised/YAF_lot_ps.wav  \n",
            "  inflating: TESS/YAF_pleasant_surprised/YAF_love_ps.wav  \n",
            "  inflating: TESS/YAF_pleasant_surprised/YAF_luck_ps.wav  \n",
            "  inflating: TESS/YAF_pleasant_surprised/YAF_make_ps.wav  \n",
            "  inflating: TESS/YAF_pleasant_surprised/YAF_match_ps.wav  \n",
            "  inflating: TESS/YAF_pleasant_surprised/YAF_merge_ps.wav  \n",
            "  inflating: TESS/YAF_pleasant_surprised/YAF_mess_ps.wav  \n",
            "  inflating: TESS/YAF_pleasant_surprised/YAF_met_ps.wav  \n",
            "  inflating: TESS/YAF_pleasant_surprised/YAF_mill_ps.wav  \n",
            "  inflating: TESS/YAF_pleasant_surprised/YAF_mob_ps.wav  \n",
            "  inflating: TESS/YAF_pleasant_surprised/YAF_mode_ps.wav  \n",
            "  inflating: TESS/YAF_pleasant_surprised/YAF_mood_ps.wav  \n",
            "  inflating: TESS/YAF_pleasant_surprised/YAF_moon_ps.wav  \n",
            "  inflating: TESS/YAF_pleasant_surprised/YAF_mop_ps.wav  \n",
            "  inflating: TESS/YAF_pleasant_surprised/YAF_mouse_ps.wav  \n",
            "  inflating: TESS/YAF_pleasant_surprised/YAF_nag_ps.wav  \n",
            "  inflating: TESS/YAF_pleasant_surprised/YAF_name_ps.wav  \n",
            "  inflating: TESS/YAF_pleasant_surprised/YAF_near_ps.wav  \n",
            "  inflating: TESS/YAF_pleasant_surprised/YAF_neat_ps.wav  \n",
            "  inflating: TESS/YAF_pleasant_surprised/YAF_nice_ps.wav  \n",
            "  inflating: TESS/YAF_pleasant_surprised/YAF_note_ps.wav  \n",
            "  inflating: TESS/YAF_pleasant_surprised/YAF_numb_ps.wav  \n",
            "  inflating: TESS/YAF_pleasant_surprised/YAF_pad_ps.wav  \n",
            "  inflating: TESS/YAF_pleasant_surprised/YAF_page_ps.wav  \n",
            "  inflating: TESS/YAF_pleasant_surprised/YAF_pain_ps.wav  \n",
            "  inflating: TESS/YAF_pleasant_surprised/YAF_pass_ps.wav  \n",
            "  inflating: TESS/YAF_pleasant_surprised/YAF_pearl_ps.wav  \n",
            "  inflating: TESS/YAF_pleasant_surprised/YAF_peg_ps.wav  \n",
            "  inflating: TESS/YAF_pleasant_surprised/YAF_perch_ps.wav  \n",
            "  inflating: TESS/YAF_pleasant_surprised/YAF_phone_ps.wav  \n",
            "  inflating: TESS/YAF_pleasant_surprised/YAF_pick_ps.wav  \n",
            "  inflating: TESS/YAF_pleasant_surprised/YAF_pike_ps.wav  \n",
            "  inflating: TESS/YAF_pleasant_surprised/YAF_pole_ps.wav  \n",
            "  inflating: TESS/YAF_pleasant_surprised/YAF_pool_ps.wav  \n",
            "  inflating: TESS/YAF_pleasant_surprised/YAF_puff_ps.wav  \n",
            "  inflating: TESS/YAF_pleasant_surprised/YAF_rag_ps.wav  \n",
            "  inflating: TESS/YAF_pleasant_surprised/YAF_raid_ps.wav  \n",
            "  inflating: TESS/YAF_pleasant_surprised/YAF_rain_ps.wav  \n",
            "  inflating: TESS/YAF_pleasant_surprised/YAF_raise_ps.wav  \n",
            "  inflating: TESS/YAF_pleasant_surprised/YAF_rat_ps.wav  \n",
            "  inflating: TESS/YAF_pleasant_surprised/YAF_reach_ps.wav  \n",
            "  inflating: TESS/YAF_pleasant_surprised/YAF_read_ps.wav  \n",
            "  inflating: TESS/YAF_pleasant_surprised/YAF_red_ps.wav  \n",
            "  inflating: TESS/YAF_pleasant_surprised/YAF_ring_ps.wav  \n",
            "  inflating: TESS/YAF_pleasant_surprised/YAF_ripe_ps.wav  \n",
            "  inflating: TESS/YAF_pleasant_surprised/YAF_road_ps.wav  \n",
            "  inflating: TESS/YAF_pleasant_surprised/YAF_room_ps.wav  \n",
            "  inflating: TESS/YAF_pleasant_surprised/YAF_rose_ps.wav  \n",
            "  inflating: TESS/YAF_pleasant_surprised/YAF_rot_ps.wav  \n",
            "  inflating: TESS/YAF_pleasant_surprised/YAF_rough_ps.wav  \n",
            "  inflating: TESS/YAF_pleasant_surprised/YAF_rush_ps.wav  \n",
            "  inflating: TESS/YAF_pleasant_surprised/YAF_said_ps.wav  \n",
            "  inflating: TESS/YAF_pleasant_surprised/YAF_sail_ps.wav  \n",
            "  inflating: TESS/YAF_pleasant_surprised/YAF_search_ps.wav  \n",
            "  inflating: TESS/YAF_pleasant_surprised/YAF_seize_ps.wav  \n",
            "  inflating: TESS/YAF_pleasant_surprised/YAF_sell_ps.wav  \n",
            "  inflating: TESS/YAF_pleasant_surprised/YAF_shack_ps.wav  \n",
            "  inflating: TESS/YAF_pleasant_surprised/YAF_shall_ps.wav  \n",
            "  inflating: TESS/YAF_pleasant_surprised/YAF_shawl_ps.wav  \n",
            "  inflating: TESS/YAF_pleasant_surprised/YAF_sheep_ps.wav  \n",
            "  inflating: TESS/YAF_pleasant_surprised/YAF_shirt_ps.wav  \n",
            "  inflating: TESS/YAF_pleasant_surprised/YAF_should_ps.wav  \n",
            "  inflating: TESS/YAF_pleasant_surprised/YAF_shout_ps.wav  \n",
            "  inflating: TESS/YAF_pleasant_surprised/YAF_size_ps.wav  \n",
            "  inflating: TESS/YAF_pleasant_surprised/YAF_soap_ps.wav  \n",
            "  inflating: TESS/YAF_pleasant_surprised/YAF_soup_ps.wav  \n",
            "  inflating: TESS/YAF_pleasant_surprised/YAF_sour_ps.wav  \n",
            "  inflating: TESS/YAF_pleasant_surprised/YAF_south_ps.wav  \n",
            "  inflating: TESS/YAF_pleasant_surprised/YAF_sub_ps.wav  \n",
            "  inflating: TESS/YAF_pleasant_surprised/YAF_such_ps.wav  \n",
            "  inflating: TESS/YAF_pleasant_surprised/YAF_sure_ps.wav  \n",
            "  inflating: TESS/YAF_pleasant_surprised/YAF_take_ps.wav  \n",
            "  inflating: TESS/YAF_pleasant_surprised/YAF_talk_ps.wav  \n",
            "  inflating: TESS/YAF_pleasant_surprised/YAF_tape_ps.wav  \n",
            "  inflating: TESS/YAF_pleasant_surprised/YAF_team_ps.wav  \n",
            "  inflating: TESS/YAF_pleasant_surprised/YAF_tell_ps.wav  \n",
            "  inflating: TESS/YAF_pleasant_surprised/YAF_thin_ps.wav  \n",
            "  inflating: TESS/YAF_pleasant_surprised/YAF_third_ps.wav  \n",
            "  inflating: TESS/YAF_pleasant_surprised/YAF_thought_ps.wav  \n",
            "  inflating: TESS/YAF_pleasant_surprised/YAF_thumb_ps.wav  \n",
            "  inflating: TESS/YAF_pleasant_surprised/YAF_time_ps.wav  \n",
            "  inflating: TESS/YAF_pleasant_surprised/YAF_tip_ps.wav  \n",
            "  inflating: TESS/YAF_pleasant_surprised/YAF_tire_ps.wav  \n",
            "  inflating: TESS/YAF_pleasant_surprised/YAF_ton_ps.wav  \n",
            "  inflating: TESS/YAF_pleasant_surprised/YAF_tool_ps.wav  \n",
            "  inflating: TESS/YAF_pleasant_surprised/YAF_tough_ps.wav  \n",
            "  inflating: TESS/YAF_pleasant_surprised/YAF_turn_ps.wav  \n",
            "  inflating: TESS/YAF_pleasant_surprised/YAF_vine_ps.wav  \n",
            "  inflating: TESS/YAF_pleasant_surprised/YAF_voice_ps.wav  \n",
            "  inflating: TESS/YAF_pleasant_surprised/YAF_void_ps.wav  \n",
            "  inflating: TESS/YAF_pleasant_surprised/YAF_vote_ps.wav  \n",
            "  inflating: TESS/YAF_pleasant_surprised/YAF_wag_ps.wav  \n",
            "  inflating: TESS/YAF_pleasant_surprised/YAF_walk_ps.wav  \n",
            "  inflating: TESS/YAF_pleasant_surprised/YAF_wash_ps.wav  \n",
            "  inflating: TESS/YAF_pleasant_surprised/YAF_week_ps.wav  \n",
            "  inflating: TESS/YAF_pleasant_surprised/YAF_wheat_ps.wav  \n",
            "  inflating: TESS/YAF_pleasant_surprised/YAF_when_ps.wav  \n",
            "  inflating: TESS/YAF_pleasant_surprised/YAF_which_ps.wav  \n",
            "  inflating: TESS/YAF_pleasant_surprised/YAF_whip_ps.wav  \n",
            "  inflating: TESS/YAF_pleasant_surprised/YAF_white_ps.wav  \n",
            "  inflating: TESS/YAF_pleasant_surprised/YAF_wife_ps.wav  \n",
            "  inflating: TESS/YAF_pleasant_surprised/YAF_wire_ps.wav  \n",
            "  inflating: TESS/YAF_pleasant_surprised/YAF_witch_ps.wav  \n",
            "  inflating: TESS/YAF_pleasant_surprised/YAF_yearn_ps.wav  \n",
            "  inflating: TESS/YAF_pleasant_surprised/YAF_yes_ps.wav  \n",
            "  inflating: TESS/YAF_pleasant_surprised/YAF_young_ps.wav  \n",
            "  inflating: TESS/YAF_pleasant_surprised/YAF_youth_ps.wav  \n",
            "   creating: TESS/YAF_sad/\n",
            "  inflating: TESS/YAF_sad/YAF_back_sad.wav  \n",
            "  inflating: TESS/YAF_sad/YAF_bar_sad.wav  \n",
            "  inflating: TESS/YAF_sad/YAF_base_sad.wav  \n",
            "  inflating: TESS/YAF_sad/YAF_bath_sad.wav  \n",
            "  inflating: TESS/YAF_sad/YAF_bean_sad.wav  \n",
            "  inflating: TESS/YAF_sad/YAF_beg_sad.wav  \n",
            "  inflating: TESS/YAF_sad/YAF_bite_sad.wav  \n",
            "  inflating: TESS/YAF_sad/YAF_boat_sad.wav  \n",
            "  inflating: TESS/YAF_sad/YAF_bone_sad.wav  \n",
            "  inflating: TESS/YAF_sad/YAF_book_sad.wav  \n",
            "  inflating: TESS/YAF_sad/YAF_bought_sad.wav  \n",
            "  inflating: TESS/YAF_sad/YAF_burn_sad.wav  \n",
            "  inflating: TESS/YAF_sad/YAF_cab_sad.wav  \n",
            "  inflating: TESS/YAF_sad/YAF_calm_sad.wav  \n",
            "  inflating: TESS/YAF_sad/YAF_came_sad.wav  \n",
            "  inflating: TESS/YAF_sad/YAF_cause_sad.wav  \n",
            "  inflating: TESS/YAF_sad/YAF_chain_sad.wav  \n",
            "  inflating: TESS/YAF_sad/YAF_chair_sad.wav  \n",
            "  inflating: TESS/YAF_sad/YAF_chalk_sad.wav  \n",
            "  inflating: TESS/YAF_sad/YAF_chat_sad.wav  \n",
            "  inflating: TESS/YAF_sad/YAF_check_sad.wav  \n",
            "  inflating: TESS/YAF_sad/YAF_cheek_sad.wav  \n",
            "  inflating: TESS/YAF_sad/YAF_chief_sad.wav  \n",
            "  inflating: TESS/YAF_sad/YAF_choice_sad.wav  \n",
            "  inflating: TESS/YAF_sad/YAF_cool_sad.wav  \n",
            "  inflating: TESS/YAF_sad/YAF_dab_sad.wav  \n",
            "  inflating: TESS/YAF_sad/YAF_date_sad.wav  \n",
            "  inflating: TESS/YAF_sad/YAF_dead_sad.wav  \n",
            "  inflating: TESS/YAF_sad/YAF_death_sad.wav  \n",
            "  inflating: TESS/YAF_sad/YAF_deep_sad.wav  \n",
            "  inflating: TESS/YAF_sad/YAF_dime_sad.wav  \n",
            "  inflating: TESS/YAF_sad/YAF_dip_sad.wav  \n",
            "  inflating: TESS/YAF_sad/YAF_ditch_sad.wav  \n",
            "  inflating: TESS/YAF_sad/YAF_dodge_sad.wav  \n",
            "  inflating: TESS/YAF_sad/YAF_dog_sad.wav  \n",
            "  inflating: TESS/YAF_sad/YAF_doll_sad.wav  \n",
            "  inflating: TESS/YAF_sad/YAF_door_sad.wav  \n",
            "  inflating: TESS/YAF_sad/YAF_fail_sad.wav  \n",
            "  inflating: TESS/YAF_sad/YAF_fall_sad.wav  \n",
            "  inflating: TESS/YAF_sad/YAF_far_sad.wav  \n",
            "  inflating: TESS/YAF_sad/YAF_fat_sad.wav  \n",
            "  inflating: TESS/YAF_sad/YAF_fit_sad.wav  \n",
            "  inflating: TESS/YAF_sad/YAF_five_sad.wav  \n",
            "  inflating: TESS/YAF_sad/YAF_food_sad.wav  \n",
            "  inflating: TESS/YAF_sad/YAF_gap_sad.wav  \n",
            "  inflating: TESS/YAF_sad/YAF_gas_sad.wav  \n",
            "  inflating: TESS/YAF_sad/YAF_gaze_sad.wav  \n",
            "  inflating: TESS/YAF_sad/YAF_germ_sad.wav  \n",
            "  inflating: TESS/YAF_sad/YAF_get_sad.wav  \n",
            "  inflating: TESS/YAF_sad/YAF_gin_sad.wav  \n",
            "  inflating: TESS/YAF_sad/YAF_goal_sad.wav  \n",
            "  inflating: TESS/YAF_sad/YAF_good_sad.wav  \n",
            "  inflating: TESS/YAF_sad/YAF_goose_sad.wav  \n",
            "  inflating: TESS/YAF_sad/YAF_gun_sad.wav  \n",
            "  inflating: TESS/YAF_sad/YAF_half_sad.wav  \n",
            "  inflating: TESS/YAF_sad/YAF_hall_sad.wav  \n",
            "  inflating: TESS/YAF_sad/YAF_hash_sad.wav  \n",
            "  inflating: TESS/YAF_sad/YAF_hate_sad.wav  \n",
            "  inflating: TESS/YAF_sad/YAF_have_sad.wav  \n",
            "  inflating: TESS/YAF_sad/YAF_haze_sad.wav  \n",
            "  inflating: TESS/YAF_sad/YAF_hire_sad.wav  \n",
            "  inflating: TESS/YAF_sad/YAF_hit_sad.wav  \n",
            "  inflating: TESS/YAF_sad/YAF_hole_sad.wav  \n",
            "  inflating: TESS/YAF_sad/YAF_home_sad.wav  \n",
            "  inflating: TESS/YAF_sad/YAF_hurl_sad.wav  \n",
            "  inflating: TESS/YAF_sad/YAF_hush_sad.wav  \n",
            "  inflating: TESS/YAF_sad/YAF_jail_sad.wav  \n",
            "  inflating: TESS/YAF_sad/YAF_jar_sad.wav  \n",
            "  inflating: TESS/YAF_sad/YAF_join_sad.wav  \n",
            "  inflating: TESS/YAF_sad/YAF_judge_sad.wav  \n",
            "  inflating: TESS/YAF_sad/YAF_jug_sad.wav  \n",
            "  inflating: TESS/YAF_sad/YAF_juice_sad.wav  \n",
            "  inflating: TESS/YAF_sad/YAF_keen_sad.wav  \n",
            "  inflating: TESS/YAF_sad/YAF_keep_sad.wav  \n",
            "  inflating: TESS/YAF_sad/YAF_keg_sad.wav  \n",
            "  inflating: TESS/YAF_sad/YAF_kick_sad.wav  \n",
            "  inflating: TESS/YAF_sad/YAF_kill_sad.wav  \n",
            "  inflating: TESS/YAF_sad/YAF_king_sad.wav  \n",
            "  inflating: TESS/YAF_sad/YAF_kite_sad.wav  \n",
            "  inflating: TESS/YAF_sad/YAF_knock_sad.wav  \n",
            "  inflating: TESS/YAF_sad/YAF_late_sad.wav  \n",
            "  inflating: TESS/YAF_sad/YAF_laud_sad.wav  \n",
            "  inflating: TESS/YAF_sad/YAF_lean_sad.wav  \n",
            "  inflating: TESS/YAF_sad/YAF_learn_sad.wav  \n",
            "  inflating: TESS/YAF_sad/YAF_lease_sad.wav  \n",
            "  inflating: TESS/YAF_sad/YAF_lid_sad.wav  \n",
            "  inflating: TESS/YAF_sad/YAF_life_sad.wav  \n",
            "  inflating: TESS/YAF_sad/YAF_limb_sad.wav  \n",
            "  inflating: TESS/YAF_sad/YAF_live_sad.wav  \n",
            "  inflating: TESS/YAF_sad/YAF_loaf_sad.wav  \n",
            "  inflating: TESS/YAF_sad/YAF_long_sad.wav  \n",
            "  inflating: TESS/YAF_sad/YAF_lore_sad.wav  \n",
            "  inflating: TESS/YAF_sad/YAF_lose_sad.wav  \n",
            "  inflating: TESS/YAF_sad/YAF_lot_sad.wav  \n",
            "  inflating: TESS/YAF_sad/YAF_love_sad.wav  \n",
            "  inflating: TESS/YAF_sad/YAF_luck_sad.wav  \n",
            "  inflating: TESS/YAF_sad/YAF_make_sad.wav  \n",
            "  inflating: TESS/YAF_sad/YAF_match_sad.wav  \n",
            "  inflating: TESS/YAF_sad/YAF_merge_sad.wav  \n",
            "  inflating: TESS/YAF_sad/YAF_mess_sad.wav  \n",
            "  inflating: TESS/YAF_sad/YAF_met_sad.wav  \n",
            "  inflating: TESS/YAF_sad/YAF_mill_sad.wav  \n",
            "  inflating: TESS/YAF_sad/YAF_mob_sad.wav  \n",
            "  inflating: TESS/YAF_sad/YAF_mode_sad.wav  \n",
            "  inflating: TESS/YAF_sad/YAF_mood_sad.wav  \n",
            "  inflating: TESS/YAF_sad/YAF_moon_sad.wav  \n",
            "  inflating: TESS/YAF_sad/YAF_mop_sad.wav  \n",
            "  inflating: TESS/YAF_sad/YAF_mouse_sad.wav  \n",
            "  inflating: TESS/YAF_sad/YAF_nag_sad.wav  \n",
            "  inflating: TESS/YAF_sad/YAF_name_sad.wav  \n",
            "  inflating: TESS/YAF_sad/YAF_near_sad.wav  \n",
            "  inflating: TESS/YAF_sad/YAF_neat_sad.wav  \n",
            "  inflating: TESS/YAF_sad/YAF_nice_sad.wav  \n",
            "  inflating: TESS/YAF_sad/YAF_note_sad.wav  \n",
            "  inflating: TESS/YAF_sad/YAF_numb_sad.wav  \n",
            "  inflating: TESS/YAF_sad/YAF_pad_sad.wav  \n",
            "  inflating: TESS/YAF_sad/YAF_page_sad.wav  \n",
            "  inflating: TESS/YAF_sad/YAF_pain_sad.wav  \n",
            "  inflating: TESS/YAF_sad/YAF_pass_sad.wav  \n",
            "  inflating: TESS/YAF_sad/YAF_pearl_sad.wav  \n",
            "  inflating: TESS/YAF_sad/YAF_peg_sad.wav  \n",
            "  inflating: TESS/YAF_sad/YAF_perch_sad.wav  \n",
            "  inflating: TESS/YAF_sad/YAF_phone_sad.wav  \n",
            "  inflating: TESS/YAF_sad/YAF_pick_sad.wav  \n",
            "  inflating: TESS/YAF_sad/YAF_pike_sad.wav  \n",
            "  inflating: TESS/YAF_sad/YAF_pole_sad.wav  \n",
            "  inflating: TESS/YAF_sad/YAF_pool_sad.wav  \n",
            "  inflating: TESS/YAF_sad/YAF_puff_sad.wav  \n",
            "  inflating: TESS/YAF_sad/YAF_rag_sad.wav  \n",
            "  inflating: TESS/YAF_sad/YAF_raid_sad.wav  \n",
            "  inflating: TESS/YAF_sad/YAF_rain_sad.wav  \n",
            "  inflating: TESS/YAF_sad/YAF_raise_sad.wav  \n",
            "  inflating: TESS/YAF_sad/YAF_rat_sad.wav  \n",
            "  inflating: TESS/YAF_sad/YAF_reach_sad.wav  \n",
            "  inflating: TESS/YAF_sad/YAF_read_sad.wav  \n",
            "  inflating: TESS/YAF_sad/YAF_red_sad.wav  \n",
            "  inflating: TESS/YAF_sad/YAF_ring_sad.wav  \n",
            "  inflating: TESS/YAF_sad/YAF_ripe_sad.wav  \n",
            "  inflating: TESS/YAF_sad/YAF_road_sad.wav  \n",
            "  inflating: TESS/YAF_sad/YAF_room_sad.wav  \n",
            "  inflating: TESS/YAF_sad/YAF_rose_sad.wav  \n",
            "  inflating: TESS/YAF_sad/YAF_rot_sad.wav  \n",
            "  inflating: TESS/YAF_sad/YAF_rough_sad.wav  \n",
            "  inflating: TESS/YAF_sad/YAF_rush_sad.wav  \n",
            "  inflating: TESS/YAF_sad/YAF_said_sad.wav  \n",
            "  inflating: TESS/YAF_sad/YAF_sail_sad.wav  \n",
            "  inflating: TESS/YAF_sad/YAF_search_sad.wav  \n",
            "  inflating: TESS/YAF_sad/YAF_seize_sad.wav  \n",
            "  inflating: TESS/YAF_sad/YAF_sell_sad.wav  \n",
            "  inflating: TESS/YAF_sad/YAF_shack_sad.wav  \n",
            "  inflating: TESS/YAF_sad/YAF_shall_sad.wav  \n",
            "  inflating: TESS/YAF_sad/YAF_shawl_sad.wav  \n",
            "  inflating: TESS/YAF_sad/YAF_sheep_sad.wav  \n",
            "  inflating: TESS/YAF_sad/YAF_shirt_sad.wav  \n",
            "  inflating: TESS/YAF_sad/YAF_should_sad.wav  \n",
            "  inflating: TESS/YAF_sad/YAF_shout_sad.wav  \n",
            "  inflating: TESS/YAF_sad/YAF_size_sad.wav  \n",
            "  inflating: TESS/YAF_sad/YAF_soap_sad.wav  \n",
            "  inflating: TESS/YAF_sad/YAF_soup_sad.wav  \n",
            "  inflating: TESS/YAF_sad/YAF_sour_sad.wav  \n",
            "  inflating: TESS/YAF_sad/YAF_south_sad.wav  \n",
            "  inflating: TESS/YAF_sad/YAF_sub_sad.wav  \n",
            "  inflating: TESS/YAF_sad/YAF_such_sad.wav  \n",
            "  inflating: TESS/YAF_sad/YAF_sure_sad.wav  \n",
            "  inflating: TESS/YAF_sad/YAF_take_sad.wav  \n",
            "  inflating: TESS/YAF_sad/YAF_talk_sad.wav  \n",
            "  inflating: TESS/YAF_sad/YAF_tape_sad.wav  \n",
            "  inflating: TESS/YAF_sad/YAF_team_sad.wav  \n",
            "  inflating: TESS/YAF_sad/YAF_tell_sad.wav  \n",
            "  inflating: TESS/YAF_sad/YAF_thin_sad.wav  \n",
            "  inflating: TESS/YAF_sad/YAF_third_sad.wav  \n",
            "  inflating: TESS/YAF_sad/YAF_thought_sad.wav  \n",
            "  inflating: TESS/YAF_sad/YAF_thumb_sad.wav  \n",
            "  inflating: TESS/YAF_sad/YAF_time_sad.wav  \n",
            "  inflating: TESS/YAF_sad/YAF_tip_sad.wav  \n",
            "  inflating: TESS/YAF_sad/YAF_tire_sad.wav  \n",
            "  inflating: TESS/YAF_sad/YAF_ton_sad.wav  \n",
            "  inflating: TESS/YAF_sad/YAF_tool_sad.wav  \n",
            "  inflating: TESS/YAF_sad/YAF_tough_sad.wav  \n",
            "  inflating: TESS/YAF_sad/YAF_turn_sad.wav  \n",
            "  inflating: TESS/YAF_sad/YAF_vine_sad.wav  \n",
            "  inflating: TESS/YAF_sad/YAF_voice_sad.wav  \n",
            "  inflating: TESS/YAF_sad/YAF_void_sad.wav  \n",
            "  inflating: TESS/YAF_sad/YAF_vote_sad.wav  \n",
            "  inflating: TESS/YAF_sad/YAF_wag_sad.wav  \n",
            "  inflating: TESS/YAF_sad/YAF_walk_sad.wav  \n",
            "  inflating: TESS/YAF_sad/YAF_wash_sad.wav  \n",
            "  inflating: TESS/YAF_sad/YAF_week_sad.wav  \n",
            "  inflating: TESS/YAF_sad/YAF_wheat_sad.wav  \n",
            "  inflating: TESS/YAF_sad/YAF_when_sad.wav  \n",
            "  inflating: TESS/YAF_sad/YAF_which_sad.wav  \n",
            "  inflating: TESS/YAF_sad/YAF_whip_sad.wav  \n",
            "  inflating: TESS/YAF_sad/YAF_white_sad.wav  \n",
            "  inflating: TESS/YAF_sad/YAF_wife_sad.wav  \n",
            "  inflating: TESS/YAF_sad/YAF_wire_sad.wav  \n",
            "  inflating: TESS/YAF_sad/YAF_witch_sad.wav  \n",
            "  inflating: TESS/YAF_sad/YAF_yearn_sad.wav  \n",
            "  inflating: TESS/YAF_sad/YAF_yes_sad.wav  \n",
            "  inflating: TESS/YAF_sad/YAF_young_sad.wav  \n",
            "  inflating: TESS/YAF_sad/YAF_youth_sad.wav  \n"
          ]
        }
      ]
    },
    {
      "cell_type": "code",
      "source": [
        "# Keras\n",
        "#import tensorflow as tf\n",
        "from IPython.display import Audio\n",
        "import keras\n",
        "from keras import regularizers\n",
        "\n",
        "from keras.models import Sequential, Model, model_from_json\n",
        "from keras.layers import Dense, Embedding, LSTM\n",
        "from keras.layers import Input, Flatten, Dropout, Activation, BatchNormalization\n",
        "from keras.layers import Conv1D,Conv2D,MaxPool2D, MaxPooling1D, AveragePooling1D\n",
        "from tensorflow.keras.utils import to_categorical\n",
        "from keras.callbacks import (EarlyStopping, LearningRateScheduler,\n",
        "                             ModelCheckpoint, TensorBoard, ReduceLROnPlateau)\n",
        "from keras import losses, models, optimizers\n",
        "from keras.activations import relu, softmax\n",
        "from keras.layers import (Conv2D,Conv2DTranspose, GlobalAveragePooling2D, BatchNormalization, Flatten, Dropout,\n",
        "                          GlobalMaxPool2D, MaxPool2D, concatenate, Activation, Input, Dense)\n",
        "from keras.preprocessing import sequence\n",
        "from keras.preprocessing.text import Tokenizer\n",
        "\n",
        "\n",
        "from keras_preprocessing.sequence import pad_sequences\n",
        "\n",
        "\n",
        "# sklearn\n",
        "from sklearn.metrics import confusion_matrix, accuracy_score,classification_report\n",
        "from sklearn.model_selection import train_test_split\n",
        "from sklearn.preprocessing import LabelEncoder\n",
        "from sklearn.preprocessing import StandardScaler, OneHotEncoder\n",
        "\n",
        "# Other\n",
        "from tqdm import tqdm, tqdm_pandas\n",
        "import scipy\n",
        "from scipy.stats import skew\n",
        "import librosa\n",
        "import librosa.display\n",
        "import json\n",
        "import numpy as np\n",
        "import matplotlib.pyplot as plt\n",
        "import tensorflow as tf\n",
        "from matplotlib.pyplot import specgram\n",
        "import pandas as pd\n",
        "import seaborn as sns\n",
        "import glob\n",
        "import os\n",
        "import sys\n",
        "import IPython.display as Audio  # To play sound in the notebook\n",
        "import warnings\n",
        "\n",
        "import numpy as np # linear algebra\n",
        "import pandas as pd\n",
        "from tqdm import tqdm\n",
        "from glob import glob\n",
        "from keras.layers import *\n",
        "from keras.models import *\n",
        "from keras.utils import *\n",
        "import numpy as np\n",
        "import os\n",
        "from tensorflow.keras.optimizers import Adam\n",
        "\n",
        "# ignore warnings\n",
        "if not sys.warnoptions:\n",
        "    warnings.simplefilter(\"ignore\")"
      ],
      "metadata": {
        "id": "7fn0yOnDscfc"
      },
      "execution_count": null,
      "outputs": []
    },
    {
      "cell_type": "code",
      "source": [
        "Ravdess = '/content/rav'\n",
        "ravdess_directory_list = os.listdir(Ravdess)\n",
        "ravdess_directory_list"
      ],
      "metadata": {
        "colab": {
          "base_uri": "https://localhost:8080/"
        },
        "id": "W5nlHo3er0jc",
        "outputId": "382dcdcb-3c43-44a8-924b-e369a056cf65"
      },
      "execution_count": null,
      "outputs": [
        {
          "output_type": "execute_result",
          "data": {
            "text/plain": [
              "['Actor_12',\n",
              " 'Actor_14',\n",
              " 'Actor_22',\n",
              " 'Actor_19',\n",
              " 'Actor_21',\n",
              " 'Actor_02',\n",
              " 'Actor_20',\n",
              " 'Actor_13',\n",
              " 'Actor_09',\n",
              " 'Actor_08',\n",
              " 'Actor_18',\n",
              " 'Actor_23',\n",
              " 'Actor_17',\n",
              " 'Actor_04',\n",
              " 'Actor_03',\n",
              " 'Actor_15',\n",
              " 'Actor_05',\n",
              " 'Actor_06',\n",
              " 'Actor_10',\n",
              " 'Actor_24',\n",
              " 'Actor_16',\n",
              " 'Actor_01',\n",
              " 'Actor_07',\n",
              " 'Actor_11']"
            ]
          },
          "metadata": {},
          "execution_count": 5
        }
      ]
    },
    {
      "cell_type": "code",
      "source": [
        "# Ravdess preprocess\n",
        "ravdess_directory_list = os.listdir(Ravdess)\n",
        "file_path = []\n",
        "file_emotion = []\n",
        "for directory in ravdess_directory_list:\n",
        "    # 24 different actors in Ravdess directory needed to be extracted as files for each actor\n",
        "    actor = os.listdir(Ravdess + '/' + directory)\n",
        "    for file in actor:\n",
        "        part = file.split('.')[0]\n",
        "        part = part.split('-')\n",
        "        # third part in each file represents the emotion associated to that file\n",
        "        file_emotion.append(int(part[2]))\n",
        "        file_path.append(Ravdess + '/' + directory + '/' + file)"
      ],
      "metadata": {
        "id": "nGK2SLoEsOh-"
      },
      "execution_count": null,
      "outputs": []
    },
    {
      "cell_type": "code",
      "source": [
        "file_path"
      ],
      "metadata": {
        "colab": {
          "base_uri": "https://localhost:8080/"
        },
        "id": "QDPriJ8nsiT3",
        "outputId": "b992af01-88ee-4f7f-a107-a02e7a86a0ca"
      },
      "execution_count": null,
      "outputs": [
        {
          "output_type": "execute_result",
          "data": {
            "text/plain": [
              "['/content/rav/Actor_12/03-01-08-01-02-01-12.wav',\n",
              " '/content/rav/Actor_12/03-01-01-01-02-02-12.wav',\n",
              " '/content/rav/Actor_12/03-01-07-02-02-02-12.wav',\n",
              " '/content/rav/Actor_12/03-01-02-01-01-02-12.wav',\n",
              " '/content/rav/Actor_12/03-01-03-01-02-02-12.wav',\n",
              " '/content/rav/Actor_12/03-01-07-01-02-01-12.wav',\n",
              " '/content/rav/Actor_12/03-01-02-02-01-01-12.wav',\n",
              " '/content/rav/Actor_12/03-01-05-02-01-01-12.wav',\n",
              " '/content/rav/Actor_12/03-01-07-01-02-02-12.wav',\n",
              " '/content/rav/Actor_12/03-01-05-01-01-02-12.wav',\n",
              " '/content/rav/Actor_12/03-01-07-02-01-02-12.wav',\n",
              " '/content/rav/Actor_12/03-01-06-01-02-02-12.wav',\n",
              " '/content/rav/Actor_12/03-01-03-01-01-02-12.wav',\n",
              " '/content/rav/Actor_12/03-01-04-02-02-01-12.wav',\n",
              " '/content/rav/Actor_12/03-01-08-01-01-01-12.wav',\n",
              " '/content/rav/Actor_12/03-01-01-01-02-01-12.wav',\n",
              " '/content/rav/Actor_12/03-01-08-01-01-02-12.wav',\n",
              " '/content/rav/Actor_12/03-01-02-02-01-02-12.wav',\n",
              " '/content/rav/Actor_12/03-01-06-02-01-01-12.wav',\n",
              " '/content/rav/Actor_12/03-01-01-01-01-01-12.wav',\n",
              " '/content/rav/Actor_12/03-01-06-02-02-02-12.wav',\n",
              " '/content/rav/Actor_12/03-01-04-01-02-01-12.wav',\n",
              " '/content/rav/Actor_12/03-01-08-02-02-01-12.wav',\n",
              " '/content/rav/Actor_12/03-01-04-02-01-02-12.wav',\n",
              " '/content/rav/Actor_12/03-01-03-02-02-02-12.wav',\n",
              " '/content/rav/Actor_12/03-01-01-01-01-02-12.wav',\n",
              " '/content/rav/Actor_12/03-01-06-01-01-01-12.wav',\n",
              " '/content/rav/Actor_12/03-01-02-02-02-02-12.wav',\n",
              " '/content/rav/Actor_12/03-01-03-01-02-01-12.wav',\n",
              " '/content/rav/Actor_12/03-01-05-02-02-01-12.wav',\n",
              " '/content/rav/Actor_12/03-01-02-02-02-01-12.wav',\n",
              " '/content/rav/Actor_12/03-01-05-01-01-01-12.wav',\n",
              " '/content/rav/Actor_12/03-01-02-01-01-01-12.wav',\n",
              " '/content/rav/Actor_12/03-01-06-01-01-02-12.wav',\n",
              " '/content/rav/Actor_12/03-01-07-01-01-02-12.wav',\n",
              " '/content/rav/Actor_12/03-01-03-02-01-02-12.wav',\n",
              " '/content/rav/Actor_12/03-01-06-01-02-01-12.wav',\n",
              " '/content/rav/Actor_12/03-01-05-02-01-02-12.wav',\n",
              " '/content/rav/Actor_12/03-01-03-02-01-01-12.wav',\n",
              " '/content/rav/Actor_12/03-01-08-02-01-02-12.wav',\n",
              " '/content/rav/Actor_12/03-01-06-02-02-01-12.wav',\n",
              " '/content/rav/Actor_12/03-01-04-02-01-01-12.wav',\n",
              " '/content/rav/Actor_12/03-01-03-01-01-01-12.wav',\n",
              " '/content/rav/Actor_12/03-01-08-02-01-01-12.wav',\n",
              " '/content/rav/Actor_12/03-01-06-02-01-02-12.wav',\n",
              " '/content/rav/Actor_12/03-01-03-02-02-01-12.wav',\n",
              " '/content/rav/Actor_12/03-01-07-01-01-01-12.wav',\n",
              " '/content/rav/Actor_12/03-01-05-01-02-02-12.wav',\n",
              " '/content/rav/Actor_12/03-01-05-01-02-01-12.wav',\n",
              " '/content/rav/Actor_12/03-01-05-02-02-02-12.wav',\n",
              " '/content/rav/Actor_12/03-01-04-01-01-01-12.wav',\n",
              " '/content/rav/Actor_12/03-01-08-01-02-02-12.wav',\n",
              " '/content/rav/Actor_12/03-01-08-02-02-02-12.wav',\n",
              " '/content/rav/Actor_12/03-01-07-02-01-01-12.wav',\n",
              " '/content/rav/Actor_12/03-01-04-02-02-02-12.wav',\n",
              " '/content/rav/Actor_12/03-01-04-01-01-02-12.wav',\n",
              " '/content/rav/Actor_12/03-01-02-01-02-01-12.wav',\n",
              " '/content/rav/Actor_12/03-01-04-01-02-02-12.wav',\n",
              " '/content/rav/Actor_12/03-01-07-02-02-01-12.wav',\n",
              " '/content/rav/Actor_12/03-01-02-01-02-02-12.wav',\n",
              " '/content/rav/Actor_14/03-01-07-02-02-01-14.wav',\n",
              " '/content/rav/Actor_14/03-01-06-01-02-01-14.wav',\n",
              " '/content/rav/Actor_14/03-01-08-02-01-02-14.wav',\n",
              " '/content/rav/Actor_14/03-01-08-02-02-01-14.wav',\n",
              " '/content/rav/Actor_14/03-01-02-02-01-01-14.wav',\n",
              " '/content/rav/Actor_14/03-01-08-01-01-02-14.wav',\n",
              " '/content/rav/Actor_14/03-01-02-02-02-01-14.wav',\n",
              " '/content/rav/Actor_14/03-01-06-01-02-02-14.wav',\n",
              " '/content/rav/Actor_14/03-01-07-01-01-01-14.wav',\n",
              " '/content/rav/Actor_14/03-01-05-01-02-01-14.wav',\n",
              " '/content/rav/Actor_14/03-01-04-01-01-02-14.wav',\n",
              " '/content/rav/Actor_14/03-01-06-02-01-02-14.wav',\n",
              " '/content/rav/Actor_14/03-01-02-01-02-01-14.wav',\n",
              " '/content/rav/Actor_14/03-01-05-01-01-01-14.wav',\n",
              " '/content/rav/Actor_14/03-01-08-02-02-02-14.wav',\n",
              " '/content/rav/Actor_14/03-01-03-01-02-01-14.wav',\n",
              " '/content/rav/Actor_14/03-01-04-02-01-01-14.wav',\n",
              " '/content/rav/Actor_14/03-01-03-02-02-01-14.wav',\n",
              " '/content/rav/Actor_14/03-01-02-02-01-02-14.wav',\n",
              " '/content/rav/Actor_14/03-01-05-02-02-02-14.wav',\n",
              " '/content/rav/Actor_14/03-01-03-01-01-01-14.wav',\n",
              " '/content/rav/Actor_14/03-01-03-01-02-02-14.wav',\n",
              " '/content/rav/Actor_14/03-01-08-01-01-01-14.wav',\n",
              " '/content/rav/Actor_14/03-01-06-01-01-02-14.wav',\n",
              " '/content/rav/Actor_14/03-01-01-01-01-01-14.wav',\n",
              " '/content/rav/Actor_14/03-01-04-02-01-02-14.wav',\n",
              " '/content/rav/Actor_14/03-01-06-02-01-01-14.wav',\n",
              " '/content/rav/Actor_14/03-01-07-01-02-02-14.wav',\n",
              " '/content/rav/Actor_14/03-01-02-01-01-02-14.wav',\n",
              " '/content/rav/Actor_14/03-01-07-02-02-02-14.wav',\n",
              " '/content/rav/Actor_14/03-01-04-01-02-01-14.wav',\n",
              " '/content/rav/Actor_14/03-01-04-01-02-02-14.wav',\n",
              " '/content/rav/Actor_14/03-01-05-02-02-01-14.wav',\n",
              " '/content/rav/Actor_14/03-01-02-02-02-02-14.wav',\n",
              " '/content/rav/Actor_14/03-01-05-02-01-02-14.wav',\n",
              " '/content/rav/Actor_14/03-01-01-01-02-01-14.wav',\n",
              " '/content/rav/Actor_14/03-01-04-02-02-01-14.wav',\n",
              " '/content/rav/Actor_14/03-01-06-02-02-01-14.wav',\n",
              " '/content/rav/Actor_14/03-01-05-01-01-02-14.wav',\n",
              " '/content/rav/Actor_14/03-01-03-02-02-02-14.wav',\n",
              " '/content/rav/Actor_14/03-01-07-01-01-02-14.wav',\n",
              " '/content/rav/Actor_14/03-01-07-02-01-01-14.wav',\n",
              " '/content/rav/Actor_14/03-01-08-01-02-01-14.wav',\n",
              " '/content/rav/Actor_14/03-01-06-02-02-02-14.wav',\n",
              " '/content/rav/Actor_14/03-01-05-02-01-01-14.wav',\n",
              " '/content/rav/Actor_14/03-01-08-02-01-01-14.wav',\n",
              " '/content/rav/Actor_14/03-01-04-02-02-02-14.wav',\n",
              " '/content/rav/Actor_14/03-01-08-01-02-02-14.wav',\n",
              " '/content/rav/Actor_14/03-01-06-01-01-01-14.wav',\n",
              " '/content/rav/Actor_14/03-01-02-01-02-02-14.wav',\n",
              " '/content/rav/Actor_14/03-01-02-01-01-01-14.wav',\n",
              " '/content/rav/Actor_14/03-01-03-02-01-02-14.wav',\n",
              " '/content/rav/Actor_14/03-01-01-01-02-02-14.wav',\n",
              " '/content/rav/Actor_14/03-01-03-02-01-01-14.wav',\n",
              " '/content/rav/Actor_14/03-01-07-01-02-01-14.wav',\n",
              " '/content/rav/Actor_14/03-01-07-02-01-02-14.wav',\n",
              " '/content/rav/Actor_14/03-01-03-01-01-02-14.wav',\n",
              " '/content/rav/Actor_14/03-01-01-01-01-02-14.wav',\n",
              " '/content/rav/Actor_14/03-01-05-01-02-02-14.wav',\n",
              " '/content/rav/Actor_14/03-01-04-01-01-01-14.wav',\n",
              " '/content/rav/Actor_22/03-01-07-02-02-02-22.wav',\n",
              " '/content/rav/Actor_22/03-01-03-01-01-01-22.wav',\n",
              " '/content/rav/Actor_22/03-01-05-02-02-02-22.wav',\n",
              " '/content/rav/Actor_22/03-01-04-02-01-02-22.wav',\n",
              " '/content/rav/Actor_22/03-01-04-02-02-01-22.wav',\n",
              " '/content/rav/Actor_22/03-01-03-01-01-02-22.wav',\n",
              " '/content/rav/Actor_22/03-01-08-01-02-01-22.wav',\n",
              " '/content/rav/Actor_22/03-01-01-01-02-02-22.wav',\n",
              " '/content/rav/Actor_22/03-01-05-02-02-01-22.wav',\n",
              " '/content/rav/Actor_22/03-01-06-01-01-01-22.wav',\n",
              " '/content/rav/Actor_22/03-01-06-01-01-02-22.wav',\n",
              " '/content/rav/Actor_22/03-01-06-02-01-02-22.wav',\n",
              " '/content/rav/Actor_22/03-01-08-01-02-02-22.wav',\n",
              " '/content/rav/Actor_22/03-01-01-01-01-01-22.wav',\n",
              " '/content/rav/Actor_22/03-01-07-02-01-01-22.wav',\n",
              " '/content/rav/Actor_22/03-01-04-01-01-01-22.wav',\n",
              " '/content/rav/Actor_22/03-01-08-02-01-01-22.wav',\n",
              " '/content/rav/Actor_22/03-01-03-02-02-01-22.wav',\n",
              " '/content/rav/Actor_22/03-01-05-01-02-01-22.wav',\n",
              " '/content/rav/Actor_22/03-01-08-02-01-02-22.wav',\n",
              " '/content/rav/Actor_22/03-01-03-02-01-02-22.wav',\n",
              " '/content/rav/Actor_22/03-01-05-02-01-01-22.wav',\n",
              " '/content/rav/Actor_22/03-01-07-01-02-01-22.wav',\n",
              " '/content/rav/Actor_22/03-01-03-02-01-01-22.wav',\n",
              " '/content/rav/Actor_22/03-01-06-02-02-02-22.wav',\n",
              " '/content/rav/Actor_22/03-01-01-01-02-01-22.wav',\n",
              " '/content/rav/Actor_22/03-01-07-01-01-01-22.wav',\n",
              " '/content/rav/Actor_22/03-01-02-01-01-02-22.wav',\n",
              " '/content/rav/Actor_22/03-01-02-02-01-01-22.wav',\n",
              " '/content/rav/Actor_22/03-01-05-01-02-02-22.wav',\n",
              " '/content/rav/Actor_22/03-01-04-01-02-01-22.wav',\n",
              " '/content/rav/Actor_22/03-01-04-01-02-02-22.wav',\n",
              " '/content/rav/Actor_22/03-01-03-02-02-02-22.wav',\n",
              " '/content/rav/Actor_22/03-01-02-01-02-02-22.wav',\n",
              " '/content/rav/Actor_22/03-01-05-01-01-02-22.wav',\n",
              " '/content/rav/Actor_22/03-01-06-02-01-01-22.wav',\n",
              " '/content/rav/Actor_22/03-01-02-02-01-02-22.wav',\n",
              " '/content/rav/Actor_22/03-01-06-01-02-02-22.wav',\n",
              " '/content/rav/Actor_22/03-01-02-02-02-02-22.wav',\n",
              " '/content/rav/Actor_22/03-01-08-01-01-02-22.wav',\n",
              " '/content/rav/Actor_22/03-01-04-02-01-01-22.wav',\n",
              " '/content/rav/Actor_22/03-01-02-02-02-01-22.wav',\n",
              " '/content/rav/Actor_22/03-01-05-02-01-02-22.wav',\n",
              " '/content/rav/Actor_22/03-01-02-01-01-01-22.wav',\n",
              " '/content/rav/Actor_22/03-01-08-01-01-01-22.wav',\n",
              " '/content/rav/Actor_22/03-01-04-02-02-02-22.wav',\n",
              " '/content/rav/Actor_22/03-01-08-02-02-01-22.wav',\n",
              " '/content/rav/Actor_22/03-01-02-01-02-01-22.wav',\n",
              " '/content/rav/Actor_22/03-01-04-01-01-02-22.wav',\n",
              " '/content/rav/Actor_22/03-01-06-01-02-01-22.wav',\n",
              " '/content/rav/Actor_22/03-01-07-02-02-01-22.wav',\n",
              " '/content/rav/Actor_22/03-01-01-01-01-02-22.wav',\n",
              " '/content/rav/Actor_22/03-01-07-01-02-02-22.wav',\n",
              " '/content/rav/Actor_22/03-01-08-02-02-02-22.wav',\n",
              " '/content/rav/Actor_22/03-01-06-02-02-01-22.wav',\n",
              " '/content/rav/Actor_22/03-01-03-01-02-01-22.wav',\n",
              " '/content/rav/Actor_22/03-01-07-01-01-02-22.wav',\n",
              " '/content/rav/Actor_22/03-01-03-01-02-02-22.wav',\n",
              " '/content/rav/Actor_22/03-01-05-01-01-01-22.wav',\n",
              " '/content/rav/Actor_22/03-01-07-02-01-02-22.wav',\n",
              " '/content/rav/Actor_19/03-01-02-01-02-01-19.wav',\n",
              " '/content/rav/Actor_19/03-01-04-01-02-01-19.wav',\n",
              " '/content/rav/Actor_19/03-01-06-02-01-01-19.wav',\n",
              " '/content/rav/Actor_19/03-01-06-01-01-01-19.wav',\n",
              " '/content/rav/Actor_19/03-01-05-01-02-01-19.wav',\n",
              " '/content/rav/Actor_19/03-01-04-01-01-02-19.wav',\n",
              " '/content/rav/Actor_19/03-01-03-01-02-02-19.wav',\n",
              " '/content/rav/Actor_19/03-01-01-01-01-02-19.wav',\n",
              " '/content/rav/Actor_19/03-01-05-01-02-02-19.wav',\n",
              " '/content/rav/Actor_19/03-01-02-01-01-01-19.wav',\n",
              " '/content/rav/Actor_19/03-01-02-02-01-01-19.wav',\n",
              " '/content/rav/Actor_19/03-01-02-02-02-02-19.wav',\n",
              " '/content/rav/Actor_19/03-01-02-01-01-02-19.wav',\n",
              " '/content/rav/Actor_19/03-01-05-02-02-02-19.wav',\n",
              " '/content/rav/Actor_19/03-01-02-01-02-02-19.wav',\n",
              " '/content/rav/Actor_19/03-01-01-01-01-01-19.wav',\n",
              " '/content/rav/Actor_19/03-01-03-02-02-02-19.wav',\n",
              " '/content/rav/Actor_19/03-01-06-02-01-02-19.wav',\n",
              " '/content/rav/Actor_19/03-01-08-02-01-01-19.wav',\n",
              " '/content/rav/Actor_19/03-01-06-02-02-02-19.wav',\n",
              " '/content/rav/Actor_19/03-01-03-02-01-02-19.wav',\n",
              " '/content/rav/Actor_19/03-01-08-01-01-02-19.wav',\n",
              " '/content/rav/Actor_19/03-01-03-01-02-01-19.wav',\n",
              " '/content/rav/Actor_19/03-01-04-02-02-02-19.wav',\n",
              " '/content/rav/Actor_19/03-01-07-02-02-02-19.wav',\n",
              " '/content/rav/Actor_19/03-01-08-01-02-01-19.wav',\n",
              " '/content/rav/Actor_19/03-01-03-02-01-01-19.wav',\n",
              " '/content/rav/Actor_19/03-01-04-01-02-02-19.wav',\n",
              " '/content/rav/Actor_19/03-01-04-01-01-01-19.wav',\n",
              " '/content/rav/Actor_19/03-01-03-02-02-01-19.wav',\n",
              " '/content/rav/Actor_19/03-01-07-02-01-01-19.wav',\n",
              " '/content/rav/Actor_19/03-01-08-01-02-02-19.wav',\n",
              " '/content/rav/Actor_19/03-01-08-01-01-01-19.wav',\n",
              " '/content/rav/Actor_19/03-01-02-02-02-01-19.wav',\n",
              " '/content/rav/Actor_19/03-01-04-02-01-02-19.wav',\n",
              " '/content/rav/Actor_19/03-01-08-02-02-01-19.wav',\n",
              " '/content/rav/Actor_19/03-01-05-02-02-01-19.wav',\n",
              " '/content/rav/Actor_19/03-01-08-02-01-02-19.wav',\n",
              " '/content/rav/Actor_19/03-01-06-01-02-01-19.wav',\n",
              " '/content/rav/Actor_19/03-01-04-02-02-01-19.wav',\n",
              " '/content/rav/Actor_19/03-01-01-01-02-01-19.wav',\n",
              " '/content/rav/Actor_19/03-01-07-02-01-02-19.wav',\n",
              " '/content/rav/Actor_19/03-01-07-01-01-02-19.wav',\n",
              " '/content/rav/Actor_19/03-01-07-02-02-01-19.wav',\n",
              " '/content/rav/Actor_19/03-01-06-01-02-02-19.wav',\n",
              " '/content/rav/Actor_19/03-01-01-01-02-02-19.wav',\n",
              " '/content/rav/Actor_19/03-01-07-01-02-01-19.wav',\n",
              " '/content/rav/Actor_19/03-01-07-01-02-02-19.wav',\n",
              " '/content/rav/Actor_19/03-01-07-01-01-01-19.wav',\n",
              " '/content/rav/Actor_19/03-01-06-02-02-01-19.wav',\n",
              " '/content/rav/Actor_19/03-01-04-02-01-01-19.wav',\n",
              " '/content/rav/Actor_19/03-01-05-01-01-02-19.wav',\n",
              " '/content/rav/Actor_19/03-01-03-01-01-01-19.wav',\n",
              " '/content/rav/Actor_19/03-01-08-02-02-02-19.wav',\n",
              " '/content/rav/Actor_19/03-01-02-02-01-02-19.wav',\n",
              " '/content/rav/Actor_19/03-01-06-01-01-02-19.wav',\n",
              " '/content/rav/Actor_19/03-01-03-01-01-02-19.wav',\n",
              " '/content/rav/Actor_19/03-01-05-02-01-01-19.wav',\n",
              " '/content/rav/Actor_19/03-01-05-02-01-02-19.wav',\n",
              " '/content/rav/Actor_19/03-01-05-01-01-01-19.wav',\n",
              " '/content/rav/Actor_21/03-01-03-02-01-02-21.wav',\n",
              " '/content/rav/Actor_21/03-01-06-01-01-02-21.wav',\n",
              " '/content/rav/Actor_21/03-01-05-02-01-01-21.wav',\n",
              " '/content/rav/Actor_21/03-01-03-02-01-01-21.wav',\n",
              " '/content/rav/Actor_21/03-01-04-02-01-01-21.wav',\n",
              " '/content/rav/Actor_21/03-01-04-01-02-01-21.wav',\n",
              " '/content/rav/Actor_21/03-01-02-01-02-02-21.wav',\n",
              " '/content/rav/Actor_21/03-01-05-01-02-01-21.wav',\n",
              " '/content/rav/Actor_21/03-01-06-01-02-01-21.wav',\n",
              " '/content/rav/Actor_21/03-01-04-01-01-01-21.wav',\n",
              " '/content/rav/Actor_21/03-01-02-02-02-01-21.wav',\n",
              " '/content/rav/Actor_21/03-01-04-01-02-02-21.wav',\n",
              " '/content/rav/Actor_21/03-01-08-01-02-01-21.wav',\n",
              " '/content/rav/Actor_21/03-01-07-02-01-01-21.wav',\n",
              " '/content/rav/Actor_21/03-01-06-02-02-01-21.wav',\n",
              " '/content/rav/Actor_21/03-01-02-01-01-02-21.wav',\n",
              " '/content/rav/Actor_21/03-01-02-02-01-01-21.wav',\n",
              " '/content/rav/Actor_21/03-01-08-02-01-01-21.wav',\n",
              " '/content/rav/Actor_21/03-01-05-01-01-01-21.wav',\n",
              " '/content/rav/Actor_21/03-01-06-01-01-01-21.wav',\n",
              " '/content/rav/Actor_21/03-01-06-02-01-01-21.wav',\n",
              " '/content/rav/Actor_21/03-01-05-01-02-02-21.wav',\n",
              " '/content/rav/Actor_21/03-01-07-02-01-02-21.wav',\n",
              " '/content/rav/Actor_21/03-01-07-01-02-01-21.wav',\n",
              " '/content/rav/Actor_21/03-01-03-02-02-02-21.wav',\n",
              " '/content/rav/Actor_21/03-01-08-02-02-01-21.wav',\n",
              " '/content/rav/Actor_21/03-01-07-02-02-02-21.wav',\n",
              " '/content/rav/Actor_21/03-01-01-01-02-02-21.wav',\n",
              " '/content/rav/Actor_21/03-01-07-01-02-02-21.wav',\n",
              " '/content/rav/Actor_21/03-01-08-02-01-02-21.wav',\n",
              " '/content/rav/Actor_21/03-01-05-02-02-01-21.wav',\n",
              " '/content/rav/Actor_21/03-01-01-01-01-02-21.wav',\n",
              " '/content/rav/Actor_21/03-01-03-01-01-02-21.wav',\n",
              " '/content/rav/Actor_21/03-01-03-01-02-01-21.wav',\n",
              " '/content/rav/Actor_21/03-01-04-02-02-02-21.wav',\n",
              " '/content/rav/Actor_21/03-01-01-01-02-01-21.wav',\n",
              " '/content/rav/Actor_21/03-01-06-02-02-02-21.wav',\n",
              " '/content/rav/Actor_21/03-01-08-02-02-02-21.wav',\n",
              " '/content/rav/Actor_21/03-01-08-01-02-02-21.wav',\n",
              " '/content/rav/Actor_21/03-01-07-01-01-01-21.wav',\n",
              " '/content/rav/Actor_21/03-01-06-02-01-02-21.wav',\n",
              " '/content/rav/Actor_21/03-01-02-02-01-02-21.wav',\n",
              " '/content/rav/Actor_21/03-01-04-02-02-01-21.wav',\n",
              " '/content/rav/Actor_21/03-01-03-02-02-01-21.wav',\n",
              " '/content/rav/Actor_21/03-01-04-01-01-02-21.wav',\n",
              " '/content/rav/Actor_21/03-01-08-01-01-01-21.wav',\n",
              " '/content/rav/Actor_21/03-01-05-01-01-02-21.wav',\n",
              " '/content/rav/Actor_21/03-01-05-02-01-02-21.wav',\n",
              " '/content/rav/Actor_21/03-01-03-01-02-02-21.wav',\n",
              " '/content/rav/Actor_21/03-01-02-02-02-02-21.wav',\n",
              " '/content/rav/Actor_21/03-01-05-02-02-02-21.wav',\n",
              " '/content/rav/Actor_21/03-01-07-02-02-01-21.wav',\n",
              " '/content/rav/Actor_21/03-01-02-01-01-01-21.wav',\n",
              " '/content/rav/Actor_21/03-01-06-01-02-02-21.wav',\n",
              " '/content/rav/Actor_21/03-01-01-01-01-01-21.wav',\n",
              " '/content/rav/Actor_21/03-01-07-01-01-02-21.wav',\n",
              " '/content/rav/Actor_21/03-01-04-02-01-02-21.wav',\n",
              " '/content/rav/Actor_21/03-01-03-01-01-01-21.wav',\n",
              " '/content/rav/Actor_21/03-01-02-01-02-01-21.wav',\n",
              " '/content/rav/Actor_21/03-01-08-01-01-02-21.wav',\n",
              " '/content/rav/Actor_02/03-01-04-01-02-01-02.wav',\n",
              " '/content/rav/Actor_02/03-01-05-02-02-01-02.wav',\n",
              " '/content/rav/Actor_02/03-01-05-02-01-01-02.wav',\n",
              " '/content/rav/Actor_02/03-01-07-01-02-02-02.wav',\n",
              " '/content/rav/Actor_02/03-01-05-02-02-02-02.wav',\n",
              " '/content/rav/Actor_02/03-01-08-01-01-01-02.wav',\n",
              " '/content/rav/Actor_02/03-01-07-02-02-02-02.wav',\n",
              " '/content/rav/Actor_02/03-01-05-01-01-01-02.wav',\n",
              " '/content/rav/Actor_02/03-01-04-01-02-02-02.wav',\n",
              " '/content/rav/Actor_02/03-01-03-01-02-01-02.wav',\n",
              " '/content/rav/Actor_02/03-01-07-02-01-02-02.wav',\n",
              " '/content/rav/Actor_02/03-01-02-02-01-02-02.wav',\n",
              " '/content/rav/Actor_02/03-01-07-01-01-02-02.wav',\n",
              " '/content/rav/Actor_02/03-01-07-02-01-01-02.wav',\n",
              " '/content/rav/Actor_02/03-01-01-01-02-01-02.wav',\n",
              " '/content/rav/Actor_02/03-01-02-02-02-02-02.wav',\n",
              " '/content/rav/Actor_02/03-01-06-01-01-02-02.wav',\n",
              " '/content/rav/Actor_02/03-01-05-01-02-02-02.wav',\n",
              " '/content/rav/Actor_02/03-01-05-01-02-01-02.wav',\n",
              " '/content/rav/Actor_02/03-01-01-01-02-02-02.wav',\n",
              " '/content/rav/Actor_02/03-01-04-01-01-01-02.wav',\n",
              " '/content/rav/Actor_02/03-01-08-02-02-01-02.wav',\n",
              " '/content/rav/Actor_02/03-01-02-02-01-01-02.wav',\n",
              " '/content/rav/Actor_02/03-01-04-02-02-02-02.wav',\n",
              " '/content/rav/Actor_02/03-01-08-02-02-02-02.wav',\n",
              " '/content/rav/Actor_02/03-01-03-01-02-02-02.wav',\n",
              " '/content/rav/Actor_02/03-01-07-01-01-01-02.wav',\n",
              " '/content/rav/Actor_02/03-01-04-02-01-02-02.wav',\n",
              " '/content/rav/Actor_02/03-01-08-02-01-02-02.wav',\n",
              " '/content/rav/Actor_02/03-01-03-01-01-02-02.wav',\n",
              " '/content/rav/Actor_02/03-01-08-01-01-02-02.wav',\n",
              " '/content/rav/Actor_02/03-01-05-02-01-02-02.wav',\n",
              " '/content/rav/Actor_02/03-01-07-01-02-01-02.wav',\n",
              " '/content/rav/Actor_02/03-01-04-01-01-02-02.wav',\n",
              " '/content/rav/Actor_02/03-01-03-02-01-02-02.wav',\n",
              " '/content/rav/Actor_02/03-01-08-01-02-01-02.wav',\n",
              " '/content/rav/Actor_02/03-01-06-02-01-02-02.wav',\n",
              " '/content/rav/Actor_02/03-01-01-01-01-01-02.wav',\n",
              " '/content/rav/Actor_02/03-01-04-02-01-01-02.wav',\n",
              " '/content/rav/Actor_02/03-01-04-02-02-01-02.wav',\n",
              " '/content/rav/Actor_02/03-01-08-02-01-01-02.wav',\n",
              " '/content/rav/Actor_02/03-01-02-01-01-01-02.wav',\n",
              " '/content/rav/Actor_02/03-01-05-01-01-02-02.wav',\n",
              " '/content/rav/Actor_02/03-01-03-02-02-02-02.wav',\n",
              " '/content/rav/Actor_02/03-01-03-01-01-01-02.wav',\n",
              " '/content/rav/Actor_02/03-01-01-01-01-02-02.wav',\n",
              " '/content/rav/Actor_02/03-01-07-02-02-01-02.wav',\n",
              " '/content/rav/Actor_02/03-01-08-01-02-02-02.wav',\n",
              " '/content/rav/Actor_02/03-01-06-02-01-01-02.wav',\n",
              " '/content/rav/Actor_02/03-01-06-02-02-02-02.wav',\n",
              " '/content/rav/Actor_02/03-01-06-01-02-01-02.wav',\n",
              " '/content/rav/Actor_02/03-01-02-01-01-02-02.wav',\n",
              " '/content/rav/Actor_02/03-01-03-02-01-01-02.wav',\n",
              " '/content/rav/Actor_02/03-01-02-02-02-01-02.wav',\n",
              " '/content/rav/Actor_02/03-01-02-01-02-02-02.wav',\n",
              " '/content/rav/Actor_02/03-01-06-02-02-01-02.wav',\n",
              " '/content/rav/Actor_02/03-01-02-01-02-01-02.wav',\n",
              " '/content/rav/Actor_02/03-01-06-01-02-02-02.wav',\n",
              " '/content/rav/Actor_02/03-01-06-01-01-01-02.wav',\n",
              " '/content/rav/Actor_02/03-01-03-02-02-01-02.wav',\n",
              " '/content/rav/Actor_20/03-01-03-02-01-01-20.wav',\n",
              " '/content/rav/Actor_20/03-01-08-02-01-01-20.wav',\n",
              " '/content/rav/Actor_20/03-01-03-02-01-02-20.wav',\n",
              " '/content/rav/Actor_20/03-01-07-02-02-02-20.wav',\n",
              " '/content/rav/Actor_20/03-01-07-02-01-01-20.wav',\n",
              " '/content/rav/Actor_20/03-01-08-01-02-01-20.wav',\n",
              " '/content/rav/Actor_20/03-01-02-01-01-01-20.wav',\n",
              " '/content/rav/Actor_20/03-01-06-01-02-01-20.wav',\n",
              " '/content/rav/Actor_20/03-01-05-02-01-01-20.wav',\n",
              " '/content/rav/Actor_20/03-01-02-02-01-02-20.wav',\n",
              " '/content/rav/Actor_20/03-01-06-02-02-01-20.wav',\n",
              " '/content/rav/Actor_20/03-01-08-02-02-01-20.wav',\n",
              " '/content/rav/Actor_20/03-01-02-02-01-01-20.wav',\n",
              " '/content/rav/Actor_20/03-01-04-01-02-01-20.wav',\n",
              " '/content/rav/Actor_20/03-01-04-01-01-01-20.wav',\n",
              " '/content/rav/Actor_20/03-01-06-01-01-02-20.wav',\n",
              " '/content/rav/Actor_20/03-01-07-02-02-01-20.wav',\n",
              " '/content/rav/Actor_20/03-01-08-01-02-02-20.wav',\n",
              " '/content/rav/Actor_20/03-01-06-01-02-02-20.wav',\n",
              " '/content/rav/Actor_20/03-01-05-01-02-02-20.wav',\n",
              " '/content/rav/Actor_20/03-01-06-01-01-01-20.wav',\n",
              " '/content/rav/Actor_20/03-01-07-02-01-02-20.wav',\n",
              " '/content/rav/Actor_20/03-01-08-02-01-02-20.wav',\n",
              " '/content/rav/Actor_20/03-01-04-02-01-01-20.wav',\n",
              " '/content/rav/Actor_20/03-01-07-01-02-02-20.wav',\n",
              " '/content/rav/Actor_20/03-01-06-02-01-02-20.wav',\n",
              " '/content/rav/Actor_20/03-01-05-01-02-01-20.wav',\n",
              " '/content/rav/Actor_20/03-01-02-02-02-01-20.wav',\n",
              " '/content/rav/Actor_20/03-01-04-02-02-01-20.wav',\n",
              " '/content/rav/Actor_20/03-01-07-01-01-01-20.wav',\n",
              " '/content/rav/Actor_20/03-01-04-01-02-02-20.wav',\n",
              " '/content/rav/Actor_20/03-01-05-02-01-02-20.wav',\n",
              " '/content/rav/Actor_20/03-01-08-01-01-01-20.wav',\n",
              " '/content/rav/Actor_20/03-01-01-01-02-02-20.wav',\n",
              " '/content/rav/Actor_20/03-01-06-02-02-02-20.wav',\n",
              " '/content/rav/Actor_20/03-01-07-01-01-02-20.wav',\n",
              " '/content/rav/Actor_20/03-01-05-02-02-01-20.wav',\n",
              " '/content/rav/Actor_20/03-01-03-02-02-02-20.wav',\n",
              " '/content/rav/Actor_20/03-01-01-01-01-02-20.wav',\n",
              " '/content/rav/Actor_20/03-01-03-01-02-01-20.wav',\n",
              " '/content/rav/Actor_20/03-01-02-01-02-02-20.wav',\n",
              " '/content/rav/Actor_20/03-01-03-01-02-02-20.wav',\n",
              " '/content/rav/Actor_20/03-01-03-01-01-02-20.wav',\n",
              " '/content/rav/Actor_20/03-01-07-01-02-01-20.wav',\n",
              " '/content/rav/Actor_20/03-01-03-01-01-01-20.wav',\n",
              " '/content/rav/Actor_20/03-01-08-01-01-02-20.wav',\n",
              " '/content/rav/Actor_20/03-01-01-01-01-01-20.wav',\n",
              " '/content/rav/Actor_20/03-01-03-02-02-01-20.wav',\n",
              " '/content/rav/Actor_20/03-01-02-02-02-02-20.wav',\n",
              " '/content/rav/Actor_20/03-01-05-02-02-02-20.wav',\n",
              " '/content/rav/Actor_20/03-01-04-02-01-02-20.wav',\n",
              " '/content/rav/Actor_20/03-01-02-01-01-02-20.wav',\n",
              " '/content/rav/Actor_20/03-01-04-01-01-02-20.wav',\n",
              " '/content/rav/Actor_20/03-01-08-02-02-02-20.wav',\n",
              " '/content/rav/Actor_20/03-01-01-01-02-01-20.wav',\n",
              " '/content/rav/Actor_20/03-01-05-01-01-02-20.wav',\n",
              " '/content/rav/Actor_20/03-01-02-01-02-01-20.wav',\n",
              " '/content/rav/Actor_20/03-01-05-01-01-01-20.wav',\n",
              " '/content/rav/Actor_20/03-01-04-02-02-02-20.wav',\n",
              " '/content/rav/Actor_20/03-01-06-02-01-01-20.wav',\n",
              " '/content/rav/Actor_13/03-01-07-01-01-02-13.wav',\n",
              " '/content/rav/Actor_13/03-01-04-02-02-02-13.wav',\n",
              " '/content/rav/Actor_13/03-01-03-02-02-02-13.wav',\n",
              " '/content/rav/Actor_13/03-01-03-02-01-02-13.wav',\n",
              " '/content/rav/Actor_13/03-01-02-01-01-01-13.wav',\n",
              " '/content/rav/Actor_13/03-01-05-02-02-01-13.wav',\n",
              " '/content/rav/Actor_13/03-01-02-02-02-01-13.wav',\n",
              " '/content/rav/Actor_13/03-01-08-02-01-02-13.wav',\n",
              " '/content/rav/Actor_13/03-01-07-02-01-01-13.wav',\n",
              " '/content/rav/Actor_13/03-01-04-02-02-01-13.wav',\n",
              " '/content/rav/Actor_13/03-01-06-01-01-01-13.wav',\n",
              " '/content/rav/Actor_13/03-01-03-02-01-01-13.wav',\n",
              " '/content/rav/Actor_13/03-01-06-02-02-01-13.wav',\n",
              " '/content/rav/Actor_13/03-01-05-02-02-02-13.wav',\n",
              " '/content/rav/Actor_13/03-01-05-01-02-01-13.wav',\n",
              " '/content/rav/Actor_13/03-01-08-01-02-02-13.wav',\n",
              " '/content/rav/Actor_13/03-01-05-02-01-01-13.wav',\n",
              " '/content/rav/Actor_13/03-01-02-02-02-02-13.wav',\n",
              " '/content/rav/Actor_13/03-01-06-01-02-02-13.wav',\n",
              " '/content/rav/Actor_13/03-01-01-01-02-02-13.wav',\n",
              " '/content/rav/Actor_13/03-01-03-01-01-02-13.wav',\n",
              " '/content/rav/Actor_13/03-01-05-02-01-02-13.wav',\n",
              " '/content/rav/Actor_13/03-01-02-02-01-02-13.wav',\n",
              " '/content/rav/Actor_13/03-01-03-01-02-01-13.wav',\n",
              " '/content/rav/Actor_13/03-01-04-01-02-01-13.wav',\n",
              " '/content/rav/Actor_13/03-01-06-01-01-02-13.wav',\n",
              " '/content/rav/Actor_13/03-01-07-01-02-02-13.wav',\n",
              " '/content/rav/Actor_13/03-01-07-02-02-02-13.wav',\n",
              " '/content/rav/Actor_13/03-01-03-01-01-01-13.wav',\n",
              " '/content/rav/Actor_13/03-01-06-02-02-02-13.wav',\n",
              " '/content/rav/Actor_13/03-01-05-01-02-02-13.wav',\n",
              " '/content/rav/Actor_13/03-01-05-01-01-01-13.wav',\n",
              " '/content/rav/Actor_13/03-01-07-01-01-01-13.wav',\n",
              " '/content/rav/Actor_13/03-01-08-02-02-02-13.wav',\n",
              " '/content/rav/Actor_13/03-01-01-01-01-02-13.wav',\n",
              " '/content/rav/Actor_13/03-01-02-01-02-02-13.wav',\n",
              " '/content/rav/Actor_13/03-01-04-01-02-02-13.wav',\n",
              " '/content/rav/Actor_13/03-01-01-01-02-01-13.wav',\n",
              " '/content/rav/Actor_13/03-01-08-02-02-01-13.wav',\n",
              " '/content/rav/Actor_13/03-01-07-02-01-02-13.wav',\n",
              " '/content/rav/Actor_13/03-01-06-01-02-01-13.wav',\n",
              " '/content/rav/Actor_13/03-01-03-02-02-01-13.wav',\n",
              " '/content/rav/Actor_13/03-01-03-01-02-02-13.wav',\n",
              " '/content/rav/Actor_13/03-01-04-01-01-01-13.wav',\n",
              " '/content/rav/Actor_13/03-01-08-01-01-01-13.wav',\n",
              " '/content/rav/Actor_13/03-01-08-01-01-02-13.wav',\n",
              " '/content/rav/Actor_13/03-01-04-02-01-01-13.wav',\n",
              " '/content/rav/Actor_13/03-01-07-02-02-01-13.wav',\n",
              " '/content/rav/Actor_13/03-01-06-02-01-02-13.wav',\n",
              " '/content/rav/Actor_13/03-01-07-01-02-01-13.wav',\n",
              " '/content/rav/Actor_13/03-01-04-01-01-02-13.wav',\n",
              " '/content/rav/Actor_13/03-01-08-02-01-01-13.wav',\n",
              " '/content/rav/Actor_13/03-01-01-01-01-01-13.wav',\n",
              " '/content/rav/Actor_13/03-01-02-01-02-01-13.wav',\n",
              " '/content/rav/Actor_13/03-01-05-01-01-02-13.wav',\n",
              " '/content/rav/Actor_13/03-01-08-01-02-01-13.wav',\n",
              " '/content/rav/Actor_13/03-01-02-01-01-02-13.wav',\n",
              " '/content/rav/Actor_13/03-01-06-02-01-01-13.wav',\n",
              " '/content/rav/Actor_13/03-01-02-02-01-01-13.wav',\n",
              " '/content/rav/Actor_13/03-01-04-02-01-02-13.wav',\n",
              " '/content/rav/Actor_09/03-01-02-02-01-01-09.wav',\n",
              " '/content/rav/Actor_09/03-01-02-02-02-01-09.wav',\n",
              " '/content/rav/Actor_09/03-01-04-02-02-01-09.wav',\n",
              " '/content/rav/Actor_09/03-01-01-01-01-01-09.wav',\n",
              " '/content/rav/Actor_09/03-01-03-02-02-02-09.wav',\n",
              " '/content/rav/Actor_09/03-01-01-01-02-02-09.wav',\n",
              " '/content/rav/Actor_09/03-01-06-02-01-01-09.wav',\n",
              " '/content/rav/Actor_09/03-01-03-01-02-01-09.wav',\n",
              " '/content/rav/Actor_09/03-01-06-01-02-01-09.wav',\n",
              " '/content/rav/Actor_09/03-01-02-01-01-02-09.wav',\n",
              " '/content/rav/Actor_09/03-01-03-01-01-02-09.wav',\n",
              " '/content/rav/Actor_09/03-01-06-02-02-02-09.wav',\n",
              " '/content/rav/Actor_09/03-01-01-01-02-01-09.wav',\n",
              " '/content/rav/Actor_09/03-01-05-01-01-02-09.wav',\n",
              " '/content/rav/Actor_09/03-01-04-01-02-01-09.wav',\n",
              " '/content/rav/Actor_09/03-01-07-01-01-02-09.wav',\n",
              " '/content/rav/Actor_09/03-01-07-02-02-01-09.wav',\n",
              " '/content/rav/Actor_09/03-01-07-01-02-02-09.wav',\n",
              " '/content/rav/Actor_09/03-01-07-01-02-01-09.wav',\n",
              " '/content/rav/Actor_09/03-01-03-02-01-02-09.wav',\n",
              " '/content/rav/Actor_09/03-01-05-01-01-01-09.wav',\n",
              " '/content/rav/Actor_09/03-01-07-02-02-02-09.wav',\n",
              " '/content/rav/Actor_09/03-01-05-02-02-01-09.wav',\n",
              " '/content/rav/Actor_09/03-01-02-02-02-02-09.wav',\n",
              " '/content/rav/Actor_09/03-01-02-01-02-02-09.wav',\n",
              " '/content/rav/Actor_09/03-01-07-01-01-01-09.wav',\n",
              " '/content/rav/Actor_09/03-01-08-01-01-01-09.wav',\n",
              " '/content/rav/Actor_09/03-01-08-01-02-01-09.wav',\n",
              " '/content/rav/Actor_09/03-01-02-01-01-01-09.wav',\n",
              " '/content/rav/Actor_09/03-01-01-01-01-02-09.wav',\n",
              " '/content/rav/Actor_09/03-01-05-02-02-02-09.wav',\n",
              " '/content/rav/Actor_09/03-01-08-02-01-01-09.wav',\n",
              " '/content/rav/Actor_09/03-01-05-01-02-01-09.wav',\n",
              " '/content/rav/Actor_09/03-01-04-01-02-02-09.wav',\n",
              " '/content/rav/Actor_09/03-01-08-02-01-02-09.wav',\n",
              " '/content/rav/Actor_09/03-01-08-02-02-02-09.wav',\n",
              " '/content/rav/Actor_09/03-01-04-01-01-01-09.wav',\n",
              " '/content/rav/Actor_09/03-01-06-01-02-02-09.wav',\n",
              " '/content/rav/Actor_09/03-01-08-01-01-02-09.wav',\n",
              " '/content/rav/Actor_09/03-01-08-01-02-02-09.wav',\n",
              " '/content/rav/Actor_09/03-01-03-02-02-01-09.wav',\n",
              " '/content/rav/Actor_09/03-01-06-02-02-01-09.wav',\n",
              " '/content/rav/Actor_09/03-01-06-01-01-01-09.wav',\n",
              " '/content/rav/Actor_09/03-01-07-02-01-01-09.wav',\n",
              " '/content/rav/Actor_09/03-01-02-02-01-02-09.wav',\n",
              " '/content/rav/Actor_09/03-01-05-02-01-02-09.wav',\n",
              " '/content/rav/Actor_09/03-01-06-02-01-02-09.wav',\n",
              " '/content/rav/Actor_09/03-01-05-01-02-02-09.wav',\n",
              " '/content/rav/Actor_09/03-01-04-02-01-01-09.wav',\n",
              " '/content/rav/Actor_09/03-01-03-01-02-02-09.wav',\n",
              " '/content/rav/Actor_09/03-01-04-01-01-02-09.wav',\n",
              " '/content/rav/Actor_09/03-01-05-02-01-01-09.wav',\n",
              " '/content/rav/Actor_09/03-01-06-01-01-02-09.wav',\n",
              " '/content/rav/Actor_09/03-01-03-01-01-01-09.wav',\n",
              " '/content/rav/Actor_09/03-01-07-02-01-02-09.wav',\n",
              " '/content/rav/Actor_09/03-01-04-02-01-02-09.wav',\n",
              " '/content/rav/Actor_09/03-01-03-02-01-01-09.wav',\n",
              " '/content/rav/Actor_09/03-01-08-02-02-01-09.wav',\n",
              " '/content/rav/Actor_09/03-01-02-01-02-01-09.wav',\n",
              " '/content/rav/Actor_09/03-01-04-02-02-02-09.wav',\n",
              " '/content/rav/Actor_08/03-01-01-01-02-01-08.wav',\n",
              " '/content/rav/Actor_08/03-01-04-02-01-02-08.wav',\n",
              " '/content/rav/Actor_08/03-01-06-01-01-01-08.wav',\n",
              " '/content/rav/Actor_08/03-01-06-02-01-02-08.wav',\n",
              " '/content/rav/Actor_08/03-01-08-02-02-01-08.wav',\n",
              " '/content/rav/Actor_08/03-01-05-02-02-01-08.wav',\n",
              " '/content/rav/Actor_08/03-01-01-01-01-02-08.wav',\n",
              " '/content/rav/Actor_08/03-01-04-01-02-01-08.wav',\n",
              " '/content/rav/Actor_08/03-01-04-01-01-01-08.wav',\n",
              " '/content/rav/Actor_08/03-01-05-02-01-01-08.wav',\n",
              " '/content/rav/Actor_08/03-01-08-02-01-02-08.wav',\n",
              " '/content/rav/Actor_08/03-01-04-01-02-02-08.wav',\n",
              " '/content/rav/Actor_08/03-01-06-01-01-02-08.wav',\n",
              " '/content/rav/Actor_08/03-01-08-01-01-02-08.wav',\n",
              " '/content/rav/Actor_08/03-01-07-01-02-01-08.wav',\n",
              " '/content/rav/Actor_08/03-01-06-02-02-02-08.wav',\n",
              " '/content/rav/Actor_08/03-01-06-02-01-01-08.wav',\n",
              " '/content/rav/Actor_08/03-01-07-01-02-02-08.wav',\n",
              " '/content/rav/Actor_08/03-01-03-02-01-01-08.wav',\n",
              " '/content/rav/Actor_08/03-01-05-01-01-02-08.wav',\n",
              " '/content/rav/Actor_08/03-01-02-01-02-01-08.wav',\n",
              " '/content/rav/Actor_08/03-01-07-02-01-01-08.wav',\n",
              " '/content/rav/Actor_08/03-01-07-02-02-01-08.wav',\n",
              " '/content/rav/Actor_08/03-01-04-02-02-02-08.wav',\n",
              " '/content/rav/Actor_08/03-01-08-02-02-02-08.wav',\n",
              " '/content/rav/Actor_08/03-01-03-02-01-02-08.wav',\n",
              " '/content/rav/Actor_08/03-01-01-01-01-01-08.wav',\n",
              " '/content/rav/Actor_08/03-01-02-01-01-02-08.wav',\n",
              " '/content/rav/Actor_08/03-01-02-02-02-01-08.wav',\n",
              " '/content/rav/Actor_08/03-01-04-02-02-01-08.wav',\n",
              " '/content/rav/Actor_08/03-01-05-01-01-01-08.wav',\n",
              " '/content/rav/Actor_08/03-01-01-01-02-02-08.wav',\n",
              " '/content/rav/Actor_08/03-01-08-01-02-02-08.wav',\n",
              " '/content/rav/Actor_08/03-01-03-02-02-02-08.wav',\n",
              " '/content/rav/Actor_08/03-01-05-01-02-02-08.wav',\n",
              " '/content/rav/Actor_08/03-01-05-02-02-02-08.wav',\n",
              " '/content/rav/Actor_08/03-01-04-01-01-02-08.wav',\n",
              " '/content/rav/Actor_08/03-01-07-01-01-02-08.wav',\n",
              " '/content/rav/Actor_08/03-01-02-02-01-01-08.wav',\n",
              " '/content/rav/Actor_08/03-01-06-02-02-01-08.wav',\n",
              " '/content/rav/Actor_08/03-01-02-01-02-02-08.wav',\n",
              " '/content/rav/Actor_08/03-01-03-01-01-02-08.wav',\n",
              " '/content/rav/Actor_08/03-01-07-01-01-01-08.wav',\n",
              " '/content/rav/Actor_08/03-01-02-02-02-02-08.wav',\n",
              " '/content/rav/Actor_08/03-01-06-01-02-01-08.wav',\n",
              " '/content/rav/Actor_08/03-01-06-01-02-02-08.wav',\n",
              " '/content/rav/Actor_08/03-01-07-02-01-02-08.wav',\n",
              " '/content/rav/Actor_08/03-01-08-01-02-01-08.wav',\n",
              " '/content/rav/Actor_08/03-01-07-02-02-02-08.wav',\n",
              " '/content/rav/Actor_08/03-01-04-02-01-01-08.wav',\n",
              " '/content/rav/Actor_08/03-01-03-02-02-01-08.wav',\n",
              " '/content/rav/Actor_08/03-01-03-01-01-01-08.wav',\n",
              " '/content/rav/Actor_08/03-01-02-02-01-02-08.wav',\n",
              " '/content/rav/Actor_08/03-01-08-01-01-01-08.wav',\n",
              " '/content/rav/Actor_08/03-01-03-01-02-02-08.wav',\n",
              " '/content/rav/Actor_08/03-01-05-01-02-01-08.wav',\n",
              " '/content/rav/Actor_08/03-01-02-01-01-01-08.wav',\n",
              " '/content/rav/Actor_08/03-01-08-02-01-01-08.wav',\n",
              " '/content/rav/Actor_08/03-01-03-01-02-01-08.wav',\n",
              " '/content/rav/Actor_08/03-01-05-02-01-02-08.wav',\n",
              " '/content/rav/Actor_18/03-01-03-02-01-01-18.wav',\n",
              " '/content/rav/Actor_18/03-01-03-01-01-01-18.wav',\n",
              " '/content/rav/Actor_18/03-01-08-01-01-02-18.wav',\n",
              " '/content/rav/Actor_18/03-01-02-02-02-01-18.wav',\n",
              " '/content/rav/Actor_18/03-01-05-02-02-01-18.wav',\n",
              " '/content/rav/Actor_18/03-01-07-01-02-02-18.wav',\n",
              " '/content/rav/Actor_18/03-01-08-02-01-02-18.wav',\n",
              " '/content/rav/Actor_18/03-01-06-02-02-02-18.wav',\n",
              " '/content/rav/Actor_18/03-01-05-01-01-01-18.wav',\n",
              " '/content/rav/Actor_18/03-01-07-02-02-02-18.wav',\n",
              " '/content/rav/Actor_18/03-01-07-01-01-02-18.wav',\n",
              " '/content/rav/Actor_18/03-01-04-01-01-02-18.wav',\n",
              " '/content/rav/Actor_18/03-01-04-01-02-01-18.wav',\n",
              " '/content/rav/Actor_18/03-01-08-01-01-01-18.wav',\n",
              " '/content/rav/Actor_18/03-01-01-01-02-02-18.wav',\n",
              " '/content/rav/Actor_18/03-01-03-01-02-01-18.wav',\n",
              " '/content/rav/Actor_18/03-01-04-01-02-02-18.wav',\n",
              " '/content/rav/Actor_18/03-01-01-01-02-01-18.wav',\n",
              " '/content/rav/Actor_18/03-01-06-02-02-01-18.wav',\n",
              " '/content/rav/Actor_18/03-01-07-02-02-01-18.wav',\n",
              " '/content/rav/Actor_18/03-01-02-02-02-02-18.wav',\n",
              " '/content/rav/Actor_18/03-01-02-01-02-02-18.wav',\n",
              " '/content/rav/Actor_18/03-01-07-02-01-02-18.wav',\n",
              " '/content/rav/Actor_18/03-01-06-01-02-02-18.wav',\n",
              " '/content/rav/Actor_18/03-01-05-01-01-02-18.wav',\n",
              " '/content/rav/Actor_18/03-01-04-02-01-01-18.wav',\n",
              " '/content/rav/Actor_18/03-01-06-02-01-02-18.wav',\n",
              " '/content/rav/Actor_18/03-01-06-01-01-01-18.wav',\n",
              " '/content/rav/Actor_18/03-01-08-01-02-02-18.wav',\n",
              " '/content/rav/Actor_18/03-01-08-02-01-01-18.wav',\n",
              " '/content/rav/Actor_18/03-01-02-01-01-01-18.wav',\n",
              " '/content/rav/Actor_18/03-01-05-02-02-02-18.wav',\n",
              " '/content/rav/Actor_18/03-01-05-01-02-02-18.wav',\n",
              " '/content/rav/Actor_18/03-01-08-02-02-02-18.wav',\n",
              " '/content/rav/Actor_18/03-01-03-01-01-02-18.wav',\n",
              " '/content/rav/Actor_18/03-01-02-02-01-02-18.wav',\n",
              " '/content/rav/Actor_18/03-01-07-01-02-01-18.wav',\n",
              " '/content/rav/Actor_18/03-01-07-01-01-01-18.wav',\n",
              " '/content/rav/Actor_18/03-01-02-01-02-01-18.wav',\n",
              " '/content/rav/Actor_18/03-01-03-01-02-02-18.wav',\n",
              " '/content/rav/Actor_18/03-01-01-01-01-02-18.wav',\n",
              " '/content/rav/Actor_18/03-01-07-02-01-01-18.wav',\n",
              " '/content/rav/Actor_18/03-01-04-02-02-01-18.wav',\n",
              " '/content/rav/Actor_18/03-01-06-01-02-01-18.wav',\n",
              " '/content/rav/Actor_18/03-01-04-02-02-02-18.wav',\n",
              " '/content/rav/Actor_18/03-01-08-02-02-01-18.wav',\n",
              " '/content/rav/Actor_18/03-01-04-01-01-01-18.wav',\n",
              " '/content/rav/Actor_18/03-01-05-02-01-01-18.wav',\n",
              " '/content/rav/Actor_18/03-01-06-01-01-02-18.wav',\n",
              " '/content/rav/Actor_18/03-01-08-01-02-01-18.wav',\n",
              " '/content/rav/Actor_18/03-01-03-02-02-02-18.wav',\n",
              " '/content/rav/Actor_18/03-01-05-02-01-02-18.wav',\n",
              " '/content/rav/Actor_18/03-01-02-02-01-01-18.wav',\n",
              " '/content/rav/Actor_18/03-01-03-02-02-01-18.wav',\n",
              " '/content/rav/Actor_18/03-01-06-02-01-01-18.wav',\n",
              " '/content/rav/Actor_18/03-01-03-02-01-02-18.wav',\n",
              " '/content/rav/Actor_18/03-01-05-01-02-01-18.wav',\n",
              " '/content/rav/Actor_18/03-01-02-01-01-02-18.wav',\n",
              " '/content/rav/Actor_18/03-01-04-02-01-02-18.wav',\n",
              " '/content/rav/Actor_18/03-01-01-01-01-01-18.wav',\n",
              " '/content/rav/Actor_23/03-01-03-02-01-02-23.wav',\n",
              " '/content/rav/Actor_23/03-01-07-02-02-01-23.wav',\n",
              " '/content/rav/Actor_23/03-01-04-02-02-02-23.wav',\n",
              " '/content/rav/Actor_23/03-01-04-02-02-01-23.wav',\n",
              " '/content/rav/Actor_23/03-01-07-02-01-01-23.wav',\n",
              " '/content/rav/Actor_23/03-01-03-02-01-01-23.wav',\n",
              " '/content/rav/Actor_23/03-01-06-02-01-02-23.wav',\n",
              " '/content/rav/Actor_23/03-01-02-01-02-02-23.wav',\n",
              " '/content/rav/Actor_23/03-01-08-01-02-02-23.wav',\n",
              " '/content/rav/Actor_23/03-01-02-02-01-01-23.wav',\n",
              " '/content/rav/Actor_23/03-01-03-01-02-02-23.wav',\n",
              " '/content/rav/Actor_23/03-01-01-01-01-02-23.wav',\n",
              " '/content/rav/Actor_23/03-01-05-02-02-01-23.wav',\n",
              " '/content/rav/Actor_23/03-01-03-01-01-01-23.wav',\n",
              " '/content/rav/Actor_23/03-01-08-02-02-02-23.wav',\n",
              " '/content/rav/Actor_23/03-01-04-01-02-01-23.wav',\n",
              " '/content/rav/Actor_23/03-01-06-02-01-01-23.wav',\n",
              " '/content/rav/Actor_23/03-01-08-01-02-01-23.wav',\n",
              " '/content/rav/Actor_23/03-01-02-01-01-01-23.wav',\n",
              " '/content/rav/Actor_23/03-01-06-02-02-01-23.wav',\n",
              " '/content/rav/Actor_23/03-01-03-02-02-01-23.wav',\n",
              " '/content/rav/Actor_23/03-01-04-01-02-02-23.wav',\n",
              " '/content/rav/Actor_23/03-01-05-01-02-02-23.wav',\n",
              " '/content/rav/Actor_23/03-01-07-02-02-02-23.wav',\n",
              " '/content/rav/Actor_23/03-01-06-01-02-02-23.wav',\n",
              " '/content/rav/Actor_23/03-01-02-02-01-02-23.wav',\n",
              " '/content/rav/Actor_23/03-01-02-01-02-01-23.wav',\n",
              " '/content/rav/Actor_23/03-01-01-01-02-01-23.wav',\n",
              " '/content/rav/Actor_23/03-01-03-02-02-02-23.wav',\n",
              " '/content/rav/Actor_23/03-01-07-01-02-02-23.wav',\n",
              " '/content/rav/Actor_23/03-01-07-02-01-02-23.wav',\n",
              " '/content/rav/Actor_23/03-01-08-02-01-01-23.wav',\n",
              " '/content/rav/Actor_23/03-01-06-01-02-01-23.wav',\n",
              " '/content/rav/Actor_23/03-01-05-01-01-02-23.wav',\n",
              " '/content/rav/Actor_23/03-01-05-01-02-01-23.wav',\n",
              " '/content/rav/Actor_23/03-01-02-01-01-02-23.wav',\n",
              " '/content/rav/Actor_23/03-01-05-02-01-02-23.wav',\n",
              " '/content/rav/Actor_23/03-01-04-01-01-01-23.wav',\n",
              " '/content/rav/Actor_23/03-01-01-01-02-02-23.wav',\n",
              " '/content/rav/Actor_23/03-01-08-01-01-01-23.wav',\n",
              " '/content/rav/Actor_23/03-01-08-01-01-02-23.wav',\n",
              " '/content/rav/Actor_23/03-01-02-02-02-02-23.wav',\n",
              " '/content/rav/Actor_23/03-01-07-01-01-02-23.wav',\n",
              " '/content/rav/Actor_23/03-01-06-02-02-02-23.wav',\n",
              " '/content/rav/Actor_23/03-01-04-02-01-01-23.wav',\n",
              " '/content/rav/Actor_23/03-01-04-02-01-02-23.wav',\n",
              " '/content/rav/Actor_23/03-01-02-02-02-01-23.wav',\n",
              " '/content/rav/Actor_23/03-01-06-01-01-01-23.wav',\n",
              " '/content/rav/Actor_23/03-01-05-01-01-01-23.wav',\n",
              " '/content/rav/Actor_23/03-01-07-01-02-01-23.wav',\n",
              " '/content/rav/Actor_23/03-01-06-01-01-02-23.wav',\n",
              " '/content/rav/Actor_23/03-01-07-01-01-01-23.wav',\n",
              " '/content/rav/Actor_23/03-01-05-02-02-02-23.wav',\n",
              " '/content/rav/Actor_23/03-01-04-01-01-02-23.wav',\n",
              " '/content/rav/Actor_23/03-01-03-01-02-01-23.wav',\n",
              " '/content/rav/Actor_23/03-01-05-02-01-01-23.wav',\n",
              " '/content/rav/Actor_23/03-01-01-01-01-01-23.wav',\n",
              " '/content/rav/Actor_23/03-01-08-02-01-02-23.wav',\n",
              " '/content/rav/Actor_23/03-01-08-02-02-01-23.wav',\n",
              " '/content/rav/Actor_23/03-01-03-01-01-02-23.wav',\n",
              " '/content/rav/Actor_17/03-01-08-01-01-02-17.wav',\n",
              " '/content/rav/Actor_17/03-01-06-02-01-02-17.wav',\n",
              " '/content/rav/Actor_17/03-01-03-01-01-02-17.wav',\n",
              " '/content/rav/Actor_17/03-01-04-02-01-01-17.wav',\n",
              " '/content/rav/Actor_17/03-01-08-02-02-01-17.wav',\n",
              " '/content/rav/Actor_17/03-01-03-01-01-01-17.wav',\n",
              " '/content/rav/Actor_17/03-01-02-01-01-01-17.wav',\n",
              " '/content/rav/Actor_17/03-01-07-01-01-01-17.wav',\n",
              " '/content/rav/Actor_17/03-01-03-02-01-02-17.wav',\n",
              " '/content/rav/Actor_17/03-01-07-02-02-02-17.wav',\n",
              " '/content/rav/Actor_17/03-01-05-01-02-02-17.wav',\n",
              " '/content/rav/Actor_17/03-01-03-01-02-02-17.wav',\n",
              " '/content/rav/Actor_17/03-01-06-01-02-01-17.wav',\n",
              " '/content/rav/Actor_17/03-01-01-01-02-01-17.wav',\n",
              " '/content/rav/Actor_17/03-01-07-02-01-01-17.wav',\n",
              " '/content/rav/Actor_17/03-01-03-01-02-01-17.wav',\n",
              " '/content/rav/Actor_17/03-01-07-01-01-02-17.wav',\n",
              " '/content/rav/Actor_17/03-01-05-02-02-02-17.wav',\n",
              " '/content/rav/Actor_17/03-01-04-02-02-01-17.wav',\n",
              " '/content/rav/Actor_17/03-01-06-02-02-01-17.wav',\n",
              " '/content/rav/Actor_17/03-01-05-01-02-01-17.wav',\n",
              " '/content/rav/Actor_17/03-01-08-02-01-02-17.wav',\n",
              " '/content/rav/Actor_17/03-01-05-02-01-02-17.wav',\n",
              " '/content/rav/Actor_17/03-01-06-01-01-01-17.wav',\n",
              " '/content/rav/Actor_17/03-01-05-02-01-01-17.wav',\n",
              " '/content/rav/Actor_17/03-01-06-02-01-01-17.wav',\n",
              " '/content/rav/Actor_17/03-01-02-02-02-01-17.wav',\n",
              " '/content/rav/Actor_17/03-01-01-01-01-01-17.wav',\n",
              " '/content/rav/Actor_17/03-01-02-02-02-02-17.wav',\n",
              " '/content/rav/Actor_17/03-01-08-01-02-01-17.wav',\n",
              " '/content/rav/Actor_17/03-01-04-01-01-02-17.wav',\n",
              " '/content/rav/Actor_17/03-01-02-02-01-01-17.wav',\n",
              " '/content/rav/Actor_17/03-01-02-02-01-02-17.wav',\n",
              " '/content/rav/Actor_17/03-01-08-01-02-02-17.wav',\n",
              " '/content/rav/Actor_17/03-01-05-01-01-02-17.wav',\n",
              " '/content/rav/Actor_17/03-01-06-01-02-02-17.wav',\n",
              " '/content/rav/Actor_17/03-01-04-01-02-02-17.wav',\n",
              " '/content/rav/Actor_17/03-01-05-02-02-01-17.wav',\n",
              " '/content/rav/Actor_17/03-01-02-01-01-02-17.wav',\n",
              " '/content/rav/Actor_17/03-01-01-01-01-02-17.wav',\n",
              " '/content/rav/Actor_17/03-01-04-02-02-02-17.wav',\n",
              " '/content/rav/Actor_17/03-01-07-02-01-02-17.wav',\n",
              " '/content/rav/Actor_17/03-01-01-01-02-02-17.wav',\n",
              " '/content/rav/Actor_17/03-01-04-01-02-01-17.wav',\n",
              " '/content/rav/Actor_17/03-01-04-02-01-02-17.wav',\n",
              " '/content/rav/Actor_17/03-01-06-01-01-02-17.wav',\n",
              " '/content/rav/Actor_17/03-01-07-01-02-01-17.wav',\n",
              " '/content/rav/Actor_17/03-01-02-01-02-01-17.wav',\n",
              " '/content/rav/Actor_17/03-01-03-02-02-02-17.wav',\n",
              " '/content/rav/Actor_17/03-01-07-01-02-02-17.wav',\n",
              " '/content/rav/Actor_17/03-01-06-02-02-02-17.wav',\n",
              " '/content/rav/Actor_17/03-01-08-02-02-02-17.wav',\n",
              " '/content/rav/Actor_17/03-01-08-02-01-01-17.wav',\n",
              " '/content/rav/Actor_17/03-01-05-01-01-01-17.wav',\n",
              " '/content/rav/Actor_17/03-01-03-02-01-01-17.wav',\n",
              " '/content/rav/Actor_17/03-01-04-01-01-01-17.wav',\n",
              " '/content/rav/Actor_17/03-01-08-01-01-01-17.wav',\n",
              " '/content/rav/Actor_17/03-01-02-01-02-02-17.wav',\n",
              " '/content/rav/Actor_17/03-01-07-02-02-01-17.wav',\n",
              " '/content/rav/Actor_17/03-01-03-02-02-01-17.wav',\n",
              " '/content/rav/Actor_04/03-01-03-01-01-01-04.wav',\n",
              " '/content/rav/Actor_04/03-01-05-02-01-01-04.wav',\n",
              " '/content/rav/Actor_04/03-01-01-01-01-01-04.wav',\n",
              " '/content/rav/Actor_04/03-01-04-02-02-02-04.wav',\n",
              " '/content/rav/Actor_04/03-01-06-01-01-01-04.wav',\n",
              " '/content/rav/Actor_04/03-01-03-02-01-02-04.wav',\n",
              " '/content/rav/Actor_04/03-01-03-02-01-01-04.wav',\n",
              " '/content/rav/Actor_04/03-01-08-02-01-02-04.wav',\n",
              " '/content/rav/Actor_04/03-01-08-02-02-02-04.wav',\n",
              " '/content/rav/Actor_04/03-01-02-01-02-01-04.wav',\n",
              " '/content/rav/Actor_04/03-01-04-01-02-01-04.wav',\n",
              " '/content/rav/Actor_04/03-01-05-02-02-01-04.wav',\n",
              " '/content/rav/Actor_04/03-01-08-01-01-02-04.wav',\n",
              " '/content/rav/Actor_04/03-01-05-01-02-01-04.wav',\n",
              " '/content/rav/Actor_04/03-01-01-01-02-02-04.wav',\n",
              " '/content/rav/Actor_04/03-01-02-01-02-02-04.wav',\n",
              " '/content/rav/Actor_04/03-01-07-02-01-01-04.wav',\n",
              " '/content/rav/Actor_04/03-01-07-01-01-02-04.wav',\n",
              " '/content/rav/Actor_04/03-01-04-02-01-02-04.wav',\n",
              " '/content/rav/Actor_04/03-01-07-01-02-02-04.wav',\n",
              " '/content/rav/Actor_04/03-01-02-02-02-01-04.wav',\n",
              " '/content/rav/Actor_04/03-01-04-02-01-01-04.wav',\n",
              " '/content/rav/Actor_04/03-01-02-01-01-01-04.wav',\n",
              " '/content/rav/Actor_04/03-01-05-01-01-01-04.wav',\n",
              " '/content/rav/Actor_04/03-01-03-01-01-02-04.wav',\n",
              " '/content/rav/Actor_04/03-01-01-01-02-01-04.wav',\n",
              " '/content/rav/Actor_04/03-01-06-01-01-02-04.wav',\n",
              " '/content/rav/Actor_04/03-01-06-01-02-01-04.wav',\n",
              " '/content/rav/Actor_04/03-01-02-01-01-02-04.wav',\n",
              " '/content/rav/Actor_04/03-01-07-02-01-02-04.wav',\n",
              " '/content/rav/Actor_04/03-01-05-02-02-02-04.wav',\n",
              " '/content/rav/Actor_04/03-01-08-01-02-01-04.wav',\n",
              " '/content/rav/Actor_04/03-01-04-01-01-02-04.wav',\n",
              " '/content/rav/Actor_04/03-01-02-02-02-02-04.wav',\n",
              " '/content/rav/Actor_04/03-01-08-01-02-02-04.wav',\n",
              " '/content/rav/Actor_04/03-01-07-02-02-02-04.wav',\n",
              " '/content/rav/Actor_04/03-01-05-02-01-02-04.wav',\n",
              " '/content/rav/Actor_04/03-01-07-02-02-01-04.wav',\n",
              " '/content/rav/Actor_04/03-01-03-01-02-01-04.wav',\n",
              " '/content/rav/Actor_04/03-01-04-01-02-02-04.wav',\n",
              " '/content/rav/Actor_04/03-01-07-01-02-01-04.wav',\n",
              " '/content/rav/Actor_04/03-01-07-01-01-01-04.wav',\n",
              " '/content/rav/Actor_04/03-01-02-02-01-01-04.wav',\n",
              " '/content/rav/Actor_04/03-01-04-01-01-01-04.wav',\n",
              " '/content/rav/Actor_04/03-01-03-01-02-02-04.wav',\n",
              " '/content/rav/Actor_04/03-01-06-02-01-02-04.wav',\n",
              " '/content/rav/Actor_04/03-01-08-01-01-01-04.wav',\n",
              " '/content/rav/Actor_04/03-01-05-01-02-02-04.wav',\n",
              " '/content/rav/Actor_04/03-01-02-02-01-02-04.wav',\n",
              " '/content/rav/Actor_04/03-01-06-02-01-01-04.wav',\n",
              " '/content/rav/Actor_04/03-01-06-02-02-02-04.wav',\n",
              " '/content/rav/Actor_04/03-01-03-02-02-02-04.wav',\n",
              " '/content/rav/Actor_04/03-01-03-02-02-01-04.wav',\n",
              " '/content/rav/Actor_04/03-01-05-01-01-02-04.wav',\n",
              " '/content/rav/Actor_04/03-01-08-02-01-01-04.wav',\n",
              " '/content/rav/Actor_04/03-01-06-01-02-02-04.wav',\n",
              " '/content/rav/Actor_04/03-01-01-01-01-02-04.wav',\n",
              " '/content/rav/Actor_04/03-01-06-02-02-01-04.wav',\n",
              " '/content/rav/Actor_04/03-01-04-02-02-01-04.wav',\n",
              " '/content/rav/Actor_04/03-01-08-02-02-01-04.wav',\n",
              " '/content/rav/Actor_03/03-01-07-01-02-02-03.wav',\n",
              " '/content/rav/Actor_03/03-01-04-01-02-01-03.wav',\n",
              " '/content/rav/Actor_03/03-01-07-01-01-01-03.wav',\n",
              " '/content/rav/Actor_03/03-01-01-01-02-02-03.wav',\n",
              " '/content/rav/Actor_03/03-01-03-02-02-02-03.wav',\n",
              " '/content/rav/Actor_03/03-01-03-02-01-01-03.wav',\n",
              " '/content/rav/Actor_03/03-01-08-02-01-01-03.wav',\n",
              " '/content/rav/Actor_03/03-01-07-02-01-02-03.wav',\n",
              " '/content/rav/Actor_03/03-01-04-01-02-02-03.wav',\n",
              " '/content/rav/Actor_03/03-01-08-02-02-01-03.wav',\n",
              " '/content/rav/Actor_03/03-01-03-02-02-01-03.wav',\n",
              " '/content/rav/Actor_03/03-01-05-01-02-02-03.wav',\n",
              " '/content/rav/Actor_03/03-01-07-02-02-02-03.wav',\n",
              " '/content/rav/Actor_03/03-01-06-01-01-02-03.wav',\n",
              " '/content/rav/Actor_03/03-01-08-01-01-02-03.wav',\n",
              " '/content/rav/Actor_03/03-01-03-02-01-02-03.wav',\n",
              " '/content/rav/Actor_03/03-01-02-02-02-01-03.wav',\n",
              " '/content/rav/Actor_03/03-01-06-01-01-01-03.wav',\n",
              " '/content/rav/Actor_03/03-01-05-01-01-02-03.wav',\n",
              " '/content/rav/Actor_03/03-01-04-02-01-02-03.wav',\n",
              " '/content/rav/Actor_03/03-01-04-02-02-01-03.wav',\n",
              " '/content/rav/Actor_03/03-01-06-01-02-02-03.wav',\n",
              " '/content/rav/Actor_03/03-01-01-01-02-01-03.wav',\n",
              " '/content/rav/Actor_03/03-01-05-01-01-01-03.wav',\n",
              " '/content/rav/Actor_03/03-01-08-01-02-02-03.wav',\n",
              " '/content/rav/Actor_03/03-01-02-02-02-02-03.wav',\n",
              " '/content/rav/Actor_03/03-01-06-02-01-01-03.wav',\n",
              " '/content/rav/Actor_03/03-01-06-02-02-02-03.wav',\n",
              " '/content/rav/Actor_03/03-01-08-02-02-02-03.wav',\n",
              " '/content/rav/Actor_03/03-01-08-01-01-01-03.wav',\n",
              " '/content/rav/Actor_03/03-01-03-01-01-01-03.wav',\n",
              " '/content/rav/Actor_03/03-01-02-01-01-02-03.wav',\n",
              " '/content/rav/Actor_03/03-01-05-02-01-02-03.wav',\n",
              " '/content/rav/Actor_03/03-01-08-01-02-01-03.wav',\n",
              " '/content/rav/Actor_03/03-01-02-01-02-02-03.wav',\n",
              " '/content/rav/Actor_03/03-01-07-01-02-01-03.wav',\n",
              " '/content/rav/Actor_03/03-01-06-01-02-01-03.wav',\n",
              " '/content/rav/Actor_03/03-01-04-02-01-01-03.wav',\n",
              " '/content/rav/Actor_03/03-01-04-02-02-02-03.wav',\n",
              " '/content/rav/Actor_03/03-01-02-02-01-02-03.wav',\n",
              " '/content/rav/Actor_03/03-01-07-02-01-01-03.wav',\n",
              " '/content/rav/Actor_03/03-01-05-02-01-01-03.wav',\n",
              " '/content/rav/Actor_03/03-01-01-01-01-02-03.wav',\n",
              " '/content/rav/Actor_03/03-01-03-01-01-02-03.wav',\n",
              " '/content/rav/Actor_03/03-01-03-01-02-01-03.wav',\n",
              " '/content/rav/Actor_03/03-01-04-01-01-02-03.wav',\n",
              " '/content/rav/Actor_03/03-01-02-01-01-01-03.wav',\n",
              " '/content/rav/Actor_03/03-01-02-02-01-01-03.wav',\n",
              " '/content/rav/Actor_03/03-01-04-01-01-01-03.wav',\n",
              " '/content/rav/Actor_03/03-01-06-02-02-01-03.wav',\n",
              " '/content/rav/Actor_03/03-01-08-02-01-02-03.wav',\n",
              " '/content/rav/Actor_03/03-01-02-01-02-01-03.wav',\n",
              " '/content/rav/Actor_03/03-01-03-01-02-02-03.wav',\n",
              " '/content/rav/Actor_03/03-01-01-01-01-01-03.wav',\n",
              " '/content/rav/Actor_03/03-01-05-01-02-01-03.wav',\n",
              " '/content/rav/Actor_03/03-01-07-01-01-02-03.wav',\n",
              " '/content/rav/Actor_03/03-01-06-02-01-02-03.wav',\n",
              " '/content/rav/Actor_03/03-01-05-02-02-01-03.wav',\n",
              " '/content/rav/Actor_03/03-01-05-02-02-02-03.wav',\n",
              " '/content/rav/Actor_03/03-01-07-02-02-01-03.wav',\n",
              " '/content/rav/Actor_15/03-01-01-01-01-02-15.wav',\n",
              " '/content/rav/Actor_15/03-01-08-02-01-02-15.wav',\n",
              " '/content/rav/Actor_15/03-01-03-01-01-02-15.wav',\n",
              " '/content/rav/Actor_15/03-01-08-01-02-01-15.wav',\n",
              " '/content/rav/Actor_15/03-01-04-01-01-02-15.wav',\n",
              " '/content/rav/Actor_15/03-01-02-02-01-02-15.wav',\n",
              " '/content/rav/Actor_15/03-01-02-01-01-01-15.wav',\n",
              " '/content/rav/Actor_15/03-01-07-02-01-01-15.wav',\n",
              " '/content/rav/Actor_15/03-01-08-02-01-01-15.wav',\n",
              " '/content/rav/Actor_15/03-01-07-01-02-01-15.wav',\n",
              " '/content/rav/Actor_15/03-01-04-01-02-01-15.wav',\n",
              " '/content/rav/Actor_15/03-01-05-02-01-01-15.wav',\n",
              " '/content/rav/Actor_15/03-01-04-02-02-02-15.wav',\n",
              " '/content/rav/Actor_15/03-01-02-01-02-02-15.wav',\n",
              " '/content/rav/Actor_15/03-01-07-01-02-02-15.wav',\n",
              " '/content/rav/Actor_15/03-01-01-01-02-01-15.wav',\n",
              " '/content/rav/Actor_15/03-01-03-02-02-01-15.wav',\n",
              " '/content/rav/Actor_15/03-01-04-02-01-02-15.wav',\n",
              " '/content/rav/Actor_15/03-01-08-01-01-01-15.wav',\n",
              " '/content/rav/Actor_15/03-01-06-01-02-01-15.wav',\n",
              " '/content/rav/Actor_15/03-01-02-02-02-01-15.wav',\n",
              " '/content/rav/Actor_15/03-01-08-01-02-02-15.wav',\n",
              " '/content/rav/Actor_15/03-01-08-01-01-02-15.wav',\n",
              " '/content/rav/Actor_15/03-01-07-02-02-01-15.wav',\n",
              " '/content/rav/Actor_15/03-01-07-02-02-02-15.wav',\n",
              " '/content/rav/Actor_15/03-01-06-02-02-02-15.wav',\n",
              " '/content/rav/Actor_15/03-01-02-01-01-02-15.wav',\n",
              " '/content/rav/Actor_15/03-01-03-01-02-02-15.wav',\n",
              " '/content/rav/Actor_15/03-01-02-02-01-01-15.wav',\n",
              " '/content/rav/Actor_15/03-01-03-01-01-01-15.wav',\n",
              " '/content/rav/Actor_15/03-01-02-02-02-02-15.wav',\n",
              " '/content/rav/Actor_15/03-01-06-01-01-02-15.wav',\n",
              " '/content/rav/Actor_15/03-01-06-02-02-01-15.wav',\n",
              " '/content/rav/Actor_15/03-01-02-01-02-01-15.wav',\n",
              " '/content/rav/Actor_15/03-01-07-01-01-02-15.wav',\n",
              " '/content/rav/Actor_15/03-01-06-02-01-02-15.wav',\n",
              " '/content/rav/Actor_15/03-01-07-02-01-02-15.wav',\n",
              " '/content/rav/Actor_15/03-01-05-02-02-01-15.wav',\n",
              " '/content/rav/Actor_15/03-01-05-01-01-02-15.wav',\n",
              " '/content/rav/Actor_15/03-01-08-02-02-01-15.wav',\n",
              " '/content/rav/Actor_15/03-01-07-01-01-01-15.wav',\n",
              " '/content/rav/Actor_15/03-01-06-02-01-01-15.wav',\n",
              " '/content/rav/Actor_15/03-01-05-01-02-01-15.wav',\n",
              " '/content/rav/Actor_15/03-01-03-02-02-02-15.wav',\n",
              " '/content/rav/Actor_15/03-01-03-02-01-02-15.wav',\n",
              " '/content/rav/Actor_15/03-01-05-02-02-02-15.wav',\n",
              " '/content/rav/Actor_15/03-01-06-01-02-02-15.wav',\n",
              " '/content/rav/Actor_15/03-01-04-01-01-01-15.wav',\n",
              " '/content/rav/Actor_15/03-01-05-02-01-02-15.wav',\n",
              " '/content/rav/Actor_15/03-01-05-01-01-01-15.wav',\n",
              " '/content/rav/Actor_15/03-01-01-01-01-01-15.wav',\n",
              " '/content/rav/Actor_15/03-01-08-02-02-02-15.wav',\n",
              " '/content/rav/Actor_15/03-01-05-01-02-02-15.wav',\n",
              " '/content/rav/Actor_15/03-01-03-01-02-01-15.wav',\n",
              " '/content/rav/Actor_15/03-01-01-01-02-02-15.wav',\n",
              " '/content/rav/Actor_15/03-01-04-01-02-02-15.wav',\n",
              " '/content/rav/Actor_15/03-01-04-02-02-01-15.wav',\n",
              " '/content/rav/Actor_15/03-01-04-02-01-01-15.wav',\n",
              " '/content/rav/Actor_15/03-01-03-02-01-01-15.wav',\n",
              " '/content/rav/Actor_15/03-01-06-01-01-01-15.wav',\n",
              " '/content/rav/Actor_05/03-01-07-01-02-01-05.wav',\n",
              " '/content/rav/Actor_05/03-01-02-01-02-01-05.wav',\n",
              " '/content/rav/Actor_05/03-01-06-02-02-02-05.wav',\n",
              " '/content/rav/Actor_05/03-01-04-01-02-02-05.wav',\n",
              " '/content/rav/Actor_05/03-01-01-01-02-01-05.wav',\n",
              " '/content/rav/Actor_05/03-01-03-02-01-01-05.wav',\n",
              " '/content/rav/Actor_05/03-01-04-02-01-01-05.wav',\n",
              " '/content/rav/Actor_05/03-01-06-01-02-02-05.wav',\n",
              " '/content/rav/Actor_05/03-01-03-01-01-02-05.wav',\n",
              " '/content/rav/Actor_05/03-01-07-01-02-02-05.wav',\n",
              " '/content/rav/Actor_05/03-01-08-02-02-02-05.wav',\n",
              " '/content/rav/Actor_05/03-01-07-02-02-01-05.wav',\n",
              " '/content/rav/Actor_05/03-01-05-02-02-01-05.wav',\n",
              " '/content/rav/Actor_05/03-01-02-01-01-02-05.wav',\n",
              " '/content/rav/Actor_05/03-01-05-01-01-01-05.wav',\n",
              " '/content/rav/Actor_05/03-01-06-02-01-02-05.wav',\n",
              " '/content/rav/Actor_05/03-01-05-01-02-01-05.wav',\n",
              " '/content/rav/Actor_05/03-01-02-02-01-02-05.wav',\n",
              " '/content/rav/Actor_05/03-01-03-01-01-01-05.wav',\n",
              " '/content/rav/Actor_05/03-01-05-01-01-02-05.wav',\n",
              " '/content/rav/Actor_05/03-01-04-02-01-02-05.wav',\n",
              " '/content/rav/Actor_05/03-01-07-02-02-02-05.wav',\n",
              " '/content/rav/Actor_05/03-01-04-02-02-02-05.wav',\n",
              " '/content/rav/Actor_05/03-01-08-01-02-01-05.wav',\n",
              " '/content/rav/Actor_05/03-01-06-02-02-01-05.wav',\n",
              " '/content/rav/Actor_05/03-01-03-01-02-01-05.wav',\n",
              " '/content/rav/Actor_05/03-01-02-02-02-01-05.wav',\n",
              " '/content/rav/Actor_05/03-01-02-02-02-02-05.wav',\n",
              " '/content/rav/Actor_05/03-01-08-01-01-01-05.wav',\n",
              " '/content/rav/Actor_05/03-01-07-02-01-02-05.wav',\n",
              " '/content/rav/Actor_05/03-01-07-01-01-02-05.wav',\n",
              " '/content/rav/Actor_05/03-01-08-01-02-02-05.wav',\n",
              " '/content/rav/Actor_05/03-01-05-02-01-01-05.wav',\n",
              " '/content/rav/Actor_05/03-01-07-02-01-01-05.wav',\n",
              " '/content/rav/Actor_05/03-01-08-02-01-02-05.wav',\n",
              " '/content/rav/Actor_05/03-01-03-01-02-02-05.wav',\n",
              " '/content/rav/Actor_05/03-01-01-01-02-02-05.wav',\n",
              " '/content/rav/Actor_05/03-01-02-01-01-01-05.wav',\n",
              " '/content/rav/Actor_05/03-01-04-01-01-02-05.wav',\n",
              " '/content/rav/Actor_05/03-01-06-01-01-02-05.wav',\n",
              " ...]"
            ]
          },
          "metadata": {},
          "execution_count": 7
        }
      ]
    },
    {
      "cell_type": "code",
      "source": [
        "# dataframe for emotion of files\n",
        "emotion_df = pd.DataFrame(file_emotion, columns=['Emotions'])\n",
        "# dataframe for path of files\n",
        "path_df = pd.DataFrame(file_path, columns=['Path'])\n",
        "Ravdess_df = pd.concat([emotion_df, path_df], axis=1)\n",
        "# decode integers to actual emotions\n",
        "Ravdess_df.Emotions.replace({1:'neutral', 2:'calm', 3:'happy', 4:'sad', 5:'angry', 6:'fear', 7:'disgust', 8:'surprise'}, inplace=True)\n",
        "Ravdess_df.head()"
      ],
      "metadata": {
        "colab": {
          "base_uri": "https://localhost:8080/",
          "height": 206
        },
        "id": "XoBLe-NXsmSa",
        "outputId": "8b6d6ff4-220e-4837-9a2c-cfe2d52f1a7b"
      },
      "execution_count": null,
      "outputs": [
        {
          "output_type": "execute_result",
          "data": {
            "text/plain": [
              "   Emotions                                            Path\n",
              "0  surprise  /content/rav/Actor_12/03-01-08-01-02-01-12.wav\n",
              "1   neutral  /content/rav/Actor_12/03-01-01-01-02-02-12.wav\n",
              "2   disgust  /content/rav/Actor_12/03-01-07-02-02-02-12.wav\n",
              "3      calm  /content/rav/Actor_12/03-01-02-01-01-02-12.wav\n",
              "4     happy  /content/rav/Actor_12/03-01-03-01-02-02-12.wav"
            ],
            "text/html": [
              "\n",
              "  <div id=\"df-fc3b4cee-f974-4ed0-80fe-aa51fab73770\">\n",
              "    <div class=\"colab-df-container\">\n",
              "      <div>\n",
              "<style scoped>\n",
              "    .dataframe tbody tr th:only-of-type {\n",
              "        vertical-align: middle;\n",
              "    }\n",
              "\n",
              "    .dataframe tbody tr th {\n",
              "        vertical-align: top;\n",
              "    }\n",
              "\n",
              "    .dataframe thead th {\n",
              "        text-align: right;\n",
              "    }\n",
              "</style>\n",
              "<table border=\"1\" class=\"dataframe\">\n",
              "  <thead>\n",
              "    <tr style=\"text-align: right;\">\n",
              "      <th></th>\n",
              "      <th>Emotions</th>\n",
              "      <th>Path</th>\n",
              "    </tr>\n",
              "  </thead>\n",
              "  <tbody>\n",
              "    <tr>\n",
              "      <th>0</th>\n",
              "      <td>surprise</td>\n",
              "      <td>/content/rav/Actor_12/03-01-08-01-02-01-12.wav</td>\n",
              "    </tr>\n",
              "    <tr>\n",
              "      <th>1</th>\n",
              "      <td>neutral</td>\n",
              "      <td>/content/rav/Actor_12/03-01-01-01-02-02-12.wav</td>\n",
              "    </tr>\n",
              "    <tr>\n",
              "      <th>2</th>\n",
              "      <td>disgust</td>\n",
              "      <td>/content/rav/Actor_12/03-01-07-02-02-02-12.wav</td>\n",
              "    </tr>\n",
              "    <tr>\n",
              "      <th>3</th>\n",
              "      <td>calm</td>\n",
              "      <td>/content/rav/Actor_12/03-01-02-01-01-02-12.wav</td>\n",
              "    </tr>\n",
              "    <tr>\n",
              "      <th>4</th>\n",
              "      <td>happy</td>\n",
              "      <td>/content/rav/Actor_12/03-01-03-01-02-02-12.wav</td>\n",
              "    </tr>\n",
              "  </tbody>\n",
              "</table>\n",
              "</div>\n",
              "      <button class=\"colab-df-convert\" onclick=\"convertToInteractive('df-fc3b4cee-f974-4ed0-80fe-aa51fab73770')\"\n",
              "              title=\"Convert this dataframe to an interactive table.\"\n",
              "              style=\"display:none;\">\n",
              "        \n",
              "  <svg xmlns=\"http://www.w3.org/2000/svg\" height=\"24px\"viewBox=\"0 0 24 24\"\n",
              "       width=\"24px\">\n",
              "    <path d=\"M0 0h24v24H0V0z\" fill=\"none\"/>\n",
              "    <path d=\"M18.56 5.44l.94 2.06.94-2.06 2.06-.94-2.06-.94-.94-2.06-.94 2.06-2.06.94zm-11 1L8.5 8.5l.94-2.06 2.06-.94-2.06-.94L8.5 2.5l-.94 2.06-2.06.94zm10 10l.94 2.06.94-2.06 2.06-.94-2.06-.94-.94-2.06-.94 2.06-2.06.94z\"/><path d=\"M17.41 7.96l-1.37-1.37c-.4-.4-.92-.59-1.43-.59-.52 0-1.04.2-1.43.59L10.3 9.45l-7.72 7.72c-.78.78-.78 2.05 0 2.83L4 21.41c.39.39.9.59 1.41.59.51 0 1.02-.2 1.41-.59l7.78-7.78 2.81-2.81c.8-.78.8-2.07 0-2.86zM5.41 20L4 18.59l7.72-7.72 1.47 1.35L5.41 20z\"/>\n",
              "  </svg>\n",
              "      </button>\n",
              "      \n",
              "  <style>\n",
              "    .colab-df-container {\n",
              "      display:flex;\n",
              "      flex-wrap:wrap;\n",
              "      gap: 12px;\n",
              "    }\n",
              "\n",
              "    .colab-df-convert {\n",
              "      background-color: #E8F0FE;\n",
              "      border: none;\n",
              "      border-radius: 50%;\n",
              "      cursor: pointer;\n",
              "      display: none;\n",
              "      fill: #1967D2;\n",
              "      height: 32px;\n",
              "      padding: 0 0 0 0;\n",
              "      width: 32px;\n",
              "    }\n",
              "\n",
              "    .colab-df-convert:hover {\n",
              "      background-color: #E2EBFA;\n",
              "      box-shadow: 0px 1px 2px rgba(60, 64, 67, 0.3), 0px 1px 3px 1px rgba(60, 64, 67, 0.15);\n",
              "      fill: #174EA6;\n",
              "    }\n",
              "\n",
              "    [theme=dark] .colab-df-convert {\n",
              "      background-color: #3B4455;\n",
              "      fill: #D2E3FC;\n",
              "    }\n",
              "\n",
              "    [theme=dark] .colab-df-convert:hover {\n",
              "      background-color: #434B5C;\n",
              "      box-shadow: 0px 1px 3px 1px rgba(0, 0, 0, 0.15);\n",
              "      filter: drop-shadow(0px 1px 2px rgba(0, 0, 0, 0.3));\n",
              "      fill: #FFFFFF;\n",
              "    }\n",
              "  </style>\n",
              "\n",
              "      <script>\n",
              "        const buttonEl =\n",
              "          document.querySelector('#df-fc3b4cee-f974-4ed0-80fe-aa51fab73770 button.colab-df-convert');\n",
              "        buttonEl.style.display =\n",
              "          google.colab.kernel.accessAllowed ? 'block' : 'none';\n",
              "\n",
              "        async function convertToInteractive(key) {\n",
              "          const element = document.querySelector('#df-fc3b4cee-f974-4ed0-80fe-aa51fab73770');\n",
              "          const dataTable =\n",
              "            await google.colab.kernel.invokeFunction('convertToInteractive',\n",
              "                                                     [key], {});\n",
              "          if (!dataTable) return;\n",
              "\n",
              "          const docLinkHtml = 'Like what you see? Visit the ' +\n",
              "            '<a target=\"_blank\" href=https://colab.research.google.com/notebooks/data_table.ipynb>data table notebook</a>'\n",
              "            + ' to learn more about interactive tables.';\n",
              "          element.innerHTML = '';\n",
              "          dataTable['output_type'] = 'display_data';\n",
              "          await google.colab.output.renderOutput(dataTable, element);\n",
              "          const docLink = document.createElement('div');\n",
              "          docLink.innerHTML = docLinkHtml;\n",
              "          element.appendChild(docLink);\n",
              "        }\n",
              "      </script>\n",
              "    </div>\n",
              "  </div>\n",
              "  "
            ]
          },
          "metadata": {},
          "execution_count": 8
        }
      ]
    },
    {
      "cell_type": "code",
      "source": [
        "Ravdess_df.shape"
      ],
      "metadata": {
        "colab": {
          "base_uri": "https://localhost:8080/"
        },
        "id": "7ZlCp2hRsrgO",
        "outputId": "298c867a-cf0d-4103-831c-4811044387e4"
      },
      "execution_count": null,
      "outputs": [
        {
          "output_type": "execute_result",
          "data": {
            "text/plain": [
              "(1440, 2)"
            ]
          },
          "metadata": {},
          "execution_count": 9
        }
      ]
    },
    {
      "cell_type": "code",
      "source": [
        "def match_dimension(data,input_length):\n",
        "\n",
        "  if len(data) > input_length:\n",
        "      max_offset = int(len(data) - input_length)\n",
        "      data = data[0:input_length]\n",
        "  else:\n",
        "      max_offset =int(input_length - len(data))\n",
        "      offset = np.zeros(max_offset)\n",
        "      data=np.concatenate((data,offset),axis=0)\n",
        "\n",
        "  return data"
      ],
      "metadata": {
        "id": "iQOs0aiUta20"
      },
      "execution_count": null,
      "outputs": []
    },
    {
      "cell_type": "code",
      "source": [
        "def create_mel_spec(data,sr,e):\n",
        "    melspec = librosa.feature.melspectrogram(data, n_mels = 30)\n",
        "    logspec = librosa.amplitude_to_db(melspec)\n",
        "    plt.figure(figsize=(12,5))\n",
        "    plt.title('Mel-Spectrogram for {}'.format(e), size=15)\n",
        "    librosa.display.specshow(logspec, x_axis='time')\n",
        "    plt.ylabel('MFCC')\n",
        "    plt.colorbar()\n",
        "\n",
        "def create_mfcc(data,sr,e):\n",
        "    mfcc = librosa.feature.mfcc(y=data, sr=16000, n_mfcc=30)\n",
        "    plt.figure(figsize=(12,5))\n",
        "    plt.title('Mel-frequency cepstral coefficient for {}'.format(e), size=15)\n",
        "    librosa.display.specshow(mfcc, x_axis='time')\n",
        "    plt.ylabel('MFCC')\n",
        "    plt.colorbar()"
      ],
      "metadata": {
        "id": "BufSBzI_tkJK"
      },
      "execution_count": null,
      "outputs": []
    },
    {
      "cell_type": "code",
      "source": [
        "emotion='happy'\n",
        "path = np.array(Ravdess_df.Path[Ravdess_df.Emotions==emotion])[6]\n",
        "data, sr = librosa.load(path,sr=16000, offset=0.5, duration=2.5, res_type='kaiser_fast')\n",
        "create_mfcc(data,sr,emotion)"
      ],
      "metadata": {
        "colab": {
          "base_uri": "https://localhost:8080/",
          "height": 352
        },
        "id": "bgKEBltVvbps",
        "outputId": "37f0340f-c4ba-4c02-c4d6-09b4db3c63d2"
      },
      "execution_count": null,
      "outputs": [
        {
          "output_type": "display_data",
          "data": {
            "text/plain": [
              "<Figure size 864x360 with 2 Axes>"
            ],
            "image/png": "[encoded data removed]"
          },
          "metadata": {
            "needs_background": "light"
          }
        }
      ]
    },
    {
      "cell_type": "code",
      "source": [
        "emotion='sad'\n",
        "path = np.array(Ravdess_df.Path[Ravdess_df.Emotions==emotion])[1]\n",
        "data, sr = librosa.load(path,sr=16000, offset=0.5, duration=2.5, res_type='kaiser_fast')\n",
        "create_mel_spec(data,sr,emotion)"
      ],
      "metadata": {
        "colab": {
          "base_uri": "https://localhost:8080/",
          "height": 352
        },
        "id": "O5d8xNwYvgq2",
        "outputId": "1fd48abf-56b5-46e2-c750-e5cda7263895"
      },
      "execution_count": null,
      "outputs": [
        {
          "output_type": "display_data",
          "data": {
            "text/plain": [
              "<Figure size 864x360 with 2 Axes>"
            ],
            "image/png": "[encoded data removed]"
          },
          "metadata": {
            "needs_background": "light"
          }
        }
      ]
    },
    {
      "cell_type": "code",
      "source": [
        "sampling_rate=16000\n",
        "audio_duration=2.5\n",
        "n_mfcc = 30\n",
        "n_melspec = 30\n",
        "n_fft=512\n",
        "def prepare_data(df, n, mfcc ,mel):\n",
        "    X = np.empty(shape=(df.shape[0], n,79,1))\n",
        "    input_length = sampling_rate * audio_duration\n",
        "\n",
        "    cnt = 0\n",
        "    for fname in tqdm(df.Path):\n",
        "        file_path = fname\n",
        "        data, sr = librosa.load(file_path, sr=sampling_rate\n",
        "                               ,res_type=\"kaiser_fast\"\n",
        "                               ,duration=2.5\n",
        "                               ,offset=0.5\n",
        "                              )\n",
        "\n",
        "        if len(data)!= input_length:\n",
        "\n",
        "        # Random offset / Padding\n",
        "            data=match_dimension(data,40000)\n",
        "\n",
        "\n",
        "\n",
        "\n",
        "          # which feature?\n",
        "          # if mfcc == 1:\n",
        "          #       # MFCC extraction\n",
        "          #   MFCC = librosa.feature.mfcc(data, sr=sampling_rate, n_mfcc=n_mfcc)\n",
        "          #   MFCC = np.expand_dims(MFCC, axis=-1)\n",
        "          #   X[cnt,] = MFCC\n",
        "          #   print('mfcc',MFCC.shape)\n",
        "\n",
        "        if mfcc == 1 and mel== 0:\n",
        "                  # MFCC extraction\n",
        "              MFCC = librosa.feature.mfcc(data, sr=sampling_rate, n_mfcc=n_mfcc)\n",
        "              MFCC = np.expand_dims(MFCC, axis=-1)\n",
        "              X[cnt,] = MFCC\n",
        "              print('mfcc',MFCC.shape)\n",
        "\n",
        "        elif mfcc==0 and mel==1 :\n",
        "                  # Log-melspectogram\n",
        "\n",
        "              melspec = librosa.feature.melspectrogram(data,sr=sampling_rate, n_mels = n_melspec)\n",
        "              logspec = librosa.amplitude_to_db(melspec)\n",
        "              logspec = np.expand_dims(logspec, axis=-1)\n",
        "              X[cnt,] = logspec\n",
        "\n",
        "              print('mel',logspec.shape)\n",
        "\n",
        "        elif mfcc==1 and mel== 1:\n",
        "              MFCC = librosa.feature.mfcc(data, sr=sampling_rate, n_mfcc=n_mfcc)\n",
        "              melspec = librosa.feature.melspectrogram(data,sr=sampling_rate, n_mels = n_melspec)\n",
        "              logspec = librosa.amplitude_to_db(melspec)\n",
        "              mfcc_logspec= np.concatenate((MFCC,logspec),axis=1)\n",
        "              #mel_logspec= np.vstack([MFCC,logspec])\n",
        "              #print(mfcc_logspec.shape)\n",
        "              mfcc_logspec = np.expand_dims(mfcc_logspec, axis=-1)\n",
        "              X[cnt,] = mfcc_logspec\n",
        "              print('mfcc_logspec',mfcc_logspec.shape)\n",
        "\n",
        "        cnt += 1\n",
        "\n",
        "    return X"
      ],
      "metadata": {
        "id": "X5IvAkaKw7be"
      },
      "execution_count": null,
      "outputs": []
    },
    {
      "cell_type": "code",
      "source": [
        "mfcc=prepare_data(Ravdess_df,n=30,mfcc=1,mel=0)"
      ],
      "metadata": {
        "colab": {
          "base_uri": "https://localhost:8080/"
        },
        "id": "2Kd5CYRyxIFN",
        "outputId": "667782f8-046f-4f38-d8e3-d87df453ebfd"
      },
      "execution_count": null,
      "outputs": [
        {
          "output_type": "stream",
          "name": "stderr",
          "text": [
            "  0%|          | 3/1440 [00:00<01:12, 19.69it/s]"
          ]
        },
        {
          "output_type": "stream",
          "name": "stdout",
          "text": [
            "mfcc (30, 79, 1)\n",
            "mfcc (30, 79, 1)\n",
            "mfcc (30, 79, 1)\n",
            "mfcc (30, 79, 1)\n"
          ]
        },
        {
          "output_type": "stream",
          "name": "stderr",
          "text": [
            "  0%|          | 7/1440 [00:00<01:17, 18.54it/s]"
          ]
        },
        {
          "output_type": "stream",
          "name": "stdout",
          "text": [
            "mfcc (30, 79, 1)\n",
            "mfcc (30, 79, 1)\n",
            "mfcc (30, 79, 1)\n",
            "mfcc (30, 79, 1)\n"
          ]
        },
        {
          "output_type": "stream",
          "name": "stderr",
          "text": [
            "  1%|          | 11/1440 [00:00<01:17, 18.55it/s]"
          ]
        },
        {
          "output_type": "stream",
          "name": "stdout",
          "text": [
            "mfcc (30, 79, 1)\n",
            "mfcc (30, 79, 1)\n",
            "mfcc (30, 79, 1)\n",
            "mfcc (30, 79, 1)\n"
          ]
        },
        {
          "output_type": "stream",
          "name": "stderr",
          "text": [
            "  1%|          | 15/1440 [00:00<01:16, 18.58it/s]"
          ]
        },
        {
          "output_type": "stream",
          "name": "stdout",
          "text": [
            "mfcc (30, 79, 1)\n",
            "mfcc (30, 79, 1)\n",
            "mfcc (30, 79, 1)\n",
            "mfcc (30, 79, 1)\n"
          ]
        },
        {
          "output_type": "stream",
          "name": "stderr",
          "text": [
            "  1%|▏         | 19/1440 [00:01<01:21, 17.43it/s]"
          ]
        },
        {
          "output_type": "stream",
          "name": "stdout",
          "text": [
            "mfcc (30, 79, 1)\n",
            "mfcc (30, 79, 1)\n",
            "mfcc (30, 79, 1)\n",
            "mfcc (30, 79, 1)\n"
          ]
        },
        {
          "output_type": "stream",
          "name": "stderr",
          "text": [
            "  2%|▏         | 23/1440 [00:01<01:19, 17.72it/s]"
          ]
        },
        {
          "output_type": "stream",
          "name": "stdout",
          "text": [
            "mfcc (30, 79, 1)\n",
            "mfcc (30, 79, 1)\n",
            "mfcc (30, 79, 1)\n",
            "mfcc (30, 79, 1)\n"
          ]
        },
        {
          "output_type": "stream",
          "name": "stderr",
          "text": [
            "  2%|▏         | 27/1440 [00:01<01:19, 17.77it/s]"
          ]
        },
        {
          "output_type": "stream",
          "name": "stdout",
          "text": [
            "mfcc (30, 79, 1)\n",
            "mfcc (30, 79, 1)\n",
            "mfcc (30, 79, 1)\n",
            "mfcc (30, 79, 1)\n"
          ]
        },
        {
          "output_type": "stream",
          "name": "stderr",
          "text": [
            "  2%|▏         | 31/1440 [00:01<01:18, 17.89it/s]"
          ]
        },
        {
          "output_type": "stream",
          "name": "stdout",
          "text": [
            "mfcc (30, 79, 1)\n",
            "mfcc (30, 79, 1)\n",
            "mfcc (30, 79, 1)\n",
            "mfcc (30, 79, 1)\n"
          ]
        },
        {
          "output_type": "stream",
          "name": "stderr",
          "text": [
            "  2%|▏         | 35/1440 [00:01<01:19, 17.76it/s]"
          ]
        },
        {
          "output_type": "stream",
          "name": "stdout",
          "text": [
            "mfcc (30, 79, 1)\n",
            "mfcc (30, 79, 1)\n",
            "mfcc (30, 79, 1)\n",
            "mfcc (30, 79, 1)\n"
          ]
        },
        {
          "output_type": "stream",
          "name": "stderr",
          "text": [
            "  3%|▎         | 39/1440 [00:02<01:21, 17.10it/s]"
          ]
        },
        {
          "output_type": "stream",
          "name": "stdout",
          "text": [
            "mfcc (30, 79, 1)\n",
            "mfcc (30, 79, 1)\n",
            "mfcc (30, 79, 1)\n",
            "mfcc (30, 79, 1)\n"
          ]
        },
        {
          "output_type": "stream",
          "name": "stderr",
          "text": [
            "  3%|▎         | 43/1440 [00:02<01:19, 17.58it/s]"
          ]
        },
        {
          "output_type": "stream",
          "name": "stdout",
          "text": [
            "mfcc (30, 79, 1)\n",
            "mfcc (30, 79, 1)\n",
            "mfcc (30, 79, 1)\n",
            "mfcc (30, 79, 1)\n"
          ]
        },
        {
          "output_type": "stream",
          "name": "stderr",
          "text": [
            "  3%|▎         | 47/1440 [00:02<01:17, 18.00it/s]"
          ]
        },
        {
          "output_type": "stream",
          "name": "stdout",
          "text": [
            "mfcc (30, 79, 1)\n",
            "mfcc (30, 79, 1)\n",
            "mfcc (30, 79, 1)\n",
            "mfcc (30, 79, 1)\n"
          ]
        },
        {
          "output_type": "stream",
          "name": "stderr",
          "text": [
            "  4%|▎         | 51/1440 [00:02<01:16, 18.16it/s]"
          ]
        },
        {
          "output_type": "stream",
          "name": "stdout",
          "text": [
            "mfcc (30, 79, 1)\n",
            "mfcc (30, 79, 1)\n",
            "mfcc (30, 79, 1)\n",
            "mfcc (30, 79, 1)\n"
          ]
        },
        {
          "output_type": "stream",
          "name": "stderr",
          "text": [
            "  4%|▍         | 55/1440 [00:03<01:17, 17.83it/s]"
          ]
        },
        {
          "output_type": "stream",
          "name": "stdout",
          "text": [
            "mfcc (30, 79, 1)\n",
            "mfcc (30, 79, 1)\n",
            "mfcc (30, 79, 1)\n",
            "mfcc (30, 79, 1)\n"
          ]
        },
        {
          "output_type": "stream",
          "name": "stderr",
          "text": [
            "  4%|▍         | 59/1440 [00:03<01:17, 17.76it/s]"
          ]
        },
        {
          "output_type": "stream",
          "name": "stdout",
          "text": [
            "mfcc (30, 79, 1)\n",
            "mfcc (30, 79, 1)\n",
            "mfcc (30, 79, 1)\n",
            "mfcc (30, 79, 1)\n"
          ]
        },
        {
          "output_type": "stream",
          "name": "stderr",
          "text": [
            "  4%|▍         | 63/1440 [00:03<01:16, 17.97it/s]"
          ]
        },
        {
          "output_type": "stream",
          "name": "stdout",
          "text": [
            "mfcc (30, 79, 1)\n",
            "mfcc (30, 79, 1)\n",
            "mfcc (30, 79, 1)\n",
            "mfcc (30, 79, 1)\n"
          ]
        },
        {
          "output_type": "stream",
          "name": "stderr",
          "text": [
            "  5%|▍         | 67/1440 [00:03<01:16, 18.04it/s]"
          ]
        },
        {
          "output_type": "stream",
          "name": "stdout",
          "text": [
            "mfcc (30, 79, 1)\n",
            "mfcc (30, 79, 1)\n",
            "mfcc (30, 79, 1)\n",
            "mfcc (30, 79, 1)\n"
          ]
        },
        {
          "output_type": "stream",
          "name": "stderr",
          "text": [
            "  5%|▍         | 71/1440 [00:03<01:15, 18.09it/s]"
          ]
        },
        {
          "output_type": "stream",
          "name": "stdout",
          "text": [
            "mfcc (30, 79, 1)\n",
            "mfcc (30, 79, 1)\n",
            "mfcc (30, 79, 1)\n",
            "mfcc (30, 79, 1)\n"
          ]
        },
        {
          "output_type": "stream",
          "name": "stderr",
          "text": [
            "  5%|▌         | 75/1440 [00:04<01:15, 18.03it/s]"
          ]
        },
        {
          "output_type": "stream",
          "name": "stdout",
          "text": [
            "mfcc (30, 79, 1)\n",
            "mfcc (30, 79, 1)\n",
            "mfcc (30, 79, 1)\n",
            "mfcc (30, 79, 1)\n"
          ]
        },
        {
          "output_type": "stream",
          "name": "stderr",
          "text": [
            "  5%|▌         | 79/1440 [00:04<01:14, 18.24it/s]"
          ]
        },
        {
          "output_type": "stream",
          "name": "stdout",
          "text": [
            "mfcc (30, 79, 1)\n",
            "mfcc (30, 79, 1)\n",
            "mfcc (30, 79, 1)\n",
            "mfcc (30, 79, 1)\n"
          ]
        },
        {
          "output_type": "stream",
          "name": "stderr",
          "text": [
            "  6%|▌         | 83/1440 [00:04<01:15, 17.94it/s]"
          ]
        },
        {
          "output_type": "stream",
          "name": "stdout",
          "text": [
            "mfcc (30, 79, 1)\n",
            "mfcc (30, 79, 1)\n",
            "mfcc (30, 79, 1)\n",
            "mfcc (30, 79, 1)\n"
          ]
        },
        {
          "output_type": "stream",
          "name": "stderr",
          "text": [
            "  6%|▌         | 87/1440 [00:04<01:14, 18.05it/s]"
          ]
        },
        {
          "output_type": "stream",
          "name": "stdout",
          "text": [
            "mfcc (30, 79, 1)\n",
            "mfcc (30, 79, 1)\n",
            "mfcc (30, 79, 1)\n",
            "mfcc (30, 79, 1)\n"
          ]
        },
        {
          "output_type": "stream",
          "name": "stderr",
          "text": [
            "  6%|▋         | 91/1440 [00:05<01:20, 16.80it/s]"
          ]
        },
        {
          "output_type": "stream",
          "name": "stdout",
          "text": [
            "mfcc (30, 79, 1)\n",
            "mfcc (30, 79, 1)\n",
            "mfcc (30, 79, 1)\n",
            "mfcc (30, 79, 1)\n"
          ]
        },
        {
          "output_type": "stream",
          "name": "stderr",
          "text": [
            "  7%|▋         | 95/1440 [00:05<01:17, 17.31it/s]"
          ]
        },
        {
          "output_type": "stream",
          "name": "stdout",
          "text": [
            "mfcc (30, 79, 1)\n",
            "mfcc (30, 79, 1)\n",
            "mfcc (30, 79, 1)\n",
            "mfcc (30, 79, 1)\n"
          ]
        },
        {
          "output_type": "stream",
          "name": "stderr",
          "text": [
            "  7%|▋         | 99/1440 [00:05<01:15, 17.66it/s]"
          ]
        },
        {
          "output_type": "stream",
          "name": "stdout",
          "text": [
            "mfcc (30, 79, 1)\n",
            "mfcc (30, 79, 1)\n",
            "mfcc (30, 79, 1)\n",
            "mfcc (30, 79, 1)\n"
          ]
        },
        {
          "output_type": "stream",
          "name": "stderr",
          "text": [
            "  7%|▋         | 103/1440 [00:05<01:15, 17.82it/s]"
          ]
        },
        {
          "output_type": "stream",
          "name": "stdout",
          "text": [
            "mfcc (30, 79, 1)\n",
            "mfcc (30, 79, 1)\n",
            "mfcc (30, 79, 1)\n",
            "mfcc (30, 79, 1)\n"
          ]
        },
        {
          "output_type": "stream",
          "name": "stderr",
          "text": [
            "  7%|▋         | 107/1440 [00:06<01:15, 17.56it/s]"
          ]
        },
        {
          "output_type": "stream",
          "name": "stdout",
          "text": [
            "mfcc (30, 79, 1)\n",
            "mfcc (30, 79, 1)\n",
            "mfcc (30, 79, 1)\n",
            "mfcc (30, 79, 1)\n"
          ]
        },
        {
          "output_type": "stream",
          "name": "stderr",
          "text": [
            "  8%|▊         | 111/1440 [00:06<01:16, 17.45it/s]"
          ]
        },
        {
          "output_type": "stream",
          "name": "stdout",
          "text": [
            "mfcc (30, 79, 1)\n",
            "mfcc (30, 79, 1)\n",
            "mfcc (30, 79, 1)\n",
            "mfcc (30, 79, 1)\n"
          ]
        },
        {
          "output_type": "stream",
          "name": "stderr",
          "text": [
            "  8%|▊         | 115/1440 [00:06<01:15, 17.45it/s]"
          ]
        },
        {
          "output_type": "stream",
          "name": "stdout",
          "text": [
            "mfcc (30, 79, 1)\n",
            "mfcc (30, 79, 1)\n",
            "mfcc (30, 79, 1)\n",
            "mfcc (30, 79, 1)\n"
          ]
        },
        {
          "output_type": "stream",
          "name": "stderr",
          "text": [
            "  8%|▊         | 119/1440 [00:06<01:13, 17.86it/s]"
          ]
        },
        {
          "output_type": "stream",
          "name": "stdout",
          "text": [
            "mfcc (30, 79, 1)\n",
            "mfcc (30, 79, 1)\n",
            "mfcc (30, 79, 1)\n",
            "mfcc (30, 79, 1)\n"
          ]
        },
        {
          "output_type": "stream",
          "name": "stderr",
          "text": [
            "  9%|▊         | 123/1440 [00:06<01:14, 17.77it/s]"
          ]
        },
        {
          "output_type": "stream",
          "name": "stdout",
          "text": [
            "mfcc (30, 79, 1)\n",
            "mfcc (30, 79, 1)\n",
            "mfcc (30, 79, 1)\n",
            "mfcc (30, 79, 1)\n"
          ]
        },
        {
          "output_type": "stream",
          "name": "stderr",
          "text": [
            "  9%|▉         | 127/1440 [00:07<01:16, 17.26it/s]"
          ]
        },
        {
          "output_type": "stream",
          "name": "stdout",
          "text": [
            "mfcc (30, 79, 1)\n",
            "mfcc (30, 79, 1)\n",
            "mfcc (30, 79, 1)\n",
            "mfcc (30, 79, 1)\n"
          ]
        },
        {
          "output_type": "stream",
          "name": "stderr",
          "text": [
            "  9%|▉         | 131/1440 [00:07<01:15, 17.42it/s]"
          ]
        },
        {
          "output_type": "stream",
          "name": "stdout",
          "text": [
            "mfcc (30, 79, 1)\n",
            "mfcc (30, 79, 1)\n",
            "mfcc (30, 79, 1)\n",
            "mfcc (30, 79, 1)\n"
          ]
        },
        {
          "output_type": "stream",
          "name": "stderr",
          "text": [
            "  9%|▉         | 135/1440 [00:07<01:13, 17.69it/s]"
          ]
        },
        {
          "output_type": "stream",
          "name": "stdout",
          "text": [
            "mfcc (30, 79, 1)\n",
            "mfcc (30, 79, 1)\n",
            "mfcc (30, 79, 1)\n",
            "mfcc (30, 79, 1)\n"
          ]
        },
        {
          "output_type": "stream",
          "name": "stderr",
          "text": [
            " 10%|▉         | 139/1440 [00:07<01:12, 17.82it/s]"
          ]
        },
        {
          "output_type": "stream",
          "name": "stdout",
          "text": [
            "mfcc (30, 79, 1)\n",
            "mfcc (30, 79, 1)\n",
            "mfcc (30, 79, 1)\n",
            "mfcc (30, 79, 1)\n"
          ]
        },
        {
          "output_type": "stream",
          "name": "stderr",
          "text": [
            " 10%|▉         | 143/1440 [00:08<01:13, 17.73it/s]"
          ]
        },
        {
          "output_type": "stream",
          "name": "stdout",
          "text": [
            "mfcc (30, 79, 1)\n",
            "mfcc (30, 79, 1)\n",
            "mfcc (30, 79, 1)\n",
            "mfcc (30, 79, 1)\n"
          ]
        },
        {
          "output_type": "stream",
          "name": "stderr",
          "text": [
            " 10%|█         | 147/1440 [00:08<01:12, 17.83it/s]"
          ]
        },
        {
          "output_type": "stream",
          "name": "stdout",
          "text": [
            "mfcc (30, 79, 1)\n",
            "mfcc (30, 79, 1)\n",
            "mfcc (30, 79, 1)\n",
            "mfcc (30, 79, 1)\n"
          ]
        },
        {
          "output_type": "stream",
          "name": "stderr",
          "text": [
            " 10%|█         | 151/1440 [00:08<01:11, 18.04it/s]"
          ]
        },
        {
          "output_type": "stream",
          "name": "stdout",
          "text": [
            "mfcc (30, 79, 1)\n",
            "mfcc (30, 79, 1)\n",
            "mfcc (30, 79, 1)\n",
            "mfcc (30, 79, 1)\n"
          ]
        },
        {
          "output_type": "stream",
          "name": "stderr",
          "text": [
            " 11%|█         | 155/1440 [00:08<01:11, 18.09it/s]"
          ]
        },
        {
          "output_type": "stream",
          "name": "stdout",
          "text": [
            "mfcc (30, 79, 1)\n",
            "mfcc (30, 79, 1)\n",
            "mfcc (30, 79, 1)\n",
            "mfcc (30, 79, 1)\n"
          ]
        },
        {
          "output_type": "stream",
          "name": "stderr",
          "text": [
            " 11%|█         | 159/1440 [00:08<01:10, 18.24it/s]"
          ]
        },
        {
          "output_type": "stream",
          "name": "stdout",
          "text": [
            "mfcc (30, 79, 1)\n",
            "mfcc (30, 79, 1)\n",
            "mfcc (30, 79, 1)\n",
            "mfcc (30, 79, 1)\n"
          ]
        },
        {
          "output_type": "stream",
          "name": "stderr",
          "text": [
            " 11%|█▏        | 163/1440 [00:09<01:11, 17.83it/s]"
          ]
        },
        {
          "output_type": "stream",
          "name": "stdout",
          "text": [
            "mfcc (30, 79, 1)\n",
            "mfcc (30, 79, 1)\n",
            "mfcc (30, 79, 1)\n",
            "mfcc (30, 79, 1)\n"
          ]
        },
        {
          "output_type": "stream",
          "name": "stderr",
          "text": [
            " 12%|█▏        | 167/1440 [00:09<01:12, 17.61it/s]"
          ]
        },
        {
          "output_type": "stream",
          "name": "stdout",
          "text": [
            "mfcc (30, 79, 1)\n",
            "mfcc (30, 79, 1)\n",
            "mfcc (30, 79, 1)\n",
            "mfcc (30, 79, 1)\n"
          ]
        },
        {
          "output_type": "stream",
          "name": "stderr",
          "text": [
            " 12%|█▏        | 171/1440 [00:09<01:11, 17.74it/s]"
          ]
        },
        {
          "output_type": "stream",
          "name": "stdout",
          "text": [
            "mfcc (30, 79, 1)\n",
            "mfcc (30, 79, 1)\n",
            "mfcc (30, 79, 1)\n",
            "mfcc (30, 79, 1)\n"
          ]
        },
        {
          "output_type": "stream",
          "name": "stderr",
          "text": [
            " 12%|█▏        | 175/1440 [00:09<01:11, 17.62it/s]"
          ]
        },
        {
          "output_type": "stream",
          "name": "stdout",
          "text": [
            "mfcc (30, 79, 1)\n",
            "mfcc (30, 79, 1)\n",
            "mfcc (30, 79, 1)\n",
            "mfcc (30, 79, 1)\n"
          ]
        },
        {
          "output_type": "stream",
          "name": "stderr",
          "text": [
            " 12%|█▏        | 179/1440 [00:10<01:12, 17.37it/s]"
          ]
        },
        {
          "output_type": "stream",
          "name": "stdout",
          "text": [
            "mfcc (30, 79, 1)\n",
            "mfcc (30, 79, 1)\n",
            "mfcc (30, 79, 1)\n",
            "mfcc (30, 79, 1)\n"
          ]
        },
        {
          "output_type": "stream",
          "name": "stderr",
          "text": [
            " 13%|█▎        | 183/1440 [00:10<01:12, 17.23it/s]"
          ]
        },
        {
          "output_type": "stream",
          "name": "stdout",
          "text": [
            "mfcc (30, 79, 1)\n",
            "mfcc (30, 79, 1)\n",
            "mfcc (30, 79, 1)\n",
            "mfcc (30, 79, 1)\n"
          ]
        },
        {
          "output_type": "stream",
          "name": "stderr",
          "text": [
            " 13%|█▎        | 187/1440 [00:10<01:10, 17.82it/s]"
          ]
        },
        {
          "output_type": "stream",
          "name": "stdout",
          "text": [
            "mfcc (30, 79, 1)\n",
            "mfcc (30, 79, 1)\n",
            "mfcc (30, 79, 1)\n",
            "mfcc (30, 79, 1)\n"
          ]
        },
        {
          "output_type": "stream",
          "name": "stderr",
          "text": [
            " 13%|█▎        | 191/1440 [00:10<01:09, 18.10it/s]"
          ]
        },
        {
          "output_type": "stream",
          "name": "stdout",
          "text": [
            "mfcc (30, 79, 1)\n",
            "mfcc (30, 79, 1)\n",
            "mfcc (30, 79, 1)\n",
            "mfcc (30, 79, 1)\n"
          ]
        },
        {
          "output_type": "stream",
          "name": "stderr",
          "text": [
            " 14%|█▎        | 195/1440 [00:10<01:07, 18.34it/s]"
          ]
        },
        {
          "output_type": "stream",
          "name": "stdout",
          "text": [
            "mfcc (30, 79, 1)\n",
            "mfcc (30, 79, 1)\n",
            "mfcc (30, 79, 1)\n",
            "mfcc (30, 79, 1)\n"
          ]
        },
        {
          "output_type": "stream",
          "name": "stderr",
          "text": [
            " 14%|█▍        | 199/1440 [00:11<01:08, 18.22it/s]"
          ]
        },
        {
          "output_type": "stream",
          "name": "stdout",
          "text": [
            "mfcc (30, 79, 1)\n",
            "mfcc (30, 79, 1)\n",
            "mfcc (30, 79, 1)\n",
            "mfcc (30, 79, 1)\n"
          ]
        },
        {
          "output_type": "stream",
          "name": "stderr",
          "text": [
            " 14%|█▍        | 203/1440 [00:11<01:09, 17.90it/s]"
          ]
        },
        {
          "output_type": "stream",
          "name": "stdout",
          "text": [
            "mfcc (30, 79, 1)\n",
            "mfcc (30, 79, 1)\n",
            "mfcc (30, 79, 1)\n",
            "mfcc (30, 79, 1)\n"
          ]
        },
        {
          "output_type": "stream",
          "name": "stderr",
          "text": [
            " 14%|█▍        | 207/1440 [00:11<01:07, 18.17it/s]"
          ]
        },
        {
          "output_type": "stream",
          "name": "stdout",
          "text": [
            "mfcc (30, 79, 1)\n",
            "mfcc (30, 79, 1)\n",
            "mfcc (30, 79, 1)\n",
            "mfcc (30, 79, 1)\n"
          ]
        },
        {
          "output_type": "stream",
          "name": "stderr",
          "text": [
            " 15%|█▍        | 211/1440 [00:11<01:08, 17.88it/s]"
          ]
        },
        {
          "output_type": "stream",
          "name": "stdout",
          "text": [
            "mfcc (30, 79, 1)\n",
            "mfcc (30, 79, 1)\n",
            "mfcc (30, 79, 1)\n",
            "mfcc (30, 79, 1)\n"
          ]
        },
        {
          "output_type": "stream",
          "name": "stderr",
          "text": [
            " 15%|█▍        | 215/1440 [00:12<01:17, 15.74it/s]"
          ]
        },
        {
          "output_type": "stream",
          "name": "stdout",
          "text": [
            "mfcc (30, 79, 1)\n",
            "mfcc (30, 79, 1)\n",
            "mfcc (30, 79, 1)\n"
          ]
        },
        {
          "output_type": "stream",
          "name": "stderr",
          "text": [
            "\r 15%|█▌        | 217/1440 [00:12<01:21, 15.03it/s]"
          ]
        },
        {
          "output_type": "stream",
          "name": "stdout",
          "text": [
            "mfcc (30, 79, 1)\n",
            "mfcc (30, 79, 1)\n",
            "mfcc (30, 79, 1)\n"
          ]
        },
        {
          "output_type": "stream",
          "name": "stderr",
          "text": [
            " 15%|█▌        | 221/1440 [00:12<01:18, 15.60it/s]"
          ]
        },
        {
          "output_type": "stream",
          "name": "stdout",
          "text": [
            "mfcc (30, 79, 1)\n",
            "mfcc (30, 79, 1)\n",
            "mfcc (30, 79, 1)\n",
            "mfcc (30, 79, 1)\n"
          ]
        },
        {
          "output_type": "stream",
          "name": "stderr",
          "text": [
            " 16%|█▌        | 225/1440 [00:12<01:13, 16.54it/s]"
          ]
        },
        {
          "output_type": "stream",
          "name": "stdout",
          "text": [
            "mfcc (30, 79, 1)\n",
            "mfcc (30, 79, 1)\n",
            "mfcc (30, 79, 1)\n",
            "mfcc (30, 79, 1)\n"
          ]
        },
        {
          "output_type": "stream",
          "name": "stderr",
          "text": [
            " 16%|█▌        | 229/1440 [00:13<01:11, 16.83it/s]"
          ]
        },
        {
          "output_type": "stream",
          "name": "stdout",
          "text": [
            "mfcc (30, 79, 1)\n",
            "mfcc (30, 79, 1)\n",
            "mfcc (30, 79, 1)\n",
            "mfcc (30, 79, 1)\n"
          ]
        },
        {
          "output_type": "stream",
          "name": "stderr",
          "text": [
            " 16%|█▌        | 233/1440 [00:13<01:09, 17.26it/s]"
          ]
        },
        {
          "output_type": "stream",
          "name": "stdout",
          "text": [
            "mfcc (30, 79, 1)\n",
            "mfcc (30, 79, 1)\n",
            "mfcc (30, 79, 1)\n",
            "mfcc (30, 79, 1)\n"
          ]
        },
        {
          "output_type": "stream",
          "name": "stderr",
          "text": [
            " 16%|█▋        | 237/1440 [00:13<01:09, 17.30it/s]"
          ]
        },
        {
          "output_type": "stream",
          "name": "stdout",
          "text": [
            "mfcc (30, 79, 1)\n",
            "mfcc (30, 79, 1)\n",
            "mfcc (30, 79, 1)\n",
            "mfcc (30, 79, 1)\n"
          ]
        },
        {
          "output_type": "stream",
          "name": "stderr",
          "text": [
            " 17%|█▋        | 241/1440 [00:13<01:06, 17.97it/s]"
          ]
        },
        {
          "output_type": "stream",
          "name": "stdout",
          "text": [
            "mfcc (30, 79, 1)\n",
            "mfcc (30, 79, 1)\n",
            "mfcc (30, 79, 1)\n",
            "mfcc (30, 79, 1)\n"
          ]
        },
        {
          "output_type": "stream",
          "name": "stderr",
          "text": [
            " 17%|█▋        | 245/1440 [00:13<01:05, 18.27it/s]"
          ]
        },
        {
          "output_type": "stream",
          "name": "stdout",
          "text": [
            "mfcc (30, 79, 1)\n",
            "mfcc (30, 79, 1)\n",
            "mfcc (30, 79, 1)\n",
            "mfcc (30, 79, 1)\n"
          ]
        },
        {
          "output_type": "stream",
          "name": "stderr",
          "text": [
            " 17%|█▋        | 249/1440 [00:14<01:05, 18.29it/s]"
          ]
        },
        {
          "output_type": "stream",
          "name": "stdout",
          "text": [
            "mfcc (30, 79, 1)\n",
            "mfcc (30, 79, 1)\n",
            "mfcc (30, 79, 1)\n",
            "mfcc (30, 79, 1)\n"
          ]
        },
        {
          "output_type": "stream",
          "name": "stderr",
          "text": [
            " 18%|█▊        | 253/1440 [00:14<01:07, 17.60it/s]"
          ]
        },
        {
          "output_type": "stream",
          "name": "stdout",
          "text": [
            "mfcc (30, 79, 1)\n",
            "mfcc (30, 79, 1)\n",
            "mfcc (30, 79, 1)\n",
            "mfcc (30, 79, 1)\n"
          ]
        },
        {
          "output_type": "stream",
          "name": "stderr",
          "text": [
            " 18%|█▊        | 257/1440 [00:14<01:05, 18.19it/s]"
          ]
        },
        {
          "output_type": "stream",
          "name": "stdout",
          "text": [
            "mfcc (30, 79, 1)\n",
            "mfcc (30, 79, 1)\n",
            "mfcc (30, 79, 1)\n",
            "mfcc (30, 79, 1)\n"
          ]
        },
        {
          "output_type": "stream",
          "name": "stderr",
          "text": [
            " 18%|█▊        | 261/1440 [00:14<01:03, 18.57it/s]"
          ]
        },
        {
          "output_type": "stream",
          "name": "stdout",
          "text": [
            "mfcc (30, 79, 1)\n",
            "mfcc (30, 79, 1)\n",
            "mfcc (30, 79, 1)\n",
            "mfcc (30, 79, 1)\n"
          ]
        },
        {
          "output_type": "stream",
          "name": "stderr",
          "text": [
            " 18%|█▊        | 265/1440 [00:14<01:03, 18.52it/s]"
          ]
        },
        {
          "output_type": "stream",
          "name": "stdout",
          "text": [
            "mfcc (30, 79, 1)\n",
            "mfcc (30, 79, 1)\n",
            "mfcc (30, 79, 1)\n",
            "mfcc (30, 79, 1)\n"
          ]
        },
        {
          "output_type": "stream",
          "name": "stderr",
          "text": [
            " 19%|█▊        | 269/1440 [00:15<01:03, 18.51it/s]"
          ]
        },
        {
          "output_type": "stream",
          "name": "stdout",
          "text": [
            "mfcc (30, 79, 1)\n",
            "mfcc (30, 79, 1)\n",
            "mfcc (30, 79, 1)\n",
            "mfcc (30, 79, 1)\n"
          ]
        },
        {
          "output_type": "stream",
          "name": "stderr",
          "text": [
            " 19%|█▉        | 273/1440 [00:15<01:04, 17.98it/s]"
          ]
        },
        {
          "output_type": "stream",
          "name": "stdout",
          "text": [
            "mfcc (30, 79, 1)\n",
            "mfcc (30, 79, 1)\n",
            "mfcc (30, 79, 1)\n",
            "mfcc (30, 79, 1)\n"
          ]
        },
        {
          "output_type": "stream",
          "name": "stderr",
          "text": [
            " 19%|█▉        | 277/1440 [00:15<01:05, 17.83it/s]"
          ]
        },
        {
          "output_type": "stream",
          "name": "stdout",
          "text": [
            "mfcc (30, 79, 1)\n",
            "mfcc (30, 79, 1)\n",
            "mfcc (30, 79, 1)\n",
            "mfcc (30, 79, 1)\n"
          ]
        },
        {
          "output_type": "stream",
          "name": "stderr",
          "text": [
            " 20%|█▉        | 281/1440 [00:15<01:03, 18.30it/s]"
          ]
        },
        {
          "output_type": "stream",
          "name": "stdout",
          "text": [
            "mfcc (30, 79, 1)\n",
            "mfcc (30, 79, 1)\n",
            "mfcc (30, 79, 1)\n",
            "mfcc (30, 79, 1)\n"
          ]
        },
        {
          "output_type": "stream",
          "name": "stderr",
          "text": [
            " 20%|█▉        | 285/1440 [00:16<01:02, 18.41it/s]"
          ]
        },
        {
          "output_type": "stream",
          "name": "stdout",
          "text": [
            "mfcc (30, 79, 1)\n",
            "mfcc (30, 79, 1)\n",
            "mfcc (30, 79, 1)\n",
            "mfcc (30, 79, 1)\n"
          ]
        },
        {
          "output_type": "stream",
          "name": "stderr",
          "text": [
            " 20%|██        | 289/1440 [00:16<01:03, 18.14it/s]"
          ]
        },
        {
          "output_type": "stream",
          "name": "stdout",
          "text": [
            "mfcc (30, 79, 1)\n",
            "mfcc (30, 79, 1)\n",
            "mfcc (30, 79, 1)\n",
            "mfcc (30, 79, 1)\n"
          ]
        },
        {
          "output_type": "stream",
          "name": "stderr",
          "text": [
            " 20%|██        | 293/1440 [00:16<01:06, 17.36it/s]"
          ]
        },
        {
          "output_type": "stream",
          "name": "stdout",
          "text": [
            "mfcc (30, 79, 1)\n",
            "mfcc (30, 79, 1)\n",
            "mfcc (30, 79, 1)\n",
            "mfcc (30, 79, 1)\n"
          ]
        },
        {
          "output_type": "stream",
          "name": "stderr",
          "text": [
            " 21%|██        | 297/1440 [00:16<01:03, 18.04it/s]"
          ]
        },
        {
          "output_type": "stream",
          "name": "stdout",
          "text": [
            "mfcc (30, 79, 1)\n",
            "mfcc (30, 79, 1)\n",
            "mfcc (30, 79, 1)\n",
            "mfcc (30, 79, 1)\n"
          ]
        },
        {
          "output_type": "stream",
          "name": "stderr",
          "text": [
            " 21%|██        | 301/1440 [00:16<01:03, 17.97it/s]"
          ]
        },
        {
          "output_type": "stream",
          "name": "stdout",
          "text": [
            "mfcc (30, 79, 1)\n",
            "mfcc (30, 79, 1)\n",
            "mfcc (30, 79, 1)\n",
            "mfcc (30, 79, 1)\n"
          ]
        },
        {
          "output_type": "stream",
          "name": "stderr",
          "text": [
            " 21%|██        | 305/1440 [00:17<01:02, 18.05it/s]"
          ]
        },
        {
          "output_type": "stream",
          "name": "stdout",
          "text": [
            "mfcc (30, 79, 1)\n",
            "mfcc (30, 79, 1)\n",
            "mfcc (30, 79, 1)\n",
            "mfcc (30, 79, 1)\n"
          ]
        },
        {
          "output_type": "stream",
          "name": "stderr",
          "text": [
            " 21%|██▏       | 309/1440 [00:17<01:04, 17.62it/s]"
          ]
        },
        {
          "output_type": "stream",
          "name": "stdout",
          "text": [
            "mfcc (30, 79, 1)\n",
            "mfcc (30, 79, 1)\n",
            "mfcc (30, 79, 1)\n",
            "mfcc (30, 79, 1)\n"
          ]
        },
        {
          "output_type": "stream",
          "name": "stderr",
          "text": [
            " 22%|██▏       | 313/1440 [00:17<01:03, 17.66it/s]"
          ]
        },
        {
          "output_type": "stream",
          "name": "stdout",
          "text": [
            "mfcc (30, 79, 1)\n",
            "mfcc (30, 79, 1)\n",
            "mfcc (30, 79, 1)\n",
            "mfcc (30, 79, 1)\n"
          ]
        },
        {
          "output_type": "stream",
          "name": "stderr",
          "text": [
            " 22%|██▏       | 317/1440 [00:17<01:02, 17.84it/s]"
          ]
        },
        {
          "output_type": "stream",
          "name": "stdout",
          "text": [
            "mfcc (30, 79, 1)\n",
            "mfcc (30, 79, 1)\n",
            "mfcc (30, 79, 1)\n",
            "mfcc (30, 79, 1)\n"
          ]
        },
        {
          "output_type": "stream",
          "name": "stderr",
          "text": [
            " 22%|██▏       | 321/1440 [00:18<01:04, 17.30it/s]"
          ]
        },
        {
          "output_type": "stream",
          "name": "stdout",
          "text": [
            "mfcc (30, 79, 1)\n",
            "mfcc (30, 79, 1)\n",
            "mfcc (30, 79, 1)\n",
            "mfcc (30, 79, 1)\n"
          ]
        },
        {
          "output_type": "stream",
          "name": "stderr",
          "text": [
            " 23%|██▎       | 325/1440 [00:18<01:05, 17.06it/s]"
          ]
        },
        {
          "output_type": "stream",
          "name": "stdout",
          "text": [
            "mfcc (30, 79, 1)\n",
            "mfcc (30, 79, 1)\n",
            "mfcc (30, 79, 1)\n",
            "mfcc (30, 79, 1)\n"
          ]
        },
        {
          "output_type": "stream",
          "name": "stderr",
          "text": [
            " 23%|██▎       | 329/1440 [00:18<01:03, 17.48it/s]"
          ]
        },
        {
          "output_type": "stream",
          "name": "stdout",
          "text": [
            "mfcc (30, 79, 1)\n",
            "mfcc (30, 79, 1)\n",
            "mfcc (30, 79, 1)\n",
            "mfcc (30, 79, 1)\n"
          ]
        },
        {
          "output_type": "stream",
          "name": "stderr",
          "text": [
            " 23%|██▎       | 333/1440 [00:18<01:02, 17.70it/s]"
          ]
        },
        {
          "output_type": "stream",
          "name": "stdout",
          "text": [
            "mfcc (30, 79, 1)\n",
            "mfcc (30, 79, 1)\n",
            "mfcc (30, 79, 1)\n",
            "mfcc (30, 79, 1)\n"
          ]
        },
        {
          "output_type": "stream",
          "name": "stderr",
          "text": [
            " 23%|██▎       | 337/1440 [00:19<01:05, 16.92it/s]"
          ]
        },
        {
          "output_type": "stream",
          "name": "stdout",
          "text": [
            "mfcc (30, 79, 1)\n",
            "mfcc (30, 79, 1)\n",
            "mfcc (30, 79, 1)\n",
            "mfcc (30, 79, 1)\n"
          ]
        },
        {
          "output_type": "stream",
          "name": "stderr",
          "text": [
            " 24%|██▎       | 341/1440 [00:19<01:06, 16.52it/s]"
          ]
        },
        {
          "output_type": "stream",
          "name": "stdout",
          "text": [
            "mfcc (30, 79, 1)\n",
            "mfcc (30, 79, 1)\n",
            "mfcc (30, 79, 1)\n",
            "mfcc (30, 79, 1)\n"
          ]
        },
        {
          "output_type": "stream",
          "name": "stderr",
          "text": [
            " 24%|██▍       | 345/1440 [00:19<01:06, 16.52it/s]"
          ]
        },
        {
          "output_type": "stream",
          "name": "stdout",
          "text": [
            "mfcc (30, 79, 1)\n",
            "mfcc (30, 79, 1)\n",
            "mfcc (30, 79, 1)\n",
            "mfcc (30, 79, 1)\n"
          ]
        },
        {
          "output_type": "stream",
          "name": "stderr",
          "text": [
            " 24%|██▍       | 349/1440 [00:19<01:03, 17.24it/s]"
          ]
        },
        {
          "output_type": "stream",
          "name": "stdout",
          "text": [
            "mfcc (30, 79, 1)\n",
            "mfcc (30, 79, 1)\n",
            "mfcc (30, 79, 1)\n",
            "mfcc (30, 79, 1)\n"
          ]
        },
        {
          "output_type": "stream",
          "name": "stderr",
          "text": [
            " 25%|██▍       | 353/1440 [00:20<01:01, 17.64it/s]"
          ]
        },
        {
          "output_type": "stream",
          "name": "stdout",
          "text": [
            "mfcc (30, 79, 1)\n",
            "mfcc (30, 79, 1)\n",
            "mfcc (30, 79, 1)\n",
            "mfcc (30, 79, 1)\n"
          ]
        },
        {
          "output_type": "stream",
          "name": "stderr",
          "text": [
            " 25%|██▍       | 357/1440 [00:20<01:01, 17.47it/s]"
          ]
        },
        {
          "output_type": "stream",
          "name": "stdout",
          "text": [
            "mfcc (30, 79, 1)\n",
            "mfcc (30, 79, 1)\n",
            "mfcc (30, 79, 1)\n",
            "mfcc (30, 79, 1)\n"
          ]
        },
        {
          "output_type": "stream",
          "name": "stderr",
          "text": [
            " 25%|██▌       | 361/1440 [00:20<01:04, 16.76it/s]"
          ]
        },
        {
          "output_type": "stream",
          "name": "stdout",
          "text": [
            "mfcc (30, 79, 1)\n",
            "mfcc (30, 79, 1)\n",
            "mfcc (30, 79, 1)\n",
            "mfcc (30, 79, 1)\n"
          ]
        },
        {
          "output_type": "stream",
          "name": "stderr",
          "text": [
            " 25%|██▌       | 365/1440 [00:20<01:01, 17.62it/s]"
          ]
        },
        {
          "output_type": "stream",
          "name": "stdout",
          "text": [
            "mfcc (30, 79, 1)\n",
            "mfcc (30, 79, 1)\n",
            "mfcc (30, 79, 1)\n",
            "mfcc (30, 79, 1)\n"
          ]
        },
        {
          "output_type": "stream",
          "name": "stderr",
          "text": [
            " 26%|██▌       | 369/1440 [00:20<00:58, 18.17it/s]"
          ]
        },
        {
          "output_type": "stream",
          "name": "stdout",
          "text": [
            "mfcc (30, 79, 1)\n",
            "mfcc (30, 79, 1)\n",
            "mfcc (30, 79, 1)\n",
            "mfcc (30, 79, 1)\n"
          ]
        },
        {
          "output_type": "stream",
          "name": "stderr",
          "text": [
            " 26%|██▌       | 373/1440 [00:21<00:59, 18.02it/s]"
          ]
        },
        {
          "output_type": "stream",
          "name": "stdout",
          "text": [
            "mfcc (30, 79, 1)\n",
            "mfcc (30, 79, 1)\n",
            "mfcc (30, 79, 1)\n",
            "mfcc (30, 79, 1)\n"
          ]
        },
        {
          "output_type": "stream",
          "name": "stderr",
          "text": [
            " 26%|██▌       | 377/1440 [00:21<00:58, 18.10it/s]"
          ]
        },
        {
          "output_type": "stream",
          "name": "stdout",
          "text": [
            "mfcc (30, 79, 1)\n",
            "mfcc (30, 79, 1)\n",
            "mfcc (30, 79, 1)\n",
            "mfcc (30, 79, 1)\n"
          ]
        },
        {
          "output_type": "stream",
          "name": "stderr",
          "text": [
            " 26%|██▋       | 381/1440 [00:21<00:58, 18.10it/s]"
          ]
        },
        {
          "output_type": "stream",
          "name": "stdout",
          "text": [
            "mfcc (30, 79, 1)\n",
            "mfcc (30, 79, 1)\n",
            "mfcc (30, 79, 1)\n",
            "mfcc (30, 79, 1)\n"
          ]
        },
        {
          "output_type": "stream",
          "name": "stderr",
          "text": [
            " 27%|██▋       | 385/1440 [00:21<00:57, 18.47it/s]"
          ]
        },
        {
          "output_type": "stream",
          "name": "stdout",
          "text": [
            "mfcc (30, 79, 1)\n",
            "mfcc (30, 79, 1)\n",
            "mfcc (30, 79, 1)\n",
            "mfcc (30, 79, 1)\n"
          ]
        },
        {
          "output_type": "stream",
          "name": "stderr",
          "text": [
            " 27%|██▋       | 389/1440 [00:22<00:57, 18.24it/s]"
          ]
        },
        {
          "output_type": "stream",
          "name": "stdout",
          "text": [
            "mfcc (30, 79, 1)\n",
            "mfcc (30, 79, 1)\n",
            "mfcc (30, 79, 1)\n",
            "mfcc (30, 79, 1)\n"
          ]
        },
        {
          "output_type": "stream",
          "name": "stderr",
          "text": [
            " 27%|██▋       | 393/1440 [00:22<00:57, 18.32it/s]"
          ]
        },
        {
          "output_type": "stream",
          "name": "stdout",
          "text": [
            "mfcc (30, 79, 1)\n",
            "mfcc (30, 79, 1)\n",
            "mfcc (30, 79, 1)\n",
            "mfcc (30, 79, 1)\n"
          ]
        },
        {
          "output_type": "stream",
          "name": "stderr",
          "text": [
            " 28%|██▊       | 397/1440 [00:22<00:57, 18.00it/s]"
          ]
        },
        {
          "output_type": "stream",
          "name": "stdout",
          "text": [
            "mfcc (30, 79, 1)\n",
            "mfcc (30, 79, 1)\n",
            "mfcc (30, 79, 1)\n",
            "mfcc (30, 79, 1)\n"
          ]
        },
        {
          "output_type": "stream",
          "name": "stderr",
          "text": [
            " 28%|██▊       | 401/1440 [00:22<00:58, 17.78it/s]"
          ]
        },
        {
          "output_type": "stream",
          "name": "stdout",
          "text": [
            "mfcc (30, 79, 1)\n",
            "mfcc (30, 79, 1)\n",
            "mfcc (30, 79, 1)\n",
            "mfcc (30, 79, 1)\n"
          ]
        },
        {
          "output_type": "stream",
          "name": "stderr",
          "text": [
            " 28%|██▊       | 405/1440 [00:22<00:57, 17.98it/s]"
          ]
        },
        {
          "output_type": "stream",
          "name": "stdout",
          "text": [
            "mfcc (30, 79, 1)\n",
            "mfcc (30, 79, 1)\n",
            "mfcc (30, 79, 1)\n",
            "mfcc (30, 79, 1)\n"
          ]
        },
        {
          "output_type": "stream",
          "name": "stderr",
          "text": [
            " 28%|██▊       | 409/1440 [00:23<00:56, 18.12it/s]"
          ]
        },
        {
          "output_type": "stream",
          "name": "stdout",
          "text": [
            "mfcc (30, 79, 1)\n",
            "mfcc (30, 79, 1)\n",
            "mfcc (30, 79, 1)\n",
            "mfcc (30, 79, 1)\n"
          ]
        },
        {
          "output_type": "stream",
          "name": "stderr",
          "text": [
            " 29%|██▊       | 413/1440 [00:23<00:57, 17.85it/s]"
          ]
        },
        {
          "output_type": "stream",
          "name": "stdout",
          "text": [
            "mfcc (30, 79, 1)\n",
            "mfcc (30, 79, 1)\n",
            "mfcc (30, 79, 1)\n",
            "mfcc (30, 79, 1)\n"
          ]
        },
        {
          "output_type": "stream",
          "name": "stderr",
          "text": [
            " 29%|██▉       | 417/1440 [00:23<00:59, 17.25it/s]"
          ]
        },
        {
          "output_type": "stream",
          "name": "stdout",
          "text": [
            "mfcc (30, 79, 1)\n",
            "mfcc (30, 79, 1)\n",
            "mfcc (30, 79, 1)\n",
            "mfcc (30, 79, 1)\n"
          ]
        },
        {
          "output_type": "stream",
          "name": "stderr",
          "text": [
            " 29%|██▉       | 421/1440 [00:23<00:56, 17.94it/s]"
          ]
        },
        {
          "output_type": "stream",
          "name": "stdout",
          "text": [
            "mfcc (30, 79, 1)\n",
            "mfcc (30, 79, 1)\n",
            "mfcc (30, 79, 1)\n",
            "mfcc (30, 79, 1)\n"
          ]
        },
        {
          "output_type": "stream",
          "name": "stderr",
          "text": [
            " 30%|██▉       | 425/1440 [00:24<00:55, 18.33it/s]"
          ]
        },
        {
          "output_type": "stream",
          "name": "stdout",
          "text": [
            "mfcc (30, 79, 1)\n",
            "mfcc (30, 79, 1)\n",
            "mfcc (30, 79, 1)\n",
            "mfcc (30, 79, 1)\n"
          ]
        },
        {
          "output_type": "stream",
          "name": "stderr",
          "text": [
            " 30%|██▉       | 429/1440 [00:24<00:55, 18.35it/s]"
          ]
        },
        {
          "output_type": "stream",
          "name": "stdout",
          "text": [
            "mfcc (30, 79, 1)\n",
            "mfcc (30, 79, 1)\n",
            "mfcc (30, 79, 1)\n",
            "mfcc (30, 79, 1)\n"
          ]
        },
        {
          "output_type": "stream",
          "name": "stderr",
          "text": [
            " 30%|███       | 433/1440 [00:24<00:54, 18.38it/s]"
          ]
        },
        {
          "output_type": "stream",
          "name": "stdout",
          "text": [
            "mfcc (30, 79, 1)\n",
            "mfcc (30, 79, 1)\n",
            "mfcc (30, 79, 1)\n",
            "mfcc (30, 79, 1)\n"
          ]
        },
        {
          "output_type": "stream",
          "name": "stderr",
          "text": [
            " 30%|███       | 437/1440 [00:24<00:55, 18.14it/s]"
          ]
        },
        {
          "output_type": "stream",
          "name": "stdout",
          "text": [
            "mfcc (30, 79, 1)\n",
            "mfcc (30, 79, 1)\n",
            "mfcc (30, 79, 1)\n",
            "mfcc (30, 79, 1)\n"
          ]
        },
        {
          "output_type": "stream",
          "name": "stderr",
          "text": [
            " 31%|███       | 441/1440 [00:24<00:54, 18.27it/s]"
          ]
        },
        {
          "output_type": "stream",
          "name": "stdout",
          "text": [
            "mfcc (30, 79, 1)\n",
            "mfcc (30, 79, 1)\n",
            "mfcc (30, 79, 1)\n",
            "mfcc (30, 79, 1)\n"
          ]
        },
        {
          "output_type": "stream",
          "name": "stderr",
          "text": [
            " 31%|███       | 445/1440 [00:25<00:54, 18.11it/s]"
          ]
        },
        {
          "output_type": "stream",
          "name": "stdout",
          "text": [
            "mfcc (30, 79, 1)\n",
            "mfcc (30, 79, 1)\n",
            "mfcc (30, 79, 1)\n",
            "mfcc (30, 79, 1)\n"
          ]
        },
        {
          "output_type": "stream",
          "name": "stderr",
          "text": [
            " 31%|███       | 449/1440 [00:25<00:54, 18.33it/s]"
          ]
        },
        {
          "output_type": "stream",
          "name": "stdout",
          "text": [
            "mfcc (30, 79, 1)\n",
            "mfcc (30, 79, 1)\n",
            "mfcc (30, 79, 1)\n",
            "mfcc (30, 79, 1)\n"
          ]
        },
        {
          "output_type": "stream",
          "name": "stderr",
          "text": [
            " 31%|███▏      | 453/1440 [00:25<00:53, 18.33it/s]"
          ]
        },
        {
          "output_type": "stream",
          "name": "stdout",
          "text": [
            "mfcc (30, 79, 1)\n",
            "mfcc (30, 79, 1)\n",
            "mfcc (30, 79, 1)\n",
            "mfcc (30, 79, 1)\n"
          ]
        },
        {
          "output_type": "stream",
          "name": "stderr",
          "text": [
            " 32%|███▏      | 457/1440 [00:25<00:55, 17.59it/s]"
          ]
        },
        {
          "output_type": "stream",
          "name": "stdout",
          "text": [
            "mfcc (30, 79, 1)\n",
            "mfcc (30, 79, 1)\n",
            "mfcc (30, 79, 1)\n",
            "mfcc (30, 79, 1)\n"
          ]
        },
        {
          "output_type": "stream",
          "name": "stderr",
          "text": [
            " 32%|███▏      | 461/1440 [00:26<00:55, 17.66it/s]"
          ]
        },
        {
          "output_type": "stream",
          "name": "stdout",
          "text": [
            "mfcc (30, 79, 1)\n",
            "mfcc (30, 79, 1)\n",
            "mfcc (30, 79, 1)\n",
            "mfcc (30, 79, 1)\n"
          ]
        },
        {
          "output_type": "stream",
          "name": "stderr",
          "text": [
            " 32%|███▏      | 465/1440 [00:26<00:54, 17.86it/s]"
          ]
        },
        {
          "output_type": "stream",
          "name": "stdout",
          "text": [
            "mfcc (30, 79, 1)\n",
            "mfcc (30, 79, 1)\n",
            "mfcc (30, 79, 1)\n",
            "mfcc (30, 79, 1)\n"
          ]
        },
        {
          "output_type": "stream",
          "name": "stderr",
          "text": [
            " 33%|███▎      | 469/1440 [00:26<00:54, 17.79it/s]"
          ]
        },
        {
          "output_type": "stream",
          "name": "stdout",
          "text": [
            "mfcc (30, 79, 1)\n",
            "mfcc (30, 79, 1)\n",
            "mfcc (30, 79, 1)\n",
            "mfcc (30, 79, 1)\n"
          ]
        },
        {
          "output_type": "stream",
          "name": "stderr",
          "text": [
            " 33%|███▎      | 473/1440 [00:26<00:55, 17.48it/s]"
          ]
        },
        {
          "output_type": "stream",
          "name": "stdout",
          "text": [
            "mfcc (30, 79, 1)\n",
            "mfcc (30, 79, 1)\n",
            "mfcc (30, 79, 1)\n",
            "mfcc (30, 79, 1)\n"
          ]
        },
        {
          "output_type": "stream",
          "name": "stderr",
          "text": [
            " 33%|███▎      | 477/1440 [00:26<00:53, 17.88it/s]"
          ]
        },
        {
          "output_type": "stream",
          "name": "stdout",
          "text": [
            "mfcc (30, 79, 1)\n",
            "mfcc (30, 79, 1)\n",
            "mfcc (30, 79, 1)\n",
            "mfcc (30, 79, 1)\n"
          ]
        },
        {
          "output_type": "stream",
          "name": "stderr",
          "text": [
            " 33%|███▎      | 481/1440 [00:27<00:53, 17.81it/s]"
          ]
        },
        {
          "output_type": "stream",
          "name": "stdout",
          "text": [
            "mfcc (30, 79, 1)\n",
            "mfcc (30, 79, 1)\n",
            "mfcc (30, 79, 1)\n",
            "mfcc (30, 79, 1)\n"
          ]
        },
        {
          "output_type": "stream",
          "name": "stderr",
          "text": [
            " 34%|███▎      | 485/1440 [00:27<00:53, 17.80it/s]"
          ]
        },
        {
          "output_type": "stream",
          "name": "stdout",
          "text": [
            "mfcc (30, 79, 1)\n",
            "mfcc (30, 79, 1)\n",
            "mfcc (30, 79, 1)\n",
            "mfcc (30, 79, 1)\n"
          ]
        },
        {
          "output_type": "stream",
          "name": "stderr",
          "text": [
            " 34%|███▍      | 489/1440 [00:27<00:52, 18.07it/s]"
          ]
        },
        {
          "output_type": "stream",
          "name": "stdout",
          "text": [
            "mfcc (30, 79, 1)\n",
            "mfcc (30, 79, 1)\n",
            "mfcc (30, 79, 1)\n",
            "mfcc (30, 79, 1)\n"
          ]
        },
        {
          "output_type": "stream",
          "name": "stderr",
          "text": [
            " 34%|███▍      | 493/1440 [00:27<00:52, 18.04it/s]"
          ]
        },
        {
          "output_type": "stream",
          "name": "stdout",
          "text": [
            "mfcc (30, 79, 1)\n",
            "mfcc (30, 79, 1)\n",
            "mfcc (30, 79, 1)\n",
            "mfcc (30, 79, 1)\n"
          ]
        },
        {
          "output_type": "stream",
          "name": "stderr",
          "text": [
            " 35%|███▍      | 497/1440 [00:28<00:51, 18.35it/s]"
          ]
        },
        {
          "output_type": "stream",
          "name": "stdout",
          "text": [
            "mfcc (30, 79, 1)\n",
            "mfcc (30, 79, 1)\n",
            "mfcc (30, 79, 1)\n",
            "mfcc (30, 79, 1)\n"
          ]
        },
        {
          "output_type": "stream",
          "name": "stderr",
          "text": [
            " 35%|███▍      | 501/1440 [00:28<00:50, 18.75it/s]"
          ]
        },
        {
          "output_type": "stream",
          "name": "stdout",
          "text": [
            "mfcc (30, 79, 1)\n",
            "mfcc (30, 79, 1)\n",
            "mfcc (30, 79, 1)\n",
            "mfcc (30, 79, 1)\n"
          ]
        },
        {
          "output_type": "stream",
          "name": "stderr",
          "text": [
            " 35%|███▌      | 505/1440 [00:28<00:49, 18.81it/s]"
          ]
        },
        {
          "output_type": "stream",
          "name": "stdout",
          "text": [
            "mfcc (30, 79, 1)\n",
            "mfcc (30, 79, 1)\n",
            "mfcc (30, 79, 1)\n",
            "mfcc (30, 79, 1)\n"
          ]
        },
        {
          "output_type": "stream",
          "name": "stderr",
          "text": [
            " 35%|███▌      | 509/1440 [00:28<00:49, 18.87it/s]"
          ]
        },
        {
          "output_type": "stream",
          "name": "stdout",
          "text": [
            "mfcc (30, 79, 1)\n",
            "mfcc (30, 79, 1)\n",
            "mfcc (30, 79, 1)\n",
            "mfcc (30, 79, 1)\n"
          ]
        },
        {
          "output_type": "stream",
          "name": "stderr",
          "text": [
            " 36%|███▌      | 513/1440 [00:28<00:50, 18.33it/s]"
          ]
        },
        {
          "output_type": "stream",
          "name": "stdout",
          "text": [
            "mfcc (30, 79, 1)\n",
            "mfcc (30, 79, 1)\n",
            "mfcc (30, 79, 1)\n",
            "mfcc (30, 79, 1)\n"
          ]
        },
        {
          "output_type": "stream",
          "name": "stderr",
          "text": [
            " 36%|███▌      | 517/1440 [00:29<00:49, 18.52it/s]"
          ]
        },
        {
          "output_type": "stream",
          "name": "stdout",
          "text": [
            "mfcc (30, 79, 1)\n",
            "mfcc (30, 79, 1)\n",
            "mfcc (30, 79, 1)\n",
            "mfcc (30, 79, 1)\n"
          ]
        },
        {
          "output_type": "stream",
          "name": "stderr",
          "text": [
            " 36%|███▌      | 521/1440 [00:29<00:49, 18.61it/s]"
          ]
        },
        {
          "output_type": "stream",
          "name": "stdout",
          "text": [
            "mfcc (30, 79, 1)\n",
            "mfcc (30, 79, 1)\n",
            "mfcc (30, 79, 1)\n",
            "mfcc (30, 79, 1)\n"
          ]
        },
        {
          "output_type": "stream",
          "name": "stderr",
          "text": [
            " 36%|███▋      | 525/1440 [00:29<00:50, 18.21it/s]"
          ]
        },
        {
          "output_type": "stream",
          "name": "stdout",
          "text": [
            "mfcc (30, 79, 1)\n",
            "mfcc (30, 79, 1)\n",
            "mfcc (30, 79, 1)\n",
            "mfcc (30, 79, 1)\n"
          ]
        },
        {
          "output_type": "stream",
          "name": "stderr",
          "text": [
            " 37%|███▋      | 529/1440 [00:29<00:51, 17.85it/s]"
          ]
        },
        {
          "output_type": "stream",
          "name": "stdout",
          "text": [
            "mfcc (30, 79, 1)\n",
            "mfcc (30, 79, 1)\n",
            "mfcc (30, 79, 1)\n",
            "mfcc (30, 79, 1)\n"
          ]
        },
        {
          "output_type": "stream",
          "name": "stderr",
          "text": [
            " 37%|███▋      | 533/1440 [00:29<00:49, 18.14it/s]"
          ]
        },
        {
          "output_type": "stream",
          "name": "stdout",
          "text": [
            "mfcc (30, 79, 1)\n",
            "mfcc (30, 79, 1)\n",
            "mfcc (30, 79, 1)\n",
            "mfcc (30, 79, 1)\n"
          ]
        },
        {
          "output_type": "stream",
          "name": "stderr",
          "text": [
            " 37%|███▋      | 537/1440 [00:30<00:49, 18.19it/s]"
          ]
        },
        {
          "output_type": "stream",
          "name": "stdout",
          "text": [
            "mfcc (30, 79, 1)\n",
            "mfcc (30, 79, 1)\n",
            "mfcc (30, 79, 1)\n",
            "mfcc (30, 79, 1)\n"
          ]
        },
        {
          "output_type": "stream",
          "name": "stderr",
          "text": [
            " 38%|███▊      | 541/1440 [00:30<00:50, 17.76it/s]"
          ]
        },
        {
          "output_type": "stream",
          "name": "stdout",
          "text": [
            "mfcc (30, 79, 1)\n",
            "mfcc (30, 79, 1)\n",
            "mfcc (30, 79, 1)\n",
            "mfcc (30, 79, 1)\n"
          ]
        },
        {
          "output_type": "stream",
          "name": "stderr",
          "text": [
            " 38%|███▊      | 545/1440 [00:30<00:50, 17.82it/s]"
          ]
        },
        {
          "output_type": "stream",
          "name": "stdout",
          "text": [
            "mfcc (30, 79, 1)\n",
            "mfcc (30, 79, 1)\n",
            "mfcc (30, 79, 1)\n",
            "mfcc (30, 79, 1)\n"
          ]
        },
        {
          "output_type": "stream",
          "name": "stderr",
          "text": [
            " 38%|███▊      | 549/1440 [00:30<00:50, 17.67it/s]"
          ]
        },
        {
          "output_type": "stream",
          "name": "stdout",
          "text": [
            "mfcc (30, 79, 1)\n",
            "mfcc (30, 79, 1)\n",
            "mfcc (30, 79, 1)\n",
            "mfcc (30, 79, 1)\n"
          ]
        },
        {
          "output_type": "stream",
          "name": "stderr",
          "text": [
            " 38%|███▊      | 553/1440 [00:31<00:50, 17.55it/s]"
          ]
        },
        {
          "output_type": "stream",
          "name": "stdout",
          "text": [
            "mfcc (30, 79, 1)\n",
            "mfcc (30, 79, 1)\n",
            "mfcc (30, 79, 1)\n",
            "mfcc (30, 79, 1)\n"
          ]
        },
        {
          "output_type": "stream",
          "name": "stderr",
          "text": [
            " 39%|███▊      | 557/1440 [00:31<00:50, 17.54it/s]"
          ]
        },
        {
          "output_type": "stream",
          "name": "stdout",
          "text": [
            "mfcc (30, 79, 1)\n",
            "mfcc (30, 79, 1)\n",
            "mfcc (30, 79, 1)\n",
            "mfcc (30, 79, 1)\n"
          ]
        },
        {
          "output_type": "stream",
          "name": "stderr",
          "text": [
            " 39%|███▉      | 561/1440 [00:31<00:51, 17.20it/s]"
          ]
        },
        {
          "output_type": "stream",
          "name": "stdout",
          "text": [
            "mfcc (30, 79, 1)\n",
            "mfcc (30, 79, 1)\n",
            "mfcc (30, 79, 1)\n",
            "mfcc (30, 79, 1)\n"
          ]
        },
        {
          "output_type": "stream",
          "name": "stderr",
          "text": [
            " 39%|███▉      | 565/1440 [00:31<00:52, 16.69it/s]"
          ]
        },
        {
          "output_type": "stream",
          "name": "stdout",
          "text": [
            "mfcc (30, 79, 1)\n",
            "mfcc (30, 79, 1)\n",
            "mfcc (30, 79, 1)\n",
            "mfcc (30, 79, 1)\n"
          ]
        },
        {
          "output_type": "stream",
          "name": "stderr",
          "text": [
            " 40%|███▉      | 569/1440 [00:32<00:51, 17.05it/s]"
          ]
        },
        {
          "output_type": "stream",
          "name": "stdout",
          "text": [
            "mfcc (30, 79, 1)\n",
            "mfcc (30, 79, 1)\n",
            "mfcc (30, 79, 1)\n",
            "mfcc (30, 79, 1)\n"
          ]
        },
        {
          "output_type": "stream",
          "name": "stderr",
          "text": [
            " 40%|███▉      | 573/1440 [00:32<00:49, 17.55it/s]"
          ]
        },
        {
          "output_type": "stream",
          "name": "stdout",
          "text": [
            "mfcc (30, 79, 1)\n",
            "mfcc (30, 79, 1)\n",
            "mfcc (30, 79, 1)\n",
            "mfcc (30, 79, 1)\n"
          ]
        },
        {
          "output_type": "stream",
          "name": "stderr",
          "text": [
            " 40%|████      | 577/1440 [00:32<00:50, 17.12it/s]"
          ]
        },
        {
          "output_type": "stream",
          "name": "stdout",
          "text": [
            "mfcc (30, 79, 1)\n",
            "mfcc (30, 79, 1)\n",
            "mfcc (30, 79, 1)\n",
            "mfcc (30, 79, 1)\n"
          ]
        },
        {
          "output_type": "stream",
          "name": "stderr",
          "text": [
            " 40%|████      | 581/1440 [00:32<00:48, 17.82it/s]"
          ]
        },
        {
          "output_type": "stream",
          "name": "stdout",
          "text": [
            "mfcc (30, 79, 1)\n",
            "mfcc (30, 79, 1)\n",
            "mfcc (30, 79, 1)\n",
            "mfcc (30, 79, 1)\n"
          ]
        },
        {
          "output_type": "stream",
          "name": "stderr",
          "text": [
            " 41%|████      | 585/1440 [00:32<00:48, 17.58it/s]"
          ]
        },
        {
          "output_type": "stream",
          "name": "stdout",
          "text": [
            "mfcc (30, 79, 1)\n",
            "mfcc (30, 79, 1)\n",
            "mfcc (30, 79, 1)\n",
            "mfcc (30, 79, 1)\n"
          ]
        },
        {
          "output_type": "stream",
          "name": "stderr",
          "text": [
            " 41%|████      | 589/1440 [00:33<00:47, 17.73it/s]"
          ]
        },
        {
          "output_type": "stream",
          "name": "stdout",
          "text": [
            "mfcc (30, 79, 1)\n",
            "mfcc (30, 79, 1)\n",
            "mfcc (30, 79, 1)\n",
            "mfcc (30, 79, 1)\n"
          ]
        },
        {
          "output_type": "stream",
          "name": "stderr",
          "text": [
            " 41%|████      | 593/1440 [00:33<00:46, 18.05it/s]"
          ]
        },
        {
          "output_type": "stream",
          "name": "stdout",
          "text": [
            "mfcc (30, 79, 1)\n",
            "mfcc (30, 79, 1)\n",
            "mfcc (30, 79, 1)\n",
            "mfcc (30, 79, 1)\n"
          ]
        },
        {
          "output_type": "stream",
          "name": "stderr",
          "text": [
            " 41%|████▏     | 597/1440 [00:33<00:46, 18.30it/s]"
          ]
        },
        {
          "output_type": "stream",
          "name": "stdout",
          "text": [
            "mfcc (30, 79, 1)\n",
            "mfcc (30, 79, 1)\n",
            "mfcc (30, 79, 1)\n",
            "mfcc (30, 79, 1)\n"
          ]
        },
        {
          "output_type": "stream",
          "name": "stderr",
          "text": [
            " 42%|████▏     | 601/1440 [00:33<00:47, 17.78it/s]"
          ]
        },
        {
          "output_type": "stream",
          "name": "stdout",
          "text": [
            "mfcc (30, 79, 1)\n",
            "mfcc (30, 79, 1)\n",
            "mfcc (30, 79, 1)\n",
            "mfcc (30, 79, 1)\n"
          ]
        },
        {
          "output_type": "stream",
          "name": "stderr",
          "text": [
            " 42%|████▏     | 605/1440 [00:34<00:46, 17.82it/s]"
          ]
        },
        {
          "output_type": "stream",
          "name": "stdout",
          "text": [
            "mfcc (30, 79, 1)\n",
            "mfcc (30, 79, 1)\n",
            "mfcc (30, 79, 1)\n",
            "mfcc (30, 79, 1)\n"
          ]
        },
        {
          "output_type": "stream",
          "name": "stderr",
          "text": [
            " 42%|████▏     | 609/1440 [00:34<00:46, 17.95it/s]"
          ]
        },
        {
          "output_type": "stream",
          "name": "stdout",
          "text": [
            "mfcc (30, 79, 1)\n",
            "mfcc (30, 79, 1)\n",
            "mfcc (30, 79, 1)\n",
            "mfcc (30, 79, 1)\n"
          ]
        },
        {
          "output_type": "stream",
          "name": "stderr",
          "text": [
            " 43%|████▎     | 613/1440 [00:34<00:46, 17.97it/s]"
          ]
        },
        {
          "output_type": "stream",
          "name": "stdout",
          "text": [
            "mfcc (30, 79, 1)\n",
            "mfcc (30, 79, 1)\n",
            "mfcc (30, 79, 1)\n",
            "mfcc (30, 79, 1)\n"
          ]
        },
        {
          "output_type": "stream",
          "name": "stderr",
          "text": [
            " 43%|████▎     | 617/1440 [00:34<00:46, 17.70it/s]"
          ]
        },
        {
          "output_type": "stream",
          "name": "stdout",
          "text": [
            "mfcc (30, 79, 1)\n",
            "mfcc (30, 79, 1)\n",
            "mfcc (30, 79, 1)\n",
            "mfcc (30, 79, 1)\n"
          ]
        },
        {
          "output_type": "stream",
          "name": "stderr",
          "text": [
            " 43%|████▎     | 621/1440 [00:34<00:46, 17.43it/s]"
          ]
        },
        {
          "output_type": "stream",
          "name": "stdout",
          "text": [
            "mfcc (30, 79, 1)\n",
            "mfcc (30, 79, 1)\n",
            "mfcc (30, 79, 1)\n",
            "mfcc (30, 79, 1)\n"
          ]
        },
        {
          "output_type": "stream",
          "name": "stderr",
          "text": [
            " 43%|████▎     | 625/1440 [00:35<00:45, 18.04it/s]"
          ]
        },
        {
          "output_type": "stream",
          "name": "stdout",
          "text": [
            "mfcc (30, 79, 1)\n",
            "mfcc (30, 79, 1)\n",
            "mfcc (30, 79, 1)\n",
            "mfcc (30, 79, 1)\n"
          ]
        },
        {
          "output_type": "stream",
          "name": "stderr",
          "text": [
            " 44%|████▎     | 629/1440 [00:35<00:44, 18.22it/s]"
          ]
        },
        {
          "output_type": "stream",
          "name": "stdout",
          "text": [
            "mfcc (30, 79, 1)\n",
            "mfcc (30, 79, 1)\n",
            "mfcc (30, 79, 1)\n",
            "mfcc (30, 79, 1)\n"
          ]
        },
        {
          "output_type": "stream",
          "name": "stderr",
          "text": [
            " 44%|████▍     | 633/1440 [00:35<00:44, 17.99it/s]"
          ]
        },
        {
          "output_type": "stream",
          "name": "stdout",
          "text": [
            "mfcc (30, 79, 1)\n",
            "mfcc (30, 79, 1)\n",
            "mfcc (30, 79, 1)\n",
            "mfcc (30, 79, 1)\n"
          ]
        },
        {
          "output_type": "stream",
          "name": "stderr",
          "text": [
            " 44%|████▍     | 637/1440 [00:35<00:46, 17.13it/s]"
          ]
        },
        {
          "output_type": "stream",
          "name": "stdout",
          "text": [
            "mfcc (30, 79, 1)\n",
            "mfcc (30, 79, 1)\n",
            "mfcc (30, 79, 1)\n",
            "mfcc (30, 79, 1)\n"
          ]
        },
        {
          "output_type": "stream",
          "name": "stderr",
          "text": [
            " 45%|████▍     | 641/1440 [00:36<00:47, 16.90it/s]"
          ]
        },
        {
          "output_type": "stream",
          "name": "stdout",
          "text": [
            "mfcc (30, 79, 1)\n",
            "mfcc (30, 79, 1)\n",
            "mfcc (30, 79, 1)\n",
            "mfcc (30, 79, 1)\n"
          ]
        },
        {
          "output_type": "stream",
          "name": "stderr",
          "text": [
            " 45%|████▍     | 645/1440 [00:36<00:46, 17.20it/s]"
          ]
        },
        {
          "output_type": "stream",
          "name": "stdout",
          "text": [
            "mfcc (30, 79, 1)\n",
            "mfcc (30, 79, 1)\n",
            "mfcc (30, 79, 1)\n",
            "mfcc (30, 79, 1)\n"
          ]
        },
        {
          "output_type": "stream",
          "name": "stderr",
          "text": [
            " 45%|████▌     | 649/1440 [00:36<00:45, 17.42it/s]"
          ]
        },
        {
          "output_type": "stream",
          "name": "stdout",
          "text": [
            "mfcc (30, 79, 1)\n",
            "mfcc (30, 79, 1)\n",
            "mfcc (30, 79, 1)\n",
            "mfcc (30, 79, 1)\n"
          ]
        },
        {
          "output_type": "stream",
          "name": "stderr",
          "text": [
            " 45%|████▌     | 653/1440 [00:36<00:43, 17.99it/s]"
          ]
        },
        {
          "output_type": "stream",
          "name": "stdout",
          "text": [
            "mfcc (30, 79, 1)\n",
            "mfcc (30, 79, 1)\n",
            "mfcc (30, 79, 1)\n",
            "mfcc (30, 79, 1)\n"
          ]
        },
        {
          "output_type": "stream",
          "name": "stderr",
          "text": [
            " 46%|████▌     | 657/1440 [00:37<00:44, 17.57it/s]"
          ]
        },
        {
          "output_type": "stream",
          "name": "stdout",
          "text": [
            "mfcc (30, 79, 1)\n",
            "mfcc (30, 79, 1)\n",
            "mfcc (30, 79, 1)\n",
            "mfcc (30, 79, 1)\n"
          ]
        },
        {
          "output_type": "stream",
          "name": "stderr",
          "text": [
            " 46%|████▌     | 661/1440 [00:37<00:44, 17.65it/s]"
          ]
        },
        {
          "output_type": "stream",
          "name": "stdout",
          "text": [
            "mfcc (30, 79, 1)\n",
            "mfcc (30, 79, 1)\n",
            "mfcc (30, 79, 1)\n",
            "mfcc (30, 79, 1)\n"
          ]
        },
        {
          "output_type": "stream",
          "name": "stderr",
          "text": [
            " 46%|████▌     | 665/1440 [00:37<00:43, 17.70it/s]"
          ]
        },
        {
          "output_type": "stream",
          "name": "stdout",
          "text": [
            "mfcc (30, 79, 1)\n",
            "mfcc (30, 79, 1)\n",
            "mfcc (30, 79, 1)\n",
            "mfcc (30, 79, 1)\n"
          ]
        },
        {
          "output_type": "stream",
          "name": "stderr",
          "text": [
            " 46%|████▋     | 669/1440 [00:37<00:43, 17.64it/s]"
          ]
        },
        {
          "output_type": "stream",
          "name": "stdout",
          "text": [
            "mfcc (30, 79, 1)\n",
            "mfcc (30, 79, 1)\n",
            "mfcc (30, 79, 1)\n",
            "mfcc (30, 79, 1)\n"
          ]
        },
        {
          "output_type": "stream",
          "name": "stderr",
          "text": [
            " 47%|████▋     | 673/1440 [00:37<00:45, 16.98it/s]"
          ]
        },
        {
          "output_type": "stream",
          "name": "stdout",
          "text": [
            "mfcc (30, 79, 1)\n",
            "mfcc (30, 79, 1)\n",
            "mfcc (30, 79, 1)\n",
            "mfcc (30, 79, 1)\n"
          ]
        },
        {
          "output_type": "stream",
          "name": "stderr",
          "text": [
            " 47%|████▋     | 677/1440 [00:38<00:44, 17.18it/s]"
          ]
        },
        {
          "output_type": "stream",
          "name": "stdout",
          "text": [
            "mfcc (30, 79, 1)\n",
            "mfcc (30, 79, 1)\n",
            "mfcc (30, 79, 1)\n",
            "mfcc (30, 79, 1)\n"
          ]
        },
        {
          "output_type": "stream",
          "name": "stderr",
          "text": [
            " 47%|████▋     | 681/1440 [00:38<00:43, 17.64it/s]"
          ]
        },
        {
          "output_type": "stream",
          "name": "stdout",
          "text": [
            "mfcc (30, 79, 1)\n",
            "mfcc (30, 79, 1)\n",
            "mfcc (30, 79, 1)\n",
            "mfcc (30, 79, 1)\n"
          ]
        },
        {
          "output_type": "stream",
          "name": "stderr",
          "text": [
            " 48%|████▊     | 685/1440 [00:38<00:41, 18.00it/s]"
          ]
        },
        {
          "output_type": "stream",
          "name": "stdout",
          "text": [
            "mfcc (30, 79, 1)\n",
            "mfcc (30, 79, 1)\n",
            "mfcc (30, 79, 1)\n",
            "mfcc (30, 79, 1)\n"
          ]
        },
        {
          "output_type": "stream",
          "name": "stderr",
          "text": [
            " 48%|████▊     | 689/1440 [00:38<00:41, 18.06it/s]"
          ]
        },
        {
          "output_type": "stream",
          "name": "stdout",
          "text": [
            "mfcc (30, 79, 1)\n",
            "mfcc (30, 79, 1)\n",
            "mfcc (30, 79, 1)\n",
            "mfcc (30, 79, 1)\n"
          ]
        },
        {
          "output_type": "stream",
          "name": "stderr",
          "text": [
            " 48%|████▊     | 693/1440 [00:39<00:41, 17.92it/s]"
          ]
        },
        {
          "output_type": "stream",
          "name": "stdout",
          "text": [
            "mfcc (30, 79, 1)\n",
            "mfcc (30, 79, 1)\n",
            "mfcc (30, 79, 1)\n",
            "mfcc (30, 79, 1)\n"
          ]
        },
        {
          "output_type": "stream",
          "name": "stderr",
          "text": [
            " 48%|████▊     | 697/1440 [00:39<00:41, 17.78it/s]"
          ]
        },
        {
          "output_type": "stream",
          "name": "stdout",
          "text": [
            "mfcc (30, 79, 1)\n",
            "mfcc (30, 79, 1)\n",
            "mfcc (30, 79, 1)\n",
            "mfcc (30, 79, 1)\n"
          ]
        },
        {
          "output_type": "stream",
          "name": "stderr",
          "text": [
            " 49%|████▊     | 701/1440 [00:39<00:41, 17.76it/s]"
          ]
        },
        {
          "output_type": "stream",
          "name": "stdout",
          "text": [
            "mfcc (30, 79, 1)\n",
            "mfcc (30, 79, 1)\n",
            "mfcc (30, 79, 1)\n",
            "mfcc (30, 79, 1)\n"
          ]
        },
        {
          "output_type": "stream",
          "name": "stderr",
          "text": [
            " 49%|████▉     | 705/1440 [00:39<00:41, 17.68it/s]"
          ]
        },
        {
          "output_type": "stream",
          "name": "stdout",
          "text": [
            "mfcc (30, 79, 1)\n",
            "mfcc (30, 79, 1)\n",
            "mfcc (30, 79, 1)\n",
            "mfcc (30, 79, 1)\n"
          ]
        },
        {
          "output_type": "stream",
          "name": "stderr",
          "text": [
            " 49%|████▉     | 709/1440 [00:40<00:43, 16.88it/s]"
          ]
        },
        {
          "output_type": "stream",
          "name": "stdout",
          "text": [
            "mfcc (30, 79, 1)\n",
            "mfcc (30, 79, 1)\n",
            "mfcc (30, 79, 1)\n",
            "mfcc (30, 79, 1)\n"
          ]
        },
        {
          "output_type": "stream",
          "name": "stderr",
          "text": [
            " 50%|████▉     | 713/1440 [00:40<00:42, 17.22it/s]"
          ]
        },
        {
          "output_type": "stream",
          "name": "stdout",
          "text": [
            "mfcc (30, 79, 1)\n",
            "mfcc (30, 79, 1)\n",
            "mfcc (30, 79, 1)\n",
            "mfcc (30, 79, 1)\n"
          ]
        },
        {
          "output_type": "stream",
          "name": "stderr",
          "text": [
            " 50%|████▉     | 717/1440 [00:40<00:41, 17.52it/s]"
          ]
        },
        {
          "output_type": "stream",
          "name": "stdout",
          "text": [
            "mfcc (30, 79, 1)\n",
            "mfcc (30, 79, 1)\n",
            "mfcc (30, 79, 1)\n",
            "mfcc (30, 79, 1)\n"
          ]
        },
        {
          "output_type": "stream",
          "name": "stderr",
          "text": [
            " 50%|█████     | 721/1440 [00:40<00:40, 17.56it/s]"
          ]
        },
        {
          "output_type": "stream",
          "name": "stdout",
          "text": [
            "mfcc (30, 79, 1)\n",
            "mfcc (30, 79, 1)\n",
            "mfcc (30, 79, 1)\n",
            "mfcc (30, 79, 1)\n"
          ]
        },
        {
          "output_type": "stream",
          "name": "stderr",
          "text": [
            " 50%|█████     | 725/1440 [00:40<00:40, 17.52it/s]"
          ]
        },
        {
          "output_type": "stream",
          "name": "stdout",
          "text": [
            "mfcc (30, 79, 1)\n",
            "mfcc (30, 79, 1)\n",
            "mfcc (30, 79, 1)\n",
            "mfcc (30, 79, 1)\n"
          ]
        },
        {
          "output_type": "stream",
          "name": "stderr",
          "text": [
            " 51%|█████     | 729/1440 [00:41<00:42, 16.54it/s]"
          ]
        },
        {
          "output_type": "stream",
          "name": "stdout",
          "text": [
            "mfcc (30, 79, 1)\n",
            "mfcc (30, 79, 1)\n",
            "mfcc (30, 79, 1)\n",
            "mfcc (30, 79, 1)\n"
          ]
        },
        {
          "output_type": "stream",
          "name": "stderr",
          "text": [
            " 51%|█████     | 733/1440 [00:41<00:41, 16.84it/s]"
          ]
        },
        {
          "output_type": "stream",
          "name": "stdout",
          "text": [
            "mfcc (30, 79, 1)\n",
            "mfcc (30, 79, 1)\n",
            "mfcc (30, 79, 1)\n",
            "mfcc (30, 79, 1)\n"
          ]
        },
        {
          "output_type": "stream",
          "name": "stderr",
          "text": [
            " 51%|█████     | 737/1440 [00:41<00:41, 17.12it/s]"
          ]
        },
        {
          "output_type": "stream",
          "name": "stdout",
          "text": [
            "mfcc (30, 79, 1)\n",
            "mfcc (30, 79, 1)\n",
            "mfcc (30, 79, 1)\n",
            "mfcc (30, 79, 1)\n"
          ]
        },
        {
          "output_type": "stream",
          "name": "stderr",
          "text": [
            " 51%|█████▏    | 741/1440 [00:41<00:41, 16.71it/s]"
          ]
        },
        {
          "output_type": "stream",
          "name": "stdout",
          "text": [
            "mfcc (30, 79, 1)\n",
            "mfcc (30, 79, 1)\n",
            "mfcc (30, 79, 1)\n",
            "mfcc (30, 79, 1)\n"
          ]
        },
        {
          "output_type": "stream",
          "name": "stderr",
          "text": [
            " 52%|█████▏    | 745/1440 [00:42<00:40, 17.06it/s]"
          ]
        },
        {
          "output_type": "stream",
          "name": "stdout",
          "text": [
            "mfcc (30, 79, 1)\n",
            "mfcc (30, 79, 1)\n",
            "mfcc (30, 79, 1)\n",
            "mfcc (30, 79, 1)\n"
          ]
        },
        {
          "output_type": "stream",
          "name": "stderr",
          "text": [
            " 52%|█████▏    | 749/1440 [00:42<00:40, 17.09it/s]"
          ]
        },
        {
          "output_type": "stream",
          "name": "stdout",
          "text": [
            "mfcc (30, 79, 1)\n",
            "mfcc (30, 79, 1)\n",
            "mfcc (30, 79, 1)\n",
            "mfcc (30, 79, 1)\n"
          ]
        },
        {
          "output_type": "stream",
          "name": "stderr",
          "text": [
            " 52%|█████▏    | 753/1440 [00:42<00:41, 16.44it/s]"
          ]
        },
        {
          "output_type": "stream",
          "name": "stdout",
          "text": [
            "mfcc (30, 79, 1)\n",
            "mfcc (30, 79, 1)\n",
            "mfcc (30, 79, 1)\n",
            "mfcc (30, 79, 1)\n"
          ]
        },
        {
          "output_type": "stream",
          "name": "stderr",
          "text": [
            " 53%|█████▎    | 757/1440 [00:42<00:40, 16.66it/s]"
          ]
        },
        {
          "output_type": "stream",
          "name": "stdout",
          "text": [
            "mfcc (30, 79, 1)\n",
            "mfcc (30, 79, 1)\n",
            "mfcc (30, 79, 1)\n",
            "mfcc (30, 79, 1)\n"
          ]
        },
        {
          "output_type": "stream",
          "name": "stderr",
          "text": [
            " 53%|█████▎    | 761/1440 [00:43<00:41, 16.24it/s]"
          ]
        },
        {
          "output_type": "stream",
          "name": "stdout",
          "text": [
            "mfcc (30, 79, 1)\n",
            "mfcc (30, 79, 1)\n",
            "mfcc (30, 79, 1)\n",
            "mfcc (30, 79, 1)\n"
          ]
        },
        {
          "output_type": "stream",
          "name": "stderr",
          "text": [
            " 53%|█████▎    | 765/1440 [00:43<00:40, 16.77it/s]"
          ]
        },
        {
          "output_type": "stream",
          "name": "stdout",
          "text": [
            "mfcc (30, 79, 1)\n",
            "mfcc (30, 79, 1)\n",
            "mfcc (30, 79, 1)\n",
            "mfcc (30, 79, 1)\n"
          ]
        },
        {
          "output_type": "stream",
          "name": "stderr",
          "text": [
            " 53%|█████▎    | 769/1440 [00:43<00:40, 16.52it/s]"
          ]
        },
        {
          "output_type": "stream",
          "name": "stdout",
          "text": [
            "mfcc (30, 79, 1)\n",
            "mfcc (30, 79, 1)\n",
            "mfcc (30, 79, 1)\n",
            "mfcc (30, 79, 1)\n"
          ]
        },
        {
          "output_type": "stream",
          "name": "stderr",
          "text": [
            " 54%|█████▎    | 773/1440 [00:43<00:38, 17.17it/s]"
          ]
        },
        {
          "output_type": "stream",
          "name": "stdout",
          "text": [
            "mfcc (30, 79, 1)\n",
            "mfcc (30, 79, 1)\n",
            "mfcc (30, 79, 1)\n",
            "mfcc (30, 79, 1)\n"
          ]
        },
        {
          "output_type": "stream",
          "name": "stderr",
          "text": [
            " 54%|█████▍    | 777/1440 [00:44<00:38, 17.32it/s]"
          ]
        },
        {
          "output_type": "stream",
          "name": "stdout",
          "text": [
            "mfcc (30, 79, 1)\n",
            "mfcc (30, 79, 1)\n",
            "mfcc (30, 79, 1)\n",
            "mfcc (30, 79, 1)\n"
          ]
        },
        {
          "output_type": "stream",
          "name": "stderr",
          "text": [
            " 54%|█████▍    | 781/1440 [00:44<00:38, 16.98it/s]"
          ]
        },
        {
          "output_type": "stream",
          "name": "stdout",
          "text": [
            "mfcc (30, 79, 1)\n",
            "mfcc (30, 79, 1)\n",
            "mfcc (30, 79, 1)\n",
            "mfcc (30, 79, 1)\n"
          ]
        },
        {
          "output_type": "stream",
          "name": "stderr",
          "text": [
            " 55%|█████▍    | 785/1440 [00:44<00:37, 17.38it/s]"
          ]
        },
        {
          "output_type": "stream",
          "name": "stdout",
          "text": [
            "mfcc (30, 79, 1)\n",
            "mfcc (30, 79, 1)\n",
            "mfcc (30, 79, 1)\n",
            "mfcc (30, 79, 1)\n"
          ]
        },
        {
          "output_type": "stream",
          "name": "stderr",
          "text": [
            " 55%|█████▍    | 789/1440 [00:44<00:36, 17.76it/s]"
          ]
        },
        {
          "output_type": "stream",
          "name": "stdout",
          "text": [
            "mfcc (30, 79, 1)\n",
            "mfcc (30, 79, 1)\n",
            "mfcc (30, 79, 1)\n",
            "mfcc (30, 79, 1)\n"
          ]
        },
        {
          "output_type": "stream",
          "name": "stderr",
          "text": [
            " 55%|█████▌    | 793/1440 [00:44<00:35, 18.00it/s]"
          ]
        },
        {
          "output_type": "stream",
          "name": "stdout",
          "text": [
            "mfcc (30, 79, 1)\n",
            "mfcc (30, 79, 1)\n",
            "mfcc (30, 79, 1)\n",
            "mfcc (30, 79, 1)\n"
          ]
        },
        {
          "output_type": "stream",
          "name": "stderr",
          "text": [
            " 55%|█████▌    | 797/1440 [00:45<00:36, 17.38it/s]"
          ]
        },
        {
          "output_type": "stream",
          "name": "stdout",
          "text": [
            "mfcc (30, 79, 1)\n",
            "mfcc (30, 79, 1)\n",
            "mfcc (30, 79, 1)\n",
            "mfcc (30, 79, 1)\n"
          ]
        },
        {
          "output_type": "stream",
          "name": "stderr",
          "text": [
            " 56%|█████▌    | 801/1440 [00:45<00:35, 18.04it/s]"
          ]
        },
        {
          "output_type": "stream",
          "name": "stdout",
          "text": [
            "mfcc (30, 79, 1)\n",
            "mfcc (30, 79, 1)\n",
            "mfcc (30, 79, 1)\n",
            "mfcc (30, 79, 1)\n"
          ]
        },
        {
          "output_type": "stream",
          "name": "stderr",
          "text": [
            " 56%|█████▌    | 805/1440 [00:45<00:35, 17.93it/s]"
          ]
        },
        {
          "output_type": "stream",
          "name": "stdout",
          "text": [
            "mfcc (30, 79, 1)\n",
            "mfcc (30, 79, 1)\n",
            "mfcc (30, 79, 1)\n",
            "mfcc (30, 79, 1)\n"
          ]
        },
        {
          "output_type": "stream",
          "name": "stderr",
          "text": [
            " 56%|█████▌    | 809/1440 [00:45<00:36, 17.28it/s]"
          ]
        },
        {
          "output_type": "stream",
          "name": "stdout",
          "text": [
            "mfcc (30, 79, 1)\n",
            "mfcc (30, 79, 1)\n",
            "mfcc (30, 79, 1)\n",
            "mfcc (30, 79, 1)\n"
          ]
        },
        {
          "output_type": "stream",
          "name": "stderr",
          "text": [
            " 56%|█████▋    | 813/1440 [00:46<00:37, 16.87it/s]"
          ]
        },
        {
          "output_type": "stream",
          "name": "stdout",
          "text": [
            "mfcc (30, 79, 1)\n",
            "mfcc (30, 79, 1)\n",
            "mfcc (30, 79, 1)\n",
            "mfcc (30, 79, 1)\n"
          ]
        },
        {
          "output_type": "stream",
          "name": "stderr",
          "text": [
            " 57%|█████▋    | 817/1440 [00:46<00:36, 17.18it/s]"
          ]
        },
        {
          "output_type": "stream",
          "name": "stdout",
          "text": [
            "mfcc (30, 79, 1)\n",
            "mfcc (30, 79, 1)\n",
            "mfcc (30, 79, 1)\n",
            "mfcc (30, 79, 1)\n"
          ]
        },
        {
          "output_type": "stream",
          "name": "stderr",
          "text": [
            " 57%|█████▋    | 821/1440 [00:46<00:36, 17.11it/s]"
          ]
        },
        {
          "output_type": "stream",
          "name": "stdout",
          "text": [
            "mfcc (30, 79, 1)\n",
            "mfcc (30, 79, 1)\n",
            "mfcc (30, 79, 1)\n",
            "mfcc (30, 79, 1)\n"
          ]
        },
        {
          "output_type": "stream",
          "name": "stderr",
          "text": [
            " 57%|█████▋    | 825/1440 [00:46<00:36, 16.99it/s]"
          ]
        },
        {
          "output_type": "stream",
          "name": "stdout",
          "text": [
            "mfcc (30, 79, 1)\n",
            "mfcc (30, 79, 1)\n",
            "mfcc (30, 79, 1)\n",
            "mfcc (30, 79, 1)\n"
          ]
        },
        {
          "output_type": "stream",
          "name": "stderr",
          "text": [
            " 58%|█████▊    | 829/1440 [00:47<00:37, 16.12it/s]"
          ]
        },
        {
          "output_type": "stream",
          "name": "stdout",
          "text": [
            "mfcc (30, 79, 1)\n",
            "mfcc (30, 79, 1)\n",
            "mfcc (30, 79, 1)\n",
            "mfcc (30, 79, 1)\n"
          ]
        },
        {
          "output_type": "stream",
          "name": "stderr",
          "text": [
            " 58%|█████▊    | 833/1440 [00:47<00:37, 16.27it/s]"
          ]
        },
        {
          "output_type": "stream",
          "name": "stdout",
          "text": [
            "mfcc (30, 79, 1)\n",
            "mfcc (30, 79, 1)\n",
            "mfcc (30, 79, 1)\n",
            "mfcc (30, 79, 1)\n"
          ]
        },
        {
          "output_type": "stream",
          "name": "stderr",
          "text": [
            " 58%|█████▊    | 837/1440 [00:47<00:37, 15.91it/s]"
          ]
        },
        {
          "output_type": "stream",
          "name": "stdout",
          "text": [
            "mfcc (30, 79, 1)\n",
            "mfcc (30, 79, 1)\n",
            "mfcc (30, 79, 1)\n"
          ]
        },
        {
          "output_type": "stream",
          "name": "stderr",
          "text": [
            " 58%|█████▊    | 841/1440 [00:47<00:36, 16.28it/s]"
          ]
        },
        {
          "output_type": "stream",
          "name": "stdout",
          "text": [
            "mfcc (30, 79, 1)\n",
            "mfcc (30, 79, 1)\n",
            "mfcc (30, 79, 1)\n",
            "mfcc (30, 79, 1)\n"
          ]
        },
        {
          "output_type": "stream",
          "name": "stderr",
          "text": [
            " 59%|█████▊    | 845/1440 [00:48<00:35, 16.81it/s]"
          ]
        },
        {
          "output_type": "stream",
          "name": "stdout",
          "text": [
            "mfcc (30, 79, 1)\n",
            "mfcc (30, 79, 1)\n",
            "mfcc (30, 79, 1)\n",
            "mfcc (30, 79, 1)\n"
          ]
        },
        {
          "output_type": "stream",
          "name": "stderr",
          "text": [
            " 59%|█████▉    | 849/1440 [00:48<00:38, 15.51it/s]"
          ]
        },
        {
          "output_type": "stream",
          "name": "stdout",
          "text": [
            "mfcc (30, 79, 1)\n",
            "mfcc (30, 79, 1)\n",
            "mfcc (30, 79, 1)\n",
            "mfcc (30, 79, 1)\n"
          ]
        },
        {
          "output_type": "stream",
          "name": "stderr",
          "text": [
            " 59%|█████▉    | 853/1440 [00:48<00:35, 16.53it/s]"
          ]
        },
        {
          "output_type": "stream",
          "name": "stdout",
          "text": [
            "mfcc (30, 79, 1)\n",
            "mfcc (30, 79, 1)\n",
            "mfcc (30, 79, 1)\n",
            "mfcc (30, 79, 1)\n"
          ]
        },
        {
          "output_type": "stream",
          "name": "stderr",
          "text": [
            " 60%|█████▉    | 857/1440 [00:48<00:35, 16.27it/s]"
          ]
        },
        {
          "output_type": "stream",
          "name": "stdout",
          "text": [
            "mfcc (30, 79, 1)\n",
            "mfcc (30, 79, 1)\n",
            "mfcc (30, 79, 1)\n",
            "mfcc (30, 79, 1)\n"
          ]
        },
        {
          "output_type": "stream",
          "name": "stderr",
          "text": [
            " 60%|█████▉    | 861/1440 [00:49<00:34, 16.94it/s]"
          ]
        },
        {
          "output_type": "stream",
          "name": "stdout",
          "text": [
            "mfcc (30, 79, 1)\n",
            "mfcc (30, 79, 1)\n",
            "mfcc (30, 79, 1)\n",
            "mfcc (30, 79, 1)\n"
          ]
        },
        {
          "output_type": "stream",
          "name": "stderr",
          "text": [
            " 60%|██████    | 865/1440 [00:49<00:33, 17.20it/s]"
          ]
        },
        {
          "output_type": "stream",
          "name": "stdout",
          "text": [
            "mfcc (30, 79, 1)\n",
            "mfcc (30, 79, 1)\n",
            "mfcc (30, 79, 1)\n",
            "mfcc (30, 79, 1)\n"
          ]
        },
        {
          "output_type": "stream",
          "name": "stderr",
          "text": [
            " 60%|██████    | 869/1440 [00:49<00:32, 17.34it/s]"
          ]
        },
        {
          "output_type": "stream",
          "name": "stdout",
          "text": [
            "mfcc (30, 79, 1)\n",
            "mfcc (30, 79, 1)\n",
            "mfcc (30, 79, 1)\n",
            "mfcc (30, 79, 1)\n"
          ]
        },
        {
          "output_type": "stream",
          "name": "stderr",
          "text": [
            " 61%|██████    | 873/1440 [00:49<00:32, 17.61it/s]"
          ]
        },
        {
          "output_type": "stream",
          "name": "stdout",
          "text": [
            "mfcc (30, 79, 1)\n",
            "mfcc (30, 79, 1)\n",
            "mfcc (30, 79, 1)\n",
            "mfcc (30, 79, 1)\n"
          ]
        },
        {
          "output_type": "stream",
          "name": "stderr",
          "text": [
            " 61%|██████    | 877/1440 [00:49<00:31, 17.65it/s]"
          ]
        },
        {
          "output_type": "stream",
          "name": "stdout",
          "text": [
            "mfcc (30, 79, 1)\n",
            "mfcc (30, 79, 1)\n",
            "mfcc (30, 79, 1)\n",
            "mfcc (30, 79, 1)\n"
          ]
        },
        {
          "output_type": "stream",
          "name": "stderr",
          "text": [
            " 61%|██████    | 881/1440 [00:50<00:31, 17.84it/s]"
          ]
        },
        {
          "output_type": "stream",
          "name": "stdout",
          "text": [
            "mfcc (30, 79, 1)\n",
            "mfcc (30, 79, 1)\n",
            "mfcc (30, 79, 1)\n",
            "mfcc (30, 79, 1)\n"
          ]
        },
        {
          "output_type": "stream",
          "name": "stderr",
          "text": [
            " 61%|██████▏   | 885/1440 [00:50<00:31, 17.61it/s]"
          ]
        },
        {
          "output_type": "stream",
          "name": "stdout",
          "text": [
            "mfcc (30, 79, 1)\n",
            "mfcc (30, 79, 1)\n",
            "mfcc (30, 79, 1)\n",
            "mfcc (30, 79, 1)\n"
          ]
        },
        {
          "output_type": "stream",
          "name": "stderr",
          "text": [
            " 62%|██████▏   | 889/1440 [00:50<00:31, 17.64it/s]"
          ]
        },
        {
          "output_type": "stream",
          "name": "stdout",
          "text": [
            "mfcc (30, 79, 1)\n",
            "mfcc (30, 79, 1)\n",
            "mfcc (30, 79, 1)\n",
            "mfcc (30, 79, 1)\n"
          ]
        },
        {
          "output_type": "stream",
          "name": "stderr",
          "text": [
            " 62%|██████▏   | 893/1440 [00:50<00:30, 17.89it/s]"
          ]
        },
        {
          "output_type": "stream",
          "name": "stdout",
          "text": [
            "mfcc (30, 79, 1)\n",
            "mfcc (30, 79, 1)\n",
            "mfcc (30, 79, 1)\n",
            "mfcc (30, 79, 1)\n"
          ]
        },
        {
          "output_type": "stream",
          "name": "stderr",
          "text": [
            " 62%|██████▏   | 897/1440 [00:51<00:30, 18.01it/s]"
          ]
        },
        {
          "output_type": "stream",
          "name": "stdout",
          "text": [
            "mfcc (30, 79, 1)\n",
            "mfcc (30, 79, 1)\n",
            "mfcc (30, 79, 1)\n",
            "mfcc (30, 79, 1)\n"
          ]
        },
        {
          "output_type": "stream",
          "name": "stderr",
          "text": [
            " 63%|██████▎   | 901/1440 [00:51<00:31, 16.91it/s]"
          ]
        },
        {
          "output_type": "stream",
          "name": "stdout",
          "text": [
            "mfcc (30, 79, 1)\n",
            "mfcc (30, 79, 1)\n",
            "mfcc (30, 79, 1)\n",
            "mfcc (30, 79, 1)\n"
          ]
        },
        {
          "output_type": "stream",
          "name": "stderr",
          "text": [
            " 63%|██████▎   | 905/1440 [00:51<00:30, 17.63it/s]"
          ]
        },
        {
          "output_type": "stream",
          "name": "stdout",
          "text": [
            "mfcc (30, 79, 1)\n",
            "mfcc (30, 79, 1)\n",
            "mfcc (30, 79, 1)\n",
            "mfcc (30, 79, 1)\n"
          ]
        },
        {
          "output_type": "stream",
          "name": "stderr",
          "text": [
            " 63%|██████▎   | 909/1440 [00:51<00:30, 17.58it/s]"
          ]
        },
        {
          "output_type": "stream",
          "name": "stdout",
          "text": [
            "mfcc (30, 79, 1)\n",
            "mfcc (30, 79, 1)\n",
            "mfcc (30, 79, 1)\n",
            "mfcc (30, 79, 1)\n"
          ]
        },
        {
          "output_type": "stream",
          "name": "stderr",
          "text": [
            " 63%|██████▎   | 913/1440 [00:51<00:29, 18.00it/s]"
          ]
        },
        {
          "output_type": "stream",
          "name": "stdout",
          "text": [
            "mfcc (30, 79, 1)\n",
            "mfcc (30, 79, 1)\n",
            "mfcc (30, 79, 1)\n",
            "mfcc (30, 79, 1)\n"
          ]
        },
        {
          "output_type": "stream",
          "name": "stderr",
          "text": [
            " 64%|██████▎   | 917/1440 [00:52<00:29, 17.70it/s]"
          ]
        },
        {
          "output_type": "stream",
          "name": "stdout",
          "text": [
            "mfcc (30, 79, 1)\n",
            "mfcc (30, 79, 1)\n",
            "mfcc (30, 79, 1)\n",
            "mfcc (30, 79, 1)\n"
          ]
        },
        {
          "output_type": "stream",
          "name": "stderr",
          "text": [
            " 64%|██████▍   | 921/1440 [00:52<00:29, 17.35it/s]"
          ]
        },
        {
          "output_type": "stream",
          "name": "stdout",
          "text": [
            "mfcc (30, 79, 1)\n",
            "mfcc (30, 79, 1)\n",
            "mfcc (30, 79, 1)\n",
            "mfcc (30, 79, 1)\n"
          ]
        },
        {
          "output_type": "stream",
          "name": "stderr",
          "text": [
            " 64%|██████▍   | 925/1440 [00:52<00:31, 16.58it/s]"
          ]
        },
        {
          "output_type": "stream",
          "name": "stdout",
          "text": [
            "mfcc (30, 79, 1)\n",
            "mfcc (30, 79, 1)\n",
            "mfcc (30, 79, 1)\n",
            "mfcc (30, 79, 1)\n"
          ]
        },
        {
          "output_type": "stream",
          "name": "stderr",
          "text": [
            " 65%|██████▍   | 929/1440 [00:52<00:30, 16.86it/s]"
          ]
        },
        {
          "output_type": "stream",
          "name": "stdout",
          "text": [
            "mfcc (30, 79, 1)\n",
            "mfcc (30, 79, 1)\n",
            "mfcc (30, 79, 1)\n",
            "mfcc (30, 79, 1)\n"
          ]
        },
        {
          "output_type": "stream",
          "name": "stderr",
          "text": [
            " 65%|██████▍   | 933/1440 [00:53<00:29, 17.43it/s]"
          ]
        },
        {
          "output_type": "stream",
          "name": "stdout",
          "text": [
            "mfcc (30, 79, 1)\n",
            "mfcc (30, 79, 1)\n",
            "mfcc (30, 79, 1)\n",
            "mfcc (30, 79, 1)\n"
          ]
        },
        {
          "output_type": "stream",
          "name": "stderr",
          "text": [
            " 65%|██████▌   | 937/1440 [00:53<00:30, 16.65it/s]"
          ]
        },
        {
          "output_type": "stream",
          "name": "stdout",
          "text": [
            "mfcc (30, 79, 1)\n",
            "mfcc (30, 79, 1)\n",
            "mfcc (30, 79, 1)\n",
            "mfcc (30, 79, 1)\n"
          ]
        },
        {
          "output_type": "stream",
          "name": "stderr",
          "text": [
            " 65%|██████▌   | 941/1440 [00:53<00:29, 16.80it/s]"
          ]
        },
        {
          "output_type": "stream",
          "name": "stdout",
          "text": [
            "mfcc (30, 79, 1)\n",
            "mfcc (30, 79, 1)\n",
            "mfcc (30, 79, 1)\n",
            "mfcc (30, 79, 1)\n"
          ]
        },
        {
          "output_type": "stream",
          "name": "stderr",
          "text": [
            " 66%|██████▌   | 945/1440 [00:53<00:29, 16.51it/s]"
          ]
        },
        {
          "output_type": "stream",
          "name": "stdout",
          "text": [
            "mfcc (30, 79, 1)\n",
            "mfcc (30, 79, 1)\n",
            "mfcc (30, 79, 1)\n",
            "mfcc (30, 79, 1)\n"
          ]
        },
        {
          "output_type": "stream",
          "name": "stderr",
          "text": [
            " 66%|██████▌   | 949/1440 [00:54<00:29, 16.71it/s]"
          ]
        },
        {
          "output_type": "stream",
          "name": "stdout",
          "text": [
            "mfcc (30, 79, 1)\n",
            "mfcc (30, 79, 1)\n",
            "mfcc (30, 79, 1)\n",
            "mfcc (30, 79, 1)\n"
          ]
        },
        {
          "output_type": "stream",
          "name": "stderr",
          "text": [
            " 66%|██████▌   | 953/1440 [00:54<00:28, 17.09it/s]"
          ]
        },
        {
          "output_type": "stream",
          "name": "stdout",
          "text": [
            "mfcc (30, 79, 1)\n",
            "mfcc (30, 79, 1)\n",
            "mfcc (30, 79, 1)\n",
            "mfcc (30, 79, 1)\n"
          ]
        },
        {
          "output_type": "stream",
          "name": "stderr",
          "text": [
            " 66%|██████▋   | 957/1440 [00:54<00:28, 17.06it/s]"
          ]
        },
        {
          "output_type": "stream",
          "name": "stdout",
          "text": [
            "mfcc (30, 79, 1)\n",
            "mfcc (30, 79, 1)\n",
            "mfcc (30, 79, 1)\n",
            "mfcc (30, 79, 1)\n"
          ]
        },
        {
          "output_type": "stream",
          "name": "stderr",
          "text": [
            " 67%|██████▋   | 961/1440 [00:54<00:27, 17.24it/s]"
          ]
        },
        {
          "output_type": "stream",
          "name": "stdout",
          "text": [
            "mfcc (30, 79, 1)\n",
            "mfcc (30, 79, 1)\n",
            "mfcc (30, 79, 1)\n",
            "mfcc (30, 79, 1)\n"
          ]
        },
        {
          "output_type": "stream",
          "name": "stderr",
          "text": [
            " 67%|██████▋   | 965/1440 [00:55<00:27, 17.42it/s]"
          ]
        },
        {
          "output_type": "stream",
          "name": "stdout",
          "text": [
            "mfcc (30, 79, 1)\n",
            "mfcc (30, 79, 1)\n",
            "mfcc (30, 79, 1)\n",
            "mfcc (30, 79, 1)\n"
          ]
        },
        {
          "output_type": "stream",
          "name": "stderr",
          "text": [
            " 67%|██████▋   | 969/1440 [00:55<00:27, 17.39it/s]"
          ]
        },
        {
          "output_type": "stream",
          "name": "stdout",
          "text": [
            "mfcc (30, 79, 1)\n",
            "mfcc (30, 79, 1)\n",
            "mfcc (30, 79, 1)\n",
            "mfcc (30, 79, 1)\n"
          ]
        },
        {
          "output_type": "stream",
          "name": "stderr",
          "text": [
            " 68%|██████▊   | 973/1440 [00:55<00:26, 17.45it/s]"
          ]
        },
        {
          "output_type": "stream",
          "name": "stdout",
          "text": [
            "mfcc (30, 79, 1)\n",
            "mfcc (30, 79, 1)\n",
            "mfcc (30, 79, 1)\n",
            "mfcc (30, 79, 1)\n"
          ]
        },
        {
          "output_type": "stream",
          "name": "stderr",
          "text": [
            " 68%|██████▊   | 977/1440 [00:55<00:25, 18.12it/s]"
          ]
        },
        {
          "output_type": "stream",
          "name": "stdout",
          "text": [
            "mfcc (30, 79, 1)\n",
            "mfcc (30, 79, 1)\n",
            "mfcc (30, 79, 1)\n",
            "mfcc (30, 79, 1)\n"
          ]
        },
        {
          "output_type": "stream",
          "name": "stderr",
          "text": [
            " 68%|██████▊   | 981/1440 [00:55<00:26, 17.61it/s]"
          ]
        },
        {
          "output_type": "stream",
          "name": "stdout",
          "text": [
            "mfcc (30, 79, 1)\n",
            "mfcc (30, 79, 1)\n",
            "mfcc (30, 79, 1)\n",
            "mfcc (30, 79, 1)\n"
          ]
        },
        {
          "output_type": "stream",
          "name": "stderr",
          "text": [
            " 68%|██████▊   | 985/1440 [00:56<00:26, 17.44it/s]"
          ]
        },
        {
          "output_type": "stream",
          "name": "stdout",
          "text": [
            "mfcc (30, 79, 1)\n",
            "mfcc (30, 79, 1)\n",
            "mfcc (30, 79, 1)\n",
            "mfcc (30, 79, 1)\n"
          ]
        },
        {
          "output_type": "stream",
          "name": "stderr",
          "text": [
            " 69%|██████▊   | 989/1440 [00:56<00:26, 17.17it/s]"
          ]
        },
        {
          "output_type": "stream",
          "name": "stdout",
          "text": [
            "mfcc (30, 79, 1)\n",
            "mfcc (30, 79, 1)\n",
            "mfcc (30, 79, 1)\n",
            "mfcc (30, 79, 1)\n"
          ]
        },
        {
          "output_type": "stream",
          "name": "stderr",
          "text": [
            " 69%|██████▉   | 993/1440 [00:56<00:25, 17.43it/s]"
          ]
        },
        {
          "output_type": "stream",
          "name": "stdout",
          "text": [
            "mfcc (30, 79, 1)\n",
            "mfcc (30, 79, 1)\n",
            "mfcc (30, 79, 1)\n",
            "mfcc (30, 79, 1)\n"
          ]
        },
        {
          "output_type": "stream",
          "name": "stderr",
          "text": [
            " 69%|██████▉   | 997/1440 [00:56<00:24, 17.89it/s]"
          ]
        },
        {
          "output_type": "stream",
          "name": "stdout",
          "text": [
            "mfcc (30, 79, 1)\n",
            "mfcc (30, 79, 1)\n",
            "mfcc (30, 79, 1)\n",
            "mfcc (30, 79, 1)\n"
          ]
        },
        {
          "output_type": "stream",
          "name": "stderr",
          "text": [
            " 70%|██████▉   | 1001/1440 [00:57<00:24, 17.99it/s]"
          ]
        },
        {
          "output_type": "stream",
          "name": "stdout",
          "text": [
            "mfcc (30, 79, 1)\n",
            "mfcc (30, 79, 1)\n",
            "mfcc (30, 79, 1)\n",
            "mfcc (30, 79, 1)\n"
          ]
        },
        {
          "output_type": "stream",
          "name": "stderr",
          "text": [
            " 70%|██████▉   | 1005/1440 [00:57<00:23, 18.18it/s]"
          ]
        },
        {
          "output_type": "stream",
          "name": "stdout",
          "text": [
            "mfcc (30, 79, 1)\n",
            "mfcc (30, 79, 1)\n",
            "mfcc (30, 79, 1)\n",
            "mfcc (30, 79, 1)\n"
          ]
        },
        {
          "output_type": "stream",
          "name": "stderr",
          "text": [
            " 70%|███████   | 1009/1440 [00:57<00:24, 17.38it/s]"
          ]
        },
        {
          "output_type": "stream",
          "name": "stdout",
          "text": [
            "mfcc (30, 79, 1)\n",
            "mfcc (30, 79, 1)\n",
            "mfcc (30, 79, 1)\n",
            "mfcc (30, 79, 1)\n"
          ]
        },
        {
          "output_type": "stream",
          "name": "stderr",
          "text": [
            " 70%|███████   | 1013/1440 [00:57<00:24, 17.65it/s]"
          ]
        },
        {
          "output_type": "stream",
          "name": "stdout",
          "text": [
            "mfcc (30, 79, 1)\n",
            "mfcc (30, 79, 1)\n",
            "mfcc (30, 79, 1)\n",
            "mfcc (30, 79, 1)\n"
          ]
        },
        {
          "output_type": "stream",
          "name": "stderr",
          "text": [
            " 71%|███████   | 1017/1440 [00:57<00:23, 18.01it/s]"
          ]
        },
        {
          "output_type": "stream",
          "name": "stdout",
          "text": [
            "mfcc (30, 79, 1)\n",
            "mfcc (30, 79, 1)\n",
            "mfcc (30, 79, 1)\n",
            "mfcc (30, 79, 1)\n"
          ]
        },
        {
          "output_type": "stream",
          "name": "stderr",
          "text": [
            " 71%|███████   | 1021/1440 [00:58<00:23, 17.99it/s]"
          ]
        },
        {
          "output_type": "stream",
          "name": "stdout",
          "text": [
            "mfcc (30, 79, 1)\n",
            "mfcc (30, 79, 1)\n",
            "mfcc (30, 79, 1)\n",
            "mfcc (30, 79, 1)\n"
          ]
        },
        {
          "output_type": "stream",
          "name": "stderr",
          "text": [
            " 71%|███████   | 1025/1440 [00:58<00:23, 17.81it/s]"
          ]
        },
        {
          "output_type": "stream",
          "name": "stdout",
          "text": [
            "mfcc (30, 79, 1)\n",
            "mfcc (30, 79, 1)\n",
            "mfcc (30, 79, 1)\n",
            "mfcc (30, 79, 1)\n"
          ]
        },
        {
          "output_type": "stream",
          "name": "stderr",
          "text": [
            " 71%|███████▏  | 1029/1440 [00:58<00:23, 17.64it/s]"
          ]
        },
        {
          "output_type": "stream",
          "name": "stdout",
          "text": [
            "mfcc (30, 79, 1)\n",
            "mfcc (30, 79, 1)\n",
            "mfcc (30, 79, 1)\n",
            "mfcc (30, 79, 1)\n"
          ]
        },
        {
          "output_type": "stream",
          "name": "stderr",
          "text": [
            " 72%|███████▏  | 1033/1440 [00:58<00:22, 17.96it/s]"
          ]
        },
        {
          "output_type": "stream",
          "name": "stdout",
          "text": [
            "mfcc (30, 79, 1)\n",
            "mfcc (30, 79, 1)\n",
            "mfcc (30, 79, 1)\n",
            "mfcc (30, 79, 1)\n"
          ]
        },
        {
          "output_type": "stream",
          "name": "stderr",
          "text": [
            " 72%|███████▏  | 1037/1440 [00:59<00:22, 18.02it/s]"
          ]
        },
        {
          "output_type": "stream",
          "name": "stdout",
          "text": [
            "mfcc (30, 79, 1)\n",
            "mfcc (30, 79, 1)\n",
            "mfcc (30, 79, 1)\n",
            "mfcc (30, 79, 1)\n"
          ]
        },
        {
          "output_type": "stream",
          "name": "stderr",
          "text": [
            " 72%|███████▏  | 1041/1440 [00:59<00:22, 17.83it/s]"
          ]
        },
        {
          "output_type": "stream",
          "name": "stdout",
          "text": [
            "mfcc (30, 79, 1)\n",
            "mfcc (30, 79, 1)\n",
            "mfcc (30, 79, 1)\n",
            "mfcc (30, 79, 1)\n"
          ]
        },
        {
          "output_type": "stream",
          "name": "stderr",
          "text": [
            "\r 72%|███████▏  | 1043/1440 [00:59<00:22, 17.39it/s]"
          ]
        },
        {
          "output_type": "stream",
          "name": "stdout",
          "text": [
            "mfcc (30, 79, 1)\n",
            "mfcc (30, 79, 1)\n",
            "mfcc (30, 79, 1)\n"
          ]
        },
        {
          "output_type": "stream",
          "name": "stderr",
          "text": [
            " 73%|███████▎  | 1047/1440 [00:59<00:24, 16.33it/s]"
          ]
        },
        {
          "output_type": "stream",
          "name": "stdout",
          "text": [
            "mfcc (30, 79, 1)\n",
            "mfcc (30, 79, 1)\n",
            "mfcc (30, 79, 1)\n",
            "mfcc (30, 79, 1)\n"
          ]
        },
        {
          "output_type": "stream",
          "name": "stderr",
          "text": [
            " 73%|███████▎  | 1051/1440 [00:59<00:23, 16.64it/s]"
          ]
        },
        {
          "output_type": "stream",
          "name": "stdout",
          "text": [
            "mfcc (30, 79, 1)\n",
            "mfcc (30, 79, 1)\n",
            "mfcc (30, 79, 1)\n",
            "mfcc (30, 79, 1)\n"
          ]
        },
        {
          "output_type": "stream",
          "name": "stderr",
          "text": [
            " 73%|███████▎  | 1055/1440 [01:00<00:22, 16.85it/s]"
          ]
        },
        {
          "output_type": "stream",
          "name": "stdout",
          "text": [
            "mfcc (30, 79, 1)\n",
            "mfcc (30, 79, 1)\n",
            "mfcc (30, 79, 1)\n",
            "mfcc (30, 79, 1)\n"
          ]
        },
        {
          "output_type": "stream",
          "name": "stderr",
          "text": [
            " 74%|███████▎  | 1059/1440 [01:00<00:22, 16.80it/s]"
          ]
        },
        {
          "output_type": "stream",
          "name": "stdout",
          "text": [
            "mfcc (30, 79, 1)\n",
            "mfcc (30, 79, 1)\n",
            "mfcc (30, 79, 1)\n",
            "mfcc (30, 79, 1)\n"
          ]
        },
        {
          "output_type": "stream",
          "name": "stderr",
          "text": [
            " 74%|███████▍  | 1063/1440 [01:00<00:22, 16.84it/s]"
          ]
        },
        {
          "output_type": "stream",
          "name": "stdout",
          "text": [
            "mfcc (30, 79, 1)\n",
            "mfcc (30, 79, 1)\n",
            "mfcc (30, 79, 1)\n",
            "mfcc (30, 79, 1)\n"
          ]
        },
        {
          "output_type": "stream",
          "name": "stderr",
          "text": [
            " 74%|███████▍  | 1067/1440 [01:00<00:21, 17.15it/s]"
          ]
        },
        {
          "output_type": "stream",
          "name": "stdout",
          "text": [
            "mfcc (30, 79, 1)\n",
            "mfcc (30, 79, 1)\n",
            "mfcc (30, 79, 1)\n",
            "mfcc (30, 79, 1)\n"
          ]
        },
        {
          "output_type": "stream",
          "name": "stderr",
          "text": [
            " 74%|███████▍  | 1071/1440 [01:01<00:21, 17.17it/s]"
          ]
        },
        {
          "output_type": "stream",
          "name": "stdout",
          "text": [
            "mfcc (30, 79, 1)\n",
            "mfcc (30, 79, 1)\n",
            "mfcc (30, 79, 1)\n",
            "mfcc (30, 79, 1)\n"
          ]
        },
        {
          "output_type": "stream",
          "name": "stderr",
          "text": [
            " 75%|███████▍  | 1075/1440 [01:01<00:21, 17.01it/s]"
          ]
        },
        {
          "output_type": "stream",
          "name": "stdout",
          "text": [
            "mfcc (30, 79, 1)\n",
            "mfcc (30, 79, 1)\n",
            "mfcc (30, 79, 1)\n",
            "mfcc (30, 79, 1)\n"
          ]
        },
        {
          "output_type": "stream",
          "name": "stderr",
          "text": [
            " 75%|███████▍  | 1079/1440 [01:01<00:21, 17.19it/s]"
          ]
        },
        {
          "output_type": "stream",
          "name": "stdout",
          "text": [
            "mfcc (30, 79, 1)\n",
            "mfcc (30, 79, 1)\n",
            "mfcc (30, 79, 1)\n",
            "mfcc (30, 79, 1)\n"
          ]
        },
        {
          "output_type": "stream",
          "name": "stderr",
          "text": [
            " 75%|███████▌  | 1083/1440 [01:01<00:20, 17.32it/s]"
          ]
        },
        {
          "output_type": "stream",
          "name": "stdout",
          "text": [
            "mfcc (30, 79, 1)\n",
            "mfcc (30, 79, 1)\n",
            "mfcc (30, 79, 1)\n",
            "mfcc (30, 79, 1)\n"
          ]
        },
        {
          "output_type": "stream",
          "name": "stderr",
          "text": [
            " 75%|███████▌  | 1087/1440 [01:02<00:20, 17.51it/s]"
          ]
        },
        {
          "output_type": "stream",
          "name": "stdout",
          "text": [
            "mfcc (30, 79, 1)\n",
            "mfcc (30, 79, 1)\n",
            "mfcc (30, 79, 1)\n",
            "mfcc (30, 79, 1)\n"
          ]
        },
        {
          "output_type": "stream",
          "name": "stderr",
          "text": [
            " 76%|███████▌  | 1091/1440 [01:02<00:19, 17.67it/s]"
          ]
        },
        {
          "output_type": "stream",
          "name": "stdout",
          "text": [
            "mfcc (30, 79, 1)\n",
            "mfcc (30, 79, 1)\n",
            "mfcc (30, 79, 1)\n",
            "mfcc (30, 79, 1)\n"
          ]
        },
        {
          "output_type": "stream",
          "name": "stderr",
          "text": [
            " 76%|███████▌  | 1095/1440 [01:02<00:19, 17.73it/s]"
          ]
        },
        {
          "output_type": "stream",
          "name": "stdout",
          "text": [
            "mfcc (30, 79, 1)\n",
            "mfcc (30, 79, 1)\n",
            "mfcc (30, 79, 1)\n",
            "mfcc (30, 79, 1)\n"
          ]
        },
        {
          "output_type": "stream",
          "name": "stderr",
          "text": [
            "\r 76%|███████▌  | 1097/1440 [01:02<00:19, 17.44it/s]"
          ]
        },
        {
          "output_type": "stream",
          "name": "stdout",
          "text": [
            "mfcc (30, 79, 1)\n",
            "mfcc (30, 79, 1)\n"
          ]
        },
        {
          "output_type": "stream",
          "name": "stderr",
          "text": [
            "\r 76%|███████▋  | 1099/1440 [01:02<00:30, 11.11it/s]"
          ]
        },
        {
          "output_type": "stream",
          "name": "stdout",
          "text": [
            "mfcc (30, 79, 1)\n",
            "mfcc (30, 79, 1)\n"
          ]
        },
        {
          "output_type": "stream",
          "name": "stderr",
          "text": [
            "\r 76%|███████▋  | 1101/1440 [01:03<00:39,  8.60it/s]"
          ]
        },
        {
          "output_type": "stream",
          "name": "stdout",
          "text": [
            "mfcc (30, 79, 1)\n",
            "mfcc (30, 79, 1)\n"
          ]
        },
        {
          "output_type": "stream",
          "name": "stderr",
          "text": [
            " 77%|███████▋  | 1105/1440 [01:03<00:35,  9.32it/s]"
          ]
        },
        {
          "output_type": "stream",
          "name": "stdout",
          "text": [
            "mfcc (30, 79, 1)\n",
            "mfcc (30, 79, 1)\n",
            "mfcc (30, 79, 1)\n"
          ]
        },
        {
          "output_type": "stream",
          "name": "stderr",
          "text": [
            " 77%|███████▋  | 1109/1440 [01:03<00:27, 12.02it/s]"
          ]
        },
        {
          "output_type": "stream",
          "name": "stdout",
          "text": [
            "mfcc (30, 79, 1)\n",
            "mfcc (30, 79, 1)\n",
            "mfcc (30, 79, 1)\n",
            "mfcc (30, 79, 1)\n"
          ]
        },
        {
          "output_type": "stream",
          "name": "stderr",
          "text": [
            "\r 77%|███████▋  | 1111/1440 [01:04<00:32, 10.16it/s]"
          ]
        },
        {
          "output_type": "stream",
          "name": "stdout",
          "text": [
            "mfcc (30, 79, 1)\n",
            "mfcc (30, 79, 1)\n"
          ]
        },
        {
          "output_type": "stream",
          "name": "stderr",
          "text": [
            "\r 77%|███████▋  | 1113/1440 [01:04<00:39,  8.36it/s]"
          ]
        },
        {
          "output_type": "stream",
          "name": "stdout",
          "text": [
            "mfcc (30, 79, 1)\n",
            "mfcc (30, 79, 1)\n"
          ]
        },
        {
          "output_type": "stream",
          "name": "stderr",
          "text": [
            "\r 77%|███████▋  | 1115/1440 [01:04<00:38,  8.33it/s]"
          ]
        },
        {
          "output_type": "stream",
          "name": "stdout",
          "text": [
            "mfcc (30, 79, 1)\n",
            "mfcc (30, 79, 1)\n"
          ]
        },
        {
          "output_type": "stream",
          "name": "stderr",
          "text": [
            " 78%|███████▊  | 1118/1440 [01:05<00:34,  9.42it/s]"
          ]
        },
        {
          "output_type": "stream",
          "name": "stdout",
          "text": [
            "mfcc (30, 79, 1)\n",
            "mfcc (30, 79, 1)\n",
            "mfcc (30, 79, 1)\n",
            "mfcc (30, 79, 1)\n"
          ]
        },
        {
          "output_type": "stream",
          "name": "stderr",
          "text": [
            " 78%|███████▊  | 1122/1440 [01:05<00:25, 12.68it/s]"
          ]
        },
        {
          "output_type": "stream",
          "name": "stdout",
          "text": [
            "mfcc (30, 79, 1)\n",
            "mfcc (30, 79, 1)\n",
            "mfcc (30, 79, 1)\n",
            "mfcc (30, 79, 1)\n"
          ]
        },
        {
          "output_type": "stream",
          "name": "stderr",
          "text": [
            " 78%|███████▊  | 1126/1440 [01:05<00:23, 13.21it/s]"
          ]
        },
        {
          "output_type": "stream",
          "name": "stdout",
          "text": [
            "mfcc (30, 79, 1)\n",
            "mfcc (30, 79, 1)\n",
            "mfcc (30, 79, 1)\n"
          ]
        },
        {
          "output_type": "stream",
          "name": "stderr",
          "text": [
            "\r 78%|███████▊  | 1128/1440 [01:05<00:32,  9.58it/s]"
          ]
        },
        {
          "output_type": "stream",
          "name": "stdout",
          "text": [
            "mfcc (30, 79, 1)\n",
            "mfcc (30, 79, 1)\n"
          ]
        },
        {
          "output_type": "stream",
          "name": "stderr",
          "text": [
            "\r 78%|███████▊  | 1130/1440 [01:06<00:38,  8.03it/s]"
          ]
        },
        {
          "output_type": "stream",
          "name": "stdout",
          "text": [
            "mfcc (30, 79, 1)\n",
            "mfcc (30, 79, 1)\n"
          ]
        },
        {
          "output_type": "stream",
          "name": "stderr",
          "text": [
            " 79%|███████▉  | 1134/1440 [01:06<00:30, 10.11it/s]"
          ]
        },
        {
          "output_type": "stream",
          "name": "stdout",
          "text": [
            "mfcc (30, 79, 1)\n",
            "mfcc (30, 79, 1)\n",
            "mfcc (30, 79, 1)\n",
            "mfcc (30, 79, 1)\n"
          ]
        },
        {
          "output_type": "stream",
          "name": "stderr",
          "text": [
            " 79%|███████▉  | 1138/1440 [01:06<00:24, 12.44it/s]"
          ]
        },
        {
          "output_type": "stream",
          "name": "stdout",
          "text": [
            "mfcc (30, 79, 1)\n",
            "mfcc (30, 79, 1)\n",
            "mfcc (30, 79, 1)\n",
            "mfcc (30, 79, 1)\n"
          ]
        },
        {
          "output_type": "stream",
          "name": "stderr",
          "text": [
            " 79%|███████▉  | 1142/1440 [01:07<00:21, 14.16it/s]"
          ]
        },
        {
          "output_type": "stream",
          "name": "stdout",
          "text": [
            "mfcc (30, 79, 1)\n",
            "mfcc (30, 79, 1)\n",
            "mfcc (30, 79, 1)\n",
            "mfcc (30, 79, 1)\n"
          ]
        },
        {
          "output_type": "stream",
          "name": "stderr",
          "text": [
            " 80%|███████▉  | 1146/1440 [01:07<00:19, 15.19it/s]"
          ]
        },
        {
          "output_type": "stream",
          "name": "stdout",
          "text": [
            "mfcc (30, 79, 1)\n",
            "mfcc (30, 79, 1)\n",
            "mfcc (30, 79, 1)\n",
            "mfcc (30, 79, 1)\n"
          ]
        },
        {
          "output_type": "stream",
          "name": "stderr",
          "text": [
            " 80%|███████▉  | 1150/1440 [01:07<00:18, 15.60it/s]"
          ]
        },
        {
          "output_type": "stream",
          "name": "stdout",
          "text": [
            "mfcc (30, 79, 1)\n",
            "mfcc (30, 79, 1)\n",
            "mfcc (30, 79, 1)\n",
            "mfcc (30, 79, 1)\n"
          ]
        },
        {
          "output_type": "stream",
          "name": "stderr",
          "text": [
            " 80%|████████  | 1154/1440 [01:07<00:17, 16.52it/s]"
          ]
        },
        {
          "output_type": "stream",
          "name": "stdout",
          "text": [
            "mfcc (30, 79, 1)\n",
            "mfcc (30, 79, 1)\n",
            "mfcc (30, 79, 1)\n",
            "mfcc (30, 79, 1)\n"
          ]
        },
        {
          "output_type": "stream",
          "name": "stderr",
          "text": [
            " 80%|████████  | 1158/1440 [01:08<00:16, 16.85it/s]"
          ]
        },
        {
          "output_type": "stream",
          "name": "stdout",
          "text": [
            "mfcc (30, 79, 1)\n",
            "mfcc (30, 79, 1)\n",
            "mfcc (30, 79, 1)\n",
            "mfcc (30, 79, 1)\n"
          ]
        },
        {
          "output_type": "stream",
          "name": "stderr",
          "text": [
            " 81%|████████  | 1162/1440 [01:08<00:16, 17.33it/s]"
          ]
        },
        {
          "output_type": "stream",
          "name": "stdout",
          "text": [
            "mfcc (30, 79, 1)\n",
            "mfcc (30, 79, 1)\n",
            "mfcc (30, 79, 1)\n",
            "mfcc (30, 79, 1)\n"
          ]
        },
        {
          "output_type": "stream",
          "name": "stderr",
          "text": [
            " 81%|████████  | 1166/1440 [01:08<00:15, 17.51it/s]"
          ]
        },
        {
          "output_type": "stream",
          "name": "stdout",
          "text": [
            "mfcc (30, 79, 1)\n",
            "mfcc (30, 79, 1)\n",
            "mfcc (30, 79, 1)\n",
            "mfcc (30, 79, 1)\n"
          ]
        },
        {
          "output_type": "stream",
          "name": "stderr",
          "text": [
            " 81%|████████▏ | 1170/1440 [01:08<00:15, 17.46it/s]"
          ]
        },
        {
          "output_type": "stream",
          "name": "stdout",
          "text": [
            "mfcc (30, 79, 1)\n",
            "mfcc (30, 79, 1)\n",
            "mfcc (30, 79, 1)\n",
            "mfcc (30, 79, 1)\n"
          ]
        },
        {
          "output_type": "stream",
          "name": "stderr",
          "text": [
            " 82%|████████▏ | 1174/1440 [01:09<00:15, 17.55it/s]"
          ]
        },
        {
          "output_type": "stream",
          "name": "stdout",
          "text": [
            "mfcc (30, 79, 1)\n",
            "mfcc (30, 79, 1)\n",
            "mfcc (30, 79, 1)\n",
            "mfcc (30, 79, 1)\n"
          ]
        },
        {
          "output_type": "stream",
          "name": "stderr",
          "text": [
            " 82%|████████▏ | 1178/1440 [01:09<00:14, 17.73it/s]"
          ]
        },
        {
          "output_type": "stream",
          "name": "stdout",
          "text": [
            "mfcc (30, 79, 1)\n",
            "mfcc (30, 79, 1)\n",
            "mfcc (30, 79, 1)\n",
            "mfcc (30, 79, 1)\n"
          ]
        },
        {
          "output_type": "stream",
          "name": "stderr",
          "text": [
            " 82%|████████▏ | 1182/1440 [01:09<00:14, 17.69it/s]"
          ]
        },
        {
          "output_type": "stream",
          "name": "stdout",
          "text": [
            "mfcc (30, 79, 1)\n",
            "mfcc (30, 79, 1)\n",
            "mfcc (30, 79, 1)\n",
            "mfcc (30, 79, 1)\n"
          ]
        },
        {
          "output_type": "stream",
          "name": "stderr",
          "text": [
            " 82%|████████▏ | 1186/1440 [01:09<00:14, 17.11it/s]"
          ]
        },
        {
          "output_type": "stream",
          "name": "stdout",
          "text": [
            "mfcc (30, 79, 1)\n",
            "mfcc (30, 79, 1)\n",
            "mfcc (30, 79, 1)\n",
            "mfcc (30, 79, 1)\n"
          ]
        },
        {
          "output_type": "stream",
          "name": "stderr",
          "text": [
            " 83%|████████▎ | 1190/1440 [01:09<00:15, 16.50it/s]"
          ]
        },
        {
          "output_type": "stream",
          "name": "stdout",
          "text": [
            "mfcc (30, 79, 1)\n",
            "mfcc (30, 79, 1)\n",
            "mfcc (30, 79, 1)\n",
            "mfcc (30, 79, 1)\n"
          ]
        },
        {
          "output_type": "stream",
          "name": "stderr",
          "text": [
            " 83%|████████▎ | 1194/1440 [01:10<00:14, 16.80it/s]"
          ]
        },
        {
          "output_type": "stream",
          "name": "stdout",
          "text": [
            "mfcc (30, 79, 1)\n",
            "mfcc (30, 79, 1)\n",
            "mfcc (30, 79, 1)\n",
            "mfcc (30, 79, 1)\n"
          ]
        },
        {
          "output_type": "stream",
          "name": "stderr",
          "text": [
            " 83%|████████▎ | 1198/1440 [01:10<00:13, 17.50it/s]"
          ]
        },
        {
          "output_type": "stream",
          "name": "stdout",
          "text": [
            "mfcc (30, 79, 1)\n",
            "mfcc (30, 79, 1)\n",
            "mfcc (30, 79, 1)\n",
            "mfcc (30, 79, 1)\n"
          ]
        },
        {
          "output_type": "stream",
          "name": "stderr",
          "text": [
            " 83%|████████▎ | 1202/1440 [01:10<00:13, 17.66it/s]"
          ]
        },
        {
          "output_type": "stream",
          "name": "stdout",
          "text": [
            "mfcc (30, 79, 1)\n",
            "mfcc (30, 79, 1)\n",
            "mfcc (30, 79, 1)\n",
            "mfcc (30, 79, 1)\n"
          ]
        },
        {
          "output_type": "stream",
          "name": "stderr",
          "text": [
            " 84%|████████▍ | 1206/1440 [01:10<00:13, 17.19it/s]"
          ]
        },
        {
          "output_type": "stream",
          "name": "stdout",
          "text": [
            "mfcc (30, 79, 1)\n",
            "mfcc (30, 79, 1)\n",
            "mfcc (30, 79, 1)\n",
            "mfcc (30, 79, 1)\n"
          ]
        },
        {
          "output_type": "stream",
          "name": "stderr",
          "text": [
            " 84%|████████▍ | 1210/1440 [01:11<00:13, 17.11it/s]"
          ]
        },
        {
          "output_type": "stream",
          "name": "stdout",
          "text": [
            "mfcc (30, 79, 1)\n",
            "mfcc (30, 79, 1)\n",
            "mfcc (30, 79, 1)\n",
            "mfcc (30, 79, 1)\n"
          ]
        },
        {
          "output_type": "stream",
          "name": "stderr",
          "text": [
            " 84%|████████▍ | 1214/1440 [01:11<00:13, 17.29it/s]"
          ]
        },
        {
          "output_type": "stream",
          "name": "stdout",
          "text": [
            "mfcc (30, 79, 1)\n",
            "mfcc (30, 79, 1)\n",
            "mfcc (30, 79, 1)\n",
            "mfcc (30, 79, 1)\n"
          ]
        },
        {
          "output_type": "stream",
          "name": "stderr",
          "text": [
            " 85%|████████▍ | 1218/1440 [01:11<00:12, 17.13it/s]"
          ]
        },
        {
          "output_type": "stream",
          "name": "stdout",
          "text": [
            "mfcc (30, 79, 1)\n",
            "mfcc (30, 79, 1)\n",
            "mfcc (30, 79, 1)\n",
            "mfcc (30, 79, 1)\n"
          ]
        },
        {
          "output_type": "stream",
          "name": "stderr",
          "text": [
            " 85%|████████▍ | 1222/1440 [01:11<00:12, 17.48it/s]"
          ]
        },
        {
          "output_type": "stream",
          "name": "stdout",
          "text": [
            "mfcc (30, 79, 1)\n",
            "mfcc (30, 79, 1)\n",
            "mfcc (30, 79, 1)\n",
            "mfcc (30, 79, 1)\n"
          ]
        },
        {
          "output_type": "stream",
          "name": "stderr",
          "text": [
            " 85%|████████▌ | 1226/1440 [01:12<00:12, 17.07it/s]"
          ]
        },
        {
          "output_type": "stream",
          "name": "stdout",
          "text": [
            "mfcc (30, 79, 1)\n",
            "mfcc (30, 79, 1)\n",
            "mfcc (30, 79, 1)\n",
            "mfcc (30, 79, 1)\n"
          ]
        },
        {
          "output_type": "stream",
          "name": "stderr",
          "text": [
            " 85%|████████▌ | 1230/1440 [01:12<00:12, 17.10it/s]"
          ]
        },
        {
          "output_type": "stream",
          "name": "stdout",
          "text": [
            "mfcc (30, 79, 1)\n",
            "mfcc (30, 79, 1)\n",
            "mfcc (30, 79, 1)\n",
            "mfcc (30, 79, 1)\n"
          ]
        },
        {
          "output_type": "stream",
          "name": "stderr",
          "text": [
            " 86%|████████▌ | 1234/1440 [01:12<00:11, 17.60it/s]"
          ]
        },
        {
          "output_type": "stream",
          "name": "stdout",
          "text": [
            "mfcc (30, 79, 1)\n",
            "mfcc (30, 79, 1)\n",
            "mfcc (30, 79, 1)\n",
            "mfcc (30, 79, 1)\n"
          ]
        },
        {
          "output_type": "stream",
          "name": "stderr",
          "text": [
            " 86%|████████▌ | 1238/1440 [01:12<00:12, 16.57it/s]"
          ]
        },
        {
          "output_type": "stream",
          "name": "stdout",
          "text": [
            "mfcc (30, 79, 1)\n",
            "mfcc (30, 79, 1)\n",
            "mfcc (30, 79, 1)\n",
            "mfcc (30, 79, 1)\n"
          ]
        },
        {
          "output_type": "stream",
          "name": "stderr",
          "text": [
            "\r 86%|████████▌ | 1240/1440 [01:12<00:13, 15.27it/s]"
          ]
        },
        {
          "output_type": "stream",
          "name": "stdout",
          "text": [
            "mfcc (30, 79, 1)\n",
            "mfcc (30, 79, 1)\n",
            "mfcc (30, 79, 1)\n",
            "mfcc"
          ]
        },
        {
          "output_type": "stream",
          "name": "stderr",
          "text": [
            " 86%|████████▋ | 1244/1440 [01:13<00:12, 15.53it/s]"
          ]
        },
        {
          "output_type": "stream",
          "name": "stdout",
          "text": [
            " (30, 79, 1)\n",
            "mfcc (30, 79, 1)\n",
            "mfcc (30, 79, 1)\n",
            "mfcc (30, 79, 1)\n"
          ]
        },
        {
          "output_type": "stream",
          "name": "stderr",
          "text": [
            " 87%|████████▋ | 1248/1440 [01:13<00:11, 16.03it/s]"
          ]
        },
        {
          "output_type": "stream",
          "name": "stdout",
          "text": [
            "mfcc (30, 79, 1)\n",
            "mfcc (30, 79, 1)\n",
            "mfcc (30, 79, 1)\n",
            "mfcc (30, 79, 1)\n"
          ]
        },
        {
          "output_type": "stream",
          "name": "stderr",
          "text": [
            " 87%|████████▋ | 1252/1440 [01:13<00:11, 16.00it/s]"
          ]
        },
        {
          "output_type": "stream",
          "name": "stdout",
          "text": [
            "mfcc (30, 79, 1)\n",
            "mfcc (30, 79, 1)\n",
            "mfcc (30, 79, 1)\n",
            "mfcc (30, 79, 1)\n"
          ]
        },
        {
          "output_type": "stream",
          "name": "stderr",
          "text": [
            " 87%|████████▋ | 1256/1440 [01:13<00:11, 16.60it/s]"
          ]
        },
        {
          "output_type": "stream",
          "name": "stdout",
          "text": [
            "mfcc (30, 79, 1)\n",
            "mfcc (30, 79, 1)\n",
            "mfcc (30, 79, 1)\n",
            "mfcc (30, 79, 1)\n"
          ]
        },
        {
          "output_type": "stream",
          "name": "stderr",
          "text": [
            " 88%|████████▊ | 1260/1440 [01:14<00:10, 16.78it/s]"
          ]
        },
        {
          "output_type": "stream",
          "name": "stdout",
          "text": [
            "mfcc (30, 79, 1)\n",
            "mfcc (30, 79, 1)\n",
            "mfcc (30, 79, 1)\n",
            "mfcc (30, 79, 1)\n"
          ]
        },
        {
          "output_type": "stream",
          "name": "stderr",
          "text": [
            " 88%|████████▊ | 1264/1440 [01:14<00:10, 16.62it/s]"
          ]
        },
        {
          "output_type": "stream",
          "name": "stdout",
          "text": [
            "mfcc (30, 79, 1)\n",
            "mfcc (30, 79, 1)\n",
            "mfcc (30, 79, 1)\n",
            "mfcc (30, 79, 1)\n"
          ]
        },
        {
          "output_type": "stream",
          "name": "stderr",
          "text": [
            " 88%|████████▊ | 1268/1440 [01:14<00:10, 16.88it/s]"
          ]
        },
        {
          "output_type": "stream",
          "name": "stdout",
          "text": [
            "mfcc (30, 79, 1)\n",
            "mfcc (30, 79, 1)\n",
            "mfcc (30, 79, 1)\n",
            "mfcc (30, 79, 1)\n"
          ]
        },
        {
          "output_type": "stream",
          "name": "stderr",
          "text": [
            " 88%|████████▊ | 1272/1440 [01:14<00:09, 17.04it/s]"
          ]
        },
        {
          "output_type": "stream",
          "name": "stdout",
          "text": [
            "mfcc (30, 79, 1)\n",
            "mfcc (30, 79, 1)\n",
            "mfcc (30, 79, 1)\n",
            "mfcc (30, 79, 1)\n"
          ]
        },
        {
          "output_type": "stream",
          "name": "stderr",
          "text": [
            " 89%|████████▊ | 1276/1440 [01:15<00:09, 16.75it/s]"
          ]
        },
        {
          "output_type": "stream",
          "name": "stdout",
          "text": [
            "mfcc (30, 79, 1)\n",
            "mfcc (30, 79, 1)\n",
            "mfcc (30, 79, 1)\n",
            "mfcc (30, 79, 1)\n"
          ]
        },
        {
          "output_type": "stream",
          "name": "stderr",
          "text": [
            " 89%|████████▉ | 1280/1440 [01:15<00:09, 17.18it/s]"
          ]
        },
        {
          "output_type": "stream",
          "name": "stdout",
          "text": [
            "mfcc (30, 79, 1)\n",
            "mfcc (30, 79, 1)\n",
            "mfcc (30, 79, 1)\n",
            "mfcc (30, 79, 1)\n"
          ]
        },
        {
          "output_type": "stream",
          "name": "stderr",
          "text": [
            " 89%|████████▉ | 1284/1440 [01:15<00:08, 17.36it/s]"
          ]
        },
        {
          "output_type": "stream",
          "name": "stdout",
          "text": [
            "mfcc (30, 79, 1)\n",
            "mfcc (30, 79, 1)\n",
            "mfcc (30, 79, 1)\n",
            "mfcc (30, 79, 1)\n"
          ]
        },
        {
          "output_type": "stream",
          "name": "stderr",
          "text": [
            " 89%|████████▉ | 1288/1440 [01:15<00:09, 16.06it/s]"
          ]
        },
        {
          "output_type": "stream",
          "name": "stdout",
          "text": [
            "mfcc (30, 79, 1)\n",
            "mfcc (30, 79, 1)\n",
            "mfcc (30, 79, 1)\n"
          ]
        },
        {
          "output_type": "stream",
          "name": "stderr",
          "text": [
            "\r 90%|████████▉ | 1290/1440 [01:15<00:10, 14.89it/s]"
          ]
        },
        {
          "output_type": "stream",
          "name": "stdout",
          "text": [
            "mfcc (30, 79, 1)\n",
            "mfcc (30, 79, 1)\n",
            "mfcc (30, 79, 1)\n"
          ]
        },
        {
          "output_type": "stream",
          "name": "stderr",
          "text": [
            " 90%|████████▉ | 1294/1440 [01:16<00:09, 15.60it/s]"
          ]
        },
        {
          "output_type": "stream",
          "name": "stdout",
          "text": [
            "mfcc (30, 79, 1)\n",
            "mfcc (30, 79, 1)\n",
            "mfcc (30, 79, 1)\n",
            "mfcc (30, 79, 1)\n"
          ]
        },
        {
          "output_type": "stream",
          "name": "stderr",
          "text": [
            " 90%|█████████ | 1298/1440 [01:16<00:09, 14.98it/s]"
          ]
        },
        {
          "output_type": "stream",
          "name": "stdout",
          "text": [
            "mfcc (30, 79, 1)\n",
            "mfcc (30, 79, 1)\n",
            "mfcc (30, 79, 1)\n"
          ]
        },
        {
          "output_type": "stream",
          "name": "stderr",
          "text": [
            "\r 90%|█████████ | 1300/1440 [01:16<00:10, 13.15it/s]"
          ]
        },
        {
          "output_type": "stream",
          "name": "stdout",
          "text": [
            "mfcc (30, 79, 1)\n",
            "mfcc (30, 79, 1)\n",
            "mfcc (30, 79, 1)\n",
            "mfcc "
          ]
        },
        {
          "output_type": "stream",
          "name": "stderr",
          "text": [
            " 91%|█████████ | 1304/1440 [01:16<00:09, 15.01it/s]"
          ]
        },
        {
          "output_type": "stream",
          "name": "stdout",
          "text": [
            "(30, 79, 1)\n",
            "mfcc (30, 79, 1)\n",
            "mfcc (30, 79, 1)\n",
            "mfcc (30, 79, 1)\n"
          ]
        },
        {
          "output_type": "stream",
          "name": "stderr",
          "text": [
            " 91%|█████████ | 1308/1440 [01:17<00:10, 13.00it/s]"
          ]
        },
        {
          "output_type": "stream",
          "name": "stdout",
          "text": [
            "mfcc (30, 79, 1)\n",
            "mfcc (30, 79, 1)\n",
            "mfcc (30, 79, 1)\n"
          ]
        },
        {
          "output_type": "stream",
          "name": "stderr",
          "text": [
            "\r 91%|█████████ | 1310/1440 [01:17<00:09, 13.83it/s]"
          ]
        },
        {
          "output_type": "stream",
          "name": "stdout",
          "text": [
            "mfcc (30, 79, 1)\n",
            "mfcc (30, 79, 1)\n",
            "mfcc (30, 79, 1)\n"
          ]
        },
        {
          "output_type": "stream",
          "name": "stderr",
          "text": [
            " 91%|█████████▏| 1314/1440 [01:17<00:09, 13.51it/s]"
          ]
        },
        {
          "output_type": "stream",
          "name": "stdout",
          "text": [
            "mfcc (30, 79, 1)\n",
            "mfcc (30, 79, 1)\n",
            "mfcc (30, 79, 1)\n"
          ]
        },
        {
          "output_type": "stream",
          "name": "stderr",
          "text": [
            "\r 91%|█████████▏| 1316/1440 [01:17<00:09, 13.31it/s]"
          ]
        },
        {
          "output_type": "stream",
          "name": "stdout",
          "text": [
            "mfcc (30, 79, 1)\n",
            "mfcc (30, 79, 1)\n"
          ]
        },
        {
          "output_type": "stream",
          "name": "stderr",
          "text": [
            "\r 92%|█████████▏| 1318/1440 [01:18<00:11, 10.71it/s]"
          ]
        },
        {
          "output_type": "stream",
          "name": "stdout",
          "text": [
            "mfcc (30, 79, 1)\n",
            "mfcc (30, 79, 1)\n"
          ]
        },
        {
          "output_type": "stream",
          "name": "stderr",
          "text": [
            "\r 92%|█████████▏| 1320/1440 [01:18<00:10, 11.49it/s]"
          ]
        },
        {
          "output_type": "stream",
          "name": "stdout",
          "text": [
            "mfcc (30, 79, 1)\n",
            "mfcc (30, 79, 1)\n",
            "mfcc (30, 79, 1)\n"
          ]
        },
        {
          "output_type": "stream",
          "name": "stderr",
          "text": [
            "\r 92%|█████████▏| 1322/1440 [01:18<00:11, 10.19it/s]"
          ]
        },
        {
          "output_type": "stream",
          "name": "stdout",
          "text": [
            "mfcc (30, 79, 1)\n",
            "mfcc (30, 79, 1)\n"
          ]
        },
        {
          "output_type": "stream",
          "name": "stderr",
          "text": [
            " 92%|█████████▏| 1325/1440 [01:18<00:12,  8.89it/s]"
          ]
        },
        {
          "output_type": "stream",
          "name": "stdout",
          "text": [
            "mfcc (30, 79, 1)\n",
            "mfcc (30, 79, 1)\n",
            "mfcc (30, 79, 1)\n"
          ]
        },
        {
          "output_type": "stream",
          "name": "stderr",
          "text": [
            " 92%|█████████▏| 1328/1440 [01:19<00:12,  8.87it/s]"
          ]
        },
        {
          "output_type": "stream",
          "name": "stdout",
          "text": [
            "mfcc (30, 79, 1)\n",
            "mfcc (30, 79, 1)\n"
          ]
        },
        {
          "output_type": "stream",
          "name": "stderr",
          "text": [
            " 92%|█████████▏| 1330/1440 [01:19<00:13,  7.97it/s]"
          ]
        },
        {
          "output_type": "stream",
          "name": "stdout",
          "text": [
            "mfcc (30, 79, 1)\n",
            "mfcc (30, 79, 1)\n"
          ]
        },
        {
          "output_type": "stream",
          "name": "stderr",
          "text": [
            "\r 92%|█████████▏| 1331/1440 [01:19<00:14,  7.61it/s]"
          ]
        },
        {
          "output_type": "stream",
          "name": "stdout",
          "text": [
            "mfcc (30, 79, 1)\n"
          ]
        },
        {
          "output_type": "stream",
          "name": "stderr",
          "text": [
            "\r 92%|█████████▎| 1332/1440 [01:19<00:17,  6.25it/s]"
          ]
        },
        {
          "output_type": "stream",
          "name": "stdout",
          "text": [
            "mfcc (30, 79, 1)\n"
          ]
        },
        {
          "output_type": "stream",
          "name": "stderr",
          "text": [
            " 93%|█████████▎| 1334/1440 [01:20<00:18,  5.71it/s]"
          ]
        },
        {
          "output_type": "stream",
          "name": "stdout",
          "text": [
            "mfcc (30, 79, 1)\n",
            "mfcc (30, 79, 1)\n"
          ]
        },
        {
          "output_type": "stream",
          "name": "stderr",
          "text": [
            " 93%|█████████▎| 1336/1440 [01:20<00:18,  5.74it/s]"
          ]
        },
        {
          "output_type": "stream",
          "name": "stdout",
          "text": [
            "mfcc (30, 79, 1)\n",
            "mfcc (30, 79, 1)\n"
          ]
        },
        {
          "output_type": "stream",
          "name": "stderr",
          "text": [
            " 93%|█████████▎| 1338/1440 [01:20<00:16,  6.17it/s]"
          ]
        },
        {
          "output_type": "stream",
          "name": "stdout",
          "text": [
            "mfcc (30, 79, 1)\n",
            "mfcc (30, 79, 1)\n"
          ]
        },
        {
          "output_type": "stream",
          "name": "stderr",
          "text": [
            "\r 93%|█████████▎| 1339/1440 [01:21<00:19,  5.22it/s]"
          ]
        },
        {
          "output_type": "stream",
          "name": "stdout",
          "text": [
            "mfcc (30, 79, 1)\n"
          ]
        },
        {
          "output_type": "stream",
          "name": "stderr",
          "text": [
            " 93%|█████████▎| 1341/1440 [01:21<00:18,  5.34it/s]"
          ]
        },
        {
          "output_type": "stream",
          "name": "stdout",
          "text": [
            "mfcc (30, 79, 1)\n",
            "mfcc (30, 79, 1)\n"
          ]
        },
        {
          "output_type": "stream",
          "name": "stderr",
          "text": [
            " 93%|█████████▎| 1343/1440 [01:21<00:16,  5.90it/s]"
          ]
        },
        {
          "output_type": "stream",
          "name": "stdout",
          "text": [
            "mfcc (30, 79, 1)\n",
            "mfcc (30, 79, 1)\n"
          ]
        },
        {
          "output_type": "stream",
          "name": "stderr",
          "text": [
            " 94%|█████████▎| 1347/1440 [01:22<00:08, 10.46it/s]"
          ]
        },
        {
          "output_type": "stream",
          "name": "stdout",
          "text": [
            "mfcc (30, 79, 1)\n",
            "mfcc (30, 79, 1)\n",
            "mfcc (30, 79, 1)\n",
            "mfcc (30, 79, 1)\n"
          ]
        },
        {
          "output_type": "stream",
          "name": "stderr",
          "text": [
            " 94%|█████████▍| 1351/1440 [01:22<00:06, 13.34it/s]"
          ]
        },
        {
          "output_type": "stream",
          "name": "stdout",
          "text": [
            "mfcc (30, 79, 1)\n",
            "mfcc (30, 79, 1)\n",
            "mfcc (30, 79, 1)\n",
            "mfcc (30, 79, 1)\n",
            "mfcc (30, 79, 1)\n"
          ]
        },
        {
          "output_type": "stream",
          "name": "stderr",
          "text": [
            "\r 94%|█████████▍| 1353/1440 [01:22<00:10,  8.59it/s]"
          ]
        },
        {
          "output_type": "stream",
          "name": "stdout",
          "text": [
            "mfcc (30, 79, 1)\n",
            "mfcc (30, 79, 1)\n",
            "mfcc"
          ]
        },
        {
          "output_type": "stream",
          "name": "stderr",
          "text": [
            " 94%|█████████▍| 1357/1440 [01:23<00:08, 10.31it/s]"
          ]
        },
        {
          "output_type": "stream",
          "name": "stdout",
          "text": [
            " (30, 79, 1)\n",
            "mfcc (30, 79, 1)\n",
            "mfcc (30, 79, 1)\n",
            "mfcc (30, 79, 1)\n"
          ]
        },
        {
          "output_type": "stream",
          "name": "stderr",
          "text": [
            " 95%|█████████▍| 1361/1440 [01:23<00:06, 12.70it/s]"
          ]
        },
        {
          "output_type": "stream",
          "name": "stdout",
          "text": [
            "mfcc (30, 79, 1)\n",
            "mfcc (30, 79, 1)\n",
            "mfcc (30, 79, 1)\n",
            "mfcc (30, 79, 1)\n"
          ]
        },
        {
          "output_type": "stream",
          "name": "stderr",
          "text": [
            " 95%|█████████▍| 1365/1440 [01:23<00:05, 14.56it/s]"
          ]
        },
        {
          "output_type": "stream",
          "name": "stdout",
          "text": [
            "mfcc (30, 79, 1)\n",
            "mfcc (30, 79, 1)\n",
            "mfcc (30, 79, 1)\n",
            "mfcc (30, 79, 1)\n"
          ]
        },
        {
          "output_type": "stream",
          "name": "stderr",
          "text": [
            " 95%|█████████▌| 1369/1440 [01:23<00:04, 16.02it/s]"
          ]
        },
        {
          "output_type": "stream",
          "name": "stdout",
          "text": [
            "mfcc (30, 79, 1)\n",
            "mfcc (30, 79, 1)\n",
            "mfcc (30, 79, 1)\n",
            "mfcc (30, 79, 1)\n"
          ]
        },
        {
          "output_type": "stream",
          "name": "stderr",
          "text": [
            " 95%|█████████▌| 1373/1440 [01:24<00:03, 16.85it/s]"
          ]
        },
        {
          "output_type": "stream",
          "name": "stdout",
          "text": [
            "mfcc (30, 79, 1)\n",
            "mfcc (30, 79, 1)\n",
            "mfcc (30, 79, 1)\n",
            "mfcc (30, 79, 1)\n"
          ]
        },
        {
          "output_type": "stream",
          "name": "stderr",
          "text": [
            " 96%|█████████▌| 1377/1440 [01:24<00:03, 16.87it/s]"
          ]
        },
        {
          "output_type": "stream",
          "name": "stdout",
          "text": [
            "mfcc (30, 79, 1)\n",
            "mfcc (30, 79, 1)\n",
            "mfcc (30, 79, 1)\n",
            "mfcc (30, 79, 1)\n"
          ]
        },
        {
          "output_type": "stream",
          "name": "stderr",
          "text": [
            " 96%|█████████▌| 1381/1440 [01:24<00:03, 16.92it/s]"
          ]
        },
        {
          "output_type": "stream",
          "name": "stdout",
          "text": [
            "mfcc (30, 79, 1)\n",
            "mfcc (30, 79, 1)\n",
            "mfcc (30, 79, 1)\n",
            "mfcc (30, 79, 1)\n"
          ]
        },
        {
          "output_type": "stream",
          "name": "stderr",
          "text": [
            " 96%|█████████▌| 1385/1440 [01:24<00:03, 16.49it/s]"
          ]
        },
        {
          "output_type": "stream",
          "name": "stdout",
          "text": [
            "mfcc (30, 79, 1)\n",
            "mfcc (30, 79, 1)\n",
            "mfcc (30, 79, 1)\n",
            "mfcc (30, 79, 1)\n"
          ]
        },
        {
          "output_type": "stream",
          "name": "stderr",
          "text": [
            " 96%|█████████▋| 1389/1440 [01:25<00:02, 17.07it/s]"
          ]
        },
        {
          "output_type": "stream",
          "name": "stdout",
          "text": [
            "mfcc (30, 79, 1)\n",
            "mfcc (30, 79, 1)\n",
            "mfcc (30, 79, 1)\n",
            "mfcc (30, 79, 1)\n"
          ]
        },
        {
          "output_type": "stream",
          "name": "stderr",
          "text": [
            " 97%|█████████▋| 1393/1440 [01:25<00:02, 17.41it/s]"
          ]
        },
        {
          "output_type": "stream",
          "name": "stdout",
          "text": [
            "mfcc (30, 79, 1)\n",
            "mfcc (30, 79, 1)\n",
            "mfcc (30, 79, 1)\n",
            "mfcc (30, 79, 1)\n"
          ]
        },
        {
          "output_type": "stream",
          "name": "stderr",
          "text": [
            " 97%|█████████▋| 1397/1440 [01:25<00:02, 17.26it/s]"
          ]
        },
        {
          "output_type": "stream",
          "name": "stdout",
          "text": [
            "mfcc (30, 79, 1)\n",
            "mfcc (30, 79, 1)\n",
            "mfcc (30, 79, 1)\n",
            "mfcc (30, 79, 1)\n"
          ]
        },
        {
          "output_type": "stream",
          "name": "stderr",
          "text": [
            " 97%|█████████▋| 1401/1440 [01:25<00:02, 17.60it/s]"
          ]
        },
        {
          "output_type": "stream",
          "name": "stdout",
          "text": [
            "mfcc (30, 79, 1)\n",
            "mfcc (30, 79, 1)\n",
            "mfcc (30, 79, 1)\n",
            "mfcc (30, 79, 1)\n"
          ]
        },
        {
          "output_type": "stream",
          "name": "stderr",
          "text": [
            " 98%|█████████▊| 1405/1440 [01:25<00:01, 17.70it/s]"
          ]
        },
        {
          "output_type": "stream",
          "name": "stdout",
          "text": [
            "mfcc (30, 79, 1)\n",
            "mfcc (30, 79, 1)\n",
            "mfcc (30, 79, 1)\n",
            "mfcc (30, 79, 1)\n"
          ]
        },
        {
          "output_type": "stream",
          "name": "stderr",
          "text": [
            " 98%|█████████▊| 1409/1440 [01:26<00:01, 17.69it/s]"
          ]
        },
        {
          "output_type": "stream",
          "name": "stdout",
          "text": [
            "mfcc (30, 79, 1)\n",
            "mfcc (30, 79, 1)\n",
            "mfcc (30, 79, 1)\n",
            "mfcc (30, 79, 1)\n"
          ]
        },
        {
          "output_type": "stream",
          "name": "stderr",
          "text": [
            " 98%|█████████▊| 1413/1440 [01:26<00:01, 17.51it/s]"
          ]
        },
        {
          "output_type": "stream",
          "name": "stdout",
          "text": [
            "mfcc (30, 79, 1)\n",
            "mfcc (30, 79, 1)\n",
            "mfcc (30, 79, 1)\n",
            "mfcc (30, 79, 1)\n"
          ]
        },
        {
          "output_type": "stream",
          "name": "stderr",
          "text": [
            " 98%|█████████▊| 1417/1440 [01:26<00:01, 17.84it/s]"
          ]
        },
        {
          "output_type": "stream",
          "name": "stdout",
          "text": [
            "mfcc (30, 79, 1)\n",
            "mfcc (30, 79, 1)\n",
            "mfcc (30, 79, 1)\n",
            "mfcc (30, 79, 1)\n"
          ]
        },
        {
          "output_type": "stream",
          "name": "stderr",
          "text": [
            " 99%|█████████▊| 1421/1440 [01:26<00:01, 18.15it/s]"
          ]
        },
        {
          "output_type": "stream",
          "name": "stdout",
          "text": [
            "mfcc (30, 79, 1)\n",
            "mfcc (30, 79, 1)\n",
            "mfcc (30, 79, 1)\n",
            "mfcc (30, 79, 1)\n"
          ]
        },
        {
          "output_type": "stream",
          "name": "stderr",
          "text": [
            " 99%|█████████▉| 1425/1440 [01:27<00:00, 18.28it/s]"
          ]
        },
        {
          "output_type": "stream",
          "name": "stdout",
          "text": [
            "mfcc (30, 79, 1)\n",
            "mfcc (30, 79, 1)\n",
            "mfcc (30, 79, 1)\n",
            "mfcc (30, 79, 1)\n"
          ]
        },
        {
          "output_type": "stream",
          "name": "stderr",
          "text": [
            " 99%|█████████▉| 1429/1440 [01:27<00:00, 17.78it/s]"
          ]
        },
        {
          "output_type": "stream",
          "name": "stdout",
          "text": [
            "mfcc (30, 79, 1)\n",
            "mfcc (30, 79, 1)\n",
            "mfcc (30, 79, 1)\n",
            "mfcc (30, 79, 1)\n"
          ]
        },
        {
          "output_type": "stream",
          "name": "stderr",
          "text": [
            "100%|█████████▉| 1433/1440 [01:27<00:00, 17.49it/s]"
          ]
        },
        {
          "output_type": "stream",
          "name": "stdout",
          "text": [
            "mfcc (30, 79, 1)\n",
            "mfcc (30, 79, 1)\n",
            "mfcc (30, 79, 1)\n",
            "mfcc (30, 79, 1)\n"
          ]
        },
        {
          "output_type": "stream",
          "name": "stderr",
          "text": [
            "100%|█████████▉| 1437/1440 [01:27<00:00, 17.54it/s]"
          ]
        },
        {
          "output_type": "stream",
          "name": "stdout",
          "text": [
            "mfcc (30, 79, 1)\n",
            "mfcc (30, 79, 1)\n",
            "mfcc (30, 79, 1)\n",
            "mfcc (30, 79, 1)\n"
          ]
        },
        {
          "output_type": "stream",
          "name": "stderr",
          "text": [
            "100%|██████████| 1440/1440 [01:27<00:00, 16.38it/s]"
          ]
        },
        {
          "output_type": "stream",
          "name": "stdout",
          "text": [
            "mfcc (30, 79, 1)\n",
            "mfcc (30, 79, 1)\n"
          ]
        },
        {
          "output_type": "stream",
          "name": "stderr",
          "text": [
            "\n"
          ]
        }
      ]
    },
    {
      "cell_type": "code",
      "source": [
        "# New model\n",
        "model = Sequential()\n",
        "model.add(Conv2D(256, (3,3), padding=\"same\",input_shape=(30,79,1)))\n",
        "model.add(BatchNormalization())\n",
        "model.add(LeakyReLU(alpha=0.1))\n",
        "#model.add(Activation('LeakyRelu'))\n",
        "model.add(MaxPool2D())\n",
        "model.add(Dropout(0.2))\n",
        "\n",
        "model.add(Conv2D(128, (3,3), padding=\"same\"))\n",
        "model.add(BatchNormalization())\n",
        "model.add(LeakyReLU(alpha=0.1))\n",
        "#model.add(Activation('LeakyRelu'))\n",
        "model.add(MaxPool2D())\n",
        "model.add(Dropout(0.2))\n",
        "\n",
        "model.add(Conv2D(64, (3,3), padding=\"same\"))\n",
        "model.add(BatchNormalization())\n",
        "model.add(LeakyReLU(alpha=0.1))\n",
        "#model.add(Activation('LeakyRelu'))\n",
        "model.add(MaxPool2D())\n",
        "model.add(Dropout(0.2))\n",
        "\n",
        "model.add(Conv2D(32, (3,3), padding=\"same\"))\n",
        "model.add(BatchNormalization())\n",
        "model.add(LeakyReLU(alpha=0.1))\n",
        "#model.add(Activation('LeakyRelu'))\n",
        "model.add(MaxPool2D())\n",
        "model.add(Dropout(0.2))\n",
        "\n",
        "\n",
        "model.add(Flatten())\n",
        "model.add(Dense(64))\n",
        "model.add(Dropout(0.2))\n",
        "model.add(BatchNormalization())\n",
        "model.add(LeakyReLU(alpha=0.1))\n",
        "#model.add(Activation('relu'))\n",
        "model.add(Dropout(0.2))\n",
        "\n",
        "model.add(Dense(8)) # Target class number\n",
        "model.add(Activation('softmax'))\n",
        "model.compile(optimizer = 'adam' , loss = 'categorical_crossentropy' , metrics = ['accuracy'])\n",
        "\n",
        "model.summary()"
      ],
      "metadata": {
        "colab": {
          "base_uri": "https://localhost:8080/"
        },
        "id": "oT-Hu8xUv2nt",
        "outputId": "e4afebef-06c7-427f-9e0c-e5d2c69da7bd"
      },
      "execution_count": null,
      "outputs": [
        {
          "output_type": "stream",
          "name": "stdout",
          "text": [
            "Model: \"sequential\"\n",
            "_________________________________________________________________\n",
            " Layer (type)                Output Shape              Param #   \n",
            "=================================================================\n",
            " conv2d (Conv2D)             (None, 30, 79, 256)       2560      \n",
            "                                                                 \n",
            " batch_normalization (BatchN  (None, 30, 79, 256)      1024      \n",
            " ormalization)                                                   \n",
            "                                                                 \n",
            " leaky_re_lu (LeakyReLU)     (None, 30, 79, 256)       0         \n",
            "                                                                 \n",
            " max_pooling2d (MaxPooling2D  (None, 15, 39, 256)      0         \n",
            " )                                                               \n",
            "                                                                 \n",
            " dropout (Dropout)           (None, 15, 39, 256)       0         \n",
            "                                                                 \n",
            " conv2d_1 (Conv2D)           (None, 15, 39, 128)       295040    \n",
            "                                                                 \n",
            " batch_normalization_1 (Batc  (None, 15, 39, 128)      512       \n",
            " hNormalization)                                                 \n",
            "                                                                 \n",
            " leaky_re_lu_1 (LeakyReLU)   (None, 15, 39, 128)       0         \n",
            "                                                                 \n",
            " max_pooling2d_1 (MaxPooling  (None, 7, 19, 128)       0         \n",
            " 2D)                                                             \n",
            "                                                                 \n",
            " dropout_1 (Dropout)         (None, 7, 19, 128)        0         \n",
            "                                                                 \n",
            " conv2d_2 (Conv2D)           (None, 7, 19, 64)         73792     \n",
            "                                                                 \n",
            " batch_normalization_2 (Batc  (None, 7, 19, 64)        256       \n",
            " hNormalization)                                                 \n",
            "                                                                 \n",
            " leaky_re_lu_2 (LeakyReLU)   (None, 7, 19, 64)         0         \n",
            "                                                                 \n",
            " max_pooling2d_2 (MaxPooling  (None, 3, 9, 64)         0         \n",
            " 2D)                                                             \n",
            "                                                                 \n",
            " dropout_2 (Dropout)         (None, 3, 9, 64)          0         \n",
            "                                                                 \n",
            " conv2d_3 (Conv2D)           (None, 3, 9, 32)          18464     \n",
            "                                                                 \n",
            " batch_normalization_3 (Batc  (None, 3, 9, 32)         128       \n",
            " hNormalization)                                                 \n",
            "                                                                 \n",
            " leaky_re_lu_3 (LeakyReLU)   (None, 3, 9, 32)          0         \n",
            "                                                                 \n",
            " max_pooling2d_3 (MaxPooling  (None, 1, 4, 32)         0         \n",
            " 2D)                                                             \n",
            "                                                                 \n",
            " dropout_3 (Dropout)         (None, 1, 4, 32)          0         \n",
            "                                                                 \n",
            " flatten (Flatten)           (None, 128)               0         \n",
            "                                                                 \n",
            " dense (Dense)               (None, 64)                8256      \n",
            "                                                                 \n",
            " dropout_4 (Dropout)         (None, 64)                0         \n",
            "                                                                 \n",
            " batch_normalization_4 (Batc  (None, 64)               256       \n",
            " hNormalization)                                                 \n",
            "                                                                 \n",
            " leaky_re_lu_4 (LeakyReLU)   (None, 64)                0         \n",
            "                                                                 \n",
            " dropout_5 (Dropout)         (None, 64)                0         \n",
            "                                                                 \n",
            " dense_1 (Dense)             (None, 8)                 520       \n",
            "                                                                 \n",
            " activation (Activation)     (None, 8)                 0         \n",
            "                                                                 \n",
            "=================================================================\n",
            "Total params: 400,808\n",
            "Trainable params: 399,720\n",
            "Non-trainable params: 1,088\n",
            "_________________________________________________________________\n"
          ]
        }
      ]
    },
    {
      "cell_type": "code",
      "source": [
        "# As this is a multiclass classification problem onehotencoding our Y.\n",
        "Y = Ravdess_df['Emotions'].values\n",
        "encoder = OneHotEncoder()\n",
        "Y = encoder.fit_transform(np.array(Y).reshape(-1,1)).toarray()\n",
        "Y"
      ],
      "metadata": {
        "colab": {
          "base_uri": "https://localhost:8080/"
        },
        "id": "a9GdV0jdyFv9",
        "outputId": "3a2987a9-c26f-4083-cd5c-775ba8f16b63"
      },
      "execution_count": null,
      "outputs": [
        {
          "output_type": "execute_result",
          "data": {
            "text/plain": [
              "array([[0., 0., 0., ..., 0., 0., 1.],\n",
              "       [0., 0., 0., ..., 1., 0., 0.],\n",
              "       [0., 0., 1., ..., 0., 0., 0.],\n",
              "       ...,\n",
              "       [0., 0., 0., ..., 1., 0., 0.],\n",
              "       [0., 0., 0., ..., 0., 0., 1.],\n",
              "       [0., 1., 0., ..., 0., 0., 0.]])"
            ]
          },
          "metadata": {},
          "execution_count": 19
        }
      ]
    },
    {
      "cell_type": "code",
      "source": [
        "encoder=OneHotEncoder(sparse=False)\n",
        "encoded_labels = pd.DataFrame (encoder.fit_transform(Ravdess_df[['Emotions']]))\n",
        "encoded_labels.columns = encoder.get_feature_names(['Emotions'])\n",
        "encoded_labels"
      ],
      "metadata": {
        "colab": {
          "base_uri": "https://localhost:8080/",
          "height": 480
        },
        "id": "3-hqxuhFyND_",
        "outputId": "053a0c34-311b-4eac-959a-a833d3efb68a"
      },
      "execution_count": null,
      "outputs": [
        {
          "output_type": "stream",
          "name": "stderr",
          "text": [
            "/usr/local/lib/python3.7/dist-packages/sklearn/utils/deprecation.py:87: FutureWarning: Function get_feature_names is deprecated; get_feature_names is deprecated in 1.0 and will be removed in 1.2. Please use get_feature_names_out instead.\n",
            "  warnings.warn(msg, category=FutureWarning)\n"
          ]
        },
        {
          "output_type": "execute_result",
          "data": {
            "text/plain": [
              "      Emotions_angry  Emotions_calm  Emotions_disgust  Emotions_fear  \\\n",
              "0                0.0            0.0               0.0            0.0   \n",
              "1                0.0            0.0               0.0            0.0   \n",
              "2                0.0            0.0               1.0            0.0   \n",
              "3                0.0            1.0               0.0            0.0   \n",
              "4                0.0            0.0               0.0            0.0   \n",
              "...              ...            ...               ...            ...   \n",
              "1435             0.0            0.0               0.0            0.0   \n",
              "1436             1.0            0.0               0.0            0.0   \n",
              "1437             0.0            0.0               0.0            0.0   \n",
              "1438             0.0            0.0               0.0            0.0   \n",
              "1439             0.0            1.0               0.0            0.0   \n",
              "\n",
              "      Emotions_happy  Emotions_neutral  Emotions_sad  Emotions_surprise  \n",
              "0                0.0               0.0           0.0                1.0  \n",
              "1                0.0               1.0           0.0                0.0  \n",
              "2                0.0               0.0           0.0                0.0  \n",
              "3                0.0               0.0           0.0                0.0  \n",
              "4                1.0               0.0           0.0                0.0  \n",
              "...              ...               ...           ...                ...  \n",
              "1435             0.0               0.0           1.0                0.0  \n",
              "1436             0.0               0.0           0.0                0.0  \n",
              "1437             0.0               1.0           0.0                0.0  \n",
              "1438             0.0               0.0           0.0                1.0  \n",
              "1439             0.0               0.0           0.0                0.0  \n",
              "\n",
              "[1440 rows x 8 columns]"
            ],
            "text/html": [
              "\n",
              "  <div id=\"df-692c6fd9-1ad8-46a2-9193-9ec7e7ea3f95\">\n",
              "    <div class=\"colab-df-container\">\n",
              "      <div>\n",
              "<style scoped>\n",
              "    .dataframe tbody tr th:only-of-type {\n",
              "        vertical-align: middle;\n",
              "    }\n",
              "\n",
              "    .dataframe tbody tr th {\n",
              "        vertical-align: top;\n",
              "    }\n",
              "\n",
              "    .dataframe thead th {\n",
              "        text-align: right;\n",
              "    }\n",
              "</style>\n",
              "<table border=\"1\" class=\"dataframe\">\n",
              "  <thead>\n",
              "    <tr style=\"text-align: right;\">\n",
              "      <th></th>\n",
              "      <th>Emotions_angry</th>\n",
              "      <th>Emotions_calm</th>\n",
              "      <th>Emotions_disgust</th>\n",
              "      <th>Emotions_fear</th>\n",
              "      <th>Emotions_happy</th>\n",
              "      <th>Emotions_neutral</th>\n",
              "      <th>Emotions_sad</th>\n",
              "      <th>Emotions_surprise</th>\n",
              "    </tr>\n",
              "  </thead>\n",
              "  <tbody>\n",
              "    <tr>\n",
              "      <th>0</th>\n",
              "      <td>0.0</td>\n",
              "      <td>0.0</td>\n",
              "      <td>0.0</td>\n",
              "      <td>0.0</td>\n",
              "      <td>0.0</td>\n",
              "      <td>0.0</td>\n",
              "      <td>0.0</td>\n",
              "      <td>1.0</td>\n",
              "    </tr>\n",
              "    <tr>\n",
              "      <th>1</th>\n",
              "      <td>0.0</td>\n",
              "      <td>0.0</td>\n",
              "      <td>0.0</td>\n",
              "      <td>0.0</td>\n",
              "      <td>0.0</td>\n",
              "      <td>1.0</td>\n",
              "      <td>0.0</td>\n",
              "      <td>0.0</td>\n",
              "    </tr>\n",
              "    <tr>\n",
              "      <th>2</th>\n",
              "      <td>0.0</td>\n",
              "      <td>0.0</td>\n",
              "      <td>1.0</td>\n",
              "      <td>0.0</td>\n",
              "      <td>0.0</td>\n",
              "      <td>0.0</td>\n",
              "      <td>0.0</td>\n",
              "      <td>0.0</td>\n",
              "    </tr>\n",
              "    <tr>\n",
              "      <th>3</th>\n",
              "      <td>0.0</td>\n",
              "      <td>1.0</td>\n",
              "      <td>0.0</td>\n",
              "      <td>0.0</td>\n",
              "      <td>0.0</td>\n",
              "      <td>0.0</td>\n",
              "      <td>0.0</td>\n",
              "      <td>0.0</td>\n",
              "    </tr>\n",
              "    <tr>\n",
              "      <th>4</th>\n",
              "      <td>0.0</td>\n",
              "      <td>0.0</td>\n",
              "      <td>0.0</td>\n",
              "      <td>0.0</td>\n",
              "      <td>1.0</td>\n",
              "      <td>0.0</td>\n",
              "      <td>0.0</td>\n",
              "      <td>0.0</td>\n",
              "    </tr>\n",
              "    <tr>\n",
              "      <th>...</th>\n",
              "      <td>...</td>\n",
              "      <td>...</td>\n",
              "      <td>...</td>\n",
              "      <td>...</td>\n",
              "      <td>...</td>\n",
              "      <td>...</td>\n",
              "      <td>...</td>\n",
              "      <td>...</td>\n",
              "    </tr>\n",
              "    <tr>\n",
              "      <th>1435</th>\n",
              "      <td>0.0</td>\n",
              "      <td>0.0</td>\n",
              "      <td>0.0</td>\n",
              "      <td>0.0</td>\n",
              "      <td>0.0</td>\n",
              "      <td>0.0</td>\n",
              "      <td>1.0</td>\n",
              "      <td>0.0</td>\n",
              "    </tr>\n",
              "    <tr>\n",
              "      <th>1436</th>\n",
              "      <td>1.0</td>\n",
              "      <td>0.0</td>\n",
              "      <td>0.0</td>\n",
              "      <td>0.0</td>\n",
              "      <td>0.0</td>\n",
              "      <td>0.0</td>\n",
              "      <td>0.0</td>\n",
              "      <td>0.0</td>\n",
              "    </tr>\n",
              "    <tr>\n",
              "      <th>1437</th>\n",
              "      <td>0.0</td>\n",
              "      <td>0.0</td>\n",
              "      <td>0.0</td>\n",
              "      <td>0.0</td>\n",
              "      <td>0.0</td>\n",
              "      <td>1.0</td>\n",
              "      <td>0.0</td>\n",
              "      <td>0.0</td>\n",
              "    </tr>\n",
              "    <tr>\n",
              "      <th>1438</th>\n",
              "      <td>0.0</td>\n",
              "      <td>0.0</td>\n",
              "      <td>0.0</td>\n",
              "      <td>0.0</td>\n",
              "      <td>0.0</td>\n",
              "      <td>0.0</td>\n",
              "      <td>0.0</td>\n",
              "      <td>1.0</td>\n",
              "    </tr>\n",
              "    <tr>\n",
              "      <th>1439</th>\n",
              "      <td>0.0</td>\n",
              "      <td>1.0</td>\n",
              "      <td>0.0</td>\n",
              "      <td>0.0</td>\n",
              "      <td>0.0</td>\n",
              "      <td>0.0</td>\n",
              "      <td>0.0</td>\n",
              "      <td>0.0</td>\n",
              "    </tr>\n",
              "  </tbody>\n",
              "</table>\n",
              "<p>1440 rows × 8 columns</p>\n",
              "</div>\n",
              "      <button class=\"colab-df-convert\" onclick=\"convertToInteractive('df-692c6fd9-1ad8-46a2-9193-9ec7e7ea3f95')\"\n",
              "              title=\"Convert this dataframe to an interactive table.\"\n",
              "              style=\"display:none;\">\n",
              "        \n",
              "  <svg xmlns=\"http://www.w3.org/2000/svg\" height=\"24px\"viewBox=\"0 0 24 24\"\n",
              "       width=\"24px\">\n",
              "    <path d=\"M0 0h24v24H0V0z\" fill=\"none\"/>\n",
              "    <path d=\"M18.56 5.44l.94 2.06.94-2.06 2.06-.94-2.06-.94-.94-2.06-.94 2.06-2.06.94zm-11 1L8.5 8.5l.94-2.06 2.06-.94-2.06-.94L8.5 2.5l-.94 2.06-2.06.94zm10 10l.94 2.06.94-2.06 2.06-.94-2.06-.94-.94-2.06-.94 2.06-2.06.94z\"/><path d=\"M17.41 7.96l-1.37-1.37c-.4-.4-.92-.59-1.43-.59-.52 0-1.04.2-1.43.59L10.3 9.45l-7.72 7.72c-.78.78-.78 2.05 0 2.83L4 21.41c.39.39.9.59 1.41.59.51 0 1.02-.2 1.41-.59l7.78-7.78 2.81-2.81c.8-.78.8-2.07 0-2.86zM5.41 20L4 18.59l7.72-7.72 1.47 1.35L5.41 20z\"/>\n",
              "  </svg>\n",
              "      </button>\n",
              "      \n",
              "  <style>\n",
              "    .colab-df-container {\n",
              "      display:flex;\n",
              "      flex-wrap:wrap;\n",
              "      gap: 12px;\n",
              "    }\n",
              "\n",
              "    .colab-df-convert {\n",
              "      background-color: #E8F0FE;\n",
              "      border: none;\n",
              "      border-radius: 50%;\n",
              "      cursor: pointer;\n",
              "      display: none;\n",
              "      fill: #1967D2;\n",
              "      height: 32px;\n",
              "      padding: 0 0 0 0;\n",
              "      width: 32px;\n",
              "    }\n",
              "\n",
              "    .colab-df-convert:hover {\n",
              "      background-color: #E2EBFA;\n",
              "      box-shadow: 0px 1px 2px rgba(60, 64, 67, 0.3), 0px 1px 3px 1px rgba(60, 64, 67, 0.15);\n",
              "      fill: #174EA6;\n",
              "    }\n",
              "\n",
              "    [theme=dark] .colab-df-convert {\n",
              "      background-color: #3B4455;\n",
              "      fill: #D2E3FC;\n",
              "    }\n",
              "\n",
              "    [theme=dark] .colab-df-convert:hover {\n",
              "      background-color: #434B5C;\n",
              "      box-shadow: 0px 1px 3px 1px rgba(0, 0, 0, 0.15);\n",
              "      filter: drop-shadow(0px 1px 2px rgba(0, 0, 0, 0.3));\n",
              "      fill: #FFFFFF;\n",
              "    }\n",
              "  </style>\n",
              "\n",
              "      <script>\n",
              "        const buttonEl =\n",
              "          document.querySelector('#df-692c6fd9-1ad8-46a2-9193-9ec7e7ea3f95 button.colab-df-convert');\n",
              "        buttonEl.style.display =\n",
              "          google.colab.kernel.accessAllowed ? 'block' : 'none';\n",
              "\n",
              "        async function convertToInteractive(key) {\n",
              "          const element = document.querySelector('#df-692c6fd9-1ad8-46a2-9193-9ec7e7ea3f95');\n",
              "          const dataTable =\n",
              "            await google.colab.kernel.invokeFunction('convertToInteractive',\n",
              "                                                     [key], {});\n",
              "          if (!dataTable) return;\n",
              "\n",
              "          const docLinkHtml = 'Like what you see? Visit the ' +\n",
              "            '<a target=\"_blank\" href=https://colab.research.google.com/notebooks/data_table.ipynb>data table notebook</a>'\n",
              "            + ' to learn more about interactive tables.';\n",
              "          element.innerHTML = '';\n",
              "          dataTable['output_type'] = 'display_data';\n",
              "          await google.colab.output.renderOutput(dataTable, element);\n",
              "          const docLink = document.createElement('div');\n",
              "          docLink.innerHTML = docLinkHtml;\n",
              "          element.appendChild(docLink);\n",
              "        }\n",
              "      </script>\n",
              "    </div>\n",
              "  </div>\n",
              "  "
            ]
          },
          "metadata": {},
          "execution_count": 20
        }
      ]
    },
    {
      "cell_type": "code",
      "source": [
        "# Split between train and test\n",
        "\n",
        "X_train, X_test1, y_train, y_test1=train_test_split(mfcc\n",
        "                                                    , encoded_labels\n",
        "                                                    , test_size=0.3\n",
        "                                                    , shuffle=True\n",
        "                                                    , random_state=42\n",
        "                                                   )\n",
        "\n",
        "X_val, X_test, y_val, y_test = train_test_split(X_test1, y_test1, test_size=0.3, random_state=42)\n",
        "# one hot encode the target\n",
        "#lb = LabelEncoder()\n",
        "#y_train = np_utils.to_categorical(lb.fit_transform(y_train))\n",
        "#y_test = np_utils.to_categorical(lb.fit_transform(y_test))\n",
        "print(X_train.shape, X_test.shape, X_val.shape, y_train.shape, y_test.shape, y_val.shape)"
      ],
      "metadata": {
        "colab": {
          "base_uri": "https://localhost:8080/"
        },
        "id": "c3e5DfCSyQag",
        "outputId": "a5f79276-7927-403b-ebba-b8ea35b0f1d5"
      },
      "execution_count": null,
      "outputs": [
        {
          "output_type": "stream",
          "name": "stdout",
          "text": [
            "(1008, 30, 79, 1) (130, 30, 79, 1) (302, 30, 79, 1) (1008, 8) (130, 8) (302, 8)\n"
          ]
        }
      ]
    },
    {
      "cell_type": "code",
      "source": [
        "X_train = np.expand_dims(X_train, axis=2)\n",
        "X_test = np.expand_dims(X_test, axis=2)\n",
        "X_train.shape"
      ],
      "metadata": {
        "id": "iws62rJH2Zf-"
      },
      "execution_count": null,
      "outputs": []
    },
    {
      "cell_type": "code",
      "source": [
        "print(X_train.shape, X_test.shape, X_val.shape, y_train.shape, y_test.shape, y_val.shape)"
      ],
      "metadata": {
        "id": "_u2x7Ni72djV"
      },
      "execution_count": null,
      "outputs": []
    },
    {
      "cell_type": "code",
      "source": [
        "# Normalization as per the standard NN process\n",
        "mean = np.mean(X_train, axis=0)\n",
        "std = np.std(X_train, axis=0)\n",
        "\n",
        "X_train = (X_train - mean)/std\n",
        "X_test = (X_test - mean)/std\n",
        "X_val = (X_val - mean)/std\n",
        "print(X_train.shape, X_test.shape, X_val.shape, y_train.shape, y_test.shape, y_val.shape)"
      ],
      "metadata": {
        "colab": {
          "base_uri": "https://localhost:8080/"
        },
        "id": "YL_KLkiWyUG8",
        "outputId": "b523505d-f496-4883-be9b-513d2de9eebf"
      },
      "execution_count": null,
      "outputs": [
        {
          "output_type": "stream",
          "name": "stdout",
          "text": [
            "(1008, 30, 79, 1) (130, 30, 79, 1) (302, 30, 79, 1) (1008, 8) (130, 8) (302, 8)\n"
          ]
        }
      ]
    },
    {
      "cell_type": "code",
      "source": [
        "''' Callbacks with Checkpoint'''\n",
        "\n",
        "keras.backend.clear_session()\n",
        "\n",
        "accuracy_threshold = 0.93\n",
        "\n",
        "class myCallback(keras.callbacks.Callback):\n",
        "  def on_epoch_end(self, epoch, logs={}):\n",
        "      if(logs.get('accuracy')>accuracy_threshold):\n",
        "        print(\"\\nReached %2.2f%% accuracy so we will stop trianing\" % (accuracy_threshold*100))\n",
        "        self.model_3.stop_training = True\n",
        "\n",
        "acc_callback = myCallback()\n",
        "  # Saved the Best Model\n",
        "filepath = \"/content/drive/MyDrive/THSIS/rav_tess_dataset/best_model/mymodel.h5\"\n",
        "checkpoint = keras.callbacks.ModelCheckpoint(filepath, monitor='val_accuracy', verbose=2, save_best_only=True,\n",
        "                                             save_weights_only=False, mode='max')\n",
        "  # callback list\n",
        "callback_list = [acc_callback, checkpoint]"
      ],
      "metadata": {
        "id": "SLB6Nk1ZycON"
      },
      "execution_count": null,
      "outputs": []
    },
    {
      "cell_type": "code",
      "source": [
        "history=model.fit(X_train, y_train, epochs=300,validation_data = (X_val,y_val),callbacks=[checkpoint],batch_size=64)"
      ],
      "metadata": {
        "colab": {
          "base_uri": "https://localhost:8080/"
        },
        "id": "xzwhKI57y3G7",
        "outputId": "5bc482d8-a050-4ad6-e29b-a9865f47c72a"
      },
      "execution_count": null,
      "outputs": [
        {
          "output_type": "stream",
          "name": "stdout",
          "text": [
            "Epoch 1/300\n",
            "16/16 [==============================] - ETA: 0s - loss: 2.3385 - accuracy: 0.1637\n",
            "Epoch 1: val_accuracy improved from -inf to 0.20861, saving model to /content/drive/MyDrive/THSIS/rav_tess_dataset/best_model/mymodel.h5\n",
            "16/16 [==============================] - 14s 239ms/step - loss: 2.3385 - accuracy: 0.1637 - val_loss: 1.9845 - val_accuracy: 0.2086\n",
            "Epoch 2/300\n",
            "15/16 [===========================>..] - ETA: 0s - loss: 2.0786 - accuracy: 0.2000\n",
            "Epoch 2: val_accuracy improved from 0.20861 to 0.23841, saving model to /content/drive/MyDrive/THSIS/rav_tess_dataset/best_model/mymodel.h5\n",
            "16/16 [==============================] - 1s 49ms/step - loss: 2.0718 - accuracy: 0.2034 - val_loss: 2.0104 - val_accuracy: 0.2384\n",
            "Epoch 3/300\n",
            "15/16 [===========================>..] - ETA: 0s - loss: 1.9722 - accuracy: 0.2510\n",
            "Epoch 3: val_accuracy did not improve from 0.23841\n",
            "16/16 [==============================] - 1s 41ms/step - loss: 1.9791 - accuracy: 0.2510 - val_loss: 2.1503 - val_accuracy: 0.1490\n",
            "Epoch 4/300\n",
            "15/16 [===========================>..] - ETA: 0s - loss: 1.8456 - accuracy: 0.3010\n",
            "Epoch 4: val_accuracy did not improve from 0.23841\n",
            "16/16 [==============================] - 1s 41ms/step - loss: 1.8503 - accuracy: 0.3006 - val_loss: 2.2579 - val_accuracy: 0.1291\n",
            "Epoch 5/300\n",
            "15/16 [===========================>..] - ETA: 0s - loss: 1.7837 - accuracy: 0.3260\n",
            "Epoch 5: val_accuracy did not improve from 0.23841\n",
            "16/16 [==============================] - 1s 41ms/step - loss: 1.7794 - accuracy: 0.3274 - val_loss: 2.3050 - val_accuracy: 0.1291\n",
            "Epoch 6/300\n",
            "15/16 [===========================>..] - ETA: 0s - loss: 1.6772 - accuracy: 0.3760\n",
            "Epoch 6: val_accuracy did not improve from 0.23841\n",
            "16/16 [==============================] - 1s 40ms/step - loss: 1.6695 - accuracy: 0.3800 - val_loss: 2.4068 - val_accuracy: 0.1291\n",
            "Epoch 7/300\n",
            "15/16 [===========================>..] - ETA: 0s - loss: 1.6110 - accuracy: 0.3646\n",
            "Epoch 7: val_accuracy did not improve from 0.23841\n",
            "16/16 [==============================] - 1s 40ms/step - loss: 1.6204 - accuracy: 0.3611 - val_loss: 2.4050 - val_accuracy: 0.1358\n",
            "Epoch 8/300\n",
            "15/16 [===========================>..] - ETA: 0s - loss: 1.5350 - accuracy: 0.4177\n",
            "Epoch 8: val_accuracy did not improve from 0.23841\n",
            "16/16 [==============================] - 1s 41ms/step - loss: 1.5418 - accuracy: 0.4147 - val_loss: 2.4477 - val_accuracy: 0.1391\n",
            "Epoch 9/300\n",
            "15/16 [===========================>..] - ETA: 0s - loss: 1.4826 - accuracy: 0.4510\n",
            "Epoch 9: val_accuracy did not improve from 0.23841\n",
            "16/16 [==============================] - 1s 40ms/step - loss: 1.4832 - accuracy: 0.4484 - val_loss: 2.4228 - val_accuracy: 0.1424\n",
            "Epoch 10/300\n",
            "15/16 [===========================>..] - ETA: 0s - loss: 1.4550 - accuracy: 0.4479\n",
            "Epoch 10: val_accuracy did not improve from 0.23841\n",
            "16/16 [==============================] - 1s 40ms/step - loss: 1.4478 - accuracy: 0.4494 - val_loss: 2.4154 - val_accuracy: 0.1656\n",
            "Epoch 11/300\n",
            "15/16 [===========================>..] - ETA: 0s - loss: 1.3870 - accuracy: 0.4906\n",
            "Epoch 11: val_accuracy did not improve from 0.23841\n",
            "16/16 [==============================] - 1s 41ms/step - loss: 1.3822 - accuracy: 0.4931 - val_loss: 2.5195 - val_accuracy: 0.1490\n",
            "Epoch 12/300\n",
            "15/16 [===========================>..] - ETA: 0s - loss: 1.3449 - accuracy: 0.5052\n",
            "Epoch 12: val_accuracy did not improve from 0.23841\n",
            "16/16 [==============================] - 1s 40ms/step - loss: 1.3416 - accuracy: 0.5089 - val_loss: 2.5934 - val_accuracy: 0.1391\n",
            "Epoch 13/300\n",
            "15/16 [===========================>..] - ETA: 0s - loss: 1.2760 - accuracy: 0.5063\n",
            "Epoch 13: val_accuracy did not improve from 0.23841\n",
            "16/16 [==============================] - 1s 40ms/step - loss: 1.2746 - accuracy: 0.5040 - val_loss: 2.5940 - val_accuracy: 0.1391\n",
            "Epoch 14/300\n",
            "15/16 [===========================>..] - ETA: 0s - loss: 1.2140 - accuracy: 0.5708\n",
            "Epoch 14: val_accuracy did not improve from 0.23841\n",
            "16/16 [==============================] - 1s 40ms/step - loss: 1.2187 - accuracy: 0.5675 - val_loss: 2.7016 - val_accuracy: 0.1391\n",
            "Epoch 15/300\n",
            "15/16 [===========================>..] - ETA: 0s - loss: 1.1517 - accuracy: 0.5979\n",
            "Epoch 15: val_accuracy did not improve from 0.23841\n",
            "16/16 [==============================] - 1s 41ms/step - loss: 1.1518 - accuracy: 0.5962 - val_loss: 2.7890 - val_accuracy: 0.1887\n",
            "Epoch 16/300\n",
            "15/16 [===========================>..] - ETA: 0s - loss: 1.1270 - accuracy: 0.5948\n",
            "Epoch 16: val_accuracy did not improve from 0.23841\n",
            "16/16 [==============================] - 1s 40ms/step - loss: 1.1290 - accuracy: 0.5933 - val_loss: 2.7010 - val_accuracy: 0.1689\n",
            "Epoch 17/300\n",
            "15/16 [===========================>..] - ETA: 0s - loss: 1.0633 - accuracy: 0.6260\n",
            "Epoch 17: val_accuracy did not improve from 0.23841\n",
            "16/16 [==============================] - 1s 41ms/step - loss: 1.0670 - accuracy: 0.6220 - val_loss: 2.7641 - val_accuracy: 0.1755\n",
            "Epoch 18/300\n",
            "15/16 [===========================>..] - ETA: 0s - loss: 1.0763 - accuracy: 0.6125\n",
            "Epoch 18: val_accuracy did not improve from 0.23841\n",
            "16/16 [==============================] - 1s 41ms/step - loss: 1.0712 - accuracy: 0.6161 - val_loss: 2.8454 - val_accuracy: 0.1755\n",
            "Epoch 19/300\n",
            "15/16 [===========================>..] - ETA: 0s - loss: 0.9832 - accuracy: 0.6448\n",
            "Epoch 19: val_accuracy did not improve from 0.23841\n",
            "16/16 [==============================] - 1s 41ms/step - loss: 0.9811 - accuracy: 0.6448 - val_loss: 2.9650 - val_accuracy: 0.1887\n",
            "Epoch 20/300\n",
            "15/16 [===========================>..] - ETA: 0s - loss: 0.9369 - accuracy: 0.6708\n",
            "Epoch 20: val_accuracy did not improve from 0.23841\n",
            "16/16 [==============================] - 1s 41ms/step - loss: 0.9500 - accuracy: 0.6657 - val_loss: 2.7743 - val_accuracy: 0.1689\n",
            "Epoch 21/300\n",
            "15/16 [===========================>..] - ETA: 0s - loss: 0.9359 - accuracy: 0.6812\n",
            "Epoch 21: val_accuracy did not improve from 0.23841\n",
            "16/16 [==============================] - 1s 41ms/step - loss: 0.9372 - accuracy: 0.6786 - val_loss: 2.9997 - val_accuracy: 0.2086\n",
            "Epoch 22/300\n",
            "15/16 [===========================>..] - ETA: 0s - loss: 0.8478 - accuracy: 0.7177\n",
            "Epoch 22: val_accuracy improved from 0.23841 to 0.24503, saving model to /content/drive/MyDrive/THSIS/rav_tess_dataset/best_model/mymodel.h5\n",
            "16/16 [==============================] - 2s 106ms/step - loss: 0.8443 - accuracy: 0.7222 - val_loss: 2.6900 - val_accuracy: 0.2450\n",
            "Epoch 23/300\n",
            "15/16 [===========================>..] - ETA: 0s - loss: 0.8444 - accuracy: 0.7219\n",
            "Epoch 23: val_accuracy did not improve from 0.24503\n",
            "16/16 [==============================] - 1s 41ms/step - loss: 0.8343 - accuracy: 0.7262 - val_loss: 2.7689 - val_accuracy: 0.2119\n",
            "Epoch 24/300\n",
            "15/16 [===========================>..] - ETA: 0s - loss: 0.7992 - accuracy: 0.7198\n",
            "Epoch 24: val_accuracy improved from 0.24503 to 0.27152, saving model to /content/drive/MyDrive/THSIS/rav_tess_dataset/best_model/mymodel.h5\n",
            "16/16 [==============================] - 1s 48ms/step - loss: 0.8006 - accuracy: 0.7183 - val_loss: 2.3002 - val_accuracy: 0.2715\n",
            "Epoch 25/300\n",
            "15/16 [===========================>..] - ETA: 0s - loss: 0.7612 - accuracy: 0.7490\n",
            "Epoch 25: val_accuracy improved from 0.27152 to 0.41060, saving model to /content/drive/MyDrive/THSIS/rav_tess_dataset/best_model/mymodel.h5\n",
            "16/16 [==============================] - 1s 47ms/step - loss: 0.7585 - accuracy: 0.7470 - val_loss: 1.8209 - val_accuracy: 0.4106\n",
            "Epoch 26/300\n",
            "15/16 [===========================>..] - ETA: 0s - loss: 0.7449 - accuracy: 0.7448\n",
            "Epoch 26: val_accuracy did not improve from 0.41060\n",
            "16/16 [==============================] - 1s 41ms/step - loss: 0.7429 - accuracy: 0.7460 - val_loss: 2.3823 - val_accuracy: 0.2947\n",
            "Epoch 27/300\n",
            "15/16 [===========================>..] - ETA: 0s - loss: 0.7037 - accuracy: 0.7667\n",
            "Epoch 27: val_accuracy improved from 0.41060 to 0.45695, saving model to /content/drive/MyDrive/THSIS/rav_tess_dataset/best_model/mymodel.h5\n",
            "16/16 [==============================] - 1s 47ms/step - loss: 0.7025 - accuracy: 0.7688 - val_loss: 1.4067 - val_accuracy: 0.4570\n",
            "Epoch 28/300\n",
            "15/16 [===========================>..] - ETA: 0s - loss: 0.6167 - accuracy: 0.7875\n",
            "Epoch 28: val_accuracy did not improve from 0.45695\n",
            "16/16 [==============================] - 1s 41ms/step - loss: 0.6163 - accuracy: 0.7897 - val_loss: 2.1209 - val_accuracy: 0.3179\n",
            "Epoch 29/300\n",
            "15/16 [===========================>..] - ETA: 0s - loss: 0.6246 - accuracy: 0.7969\n",
            "Epoch 29: val_accuracy did not improve from 0.45695\n",
            "16/16 [==============================] - 1s 40ms/step - loss: 0.6227 - accuracy: 0.7956 - val_loss: 1.8354 - val_accuracy: 0.3609\n",
            "Epoch 30/300\n",
            "15/16 [===========================>..] - ETA: 0s - loss: 0.5916 - accuracy: 0.8021\n",
            "Epoch 30: val_accuracy did not improve from 0.45695\n",
            "16/16 [==============================] - 1s 41ms/step - loss: 0.5977 - accuracy: 0.7956 - val_loss: 1.8130 - val_accuracy: 0.3940\n",
            "Epoch 31/300\n",
            "15/16 [===========================>..] - ETA: 0s - loss: 0.5613 - accuracy: 0.8146\n",
            "Epoch 31: val_accuracy did not improve from 0.45695\n",
            "16/16 [==============================] - 1s 41ms/step - loss: 0.5587 - accuracy: 0.8155 - val_loss: 1.6739 - val_accuracy: 0.4536\n",
            "Epoch 32/300\n",
            "15/16 [===========================>..] - ETA: 0s - loss: 0.5280 - accuracy: 0.8323\n",
            "Epoch 32: val_accuracy did not improve from 0.45695\n",
            "16/16 [==============================] - 1s 41ms/step - loss: 0.5257 - accuracy: 0.8353 - val_loss: 1.8284 - val_accuracy: 0.3841\n",
            "Epoch 33/300\n",
            "15/16 [===========================>..] - ETA: 0s - loss: 0.4997 - accuracy: 0.8375\n",
            "Epoch 33: val_accuracy did not improve from 0.45695\n",
            "16/16 [==============================] - 1s 41ms/step - loss: 0.4970 - accuracy: 0.8383 - val_loss: 1.7952 - val_accuracy: 0.4371\n",
            "Epoch 34/300\n",
            "15/16 [===========================>..] - ETA: 0s - loss: 0.4512 - accuracy: 0.8594\n",
            "Epoch 34: val_accuracy did not improve from 0.45695\n",
            "16/16 [==============================] - 1s 41ms/step - loss: 0.4475 - accuracy: 0.8611 - val_loss: 1.7417 - val_accuracy: 0.4172\n",
            "Epoch 35/300\n",
            "15/16 [===========================>..] - ETA: 0s - loss: 0.4273 - accuracy: 0.8656\n",
            "Epoch 35: val_accuracy improved from 0.45695 to 0.50993, saving model to /content/drive/MyDrive/THSIS/rav_tess_dataset/best_model/mymodel.h5\n",
            "16/16 [==============================] - 1s 48ms/step - loss: 0.4287 - accuracy: 0.8641 - val_loss: 1.3377 - val_accuracy: 0.5099\n",
            "Epoch 36/300\n",
            "15/16 [===========================>..] - ETA: 0s - loss: 0.4152 - accuracy: 0.8750\n",
            "Epoch 36: val_accuracy did not improve from 0.50993\n",
            "16/16 [==============================] - 1s 41ms/step - loss: 0.4201 - accuracy: 0.8740 - val_loss: 1.9660 - val_accuracy: 0.4073\n",
            "Epoch 37/300\n",
            "15/16 [===========================>..] - ETA: 0s - loss: 0.4190 - accuracy: 0.8656\n",
            "Epoch 37: val_accuracy improved from 0.50993 to 0.64901, saving model to /content/drive/MyDrive/THSIS/rav_tess_dataset/best_model/mymodel.h5\n",
            "16/16 [==============================] - 1s 54ms/step - loss: 0.4111 - accuracy: 0.8681 - val_loss: 0.9756 - val_accuracy: 0.6490\n",
            "Epoch 38/300\n",
            "15/16 [===========================>..] - ETA: 0s - loss: 0.3869 - accuracy: 0.8740\n",
            "Epoch 38: val_accuracy did not improve from 0.64901\n",
            "16/16 [==============================] - 1s 41ms/step - loss: 0.3846 - accuracy: 0.8750 - val_loss: 1.1818 - val_accuracy: 0.5695\n",
            "Epoch 39/300\n",
            "15/16 [===========================>..] - ETA: 0s - loss: 0.3762 - accuracy: 0.8823\n",
            "Epoch 39: val_accuracy did not improve from 0.64901\n",
            "16/16 [==============================] - 1s 41ms/step - loss: 0.3820 - accuracy: 0.8810 - val_loss: 1.1846 - val_accuracy: 0.5828\n",
            "Epoch 40/300\n",
            "15/16 [===========================>..] - ETA: 0s - loss: 0.3899 - accuracy: 0.8729\n",
            "Epoch 40: val_accuracy did not improve from 0.64901\n",
            "16/16 [==============================] - 1s 41ms/step - loss: 0.3966 - accuracy: 0.8720 - val_loss: 1.3842 - val_accuracy: 0.5497\n",
            "Epoch 41/300\n",
            "15/16 [===========================>..] - ETA: 0s - loss: 0.3716 - accuracy: 0.8927\n",
            "Epoch 41: val_accuracy did not improve from 0.64901\n",
            "16/16 [==============================] - 1s 41ms/step - loss: 0.3634 - accuracy: 0.8958 - val_loss: 0.9087 - val_accuracy: 0.6457\n",
            "Epoch 42/300\n",
            "15/16 [===========================>..] - ETA: 0s - loss: 0.3417 - accuracy: 0.8885\n",
            "Epoch 42: val_accuracy did not improve from 0.64901\n",
            "16/16 [==============================] - 1s 41ms/step - loss: 0.3388 - accuracy: 0.8899 - val_loss: 1.0906 - val_accuracy: 0.6126\n",
            "Epoch 43/300\n",
            "15/16 [===========================>..] - ETA: 0s - loss: 0.2830 - accuracy: 0.9208\n",
            "Epoch 43: val_accuracy improved from 0.64901 to 0.66225, saving model to /content/drive/MyDrive/THSIS/rav_tess_dataset/best_model/mymodel.h5\n",
            "16/16 [==============================] - 1s 48ms/step - loss: 0.2788 - accuracy: 0.9236 - val_loss: 0.8256 - val_accuracy: 0.6623\n",
            "Epoch 44/300\n",
            "15/16 [===========================>..] - ETA: 0s - loss: 0.2772 - accuracy: 0.9281\n",
            "Epoch 44: val_accuracy did not improve from 0.66225\n",
            "16/16 [==============================] - 1s 41ms/step - loss: 0.2767 - accuracy: 0.9266 - val_loss: 1.0092 - val_accuracy: 0.6589\n",
            "Epoch 45/300\n",
            "15/16 [===========================>..] - ETA: 0s - loss: 0.2843 - accuracy: 0.9302\n",
            "Epoch 45: val_accuracy did not improve from 0.66225\n",
            "16/16 [==============================] - 1s 41ms/step - loss: 0.2914 - accuracy: 0.9296 - val_loss: 1.3166 - val_accuracy: 0.5795\n",
            "Epoch 46/300\n",
            "15/16 [===========================>..] - ETA: 0s - loss: 0.2444 - accuracy: 0.9292\n",
            "Epoch 46: val_accuracy did not improve from 0.66225\n",
            "16/16 [==============================] - 1s 41ms/step - loss: 0.2420 - accuracy: 0.9306 - val_loss: 1.0827 - val_accuracy: 0.6225\n",
            "Epoch 47/300\n",
            "15/16 [===========================>..] - ETA: 0s - loss: 0.2453 - accuracy: 0.9229\n",
            "Epoch 47: val_accuracy did not improve from 0.66225\n",
            "16/16 [==============================] - 1s 41ms/step - loss: 0.2436 - accuracy: 0.9236 - val_loss: 1.0289 - val_accuracy: 0.6192\n",
            "Epoch 48/300\n",
            "15/16 [===========================>..] - ETA: 0s - loss: 0.2200 - accuracy: 0.9438\n",
            "Epoch 48: val_accuracy improved from 0.66225 to 0.68212, saving model to /content/drive/MyDrive/THSIS/rav_tess_dataset/best_model/mymodel.h5\n",
            "16/16 [==============================] - 1s 48ms/step - loss: 0.2170 - accuracy: 0.9444 - val_loss: 0.9152 - val_accuracy: 0.6821\n",
            "Epoch 49/300\n",
            "15/16 [===========================>..] - ETA: 0s - loss: 0.2157 - accuracy: 0.9396\n",
            "Epoch 49: val_accuracy improved from 0.68212 to 0.72848, saving model to /content/drive/MyDrive/THSIS/rav_tess_dataset/best_model/mymodel.h5\n",
            "16/16 [==============================] - 1s 53ms/step - loss: 0.2153 - accuracy: 0.9385 - val_loss: 0.8290 - val_accuracy: 0.7285\n",
            "Epoch 50/300\n",
            "15/16 [===========================>..] - ETA: 0s - loss: 0.2348 - accuracy: 0.9219\n",
            "Epoch 50: val_accuracy did not improve from 0.72848\n",
            "16/16 [==============================] - 1s 41ms/step - loss: 0.2330 - accuracy: 0.9226 - val_loss: 0.9421 - val_accuracy: 0.6887\n",
            "Epoch 51/300\n",
            "15/16 [===========================>..] - ETA: 0s - loss: 0.2333 - accuracy: 0.9385\n",
            "Epoch 51: val_accuracy did not improve from 0.72848\n",
            "16/16 [==============================] - 1s 41ms/step - loss: 0.2364 - accuracy: 0.9375 - val_loss: 1.1534 - val_accuracy: 0.6457\n",
            "Epoch 52/300\n",
            "15/16 [===========================>..] - ETA: 0s - loss: 0.2504 - accuracy: 0.9281\n",
            "Epoch 52: val_accuracy did not improve from 0.72848\n",
            "16/16 [==============================] - 1s 41ms/step - loss: 0.2510 - accuracy: 0.9296 - val_loss: 0.9190 - val_accuracy: 0.6987\n",
            "Epoch 53/300\n",
            "15/16 [===========================>..] - ETA: 0s - loss: 0.2234 - accuracy: 0.9323\n",
            "Epoch 53: val_accuracy did not improve from 0.72848\n",
            "16/16 [==============================] - 1s 41ms/step - loss: 0.2231 - accuracy: 0.9325 - val_loss: 1.2724 - val_accuracy: 0.6258\n",
            "Epoch 54/300\n",
            "15/16 [===========================>..] - ETA: 0s - loss: 0.2068 - accuracy: 0.9365\n",
            "Epoch 54: val_accuracy did not improve from 0.72848\n",
            "16/16 [==============================] - 1s 41ms/step - loss: 0.2030 - accuracy: 0.9385 - val_loss: 0.8931 - val_accuracy: 0.6854\n",
            "Epoch 55/300\n",
            "15/16 [===========================>..] - ETA: 0s - loss: 0.2094 - accuracy: 0.9302\n",
            "Epoch 55: val_accuracy did not improve from 0.72848\n",
            "16/16 [==============================] - 1s 42ms/step - loss: 0.2157 - accuracy: 0.9266 - val_loss: 0.9502 - val_accuracy: 0.7053\n",
            "Epoch 56/300\n",
            "15/16 [===========================>..] - ETA: 0s - loss: 0.1997 - accuracy: 0.9385\n",
            "Epoch 56: val_accuracy improved from 0.72848 to 0.76159, saving model to /content/drive/MyDrive/THSIS/rav_tess_dataset/best_model/mymodel.h5\n",
            "16/16 [==============================] - 1s 48ms/step - loss: 0.2068 - accuracy: 0.9345 - val_loss: 0.7443 - val_accuracy: 0.7616\n",
            "Epoch 57/300\n",
            "15/16 [===========================>..] - ETA: 0s - loss: 0.1613 - accuracy: 0.9604\n",
            "Epoch 57: val_accuracy did not improve from 0.76159\n",
            "16/16 [==============================] - 1s 41ms/step - loss: 0.1610 - accuracy: 0.9613 - val_loss: 1.0019 - val_accuracy: 0.6854\n",
            "Epoch 58/300\n",
            "15/16 [===========================>..] - ETA: 0s - loss: 0.1734 - accuracy: 0.9510\n",
            "Epoch 58: val_accuracy did not improve from 0.76159\n",
            "16/16 [==============================] - 1s 41ms/step - loss: 0.1779 - accuracy: 0.9494 - val_loss: 0.9248 - val_accuracy: 0.7152\n",
            "Epoch 59/300\n",
            "15/16 [===========================>..] - ETA: 0s - loss: 0.1433 - accuracy: 0.9667\n",
            "Epoch 59: val_accuracy did not improve from 0.76159\n",
            "16/16 [==============================] - 1s 42ms/step - loss: 0.1445 - accuracy: 0.9653 - val_loss: 1.2651 - val_accuracy: 0.6457\n",
            "Epoch 60/300\n",
            "15/16 [===========================>..] - ETA: 0s - loss: 0.1632 - accuracy: 0.9521\n",
            "Epoch 60: val_accuracy did not improve from 0.76159\n",
            "16/16 [==============================] - 1s 41ms/step - loss: 0.1610 - accuracy: 0.9544 - val_loss: 1.0448 - val_accuracy: 0.6623\n",
            "Epoch 61/300\n",
            "15/16 [===========================>..] - ETA: 0s - loss: 0.1519 - accuracy: 0.9521\n",
            "Epoch 61: val_accuracy did not improve from 0.76159\n",
            "16/16 [==============================] - 1s 41ms/step - loss: 0.1535 - accuracy: 0.9524 - val_loss: 0.9647 - val_accuracy: 0.6821\n",
            "Epoch 62/300\n",
            "15/16 [===========================>..] - ETA: 0s - loss: 0.1547 - accuracy: 0.9583\n",
            "Epoch 62: val_accuracy did not improve from 0.76159\n",
            "16/16 [==============================] - 1s 46ms/step - loss: 0.1567 - accuracy: 0.9573 - val_loss: 1.3528 - val_accuracy: 0.6060\n",
            "Epoch 63/300\n",
            "15/16 [===========================>..] - ETA: 0s - loss: 0.1623 - accuracy: 0.9542\n",
            "Epoch 63: val_accuracy did not improve from 0.76159\n",
            "16/16 [==============================] - 1s 41ms/step - loss: 0.1632 - accuracy: 0.9544 - val_loss: 0.9540 - val_accuracy: 0.6689\n",
            "Epoch 64/300\n",
            "15/16 [===========================>..] - ETA: 0s - loss: 0.1326 - accuracy: 0.9698\n",
            "Epoch 64: val_accuracy did not improve from 0.76159\n",
            "16/16 [==============================] - 1s 41ms/step - loss: 0.1302 - accuracy: 0.9702 - val_loss: 0.8322 - val_accuracy: 0.7219\n",
            "Epoch 65/300\n",
            "15/16 [===========================>..] - ETA: 0s - loss: 0.1484 - accuracy: 0.9552\n",
            "Epoch 65: val_accuracy did not improve from 0.76159\n",
            "16/16 [==============================] - 1s 41ms/step - loss: 0.1437 - accuracy: 0.9573 - val_loss: 1.1991 - val_accuracy: 0.6523\n",
            "Epoch 66/300\n",
            "15/16 [===========================>..] - ETA: 0s - loss: 0.1434 - accuracy: 0.9615\n",
            "Epoch 66: val_accuracy did not improve from 0.76159\n",
            "16/16 [==============================] - 1s 42ms/step - loss: 0.1461 - accuracy: 0.9593 - val_loss: 0.8836 - val_accuracy: 0.7417\n",
            "Epoch 67/300\n",
            "15/16 [===========================>..] - ETA: 0s - loss: 0.1516 - accuracy: 0.9500\n",
            "Epoch 67: val_accuracy did not improve from 0.76159\n",
            "16/16 [==============================] - 1s 41ms/step - loss: 0.1522 - accuracy: 0.9494 - val_loss: 0.9184 - val_accuracy: 0.6954\n",
            "Epoch 68/300\n",
            "15/16 [===========================>..] - ETA: 0s - loss: 0.1543 - accuracy: 0.9521\n",
            "Epoch 68: val_accuracy did not improve from 0.76159\n",
            "16/16 [==============================] - 1s 42ms/step - loss: 0.1510 - accuracy: 0.9534 - val_loss: 1.2577 - val_accuracy: 0.6358\n",
            "Epoch 69/300\n",
            "15/16 [===========================>..] - ETA: 0s - loss: 0.1446 - accuracy: 0.9563\n",
            "Epoch 69: val_accuracy did not improve from 0.76159\n",
            "16/16 [==============================] - 1s 41ms/step - loss: 0.1441 - accuracy: 0.9573 - val_loss: 1.4224 - val_accuracy: 0.6026\n",
            "Epoch 70/300\n",
            "15/16 [===========================>..] - ETA: 0s - loss: 0.1468 - accuracy: 0.9552\n",
            "Epoch 70: val_accuracy did not improve from 0.76159\n",
            "16/16 [==============================] - 1s 41ms/step - loss: 0.1445 - accuracy: 0.9563 - val_loss: 1.0713 - val_accuracy: 0.6921\n",
            "Epoch 71/300\n",
            "15/16 [===========================>..] - ETA: 0s - loss: 0.1393 - accuracy: 0.9573\n",
            "Epoch 71: val_accuracy did not improve from 0.76159\n",
            "16/16 [==============================] - 1s 41ms/step - loss: 0.1393 - accuracy: 0.9573 - val_loss: 0.8528 - val_accuracy: 0.7483\n",
            "Epoch 72/300\n",
            "15/16 [===========================>..] - ETA: 0s - loss: 0.1271 - accuracy: 0.9635\n",
            "Epoch 72: val_accuracy did not improve from 0.76159\n",
            "16/16 [==============================] - 1s 41ms/step - loss: 0.1251 - accuracy: 0.9653 - val_loss: 1.2802 - val_accuracy: 0.6358\n",
            "Epoch 73/300\n",
            "15/16 [===========================>..] - ETA: 0s - loss: 0.1244 - accuracy: 0.9635\n",
            "Epoch 73: val_accuracy did not improve from 0.76159\n",
            "16/16 [==============================] - 1s 41ms/step - loss: 0.1221 - accuracy: 0.9653 - val_loss: 1.1473 - val_accuracy: 0.6788\n",
            "Epoch 74/300\n",
            "15/16 [===========================>..] - ETA: 0s - loss: 0.1195 - accuracy: 0.9635\n",
            "Epoch 74: val_accuracy did not improve from 0.76159\n",
            "16/16 [==============================] - 1s 41ms/step - loss: 0.1192 - accuracy: 0.9633 - val_loss: 1.2737 - val_accuracy: 0.6722\n",
            "Epoch 75/300\n",
            "15/16 [===========================>..] - ETA: 0s - loss: 0.1244 - accuracy: 0.9677\n",
            "Epoch 75: val_accuracy did not improve from 0.76159\n",
            "16/16 [==============================] - 1s 41ms/step - loss: 0.1234 - accuracy: 0.9683 - val_loss: 1.0508 - val_accuracy: 0.7152\n",
            "Epoch 76/300\n",
            "15/16 [===========================>..] - ETA: 0s - loss: 0.1220 - accuracy: 0.9615\n",
            "Epoch 76: val_accuracy did not improve from 0.76159\n",
            "16/16 [==============================] - 1s 41ms/step - loss: 0.1281 - accuracy: 0.9593 - val_loss: 1.0399 - val_accuracy: 0.6821\n",
            "Epoch 77/300\n",
            "15/16 [===========================>..] - ETA: 0s - loss: 0.1319 - accuracy: 0.9625\n",
            "Epoch 77: val_accuracy did not improve from 0.76159\n",
            "16/16 [==============================] - 1s 41ms/step - loss: 0.1320 - accuracy: 0.9623 - val_loss: 1.5756 - val_accuracy: 0.6192\n",
            "Epoch 78/300\n",
            "15/16 [===========================>..] - ETA: 0s - loss: 0.1109 - accuracy: 0.9656\n",
            "Epoch 78: val_accuracy did not improve from 0.76159\n",
            "16/16 [==============================] - 1s 42ms/step - loss: 0.1095 - accuracy: 0.9663 - val_loss: 1.2221 - val_accuracy: 0.6722\n",
            "Epoch 79/300\n",
            "15/16 [===========================>..] - ETA: 0s - loss: 0.0996 - accuracy: 0.9760\n",
            "Epoch 79: val_accuracy did not improve from 0.76159\n",
            "16/16 [==============================] - 1s 41ms/step - loss: 0.0986 - accuracy: 0.9772 - val_loss: 0.8812 - val_accuracy: 0.7053\n",
            "Epoch 80/300\n",
            "15/16 [===========================>..] - ETA: 0s - loss: 0.0907 - accuracy: 0.9781\n",
            "Epoch 80: val_accuracy did not improve from 0.76159\n",
            "16/16 [==============================] - 1s 41ms/step - loss: 0.0908 - accuracy: 0.9772 - val_loss: 1.3432 - val_accuracy: 0.6523\n",
            "Epoch 81/300\n",
            "15/16 [===========================>..] - ETA: 0s - loss: 0.1075 - accuracy: 0.9646\n",
            "Epoch 81: val_accuracy did not improve from 0.76159\n",
            "16/16 [==============================] - 1s 42ms/step - loss: 0.1058 - accuracy: 0.9653 - val_loss: 0.8647 - val_accuracy: 0.7384\n",
            "Epoch 82/300\n",
            "15/16 [===========================>..] - ETA: 0s - loss: 0.1056 - accuracy: 0.9646\n",
            "Epoch 82: val_accuracy did not improve from 0.76159\n",
            "16/16 [==============================] - 1s 41ms/step - loss: 0.1041 - accuracy: 0.9643 - val_loss: 1.5841 - val_accuracy: 0.6093\n",
            "Epoch 83/300\n",
            "15/16 [===========================>..] - ETA: 0s - loss: 0.1028 - accuracy: 0.9719\n",
            "Epoch 83: val_accuracy did not improve from 0.76159\n",
            "16/16 [==============================] - 1s 42ms/step - loss: 0.1002 - accuracy: 0.9722 - val_loss: 1.0569 - val_accuracy: 0.7020\n",
            "Epoch 84/300\n",
            "15/16 [===========================>..] - ETA: 0s - loss: 0.0851 - accuracy: 0.9760\n",
            "Epoch 84: val_accuracy did not improve from 0.76159\n",
            "16/16 [==============================] - 1s 41ms/step - loss: 0.0884 - accuracy: 0.9742 - val_loss: 0.9953 - val_accuracy: 0.7252\n",
            "Epoch 85/300\n",
            "15/16 [===========================>..] - ETA: 0s - loss: 0.1109 - accuracy: 0.9667\n",
            "Epoch 85: val_accuracy did not improve from 0.76159\n",
            "16/16 [==============================] - 1s 42ms/step - loss: 0.1113 - accuracy: 0.9663 - val_loss: 1.3610 - val_accuracy: 0.6523\n",
            "Epoch 86/300\n",
            "15/16 [===========================>..] - ETA: 0s - loss: 0.1026 - accuracy: 0.9719\n",
            "Epoch 86: val_accuracy did not improve from 0.76159\n",
            "16/16 [==============================] - 1s 41ms/step - loss: 0.1010 - accuracy: 0.9732 - val_loss: 0.9378 - val_accuracy: 0.7384\n",
            "Epoch 87/300\n",
            "15/16 [===========================>..] - ETA: 0s - loss: 0.1019 - accuracy: 0.9719\n",
            "Epoch 87: val_accuracy did not improve from 0.76159\n",
            "16/16 [==============================] - 1s 42ms/step - loss: 0.1025 - accuracy: 0.9722 - val_loss: 1.1206 - val_accuracy: 0.6854\n",
            "Epoch 88/300\n",
            "15/16 [===========================>..] - ETA: 0s - loss: 0.0904 - accuracy: 0.9760\n",
            "Epoch 88: val_accuracy did not improve from 0.76159\n",
            "16/16 [==============================] - 1s 42ms/step - loss: 0.0949 - accuracy: 0.9752 - val_loss: 1.1827 - val_accuracy: 0.6556\n",
            "Epoch 89/300\n",
            "15/16 [===========================>..] - ETA: 0s - loss: 0.1082 - accuracy: 0.9656\n",
            "Epoch 89: val_accuracy did not improve from 0.76159\n",
            "16/16 [==============================] - 1s 41ms/step - loss: 0.1043 - accuracy: 0.9673 - val_loss: 1.2093 - val_accuracy: 0.6556\n",
            "Epoch 90/300\n",
            "15/16 [===========================>..] - ETA: 0s - loss: 0.0941 - accuracy: 0.9698\n",
            "Epoch 90: val_accuracy did not improve from 0.76159\n",
            "16/16 [==============================] - 1s 42ms/step - loss: 0.0947 - accuracy: 0.9692 - val_loss: 0.8731 - val_accuracy: 0.7483\n",
            "Epoch 91/300\n",
            "15/16 [===========================>..] - ETA: 0s - loss: 0.0824 - accuracy: 0.9740\n",
            "Epoch 91: val_accuracy did not improve from 0.76159\n",
            "16/16 [==============================] - 1s 42ms/step - loss: 0.0836 - accuracy: 0.9732 - val_loss: 1.2800 - val_accuracy: 0.6556\n",
            "Epoch 92/300\n",
            "15/16 [===========================>..] - ETA: 0s - loss: 0.0839 - accuracy: 0.9812\n",
            "Epoch 92: val_accuracy did not improve from 0.76159\n",
            "16/16 [==============================] - 1s 41ms/step - loss: 0.0865 - accuracy: 0.9802 - val_loss: 1.3018 - val_accuracy: 0.6490\n",
            "Epoch 93/300\n",
            "15/16 [===========================>..] - ETA: 0s - loss: 0.0957 - accuracy: 0.9688\n",
            "Epoch 93: val_accuracy did not improve from 0.76159\n",
            "16/16 [==============================] - 1s 42ms/step - loss: 0.0950 - accuracy: 0.9683 - val_loss: 1.2908 - val_accuracy: 0.6689\n",
            "Epoch 94/300\n",
            "15/16 [===========================>..] - ETA: 0s - loss: 0.1122 - accuracy: 0.9615\n",
            "Epoch 94: val_accuracy did not improve from 0.76159\n",
            "16/16 [==============================] - 1s 42ms/step - loss: 0.1124 - accuracy: 0.9623 - val_loss: 1.8000 - val_accuracy: 0.5828\n",
            "Epoch 95/300\n",
            "15/16 [===========================>..] - ETA: 0s - loss: 0.0828 - accuracy: 0.9750\n",
            "Epoch 95: val_accuracy did not improve from 0.76159\n",
            "16/16 [==============================] - 1s 42ms/step - loss: 0.0835 - accuracy: 0.9732 - val_loss: 0.7882 - val_accuracy: 0.7483\n",
            "Epoch 96/300\n",
            "15/16 [===========================>..] - ETA: 0s - loss: 0.0775 - accuracy: 0.9823\n",
            "Epoch 96: val_accuracy did not improve from 0.76159\n",
            "16/16 [==============================] - 1s 42ms/step - loss: 0.0755 - accuracy: 0.9831 - val_loss: 0.9514 - val_accuracy: 0.7285\n",
            "Epoch 97/300\n",
            "15/16 [===========================>..] - ETA: 0s - loss: 0.0688 - accuracy: 0.9812\n",
            "Epoch 97: val_accuracy did not improve from 0.76159\n",
            "16/16 [==============================] - 1s 42ms/step - loss: 0.0714 - accuracy: 0.9812 - val_loss: 1.1168 - val_accuracy: 0.6788\n",
            "Epoch 98/300\n",
            "15/16 [===========================>..] - ETA: 0s - loss: 0.0871 - accuracy: 0.9740\n",
            "Epoch 98: val_accuracy did not improve from 0.76159\n",
            "16/16 [==============================] - 1s 42ms/step - loss: 0.0886 - accuracy: 0.9732 - val_loss: 1.2160 - val_accuracy: 0.6589\n",
            "Epoch 99/300\n",
            "15/16 [===========================>..] - ETA: 0s - loss: 0.0656 - accuracy: 0.9833\n",
            "Epoch 99: val_accuracy did not improve from 0.76159\n",
            "16/16 [==============================] - 1s 42ms/step - loss: 0.0654 - accuracy: 0.9831 - val_loss: 1.4337 - val_accuracy: 0.6722\n",
            "Epoch 100/300\n",
            "15/16 [===========================>..] - ETA: 0s - loss: 0.0902 - accuracy: 0.9719\n",
            "Epoch 100: val_accuracy did not improve from 0.76159\n",
            "16/16 [==============================] - 1s 42ms/step - loss: 0.0875 - accuracy: 0.9732 - val_loss: 1.1649 - val_accuracy: 0.6722\n",
            "Epoch 101/300\n",
            "15/16 [===========================>..] - ETA: 0s - loss: 0.0658 - accuracy: 0.9865\n",
            "Epoch 101: val_accuracy did not improve from 0.76159\n",
            "16/16 [==============================] - 1s 42ms/step - loss: 0.0659 - accuracy: 0.9861 - val_loss: 0.8050 - val_accuracy: 0.7351\n",
            "Epoch 102/300\n",
            "15/16 [===========================>..] - ETA: 0s - loss: 0.0589 - accuracy: 0.9865\n",
            "Epoch 102: val_accuracy did not improve from 0.76159\n",
            "16/16 [==============================] - 1s 41ms/step - loss: 0.0602 - accuracy: 0.9851 - val_loss: 0.9343 - val_accuracy: 0.7351\n",
            "Epoch 103/300\n",
            "15/16 [===========================>..] - ETA: 0s - loss: 0.0622 - accuracy: 0.9854\n",
            "Epoch 103: val_accuracy did not improve from 0.76159\n",
            "16/16 [==============================] - 1s 41ms/step - loss: 0.0620 - accuracy: 0.9851 - val_loss: 1.0313 - val_accuracy: 0.6987\n",
            "Epoch 104/300\n",
            "15/16 [===========================>..] - ETA: 0s - loss: 0.0806 - accuracy: 0.9771\n",
            "Epoch 104: val_accuracy did not improve from 0.76159\n",
            "16/16 [==============================] - 1s 41ms/step - loss: 0.0817 - accuracy: 0.9752 - val_loss: 1.3422 - val_accuracy: 0.6490\n",
            "Epoch 105/300\n",
            "15/16 [===========================>..] - ETA: 0s - loss: 0.0691 - accuracy: 0.9781\n",
            "Epoch 105: val_accuracy did not improve from 0.76159\n",
            "16/16 [==============================] - 1s 42ms/step - loss: 0.0668 - accuracy: 0.9792 - val_loss: 0.8083 - val_accuracy: 0.7219\n",
            "Epoch 106/300\n",
            "15/16 [===========================>..] - ETA: 0s - loss: 0.0641 - accuracy: 0.9792\n",
            "Epoch 106: val_accuracy did not improve from 0.76159\n",
            "16/16 [==============================] - 1s 42ms/step - loss: 0.0649 - accuracy: 0.9792 - val_loss: 1.4296 - val_accuracy: 0.6556\n",
            "Epoch 107/300\n",
            "15/16 [===========================>..] - ETA: 0s - loss: 0.0748 - accuracy: 0.9823\n",
            "Epoch 107: val_accuracy did not improve from 0.76159\n",
            "16/16 [==============================] - 1s 42ms/step - loss: 0.0753 - accuracy: 0.9821 - val_loss: 1.0599 - val_accuracy: 0.6921\n",
            "Epoch 108/300\n",
            "15/16 [===========================>..] - ETA: 0s - loss: 0.0619 - accuracy: 0.9854\n",
            "Epoch 108: val_accuracy did not improve from 0.76159\n",
            "16/16 [==============================] - 1s 42ms/step - loss: 0.0607 - accuracy: 0.9851 - val_loss: 1.3226 - val_accuracy: 0.6623\n",
            "Epoch 109/300\n",
            "15/16 [===========================>..] - ETA: 0s - loss: 0.0706 - accuracy: 0.9812\n",
            "Epoch 109: val_accuracy did not improve from 0.76159\n",
            "16/16 [==============================] - 1s 41ms/step - loss: 0.0707 - accuracy: 0.9812 - val_loss: 1.0550 - val_accuracy: 0.7020\n",
            "Epoch 110/300\n",
            "15/16 [===========================>..] - ETA: 0s - loss: 0.0651 - accuracy: 0.9802\n",
            "Epoch 110: val_accuracy did not improve from 0.76159\n",
            "16/16 [==============================] - 1s 42ms/step - loss: 0.0651 - accuracy: 0.9802 - val_loss: 1.3657 - val_accuracy: 0.6457\n",
            "Epoch 111/300\n",
            "15/16 [===========================>..] - ETA: 0s - loss: 0.0712 - accuracy: 0.9750\n",
            "Epoch 111: val_accuracy did not improve from 0.76159\n",
            "16/16 [==============================] - 1s 42ms/step - loss: 0.0692 - accuracy: 0.9762 - val_loss: 0.8610 - val_accuracy: 0.7417\n",
            "Epoch 112/300\n",
            "15/16 [===========================>..] - ETA: 0s - loss: 0.0649 - accuracy: 0.9844\n",
            "Epoch 112: val_accuracy did not improve from 0.76159\n",
            "16/16 [==============================] - 1s 41ms/step - loss: 0.0650 - accuracy: 0.9841 - val_loss: 1.2695 - val_accuracy: 0.6589\n",
            "Epoch 113/300\n",
            "15/16 [===========================>..] - ETA: 0s - loss: 0.0559 - accuracy: 0.9854\n",
            "Epoch 113: val_accuracy did not improve from 0.76159\n",
            "16/16 [==============================] - 1s 42ms/step - loss: 0.0565 - accuracy: 0.9851 - val_loss: 0.8763 - val_accuracy: 0.7517\n",
            "Epoch 114/300\n",
            "15/16 [===========================>..] - ETA: 0s - loss: 0.0647 - accuracy: 0.9792\n",
            "Epoch 114: val_accuracy did not improve from 0.76159\n",
            "16/16 [==============================] - 1s 42ms/step - loss: 0.0643 - accuracy: 0.9802 - val_loss: 0.9832 - val_accuracy: 0.7086\n",
            "Epoch 115/300\n",
            "15/16 [===========================>..] - ETA: 0s - loss: 0.0453 - accuracy: 0.9885\n",
            "Epoch 115: val_accuracy did not improve from 0.76159\n",
            "16/16 [==============================] - 1s 41ms/step - loss: 0.0498 - accuracy: 0.9881 - val_loss: 1.2823 - val_accuracy: 0.6623\n",
            "Epoch 116/300\n",
            "15/16 [===========================>..] - ETA: 0s - loss: 0.0559 - accuracy: 0.9854\n",
            "Epoch 116: val_accuracy did not improve from 0.76159\n",
            "16/16 [==============================] - 1s 42ms/step - loss: 0.0561 - accuracy: 0.9851 - val_loss: 1.4802 - val_accuracy: 0.6358\n",
            "Epoch 117/300\n",
            "15/16 [===========================>..] - ETA: 0s - loss: 0.0641 - accuracy: 0.9812\n",
            "Epoch 117: val_accuracy did not improve from 0.76159\n",
            "16/16 [==============================] - 1s 41ms/step - loss: 0.0699 - accuracy: 0.9782 - val_loss: 1.0027 - val_accuracy: 0.7152\n",
            "Epoch 118/300\n",
            "15/16 [===========================>..] - ETA: 0s - loss: 0.0581 - accuracy: 0.9844\n",
            "Epoch 118: val_accuracy did not improve from 0.76159\n",
            "16/16 [==============================] - 1s 42ms/step - loss: 0.0570 - accuracy: 0.9841 - val_loss: 0.9456 - val_accuracy: 0.7119\n",
            "Epoch 119/300\n",
            "15/16 [===========================>..] - ETA: 0s - loss: 0.0557 - accuracy: 0.9854\n",
            "Epoch 119: val_accuracy did not improve from 0.76159\n",
            "16/16 [==============================] - 1s 42ms/step - loss: 0.0566 - accuracy: 0.9851 - val_loss: 1.0725 - val_accuracy: 0.7020\n",
            "Epoch 120/300\n",
            "15/16 [===========================>..] - ETA: 0s - loss: 0.0613 - accuracy: 0.9812\n",
            "Epoch 120: val_accuracy did not improve from 0.76159\n",
            "16/16 [==============================] - 1s 41ms/step - loss: 0.0611 - accuracy: 0.9802 - val_loss: 1.0487 - val_accuracy: 0.7119\n",
            "Epoch 121/300\n",
            "15/16 [===========================>..] - ETA: 0s - loss: 0.0697 - accuracy: 0.9781\n",
            "Epoch 121: val_accuracy did not improve from 0.76159\n",
            "16/16 [==============================] - 1s 42ms/step - loss: 0.0681 - accuracy: 0.9782 - val_loss: 1.6814 - val_accuracy: 0.6225\n",
            "Epoch 122/300\n",
            "15/16 [===========================>..] - ETA: 0s - loss: 0.0621 - accuracy: 0.9802\n",
            "Epoch 122: val_accuracy did not improve from 0.76159\n",
            "16/16 [==============================] - 1s 42ms/step - loss: 0.0644 - accuracy: 0.9792 - val_loss: 1.4459 - val_accuracy: 0.6656\n",
            "Epoch 123/300\n",
            "15/16 [===========================>..] - ETA: 0s - loss: 0.0540 - accuracy: 0.9823\n",
            "Epoch 123: val_accuracy did not improve from 0.76159\n",
            "16/16 [==============================] - 1s 41ms/step - loss: 0.0553 - accuracy: 0.9821 - val_loss: 1.1691 - val_accuracy: 0.6755\n",
            "Epoch 124/300\n",
            "15/16 [===========================>..] - ETA: 0s - loss: 0.0738 - accuracy: 0.9792\n",
            "Epoch 124: val_accuracy did not improve from 0.76159\n",
            "16/16 [==============================] - 1s 42ms/step - loss: 0.0731 - accuracy: 0.9792 - val_loss: 0.8748 - val_accuracy: 0.7450\n",
            "Epoch 125/300\n",
            "15/16 [===========================>..] - ETA: 0s - loss: 0.0734 - accuracy: 0.9854\n",
            "Epoch 125: val_accuracy did not improve from 0.76159\n",
            "16/16 [==============================] - 1s 42ms/step - loss: 0.0714 - accuracy: 0.9861 - val_loss: 1.3774 - val_accuracy: 0.6854\n",
            "Epoch 126/300\n",
            "15/16 [===========================>..] - ETA: 0s - loss: 0.0500 - accuracy: 0.9823\n",
            "Epoch 126: val_accuracy did not improve from 0.76159\n",
            "16/16 [==============================] - 1s 42ms/step - loss: 0.0507 - accuracy: 0.9821 - val_loss: 1.9767 - val_accuracy: 0.5861\n",
            "Epoch 127/300\n",
            "15/16 [===========================>..] - ETA: 0s - loss: 0.0499 - accuracy: 0.9917\n",
            "Epoch 127: val_accuracy did not improve from 0.76159\n",
            "16/16 [==============================] - 1s 41ms/step - loss: 0.0502 - accuracy: 0.9911 - val_loss: 1.1700 - val_accuracy: 0.7219\n",
            "Epoch 128/300\n",
            "15/16 [===========================>..] - ETA: 0s - loss: 0.0417 - accuracy: 0.9865\n",
            "Epoch 128: val_accuracy did not improve from 0.76159\n",
            "16/16 [==============================] - 1s 42ms/step - loss: 0.0422 - accuracy: 0.9861 - val_loss: 0.9348 - val_accuracy: 0.7318\n",
            "Epoch 129/300\n",
            "15/16 [===========================>..] - ETA: 0s - loss: 0.0392 - accuracy: 0.9865\n",
            "Epoch 129: val_accuracy did not improve from 0.76159\n",
            "16/16 [==============================] - 1s 41ms/step - loss: 0.0406 - accuracy: 0.9861 - val_loss: 1.1991 - val_accuracy: 0.6722\n",
            "Epoch 130/300\n",
            "15/16 [===========================>..] - ETA: 0s - loss: 0.0501 - accuracy: 0.9875\n",
            "Epoch 130: val_accuracy did not improve from 0.76159\n",
            "16/16 [==============================] - 1s 41ms/step - loss: 0.0524 - accuracy: 0.9861 - val_loss: 0.9499 - val_accuracy: 0.7450\n",
            "Epoch 131/300\n",
            "15/16 [===========================>..] - ETA: 0s - loss: 0.0531 - accuracy: 0.9802\n",
            "Epoch 131: val_accuracy did not improve from 0.76159\n",
            "16/16 [==============================] - 1s 41ms/step - loss: 0.0546 - accuracy: 0.9792 - val_loss: 1.1516 - val_accuracy: 0.6921\n",
            "Epoch 132/300\n",
            "15/16 [===========================>..] - ETA: 0s - loss: 0.0531 - accuracy: 0.9823\n",
            "Epoch 132: val_accuracy did not improve from 0.76159\n",
            "16/16 [==============================] - 1s 41ms/step - loss: 0.0539 - accuracy: 0.9812 - val_loss: 1.4628 - val_accuracy: 0.6358\n",
            "Epoch 133/300\n",
            "15/16 [===========================>..] - ETA: 0s - loss: 0.0628 - accuracy: 0.9740\n",
            "Epoch 133: val_accuracy did not improve from 0.76159\n",
            "16/16 [==============================] - 1s 42ms/step - loss: 0.0628 - accuracy: 0.9742 - val_loss: 1.3926 - val_accuracy: 0.6358\n",
            "Epoch 134/300\n",
            "15/16 [===========================>..] - ETA: 0s - loss: 0.0533 - accuracy: 0.9844\n",
            "Epoch 134: val_accuracy did not improve from 0.76159\n",
            "16/16 [==============================] - 1s 43ms/step - loss: 0.0582 - accuracy: 0.9802 - val_loss: 1.4246 - val_accuracy: 0.6755\n",
            "Epoch 135/300\n",
            "15/16 [===========================>..] - ETA: 0s - loss: 0.0381 - accuracy: 0.9906\n",
            "Epoch 135: val_accuracy did not improve from 0.76159\n",
            "16/16 [==============================] - 1s 42ms/step - loss: 0.0371 - accuracy: 0.9911 - val_loss: 0.9081 - val_accuracy: 0.7483\n",
            "Epoch 136/300\n",
            "15/16 [===========================>..] - ETA: 0s - loss: 0.0487 - accuracy: 0.9865\n",
            "Epoch 136: val_accuracy did not improve from 0.76159\n",
            "16/16 [==============================] - 1s 41ms/step - loss: 0.0470 - accuracy: 0.9871 - val_loss: 1.8123 - val_accuracy: 0.6126\n",
            "Epoch 137/300\n",
            "15/16 [===========================>..] - ETA: 0s - loss: 0.0319 - accuracy: 0.9937\n",
            "Epoch 137: val_accuracy did not improve from 0.76159\n",
            "16/16 [==============================] - 1s 42ms/step - loss: 0.0307 - accuracy: 0.9940 - val_loss: 1.0183 - val_accuracy: 0.7384\n",
            "Epoch 138/300\n",
            "15/16 [===========================>..] - ETA: 0s - loss: 0.0331 - accuracy: 0.9906\n",
            "Epoch 138: val_accuracy did not improve from 0.76159\n",
            "16/16 [==============================] - 1s 43ms/step - loss: 0.0321 - accuracy: 0.9911 - val_loss: 0.9818 - val_accuracy: 0.7583\n",
            "Epoch 139/300\n",
            "15/16 [===========================>..] - ETA: 0s - loss: 0.0478 - accuracy: 0.9875\n",
            "Epoch 139: val_accuracy did not improve from 0.76159\n",
            "16/16 [==============================] - 1s 42ms/step - loss: 0.0466 - accuracy: 0.9881 - val_loss: 1.6105 - val_accuracy: 0.6291\n",
            "Epoch 140/300\n",
            "15/16 [===========================>..] - ETA: 0s - loss: 0.0351 - accuracy: 0.9885\n",
            "Epoch 140: val_accuracy did not improve from 0.76159\n",
            "16/16 [==============================] - 1s 42ms/step - loss: 0.0346 - accuracy: 0.9891 - val_loss: 1.2154 - val_accuracy: 0.6954\n",
            "Epoch 141/300\n",
            "15/16 [===========================>..] - ETA: 0s - loss: 0.0430 - accuracy: 0.9906\n",
            "Epoch 141: val_accuracy did not improve from 0.76159\n",
            "16/16 [==============================] - 1s 47ms/step - loss: 0.0431 - accuracy: 0.9901 - val_loss: 1.2482 - val_accuracy: 0.6854\n",
            "Epoch 142/300\n",
            "15/16 [===========================>..] - ETA: 0s - loss: 0.0479 - accuracy: 0.9844\n",
            "Epoch 142: val_accuracy did not improve from 0.76159\n",
            "16/16 [==============================] - 1s 42ms/step - loss: 0.0500 - accuracy: 0.9831 - val_loss: 1.1613 - val_accuracy: 0.7119\n",
            "Epoch 143/300\n",
            "15/16 [===========================>..] - ETA: 0s - loss: 0.0436 - accuracy: 0.9854\n",
            "Epoch 143: val_accuracy did not improve from 0.76159\n",
            "16/16 [==============================] - 1s 41ms/step - loss: 0.0466 - accuracy: 0.9851 - val_loss: 1.0950 - val_accuracy: 0.7152\n",
            "Epoch 144/300\n",
            "15/16 [===========================>..] - ETA: 0s - loss: 0.0515 - accuracy: 0.9833\n",
            "Epoch 144: val_accuracy did not improve from 0.76159\n",
            "16/16 [==============================] - 1s 42ms/step - loss: 0.0551 - accuracy: 0.9802 - val_loss: 1.6190 - val_accuracy: 0.6556\n",
            "Epoch 145/300\n",
            "15/16 [===========================>..] - ETA: 0s - loss: 0.0405 - accuracy: 0.9885\n",
            "Epoch 145: val_accuracy did not improve from 0.76159\n",
            "16/16 [==============================] - 1s 43ms/step - loss: 0.0401 - accuracy: 0.9891 - val_loss: 1.2915 - val_accuracy: 0.7185\n",
            "Epoch 146/300\n",
            "15/16 [===========================>..] - ETA: 0s - loss: 0.0386 - accuracy: 0.9875\n",
            "Epoch 146: val_accuracy did not improve from 0.76159\n",
            "16/16 [==============================] - 1s 42ms/step - loss: 0.0385 - accuracy: 0.9871 - val_loss: 0.9544 - val_accuracy: 0.7550\n",
            "Epoch 147/300\n",
            "15/16 [===========================>..] - ETA: 0s - loss: 0.0373 - accuracy: 0.9896\n",
            "Epoch 147: val_accuracy did not improve from 0.76159\n",
            "16/16 [==============================] - 1s 43ms/step - loss: 0.0402 - accuracy: 0.9881 - val_loss: 1.4315 - val_accuracy: 0.6457\n",
            "Epoch 148/300\n",
            "15/16 [===========================>..] - ETA: 0s - loss: 0.0569 - accuracy: 0.9781\n",
            "Epoch 148: val_accuracy did not improve from 0.76159\n",
            "16/16 [==============================] - 1s 41ms/step - loss: 0.0549 - accuracy: 0.9792 - val_loss: 1.6757 - val_accuracy: 0.6358\n",
            "Epoch 149/300\n",
            "15/16 [===========================>..] - ETA: 0s - loss: 0.0492 - accuracy: 0.9844\n",
            "Epoch 149: val_accuracy did not improve from 0.76159\n",
            "16/16 [==============================] - 1s 43ms/step - loss: 0.0486 - accuracy: 0.9841 - val_loss: 2.0079 - val_accuracy: 0.6026\n",
            "Epoch 150/300\n",
            "15/16 [===========================>..] - ETA: 0s - loss: 0.0459 - accuracy: 0.9885\n",
            "Epoch 150: val_accuracy did not improve from 0.76159\n",
            "16/16 [==============================] - 1s 42ms/step - loss: 0.0445 - accuracy: 0.9891 - val_loss: 1.6031 - val_accuracy: 0.6589\n",
            "Epoch 151/300\n",
            "15/16 [===========================>..] - ETA: 0s - loss: 0.0541 - accuracy: 0.9854\n",
            "Epoch 151: val_accuracy did not improve from 0.76159\n",
            "16/16 [==============================] - 1s 41ms/step - loss: 0.0540 - accuracy: 0.9861 - val_loss: 1.5824 - val_accuracy: 0.6623\n",
            "Epoch 152/300\n",
            "15/16 [===========================>..] - ETA: 0s - loss: 0.0536 - accuracy: 0.9833\n",
            "Epoch 152: val_accuracy did not improve from 0.76159\n",
            "16/16 [==============================] - 1s 41ms/step - loss: 0.0542 - accuracy: 0.9831 - val_loss: 1.6721 - val_accuracy: 0.6291\n",
            "Epoch 153/300\n",
            "15/16 [===========================>..] - ETA: 0s - loss: 0.0547 - accuracy: 0.9833\n",
            "Epoch 153: val_accuracy did not improve from 0.76159\n",
            "16/16 [==============================] - 1s 42ms/step - loss: 0.0528 - accuracy: 0.9841 - val_loss: 1.4027 - val_accuracy: 0.6921\n",
            "Epoch 154/300\n",
            "15/16 [===========================>..] - ETA: 0s - loss: 0.0488 - accuracy: 0.9865\n",
            "Epoch 154: val_accuracy did not improve from 0.76159\n",
            "16/16 [==============================] - 1s 43ms/step - loss: 0.0476 - accuracy: 0.9871 - val_loss: 1.1549 - val_accuracy: 0.7384\n",
            "Epoch 155/300\n",
            "15/16 [===========================>..] - ETA: 0s - loss: 0.0450 - accuracy: 0.9896\n",
            "Epoch 155: val_accuracy did not improve from 0.76159\n",
            "16/16 [==============================] - 1s 42ms/step - loss: 0.0443 - accuracy: 0.9901 - val_loss: 1.9625 - val_accuracy: 0.6093\n",
            "Epoch 156/300\n",
            "15/16 [===========================>..] - ETA: 0s - loss: 0.0417 - accuracy: 0.9875\n",
            "Epoch 156: val_accuracy did not improve from 0.76159\n",
            "16/16 [==============================] - 1s 41ms/step - loss: 0.0451 - accuracy: 0.9871 - val_loss: 1.0873 - val_accuracy: 0.7086\n",
            "Epoch 157/300\n",
            "15/16 [===========================>..] - ETA: 0s - loss: 0.0391 - accuracy: 0.9885\n",
            "Epoch 157: val_accuracy did not improve from 0.76159\n",
            "16/16 [==============================] - 1s 42ms/step - loss: 0.0378 - accuracy: 0.9891 - val_loss: 1.1333 - val_accuracy: 0.7152\n",
            "Epoch 158/300\n",
            "15/16 [===========================>..] - ETA: 0s - loss: 0.0529 - accuracy: 0.9802\n",
            "Epoch 158: val_accuracy did not improve from 0.76159\n",
            "16/16 [==============================] - 1s 42ms/step - loss: 0.0527 - accuracy: 0.9802 - val_loss: 1.8171 - val_accuracy: 0.5960\n",
            "Epoch 159/300\n",
            "15/16 [===========================>..] - ETA: 0s - loss: 0.0539 - accuracy: 0.9823\n",
            "Epoch 159: val_accuracy did not improve from 0.76159\n",
            "16/16 [==============================] - 1s 42ms/step - loss: 0.0561 - accuracy: 0.9821 - val_loss: 1.9030 - val_accuracy: 0.6060\n",
            "Epoch 160/300\n",
            "15/16 [===========================>..] - ETA: 0s - loss: 0.0516 - accuracy: 0.9812\n",
            "Epoch 160: val_accuracy did not improve from 0.76159\n",
            "16/16 [==============================] - 1s 42ms/step - loss: 0.0511 - accuracy: 0.9812 - val_loss: 1.7203 - val_accuracy: 0.6424\n",
            "Epoch 161/300\n",
            "15/16 [===========================>..] - ETA: 0s - loss: 0.0499 - accuracy: 0.9875\n",
            "Epoch 161: val_accuracy did not improve from 0.76159\n",
            "16/16 [==============================] - 1s 42ms/step - loss: 0.0518 - accuracy: 0.9861 - val_loss: 1.6580 - val_accuracy: 0.6291\n",
            "Epoch 162/300\n",
            "15/16 [===========================>..] - ETA: 0s - loss: 0.0387 - accuracy: 0.9885\n",
            "Epoch 162: val_accuracy did not improve from 0.76159\n",
            "16/16 [==============================] - 1s 43ms/step - loss: 0.0387 - accuracy: 0.9881 - val_loss: 1.3392 - val_accuracy: 0.6722\n",
            "Epoch 163/300\n",
            "15/16 [===========================>..] - ETA: 0s - loss: 0.0368 - accuracy: 0.9875\n",
            "Epoch 163: val_accuracy did not improve from 0.76159\n",
            "16/16 [==============================] - 1s 42ms/step - loss: 0.0367 - accuracy: 0.9871 - val_loss: 1.3387 - val_accuracy: 0.6755\n",
            "Epoch 164/300\n",
            "15/16 [===========================>..] - ETA: 0s - loss: 0.0556 - accuracy: 0.9760\n",
            "Epoch 164: val_accuracy did not improve from 0.76159\n",
            "16/16 [==============================] - 1s 42ms/step - loss: 0.0533 - accuracy: 0.9772 - val_loss: 1.0036 - val_accuracy: 0.7351\n",
            "Epoch 165/300\n",
            "15/16 [===========================>..] - ETA: 0s - loss: 0.0624 - accuracy: 0.9823\n",
            "Epoch 165: val_accuracy did not improve from 0.76159\n",
            "16/16 [==============================] - 1s 42ms/step - loss: 0.0601 - accuracy: 0.9831 - val_loss: 1.0188 - val_accuracy: 0.7252\n",
            "Epoch 166/300\n",
            "15/16 [===========================>..] - ETA: 0s - loss: 0.0522 - accuracy: 0.9792\n",
            "Epoch 166: val_accuracy did not improve from 0.76159\n",
            "16/16 [==============================] - 1s 41ms/step - loss: 0.0521 - accuracy: 0.9792 - val_loss: 1.0712 - val_accuracy: 0.7119\n",
            "Epoch 167/300\n",
            "15/16 [===========================>..] - ETA: 0s - loss: 0.0326 - accuracy: 0.9948\n",
            "Epoch 167: val_accuracy did not improve from 0.76159\n",
            "16/16 [==============================] - 1s 41ms/step - loss: 0.0331 - accuracy: 0.9950 - val_loss: 0.9787 - val_accuracy: 0.7252\n",
            "Epoch 168/300\n",
            "15/16 [===========================>..] - ETA: 0s - loss: 0.0442 - accuracy: 0.9885\n",
            "Epoch 168: val_accuracy did not improve from 0.76159\n",
            "16/16 [==============================] - 1s 42ms/step - loss: 0.0429 - accuracy: 0.9891 - val_loss: 1.1117 - val_accuracy: 0.7086\n",
            "Epoch 169/300\n",
            "15/16 [===========================>..] - ETA: 0s - loss: 0.0386 - accuracy: 0.9875\n",
            "Epoch 169: val_accuracy did not improve from 0.76159\n",
            "16/16 [==============================] - 1s 42ms/step - loss: 0.0407 - accuracy: 0.9861 - val_loss: 1.5578 - val_accuracy: 0.6656\n",
            "Epoch 170/300\n",
            "15/16 [===========================>..] - ETA: 0s - loss: 0.0474 - accuracy: 0.9844\n",
            "Epoch 170: val_accuracy did not improve from 0.76159\n",
            "16/16 [==============================] - 1s 42ms/step - loss: 0.0487 - accuracy: 0.9841 - val_loss: 1.5898 - val_accuracy: 0.6589\n",
            "Epoch 171/300\n",
            "15/16 [===========================>..] - ETA: 0s - loss: 0.0585 - accuracy: 0.9844\n",
            "Epoch 171: val_accuracy did not improve from 0.76159\n",
            "16/16 [==============================] - 1s 41ms/step - loss: 0.0562 - accuracy: 0.9851 - val_loss: 1.9408 - val_accuracy: 0.6258\n",
            "Epoch 172/300\n",
            "15/16 [===========================>..] - ETA: 0s - loss: 0.0771 - accuracy: 0.9802\n",
            "Epoch 172: val_accuracy did not improve from 0.76159\n",
            "16/16 [==============================] - 1s 42ms/step - loss: 0.0741 - accuracy: 0.9812 - val_loss: 2.1811 - val_accuracy: 0.5728\n",
            "Epoch 173/300\n",
            "15/16 [===========================>..] - ETA: 0s - loss: 0.0501 - accuracy: 0.9844\n",
            "Epoch 173: val_accuracy did not improve from 0.76159\n",
            "16/16 [==============================] - 1s 42ms/step - loss: 0.0515 - accuracy: 0.9841 - val_loss: 1.5010 - val_accuracy: 0.6391\n",
            "Epoch 174/300\n",
            "15/16 [===========================>..] - ETA: 0s - loss: 0.0464 - accuracy: 0.9854\n",
            "Epoch 174: val_accuracy did not improve from 0.76159\n",
            "16/16 [==============================] - 1s 42ms/step - loss: 0.0458 - accuracy: 0.9861 - val_loss: 1.6108 - val_accuracy: 0.6325\n",
            "Epoch 175/300\n",
            "15/16 [===========================>..] - ETA: 0s - loss: 0.0473 - accuracy: 0.9865\n",
            "Epoch 175: val_accuracy improved from 0.76159 to 0.76490, saving model to /content/drive/MyDrive/THSIS/rav_tess_dataset/best_model/mymodel.h5\n",
            "16/16 [==============================] - 1s 94ms/step - loss: 0.0464 - accuracy: 0.9861 - val_loss: 0.9427 - val_accuracy: 0.7649\n",
            "Epoch 176/300\n",
            "15/16 [===========================>..] - ETA: 0s - loss: 0.0444 - accuracy: 0.9792\n",
            "Epoch 176: val_accuracy did not improve from 0.76490\n",
            "16/16 [==============================] - 1s 43ms/step - loss: 0.0464 - accuracy: 0.9792 - val_loss: 1.1598 - val_accuracy: 0.7185\n",
            "Epoch 177/300\n",
            "15/16 [===========================>..] - ETA: 0s - loss: 0.0318 - accuracy: 0.9885\n",
            "Epoch 177: val_accuracy did not improve from 0.76490\n",
            "16/16 [==============================] - 1s 42ms/step - loss: 0.0310 - accuracy: 0.9891 - val_loss: 1.3558 - val_accuracy: 0.7020\n",
            "Epoch 178/300\n",
            "15/16 [===========================>..] - ETA: 0s - loss: 0.0410 - accuracy: 0.9844\n",
            "Epoch 178: val_accuracy did not improve from 0.76490\n",
            "16/16 [==============================] - 1s 42ms/step - loss: 0.0407 - accuracy: 0.9841 - val_loss: 1.1911 - val_accuracy: 0.6954\n",
            "Epoch 179/300\n",
            "15/16 [===========================>..] - ETA: 0s - loss: 0.0318 - accuracy: 0.9906\n",
            "Epoch 179: val_accuracy did not improve from 0.76490\n",
            "16/16 [==============================] - 1s 42ms/step - loss: 0.0317 - accuracy: 0.9911 - val_loss: 1.6568 - val_accuracy: 0.6258\n",
            "Epoch 180/300\n",
            "15/16 [===========================>..] - ETA: 0s - loss: 0.0424 - accuracy: 0.9885\n",
            "Epoch 180: val_accuracy did not improve from 0.76490\n",
            "16/16 [==============================] - 1s 42ms/step - loss: 0.0434 - accuracy: 0.9881 - val_loss: 1.3553 - val_accuracy: 0.6954\n",
            "Epoch 181/300\n",
            "15/16 [===========================>..] - ETA: 0s - loss: 0.0406 - accuracy: 0.9917\n",
            "Epoch 181: val_accuracy did not improve from 0.76490\n",
            "16/16 [==============================] - 1s 41ms/step - loss: 0.0409 - accuracy: 0.9911 - val_loss: 1.2594 - val_accuracy: 0.6954\n",
            "Epoch 182/300\n",
            "15/16 [===========================>..] - ETA: 0s - loss: 0.0415 - accuracy: 0.9875\n",
            "Epoch 182: val_accuracy did not improve from 0.76490\n",
            "16/16 [==============================] - 1s 42ms/step - loss: 0.0405 - accuracy: 0.9881 - val_loss: 1.8607 - val_accuracy: 0.5762\n",
            "Epoch 183/300\n",
            "15/16 [===========================>..] - ETA: 0s - loss: 0.0573 - accuracy: 0.9865\n",
            "Epoch 183: val_accuracy did not improve from 0.76490\n",
            "16/16 [==============================] - 1s 42ms/step - loss: 0.0561 - accuracy: 0.9871 - val_loss: 1.1874 - val_accuracy: 0.7086\n",
            "Epoch 184/300\n",
            "15/16 [===========================>..] - ETA: 0s - loss: 0.0587 - accuracy: 0.9844\n",
            "Epoch 184: val_accuracy did not improve from 0.76490\n",
            "16/16 [==============================] - 1s 42ms/step - loss: 0.0562 - accuracy: 0.9851 - val_loss: 1.2441 - val_accuracy: 0.7119\n",
            "Epoch 185/300\n",
            "15/16 [===========================>..] - ETA: 0s - loss: 0.0461 - accuracy: 0.9865\n",
            "Epoch 185: val_accuracy did not improve from 0.76490\n",
            "16/16 [==============================] - 1s 41ms/step - loss: 0.0473 - accuracy: 0.9861 - val_loss: 1.4866 - val_accuracy: 0.6887\n",
            "Epoch 186/300\n",
            "15/16 [===========================>..] - ETA: 0s - loss: 0.0543 - accuracy: 0.9833\n",
            "Epoch 186: val_accuracy did not improve from 0.76490\n",
            "16/16 [==============================] - 1s 41ms/step - loss: 0.0537 - accuracy: 0.9831 - val_loss: 1.4741 - val_accuracy: 0.6358\n",
            "Epoch 187/300\n",
            "15/16 [===========================>..] - ETA: 0s - loss: 0.0468 - accuracy: 0.9844\n",
            "Epoch 187: val_accuracy did not improve from 0.76490\n",
            "16/16 [==============================] - 1s 43ms/step - loss: 0.0451 - accuracy: 0.9851 - val_loss: 1.0291 - val_accuracy: 0.7086\n",
            "Epoch 188/300\n",
            "15/16 [===========================>..] - ETA: 0s - loss: 0.0379 - accuracy: 0.9906\n",
            "Epoch 188: val_accuracy did not improve from 0.76490\n",
            "16/16 [==============================] - 1s 42ms/step - loss: 0.0380 - accuracy: 0.9911 - val_loss: 1.2937 - val_accuracy: 0.6921\n",
            "Epoch 189/300\n",
            "15/16 [===========================>..] - ETA: 0s - loss: 0.0453 - accuracy: 0.9865\n",
            "Epoch 189: val_accuracy did not improve from 0.76490\n",
            "16/16 [==============================] - 1s 42ms/step - loss: 0.0444 - accuracy: 0.9861 - val_loss: 1.4412 - val_accuracy: 0.6821\n",
            "Epoch 190/300\n",
            "15/16 [===========================>..] - ETA: 0s - loss: 0.0344 - accuracy: 0.9906\n",
            "Epoch 190: val_accuracy did not improve from 0.76490\n",
            "16/16 [==============================] - 1s 42ms/step - loss: 0.0332 - accuracy: 0.9911 - val_loss: 1.1717 - val_accuracy: 0.7020\n",
            "Epoch 191/300\n",
            "15/16 [===========================>..] - ETA: 0s - loss: 0.0321 - accuracy: 0.9885\n",
            "Epoch 191: val_accuracy did not improve from 0.76490\n",
            "16/16 [==============================] - 1s 42ms/step - loss: 0.0322 - accuracy: 0.9881 - val_loss: 1.1248 - val_accuracy: 0.7219\n",
            "Epoch 192/300\n",
            "15/16 [===========================>..] - ETA: 0s - loss: 0.0415 - accuracy: 0.9906\n",
            "Epoch 192: val_accuracy did not improve from 0.76490\n",
            "16/16 [==============================] - 1s 42ms/step - loss: 0.0406 - accuracy: 0.9911 - val_loss: 1.5433 - val_accuracy: 0.6589\n",
            "Epoch 193/300\n",
            "15/16 [===========================>..] - ETA: 0s - loss: 0.0348 - accuracy: 0.9896\n",
            "Epoch 193: val_accuracy did not improve from 0.76490\n",
            "16/16 [==============================] - 1s 42ms/step - loss: 0.0381 - accuracy: 0.9871 - val_loss: 1.8558 - val_accuracy: 0.6391\n",
            "Epoch 194/300\n",
            "15/16 [===========================>..] - ETA: 0s - loss: 0.0377 - accuracy: 0.9885\n",
            "Epoch 194: val_accuracy did not improve from 0.76490\n",
            "16/16 [==============================] - 1s 42ms/step - loss: 0.0393 - accuracy: 0.9871 - val_loss: 1.4060 - val_accuracy: 0.6954\n",
            "Epoch 195/300\n",
            "15/16 [===========================>..] - ETA: 0s - loss: 0.0456 - accuracy: 0.9865\n",
            "Epoch 195: val_accuracy did not improve from 0.76490\n",
            "16/16 [==============================] - 1s 42ms/step - loss: 0.0451 - accuracy: 0.9861 - val_loss: 1.1328 - val_accuracy: 0.7119\n",
            "Epoch 196/300\n",
            "15/16 [===========================>..] - ETA: 0s - loss: 0.0292 - accuracy: 0.9917\n",
            "Epoch 196: val_accuracy did not improve from 0.76490\n",
            "16/16 [==============================] - 1s 42ms/step - loss: 0.0294 - accuracy: 0.9911 - val_loss: 1.3975 - val_accuracy: 0.6556\n",
            "Epoch 197/300\n",
            "15/16 [===========================>..] - ETA: 0s - loss: 0.0381 - accuracy: 0.9896\n",
            "Epoch 197: val_accuracy did not improve from 0.76490\n",
            "16/16 [==============================] - 1s 42ms/step - loss: 0.0373 - accuracy: 0.9901 - val_loss: 1.2728 - val_accuracy: 0.6854\n",
            "Epoch 198/300\n",
            "15/16 [===========================>..] - ETA: 0s - loss: 0.0618 - accuracy: 0.9812\n",
            "Epoch 198: val_accuracy did not improve from 0.76490\n",
            "16/16 [==============================] - 1s 49ms/step - loss: 0.0601 - accuracy: 0.9821 - val_loss: 0.9696 - val_accuracy: 0.7219\n",
            "Epoch 199/300\n",
            "15/16 [===========================>..] - ETA: 0s - loss: 0.0392 - accuracy: 0.9896\n",
            "Epoch 199: val_accuracy did not improve from 0.76490\n",
            "16/16 [==============================] - 1s 49ms/step - loss: 0.0387 - accuracy: 0.9901 - val_loss: 1.2841 - val_accuracy: 0.7185\n",
            "Epoch 200/300\n",
            "15/16 [===========================>..] - ETA: 0s - loss: 0.0402 - accuracy: 0.9885\n",
            "Epoch 200: val_accuracy did not improve from 0.76490\n",
            "16/16 [==============================] - 1s 44ms/step - loss: 0.0450 - accuracy: 0.9881 - val_loss: 1.0943 - val_accuracy: 0.7152\n",
            "Epoch 201/300\n",
            "15/16 [===========================>..] - ETA: 0s - loss: 0.0359 - accuracy: 0.9875\n",
            "Epoch 201: val_accuracy did not improve from 0.76490\n",
            "16/16 [==============================] - 1s 43ms/step - loss: 0.0351 - accuracy: 0.9881 - val_loss: 1.6119 - val_accuracy: 0.6358\n",
            "Epoch 202/300\n",
            "15/16 [===========================>..] - ETA: 0s - loss: 0.0560 - accuracy: 0.9812\n",
            "Epoch 202: val_accuracy did not improve from 0.76490\n",
            "16/16 [==============================] - 1s 43ms/step - loss: 0.0559 - accuracy: 0.9821 - val_loss: 0.9240 - val_accuracy: 0.7616\n",
            "Epoch 203/300\n",
            "15/16 [===========================>..] - ETA: 0s - loss: 0.0394 - accuracy: 0.9875\n",
            "Epoch 203: val_accuracy did not improve from 0.76490\n",
            "16/16 [==============================] - 1s 42ms/step - loss: 0.0398 - accuracy: 0.9871 - val_loss: 1.8211 - val_accuracy: 0.6424\n",
            "Epoch 204/300\n",
            "15/16 [===========================>..] - ETA: 0s - loss: 0.0316 - accuracy: 0.9927\n",
            "Epoch 204: val_accuracy did not improve from 0.76490\n",
            "16/16 [==============================] - 1s 42ms/step - loss: 0.0376 - accuracy: 0.9891 - val_loss: 1.4421 - val_accuracy: 0.6921\n",
            "Epoch 205/300\n",
            "15/16 [===========================>..] - ETA: 0s - loss: 0.0344 - accuracy: 0.9896\n",
            "Epoch 205: val_accuracy did not improve from 0.76490\n",
            "16/16 [==============================] - 1s 42ms/step - loss: 0.0342 - accuracy: 0.9901 - val_loss: 1.5642 - val_accuracy: 0.6291\n",
            "Epoch 206/300\n",
            "15/16 [===========================>..] - ETA: 0s - loss: 0.0659 - accuracy: 0.9771\n",
            "Epoch 206: val_accuracy did not improve from 0.76490\n",
            "16/16 [==============================] - 1s 41ms/step - loss: 0.0648 - accuracy: 0.9782 - val_loss: 2.0872 - val_accuracy: 0.6325\n",
            "Epoch 207/300\n",
            "15/16 [===========================>..] - ETA: 0s - loss: 0.0421 - accuracy: 0.9854\n",
            "Epoch 207: val_accuracy did not improve from 0.76490\n",
            "16/16 [==============================] - 1s 42ms/step - loss: 0.0435 - accuracy: 0.9851 - val_loss: 1.1581 - val_accuracy: 0.7053\n",
            "Epoch 208/300\n",
            "15/16 [===========================>..] - ETA: 0s - loss: 0.0300 - accuracy: 0.9896\n",
            "Epoch 208: val_accuracy did not improve from 0.76490\n",
            "16/16 [==============================] - 1s 42ms/step - loss: 0.0342 - accuracy: 0.9871 - val_loss: 1.0639 - val_accuracy: 0.7252\n",
            "Epoch 209/300\n",
            "15/16 [===========================>..] - ETA: 0s - loss: 0.0269 - accuracy: 0.9927\n",
            "Epoch 209: val_accuracy did not improve from 0.76490\n",
            "16/16 [==============================] - 1s 43ms/step - loss: 0.0272 - accuracy: 0.9921 - val_loss: 0.8317 - val_accuracy: 0.7450\n",
            "Epoch 210/300\n",
            "15/16 [===========================>..] - ETA: 0s - loss: 0.0554 - accuracy: 0.9802\n",
            "Epoch 210: val_accuracy improved from 0.76490 to 0.77815, saving model to /content/drive/MyDrive/THSIS/rav_tess_dataset/best_model/mymodel.h5\n",
            "16/16 [==============================] - 1s 96ms/step - loss: 0.0546 - accuracy: 0.9802 - val_loss: 0.7918 - val_accuracy: 0.7781\n",
            "Epoch 211/300\n",
            "15/16 [===========================>..] - ETA: 0s - loss: 0.0263 - accuracy: 0.9927\n",
            "Epoch 211: val_accuracy did not improve from 0.77815\n",
            "16/16 [==============================] - 1s 42ms/step - loss: 0.0274 - accuracy: 0.9921 - val_loss: 0.8654 - val_accuracy: 0.7682\n",
            "Epoch 212/300\n",
            "15/16 [===========================>..] - ETA: 0s - loss: 0.0292 - accuracy: 0.9917\n",
            "Epoch 212: val_accuracy did not improve from 0.77815\n",
            "16/16 [==============================] - 1s 42ms/step - loss: 0.0286 - accuracy: 0.9921 - val_loss: 1.2273 - val_accuracy: 0.6954\n",
            "Epoch 213/300\n",
            "15/16 [===========================>..] - ETA: 0s - loss: 0.0344 - accuracy: 0.9875\n",
            "Epoch 213: val_accuracy did not improve from 0.77815\n",
            "16/16 [==============================] - 1s 42ms/step - loss: 0.0337 - accuracy: 0.9881 - val_loss: 0.9048 - val_accuracy: 0.7318\n",
            "Epoch 214/300\n",
            "15/16 [===========================>..] - ETA: 0s - loss: 0.0223 - accuracy: 0.9917\n",
            "Epoch 214: val_accuracy did not improve from 0.77815\n",
            "16/16 [==============================] - 1s 42ms/step - loss: 0.0224 - accuracy: 0.9921 - val_loss: 1.3492 - val_accuracy: 0.6788\n",
            "Epoch 215/300\n",
            "15/16 [===========================>..] - ETA: 0s - loss: 0.0231 - accuracy: 0.9958\n",
            "Epoch 215: val_accuracy did not improve from 0.77815\n",
            "16/16 [==============================] - 1s 43ms/step - loss: 0.0226 - accuracy: 0.9960 - val_loss: 1.4133 - val_accuracy: 0.6921\n",
            "Epoch 216/300\n",
            "15/16 [===========================>..] - ETA: 0s - loss: 0.0545 - accuracy: 0.9781\n",
            "Epoch 216: val_accuracy did not improve from 0.77815\n",
            "16/16 [==============================] - 1s 44ms/step - loss: 0.0527 - accuracy: 0.9792 - val_loss: 1.2146 - val_accuracy: 0.6987\n",
            "Epoch 217/300\n",
            "15/16 [===========================>..] - ETA: 0s - loss: 0.0334 - accuracy: 0.9865\n",
            "Epoch 217: val_accuracy did not improve from 0.77815\n",
            "16/16 [==============================] - 1s 43ms/step - loss: 0.0322 - accuracy: 0.9871 - val_loss: 1.6641 - val_accuracy: 0.6325\n",
            "Epoch 218/300\n",
            "15/16 [===========================>..] - ETA: 0s - loss: 0.0240 - accuracy: 0.9906\n",
            "Epoch 218: val_accuracy did not improve from 0.77815\n",
            "16/16 [==============================] - 1s 47ms/step - loss: 0.0233 - accuracy: 0.9911 - val_loss: 1.6647 - val_accuracy: 0.6623\n",
            "Epoch 219/300\n",
            "15/16 [===========================>..] - ETA: 0s - loss: 0.0458 - accuracy: 0.9865\n",
            "Epoch 219: val_accuracy did not improve from 0.77815\n",
            "16/16 [==============================] - 1s 43ms/step - loss: 0.0440 - accuracy: 0.9871 - val_loss: 2.4184 - val_accuracy: 0.5728\n",
            "Epoch 220/300\n",
            "15/16 [===========================>..] - ETA: 0s - loss: 0.0348 - accuracy: 0.9896\n",
            "Epoch 220: val_accuracy did not improve from 0.77815\n",
            "16/16 [==============================] - 1s 43ms/step - loss: 0.0335 - accuracy: 0.9901 - val_loss: 2.1590 - val_accuracy: 0.6060\n",
            "Epoch 221/300\n",
            "15/16 [===========================>..] - ETA: 0s - loss: 0.0275 - accuracy: 0.9937\n",
            "Epoch 221: val_accuracy did not improve from 0.77815\n",
            "16/16 [==============================] - 1s 42ms/step - loss: 0.0265 - accuracy: 0.9940 - val_loss: 2.6974 - val_accuracy: 0.4901\n",
            "Epoch 222/300\n",
            "15/16 [===========================>..] - ETA: 0s - loss: 0.0366 - accuracy: 0.9865\n",
            "Epoch 222: val_accuracy did not improve from 0.77815\n",
            "16/16 [==============================] - 1s 43ms/step - loss: 0.0358 - accuracy: 0.9871 - val_loss: 1.1431 - val_accuracy: 0.7318\n",
            "Epoch 223/300\n",
            "15/16 [===========================>..] - ETA: 0s - loss: 0.0228 - accuracy: 0.9937\n",
            "Epoch 223: val_accuracy did not improve from 0.77815\n",
            "16/16 [==============================] - 1s 42ms/step - loss: 0.0221 - accuracy: 0.9940 - val_loss: 1.0959 - val_accuracy: 0.7384\n",
            "Epoch 224/300\n",
            "15/16 [===========================>..] - ETA: 0s - loss: 0.0237 - accuracy: 0.9937\n",
            "Epoch 224: val_accuracy did not improve from 0.77815\n",
            "16/16 [==============================] - 1s 43ms/step - loss: 0.0241 - accuracy: 0.9931 - val_loss: 1.2927 - val_accuracy: 0.7152\n",
            "Epoch 225/300\n",
            "15/16 [===========================>..] - ETA: 0s - loss: 0.0154 - accuracy: 0.9969\n",
            "Epoch 225: val_accuracy did not improve from 0.77815\n",
            "16/16 [==============================] - 1s 44ms/step - loss: 0.0176 - accuracy: 0.9960 - val_loss: 1.5268 - val_accuracy: 0.6722\n",
            "Epoch 226/300\n",
            "15/16 [===========================>..] - ETA: 0s - loss: 0.0255 - accuracy: 0.9906\n",
            "Epoch 226: val_accuracy did not improve from 0.77815\n",
            "16/16 [==============================] - 1s 48ms/step - loss: 0.0270 - accuracy: 0.9891 - val_loss: 1.1913 - val_accuracy: 0.7185\n",
            "Epoch 227/300\n",
            "15/16 [===========================>..] - ETA: 0s - loss: 0.0450 - accuracy: 0.9854\n",
            "Epoch 227: val_accuracy did not improve from 0.77815\n",
            "16/16 [==============================] - 1s 42ms/step - loss: 0.0433 - accuracy: 0.9861 - val_loss: 1.1181 - val_accuracy: 0.7450\n",
            "Epoch 228/300\n",
            "15/16 [===========================>..] - ETA: 0s - loss: 0.0329 - accuracy: 0.9906\n",
            "Epoch 228: val_accuracy did not improve from 0.77815\n",
            "16/16 [==============================] - 1s 43ms/step - loss: 0.0318 - accuracy: 0.9911 - val_loss: 2.0220 - val_accuracy: 0.6358\n",
            "Epoch 229/300\n",
            "15/16 [===========================>..] - ETA: 0s - loss: 0.0326 - accuracy: 0.9906\n",
            "Epoch 229: val_accuracy improved from 0.77815 to 0.78146, saving model to /content/drive/MyDrive/THSIS/rav_tess_dataset/best_model/mymodel.h5\n",
            "16/16 [==============================] - 2s 106ms/step - loss: 0.0318 - accuracy: 0.9911 - val_loss: 0.8952 - val_accuracy: 0.7815\n",
            "Epoch 230/300\n",
            "15/16 [===========================>..] - ETA: 0s - loss: 0.0359 - accuracy: 0.9885\n",
            "Epoch 230: val_accuracy did not improve from 0.78146\n",
            "16/16 [==============================] - 1s 41ms/step - loss: 0.0347 - accuracy: 0.9891 - val_loss: 1.2177 - val_accuracy: 0.7086\n",
            "Epoch 231/300\n",
            "15/16 [===========================>..] - ETA: 0s - loss: 0.0398 - accuracy: 0.9875\n",
            "Epoch 231: val_accuracy did not improve from 0.78146\n",
            "16/16 [==============================] - 1s 43ms/step - loss: 0.0383 - accuracy: 0.9881 - val_loss: 1.3161 - val_accuracy: 0.6854\n",
            "Epoch 232/300\n",
            "15/16 [===========================>..] - ETA: 0s - loss: 0.0201 - accuracy: 0.9958\n",
            "Epoch 232: val_accuracy did not improve from 0.78146\n",
            "16/16 [==============================] - 1s 43ms/step - loss: 0.0234 - accuracy: 0.9950 - val_loss: 1.1462 - val_accuracy: 0.7185\n",
            "Epoch 233/300\n",
            "15/16 [===========================>..] - ETA: 0s - loss: 0.0309 - accuracy: 0.9927\n",
            "Epoch 233: val_accuracy did not improve from 0.78146\n",
            "16/16 [==============================] - 1s 44ms/step - loss: 0.0296 - accuracy: 0.9931 - val_loss: 1.4165 - val_accuracy: 0.6556\n",
            "Epoch 234/300\n",
            "15/16 [===========================>..] - ETA: 0s - loss: 0.0399 - accuracy: 0.9823\n",
            "Epoch 234: val_accuracy did not improve from 0.78146\n",
            "16/16 [==============================] - 1s 42ms/step - loss: 0.0382 - accuracy: 0.9831 - val_loss: 1.6399 - val_accuracy: 0.6490\n",
            "Epoch 235/300\n",
            "15/16 [===========================>..] - ETA: 0s - loss: 0.0255 - accuracy: 0.9927\n",
            "Epoch 235: val_accuracy did not improve from 0.78146\n",
            "16/16 [==============================] - 1s 43ms/step - loss: 0.0251 - accuracy: 0.9931 - val_loss: 2.9297 - val_accuracy: 0.5265\n",
            "Epoch 236/300\n",
            "15/16 [===========================>..] - ETA: 0s - loss: 0.0296 - accuracy: 0.9927\n",
            "Epoch 236: val_accuracy did not improve from 0.78146\n",
            "16/16 [==============================] - 1s 43ms/step - loss: 0.0289 - accuracy: 0.9931 - val_loss: 1.5960 - val_accuracy: 0.6689\n",
            "Epoch 237/300\n",
            "15/16 [===========================>..] - ETA: 0s - loss: 0.0254 - accuracy: 0.9948\n",
            "Epoch 237: val_accuracy did not improve from 0.78146\n",
            "16/16 [==============================] - 1s 42ms/step - loss: 0.0330 - accuracy: 0.9931 - val_loss: 1.4449 - val_accuracy: 0.6854\n",
            "Epoch 238/300\n",
            "15/16 [===========================>..] - ETA: 0s - loss: 0.0267 - accuracy: 0.9896\n",
            "Epoch 238: val_accuracy did not improve from 0.78146\n",
            "16/16 [==============================] - 1s 42ms/step - loss: 0.0259 - accuracy: 0.9901 - val_loss: 1.4449 - val_accuracy: 0.6954\n",
            "Epoch 239/300\n",
            "15/16 [===========================>..] - ETA: 0s - loss: 0.0490 - accuracy: 0.9854\n",
            "Epoch 239: val_accuracy did not improve from 0.78146\n",
            "16/16 [==============================] - 1s 42ms/step - loss: 0.0476 - accuracy: 0.9861 - val_loss: 1.8401 - val_accuracy: 0.6391\n",
            "Epoch 240/300\n",
            "15/16 [===========================>..] - ETA: 0s - loss: 0.0276 - accuracy: 0.9917\n",
            "Epoch 240: val_accuracy did not improve from 0.78146\n",
            "16/16 [==============================] - 1s 43ms/step - loss: 0.0275 - accuracy: 0.9911 - val_loss: 1.1916 - val_accuracy: 0.7020\n",
            "Epoch 241/300\n",
            "15/16 [===========================>..] - ETA: 0s - loss: 0.0189 - accuracy: 0.9958\n",
            "Epoch 241: val_accuracy did not improve from 0.78146\n",
            "16/16 [==============================] - 1s 42ms/step - loss: 0.0221 - accuracy: 0.9950 - val_loss: 1.2159 - val_accuracy: 0.7285\n",
            "Epoch 242/300\n",
            "15/16 [===========================>..] - ETA: 0s - loss: 0.0288 - accuracy: 0.9885\n",
            "Epoch 242: val_accuracy did not improve from 0.78146\n",
            "16/16 [==============================] - 1s 41ms/step - loss: 0.0281 - accuracy: 0.9891 - val_loss: 1.2056 - val_accuracy: 0.7252\n",
            "Epoch 243/300\n",
            "15/16 [===========================>..] - ETA: 0s - loss: 0.0266 - accuracy: 0.9906\n",
            "Epoch 243: val_accuracy did not improve from 0.78146\n",
            "16/16 [==============================] - 1s 42ms/step - loss: 0.0303 - accuracy: 0.9901 - val_loss: 1.0672 - val_accuracy: 0.7550\n",
            "Epoch 244/300\n",
            "15/16 [===========================>..] - ETA: 0s - loss: 0.0259 - accuracy: 0.9937\n",
            "Epoch 244: val_accuracy did not improve from 0.78146\n",
            "16/16 [==============================] - 1s 41ms/step - loss: 0.0258 - accuracy: 0.9940 - val_loss: 2.0243 - val_accuracy: 0.6589\n",
            "Epoch 245/300\n",
            "15/16 [===========================>..] - ETA: 0s - loss: 0.0257 - accuracy: 0.9937\n",
            "Epoch 245: val_accuracy did not improve from 0.78146\n",
            "16/16 [==============================] - 1s 42ms/step - loss: 0.0260 - accuracy: 0.9931 - val_loss: 1.9528 - val_accuracy: 0.6225\n",
            "Epoch 246/300\n",
            "15/16 [===========================>..] - ETA: 0s - loss: 0.0201 - accuracy: 0.9948\n",
            "Epoch 246: val_accuracy did not improve from 0.78146\n",
            "16/16 [==============================] - 1s 42ms/step - loss: 0.0195 - accuracy: 0.9950 - val_loss: 1.2309 - val_accuracy: 0.7185\n",
            "Epoch 247/300\n",
            "15/16 [===========================>..] - ETA: 0s - loss: 0.0288 - accuracy: 0.9917\n",
            "Epoch 247: val_accuracy did not improve from 0.78146\n",
            "16/16 [==============================] - 1s 42ms/step - loss: 0.0281 - accuracy: 0.9921 - val_loss: 1.2839 - val_accuracy: 0.6921\n",
            "Epoch 248/300\n",
            "15/16 [===========================>..] - ETA: 0s - loss: 0.0300 - accuracy: 0.9896\n",
            "Epoch 248: val_accuracy did not improve from 0.78146\n",
            "16/16 [==============================] - 1s 42ms/step - loss: 0.0293 - accuracy: 0.9901 - val_loss: 1.3404 - val_accuracy: 0.7053\n",
            "Epoch 249/300\n",
            "15/16 [===========================>..] - ETA: 0s - loss: 0.0322 - accuracy: 0.9896\n",
            "Epoch 249: val_accuracy did not improve from 0.78146\n",
            "16/16 [==============================] - 1s 42ms/step - loss: 0.0310 - accuracy: 0.9901 - val_loss: 2.1504 - val_accuracy: 0.5960\n",
            "Epoch 250/300\n",
            "15/16 [===========================>..] - ETA: 0s - loss: 0.0285 - accuracy: 0.9896\n",
            "Epoch 250: val_accuracy did not improve from 0.78146\n",
            "16/16 [==============================] - 1s 42ms/step - loss: 0.0309 - accuracy: 0.9881 - val_loss: 1.5999 - val_accuracy: 0.6954\n",
            "Epoch 251/300\n",
            "15/16 [===========================>..] - ETA: 0s - loss: 0.0328 - accuracy: 0.9917\n",
            "Epoch 251: val_accuracy did not improve from 0.78146\n",
            "16/16 [==============================] - 1s 41ms/step - loss: 0.0349 - accuracy: 0.9901 - val_loss: 1.3097 - val_accuracy: 0.7285\n",
            "Epoch 252/300\n",
            "15/16 [===========================>..] - ETA: 0s - loss: 0.0351 - accuracy: 0.9906\n",
            "Epoch 252: val_accuracy did not improve from 0.78146\n",
            "16/16 [==============================] - 1s 42ms/step - loss: 0.0345 - accuracy: 0.9911 - val_loss: 1.8056 - val_accuracy: 0.6258\n",
            "Epoch 253/300\n",
            "15/16 [===========================>..] - ETA: 0s - loss: 0.0235 - accuracy: 0.9906\n",
            "Epoch 253: val_accuracy did not improve from 0.78146\n",
            "16/16 [==============================] - 1s 42ms/step - loss: 0.0225 - accuracy: 0.9911 - val_loss: 1.9909 - val_accuracy: 0.6291\n",
            "Epoch 254/300\n",
            "15/16 [===========================>..] - ETA: 0s - loss: 0.0239 - accuracy: 0.9948\n",
            "Epoch 254: val_accuracy did not improve from 0.78146\n",
            "16/16 [==============================] - 1s 42ms/step - loss: 0.0233 - accuracy: 0.9950 - val_loss: 1.0057 - val_accuracy: 0.7384\n",
            "Epoch 255/300\n",
            "15/16 [===========================>..] - ETA: 0s - loss: 0.0281 - accuracy: 0.9948\n",
            "Epoch 255: val_accuracy did not improve from 0.78146\n",
            "16/16 [==============================] - 1s 43ms/step - loss: 0.0282 - accuracy: 0.9940 - val_loss: 1.3761 - val_accuracy: 0.6821\n",
            "Epoch 256/300\n",
            "15/16 [===========================>..] - ETA: 0s - loss: 0.0286 - accuracy: 0.9885\n",
            "Epoch 256: val_accuracy did not improve from 0.78146\n",
            "16/16 [==============================] - 1s 42ms/step - loss: 0.0277 - accuracy: 0.9891 - val_loss: 1.0087 - val_accuracy: 0.7351\n",
            "Epoch 257/300\n",
            "15/16 [===========================>..] - ETA: 0s - loss: 0.0662 - accuracy: 0.9760\n",
            "Epoch 257: val_accuracy did not improve from 0.78146\n",
            "16/16 [==============================] - 1s 42ms/step - loss: 0.0650 - accuracy: 0.9762 - val_loss: 1.1603 - val_accuracy: 0.7252\n",
            "Epoch 258/300\n",
            "15/16 [===========================>..] - ETA: 0s - loss: 0.0229 - accuracy: 0.9948\n",
            "Epoch 258: val_accuracy did not improve from 0.78146\n",
            "16/16 [==============================] - 1s 43ms/step - loss: 0.0237 - accuracy: 0.9940 - val_loss: 2.2205 - val_accuracy: 0.6026\n",
            "Epoch 259/300\n",
            "15/16 [===========================>..] - ETA: 0s - loss: 0.0188 - accuracy: 0.9937\n",
            "Epoch 259: val_accuracy did not improve from 0.78146\n",
            "16/16 [==============================] - 1s 42ms/step - loss: 0.0183 - accuracy: 0.9940 - val_loss: 1.2891 - val_accuracy: 0.7450\n",
            "Epoch 260/300\n",
            "15/16 [===========================>..] - ETA: 0s - loss: 0.0297 - accuracy: 0.9917\n",
            "Epoch 260: val_accuracy did not improve from 0.78146\n",
            "16/16 [==============================] - 1s 43ms/step - loss: 0.0285 - accuracy: 0.9921 - val_loss: 1.2860 - val_accuracy: 0.7252\n",
            "Epoch 261/300\n",
            "15/16 [===========================>..] - ETA: 0s - loss: 0.0211 - accuracy: 0.9917\n",
            "Epoch 261: val_accuracy did not improve from 0.78146\n",
            "16/16 [==============================] - 1s 43ms/step - loss: 0.0206 - accuracy: 0.9921 - val_loss: 1.0525 - val_accuracy: 0.7715\n",
            "Epoch 262/300\n",
            "15/16 [===========================>..] - ETA: 0s - loss: 0.0373 - accuracy: 0.9865\n",
            "Epoch 262: val_accuracy did not improve from 0.78146\n",
            "16/16 [==============================] - 1s 42ms/step - loss: 0.0369 - accuracy: 0.9871 - val_loss: 1.5365 - val_accuracy: 0.6821\n",
            "Epoch 263/300\n",
            "15/16 [===========================>..] - ETA: 0s - loss: 0.0155 - accuracy: 0.9948\n",
            "Epoch 263: val_accuracy did not improve from 0.78146\n",
            "16/16 [==============================] - 1s 43ms/step - loss: 0.0149 - accuracy: 0.9950 - val_loss: 1.2263 - val_accuracy: 0.7384\n",
            "Epoch 264/300\n",
            "15/16 [===========================>..] - ETA: 0s - loss: 0.0291 - accuracy: 0.9927\n",
            "Epoch 264: val_accuracy did not improve from 0.78146\n",
            "16/16 [==============================] - 1s 43ms/step - loss: 0.0296 - accuracy: 0.9921 - val_loss: 1.0249 - val_accuracy: 0.7384\n",
            "Epoch 265/300\n",
            "15/16 [===========================>..] - ETA: 0s - loss: 0.0278 - accuracy: 0.9937\n",
            "Epoch 265: val_accuracy did not improve from 0.78146\n",
            "16/16 [==============================] - 1s 42ms/step - loss: 0.0276 - accuracy: 0.9931 - val_loss: 0.9837 - val_accuracy: 0.7450\n",
            "Epoch 266/300\n",
            "15/16 [===========================>..] - ETA: 0s - loss: 0.0333 - accuracy: 0.9906\n",
            "Epoch 266: val_accuracy did not improve from 0.78146\n",
            "16/16 [==============================] - 1s 42ms/step - loss: 0.0319 - accuracy: 0.9911 - val_loss: 1.0623 - val_accuracy: 0.7252\n",
            "Epoch 267/300\n",
            "15/16 [===========================>..] - ETA: 0s - loss: 0.0346 - accuracy: 0.9865\n",
            "Epoch 267: val_accuracy improved from 0.78146 to 0.79470, saving model to /content/drive/MyDrive/THSIS/rav_tess_dataset/best_model/mymodel.h5\n",
            "16/16 [==============================] - 1s 94ms/step - loss: 0.0337 - accuracy: 0.9871 - val_loss: 0.8860 - val_accuracy: 0.7947\n",
            "Epoch 268/300\n",
            "15/16 [===========================>..] - ETA: 0s - loss: 0.0443 - accuracy: 0.9854\n",
            "Epoch 268: val_accuracy did not improve from 0.79470\n",
            "16/16 [==============================] - 1s 42ms/step - loss: 0.0430 - accuracy: 0.9861 - val_loss: 1.2639 - val_accuracy: 0.7318\n",
            "Epoch 269/300\n",
            "15/16 [===========================>..] - ETA: 0s - loss: 0.0288 - accuracy: 0.9896\n",
            "Epoch 269: val_accuracy did not improve from 0.79470\n",
            "16/16 [==============================] - 1s 43ms/step - loss: 0.0280 - accuracy: 0.9901 - val_loss: 1.0771 - val_accuracy: 0.7483\n",
            "Epoch 270/300\n",
            "15/16 [===========================>..] - ETA: 0s - loss: 0.0145 - accuracy: 0.9948\n",
            "Epoch 270: val_accuracy did not improve from 0.79470\n",
            "16/16 [==============================] - 1s 42ms/step - loss: 0.0149 - accuracy: 0.9950 - val_loss: 1.0968 - val_accuracy: 0.7583\n",
            "Epoch 271/300\n",
            "15/16 [===========================>..] - ETA: 0s - loss: 0.0272 - accuracy: 0.9927\n",
            "Epoch 271: val_accuracy did not improve from 0.79470\n",
            "16/16 [==============================] - 1s 42ms/step - loss: 0.0307 - accuracy: 0.9911 - val_loss: 1.4492 - val_accuracy: 0.7053\n",
            "Epoch 272/300\n",
            "15/16 [===========================>..] - ETA: 0s - loss: 0.0294 - accuracy: 0.9896\n",
            "Epoch 272: val_accuracy did not improve from 0.79470\n",
            "16/16 [==============================] - 1s 43ms/step - loss: 0.0284 - accuracy: 0.9901 - val_loss: 1.5335 - val_accuracy: 0.6921\n",
            "Epoch 273/300\n",
            "15/16 [===========================>..] - ETA: 0s - loss: 0.0245 - accuracy: 0.9937\n",
            "Epoch 273: val_accuracy did not improve from 0.79470\n",
            "16/16 [==============================] - 1s 42ms/step - loss: 0.0241 - accuracy: 0.9940 - val_loss: 1.6692 - val_accuracy: 0.6556\n",
            "Epoch 274/300\n",
            "15/16 [===========================>..] - ETA: 0s - loss: 0.0319 - accuracy: 0.9854\n",
            "Epoch 274: val_accuracy did not improve from 0.79470\n",
            "16/16 [==============================] - 1s 43ms/step - loss: 0.0312 - accuracy: 0.9861 - val_loss: 1.3908 - val_accuracy: 0.7185\n",
            "Epoch 275/300\n",
            "15/16 [===========================>..] - ETA: 0s - loss: 0.0250 - accuracy: 0.9927\n",
            "Epoch 275: val_accuracy did not improve from 0.79470\n",
            "16/16 [==============================] - 1s 42ms/step - loss: 0.0244 - accuracy: 0.9931 - val_loss: 1.1017 - val_accuracy: 0.7384\n",
            "Epoch 276/300\n",
            "15/16 [===========================>..] - ETA: 0s - loss: 0.0219 - accuracy: 0.9906\n",
            "Epoch 276: val_accuracy did not improve from 0.79470\n",
            "16/16 [==============================] - 1s 43ms/step - loss: 0.0244 - accuracy: 0.9901 - val_loss: 1.0757 - val_accuracy: 0.7152\n",
            "Epoch 277/300\n",
            "15/16 [===========================>..] - ETA: 0s - loss: 0.0175 - accuracy: 0.9948\n",
            "Epoch 277: val_accuracy did not improve from 0.79470\n",
            "16/16 [==============================] - 1s 42ms/step - loss: 0.0211 - accuracy: 0.9940 - val_loss: 1.2578 - val_accuracy: 0.7252\n",
            "Epoch 278/300\n",
            "15/16 [===========================>..] - ETA: 0s - loss: 0.0387 - accuracy: 0.9875\n",
            "Epoch 278: val_accuracy did not improve from 0.79470\n",
            "16/16 [==============================] - 1s 42ms/step - loss: 0.0369 - accuracy: 0.9881 - val_loss: 1.4785 - val_accuracy: 0.7285\n",
            "Epoch 279/300\n",
            "15/16 [===========================>..] - ETA: 0s - loss: 0.0377 - accuracy: 0.9896\n",
            "Epoch 279: val_accuracy did not improve from 0.79470\n",
            "16/16 [==============================] - 1s 42ms/step - loss: 0.0376 - accuracy: 0.9901 - val_loss: 1.6139 - val_accuracy: 0.6887\n",
            "Epoch 280/300\n",
            "15/16 [===========================>..] - ETA: 0s - loss: 0.0274 - accuracy: 0.9937\n",
            "Epoch 280: val_accuracy did not improve from 0.79470\n",
            "16/16 [==============================] - 1s 42ms/step - loss: 0.0267 - accuracy: 0.9940 - val_loss: 1.8670 - val_accuracy: 0.6556\n",
            "Epoch 281/300\n",
            "15/16 [===========================>..] - ETA: 0s - loss: 0.0174 - accuracy: 0.9927\n",
            "Epoch 281: val_accuracy did not improve from 0.79470\n",
            "16/16 [==============================] - 1s 43ms/step - loss: 0.0244 - accuracy: 0.9911 - val_loss: 1.7135 - val_accuracy: 0.6556\n",
            "Epoch 282/300\n",
            "15/16 [===========================>..] - ETA: 0s - loss: 0.0227 - accuracy: 0.9917\n",
            "Epoch 282: val_accuracy did not improve from 0.79470\n",
            "16/16 [==============================] - 1s 42ms/step - loss: 0.0240 - accuracy: 0.9911 - val_loss: 1.8421 - val_accuracy: 0.6722\n",
            "Epoch 283/300\n",
            "15/16 [===========================>..] - ETA: 0s - loss: 0.0278 - accuracy: 0.9906\n",
            "Epoch 283: val_accuracy did not improve from 0.79470\n",
            "16/16 [==============================] - 1s 42ms/step - loss: 0.0314 - accuracy: 0.9891 - val_loss: 1.3148 - val_accuracy: 0.7384\n",
            "Epoch 284/300\n",
            "15/16 [===========================>..] - ETA: 0s - loss: 0.0286 - accuracy: 0.9896\n",
            "Epoch 284: val_accuracy did not improve from 0.79470\n",
            "16/16 [==============================] - 1s 43ms/step - loss: 0.0322 - accuracy: 0.9891 - val_loss: 1.3724 - val_accuracy: 0.7152\n",
            "Epoch 285/300\n",
            "15/16 [===========================>..] - ETA: 0s - loss: 0.0259 - accuracy: 0.9917\n",
            "Epoch 285: val_accuracy did not improve from 0.79470\n",
            "16/16 [==============================] - 1s 42ms/step - loss: 0.0284 - accuracy: 0.9911 - val_loss: 1.3291 - val_accuracy: 0.7285\n",
            "Epoch 286/300\n",
            "15/16 [===========================>..] - ETA: 0s - loss: 0.0219 - accuracy: 0.9948\n",
            "Epoch 286: val_accuracy did not improve from 0.79470\n",
            "16/16 [==============================] - 1s 41ms/step - loss: 0.0224 - accuracy: 0.9950 - val_loss: 1.5236 - val_accuracy: 0.6987\n",
            "Epoch 287/300\n",
            "15/16 [===========================>..] - ETA: 0s - loss: 0.0283 - accuracy: 0.9917\n",
            "Epoch 287: val_accuracy did not improve from 0.79470\n",
            "16/16 [==============================] - 1s 42ms/step - loss: 0.0281 - accuracy: 0.9911 - val_loss: 1.5658 - val_accuracy: 0.6788\n",
            "Epoch 288/300\n",
            "15/16 [===========================>..] - ETA: 0s - loss: 0.0257 - accuracy: 0.9906\n",
            "Epoch 288: val_accuracy did not improve from 0.79470\n",
            "16/16 [==============================] - 1s 42ms/step - loss: 0.0254 - accuracy: 0.9901 - val_loss: 1.6392 - val_accuracy: 0.6623\n",
            "Epoch 289/300\n",
            "15/16 [===========================>..] - ETA: 0s - loss: 0.0178 - accuracy: 0.9937\n",
            "Epoch 289: val_accuracy did not improve from 0.79470\n",
            "16/16 [==============================] - 1s 43ms/step - loss: 0.0170 - accuracy: 0.9940 - val_loss: 1.1420 - val_accuracy: 0.7318\n",
            "Epoch 290/300\n",
            "15/16 [===========================>..] - ETA: 0s - loss: 0.0242 - accuracy: 0.9937\n",
            "Epoch 290: val_accuracy did not improve from 0.79470\n",
            "16/16 [==============================] - 1s 42ms/step - loss: 0.0255 - accuracy: 0.9931 - val_loss: 1.2497 - val_accuracy: 0.7152\n",
            "Epoch 291/300\n",
            "15/16 [===========================>..] - ETA: 0s - loss: 0.0202 - accuracy: 0.9917\n",
            "Epoch 291: val_accuracy did not improve from 0.79470\n",
            "16/16 [==============================] - 1s 42ms/step - loss: 0.0201 - accuracy: 0.9921 - val_loss: 1.4549 - val_accuracy: 0.7219\n",
            "Epoch 292/300\n",
            "15/16 [===========================>..] - ETA: 0s - loss: 0.0406 - accuracy: 0.9844\n",
            "Epoch 292: val_accuracy did not improve from 0.79470\n",
            "16/16 [==============================] - 1s 42ms/step - loss: 0.0392 - accuracy: 0.9851 - val_loss: 1.9330 - val_accuracy: 0.6722\n",
            "Epoch 293/300\n",
            "15/16 [===========================>..] - ETA: 0s - loss: 0.0182 - accuracy: 0.9937\n",
            "Epoch 293: val_accuracy did not improve from 0.79470\n",
            "16/16 [==============================] - 1s 43ms/step - loss: 0.0184 - accuracy: 0.9931 - val_loss: 1.6736 - val_accuracy: 0.6722\n",
            "Epoch 294/300\n",
            "15/16 [===========================>..] - ETA: 0s - loss: 0.0237 - accuracy: 0.9917\n",
            "Epoch 294: val_accuracy did not improve from 0.79470\n",
            "16/16 [==============================] - 1s 42ms/step - loss: 0.0247 - accuracy: 0.9911 - val_loss: 0.8866 - val_accuracy: 0.7417\n",
            "Epoch 295/300\n",
            "15/16 [===========================>..] - ETA: 0s - loss: 0.0098 - accuracy: 0.9979\n",
            "Epoch 295: val_accuracy did not improve from 0.79470\n",
            "16/16 [==============================] - 1s 42ms/step - loss: 0.0096 - accuracy: 0.9980 - val_loss: 1.5938 - val_accuracy: 0.6457\n",
            "Epoch 296/300\n",
            "15/16 [===========================>..] - ETA: 0s - loss: 0.0242 - accuracy: 0.9917\n",
            "Epoch 296: val_accuracy did not improve from 0.79470\n",
            "16/16 [==============================] - 1s 42ms/step - loss: 0.0240 - accuracy: 0.9921 - val_loss: 1.5898 - val_accuracy: 0.6457\n",
            "Epoch 297/300\n",
            "15/16 [===========================>..] - ETA: 0s - loss: 0.0368 - accuracy: 0.9906\n",
            "Epoch 297: val_accuracy did not improve from 0.79470\n",
            "16/16 [==============================] - 1s 42ms/step - loss: 0.0461 - accuracy: 0.9901 - val_loss: 1.4473 - val_accuracy: 0.6854\n",
            "Epoch 298/300\n",
            "15/16 [===========================>..] - ETA: 0s - loss: 0.0260 - accuracy: 0.9937\n",
            "Epoch 298: val_accuracy did not improve from 0.79470\n",
            "16/16 [==============================] - 1s 42ms/step - loss: 0.0250 - accuracy: 0.9940 - val_loss: 1.7010 - val_accuracy: 0.6788\n",
            "Epoch 299/300\n",
            "15/16 [===========================>..] - ETA: 0s - loss: 0.0187 - accuracy: 0.9937\n",
            "Epoch 299: val_accuracy did not improve from 0.79470\n",
            "16/16 [==============================] - 1s 42ms/step - loss: 0.0188 - accuracy: 0.9931 - val_loss: 1.2666 - val_accuracy: 0.7185\n",
            "Epoch 300/300\n",
            "15/16 [===========================>..] - ETA: 0s - loss: 0.0195 - accuracy: 0.9917\n",
            "Epoch 300: val_accuracy did not improve from 0.79470\n",
            "16/16 [==============================] - 1s 43ms/step - loss: 0.0190 - accuracy: 0.9921 - val_loss: 1.2190 - val_accuracy: 0.7384\n"
          ]
        }
      ]
    },
    {
      "cell_type": "code",
      "source": [
        "# Evaluation\n",
        "print(\"Accuracy of our model on test data : \" , model.evaluate(X_test,y_test)[1]*100 , \"%\")"
      ],
      "metadata": {
        "colab": {
          "base_uri": "https://localhost:8080/"
        },
        "id": "6maFDriFy771",
        "outputId": "db096f1c-279f-4604-e1e6-e9b802022752"
      },
      "execution_count": null,
      "outputs": [
        {
          "output_type": "stream",
          "name": "stdout",
          "text": [
            "5/5 [==============================] - 0s 34ms/step - loss: 0.9650 - accuracy: 0.7846\n",
            "Accuracy of our model on test data :  78.46153974533081 %\n"
          ]
        }
      ]
    },
    {
      "cell_type": "code",
      "source": [
        "epochs = [i for i in range(300)]\n",
        "fig , ax = plt.subplots(1,2)\n",
        "train_acc = history.history['accuracy']\n",
        "train_loss = history.history['loss']\n",
        "test_acc = history.history['val_accuracy']\n",
        "test_loss = history.history['val_loss']\n",
        "\n",
        "fig.set_size_inches(20,6)\n",
        "ax[0].plot(epochs , train_loss , label = 'Training Loss')\n",
        "ax[0].plot(epochs , test_loss , label = 'Validation Loss')\n",
        "ax[0].set_title('Training & Validation Loss')\n",
        "ax[0].legend()\n",
        "ax[0].set_xlabel(\"Epochs\")\n",
        "\n",
        "ax[1].plot(epochs , train_acc , label = 'Training Accuracy')\n",
        "ax[1].plot(epochs , test_acc , label = 'Validation Accuracy')\n",
        "ax[1].set_title('Training & Validation Accuracy')\n",
        "ax[1].legend()\n",
        "ax[1].set_xlabel(\"Epochs\")\n",
        "plt.show()"
      ],
      "metadata": {
        "colab": {
          "base_uri": "https://localhost:8080/",
          "height": 404
        },
        "id": "nH7KmZQczIF9",
        "outputId": "0c1bff1e-1ace-49f1-b920-18b2d506641e"
      },
      "execution_count": null,
      "outputs": [
        {
          "output_type": "display_data",
          "data": {
            "text/plain": [
              "<Figure size 1440x432 with 2 Axes>"
            ],
            "image/png": "[encoded data removed]"
          },
          "metadata": {
            "needs_background": "light"
          }
        }
      ]
    },
    {
      "cell_type": "code",
      "source": [
        "# predicting on test data.\n",
        "pred_test = model.predict(X_test)\n",
        "#pred_test = pred_test.astype(int).flatten()\n",
        "y_pred = encoder.inverse_transform(pred_test)\n",
        "\n",
        "#y_test = y_test.astype(int).flatten()\n",
        "y_test = encoder.inverse_transform(y_test)\n",
        "df = pd.DataFrame(columns=['Predicted Labels', 'Actual Labels'])\n",
        "df['Predicted Labels'] = y_pred.flatten()\n",
        "df['Actual Labels'] = y_test.flatten()\n",
        "\n",
        "df.head(10)\n",
        "cm = confusion_matrix(y_test, y_pred)\n",
        "plt.figure(figsize = (12, 8))\n",
        "cm = pd.DataFrame(cm , index = [i for i in encoder.categories_] , columns = [i for i in encoder.categories_])\n",
        "sns.heatmap(cm, linecolor='white', cmap='Blues', linewidth=1, annot=True, fmt='')\n",
        "plt.title('Confusion Matrix', size=20)\n",
        "plt.xlabel('Predicted Labels', size=14)\n",
        "plt.ylabel('Actual Labels', size=14)\n",
        "plt.show()\n",
        "print(classification_report(y_test, y_pred))"
      ],
      "metadata": {
        "colab": {
          "base_uri": "https://localhost:8080/",
          "height": 814
        },
        "id": "2itOvU2d4NzK",
        "outputId": "b81176a1-806c-493d-bd19-cd9c244a2420"
      },
      "execution_count": null,
      "outputs": [
        {
          "output_type": "stream",
          "name": "stdout",
          "text": [
            "5/5 [==============================] - 0s 8ms/step\n"
          ]
        },
        {
          "output_type": "display_data",
          "data": {
            "text/plain": [
              "<Figure size 864x576 with 2 Axes>"
            ],
            "image/png": "[encoded data removed]"
          },
          "metadata": {
            "needs_background": "light"
          }
        },
        {
          "output_type": "stream",
          "name": "stdout",
          "text": [
            "              precision    recall  f1-score   support\n",
            "\n",
            "       angry       0.94      0.84      0.89        19\n",
            "        calm       0.95      0.86      0.90        21\n",
            "     disgust       0.83      0.79      0.81        24\n",
            "        fear       0.87      0.72      0.79        18\n",
            "       happy       0.75      0.67      0.71         9\n",
            "     neutral       0.50      0.50      0.50         6\n",
            "         sad       0.46      0.80      0.59        15\n",
            "    surprise       0.94      0.83      0.88        18\n",
            "\n",
            "    accuracy                           0.78       130\n",
            "   macro avg       0.78      0.75      0.76       130\n",
            "weighted avg       0.82      0.78      0.80       130\n",
            "\n"
          ]
        }
      ]
    },
    {
      "cell_type": "code",
      "source": [],
      "metadata": {
        "id": "XBpsXaWq4nzb"
      },
      "execution_count": null,
      "outputs": []
    }
  ]
}